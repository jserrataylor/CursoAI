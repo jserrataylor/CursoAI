{
  "nbformat": 4,
  "nbformat_minor": 0,
  "metadata": {
    "colab": {
      "provenance": [],
      "authorship_tag": "ABX9TyMDCOUNHV97GnTQdAshEYUO",
      "include_colab_link": true
    },
    "kernelspec": {
      "name": "python3",
      "display_name": "Python 3"
    },
    "language_info": {
      "name": "python"
    }
  },
  "cells": [
    {
      "cell_type": "markdown",
      "metadata": {
        "id": "view-in-github",
        "colab_type": "text"
      },
      "source": [
        "<a href=\"https://colab.research.google.com/github/jserrataylor/cursoAI/blob/main/Regresion_Multiple.ipynb\" target=\"_parent\"><img src=\"https://colab.research.google.com/assets/colab-badge.svg\" alt=\"Open In Colab\"/></a>"
      ]
    },
    {
      "cell_type": "code",
      "execution_count": 1,
      "metadata": {
        "colab": {
          "base_uri": "https://localhost:8080/"
        },
        "id": "qRDj8KEkxgUQ",
        "outputId": "82c213db-6650-472a-c924-ac679526d672"
      },
      "outputs": [
        {
          "output_type": "execute_result",
          "data": {
            "text/plain": [
              "(48.50729049379158, array([3.10846629, 4.09764395]))"
            ]
          },
          "metadata": {},
          "execution_count": 1
        }
      ],
      "source": [
        "import pandas as pd\n",
        "import numpy as np\n",
        "from sklearn.model_selection import train_test_split\n",
        "from sklearn.linear_model import LinearRegression\n",
        "import statsmodels.api as sm\n",
        "\n",
        "# Crear un conjunto de datos de ejemplo\n",
        "# Variables independientes: X1 (Horas de estudio), X2 (Calidad del sueño)\n",
        "# Variable dependiente: Y (Puntaje en un examen)\n",
        "\n",
        "# Generando datos de ejemplo\n",
        "np.random.seed(0)\n",
        "X1 = np.random.normal(5, 2, 100)\n",
        "X2 = np.random.normal(7, 2.5, 100)\n",
        "Y = 50 + 3*X1 + 4*X2 + np.random.normal(0, 2, 100)\n",
        "\n",
        "# Crear un DataFrame de pandas\n",
        "data = pd.DataFrame({\n",
        "    'Horas_de_Estudio': X1,\n",
        "    'Calidad_del_Sueño': X2,\n",
        "    'Puntaje_Examen': Y\n",
        "})\n",
        "\n",
        "# Dividir los datos en conjunto de entrenamiento y prueba\n",
        "X = data[['Horas_de_Estudio', 'Calidad_del_Sueño']]\n",
        "y = data['Puntaje_Examen']\n",
        "X_train, X_test, y_train, y_test = train_test_split(X, y, test_size=0.2, random_state=42)\n",
        "\n",
        "# Ajustar un modelo de regresión lineal múltiple\n",
        "model = LinearRegression()\n",
        "model.fit(X_train, y_train)\n",
        "\n",
        "# Coeficientes del modelo\n",
        "intercept = model.intercept_\n",
        "coefficients = model.coef_\n",
        "\n",
        "(intercept, coefficients)\n"
      ]
    },
    {
      "cell_type": "code",
      "source": [
        "X1, X2, Y"
      ],
      "metadata": {
        "id": "PLOj1xKcxk6s"
      },
      "execution_count": null,
      "outputs": []
    },
    {
      "cell_type": "code",
      "source": [
        "import joblib\n",
        "\n",
        "# Guardar el modelo\n",
        "joblib.dump(model, 'modelo_regresion_lineal.pkl')\n"
      ],
      "metadata": {
        "colab": {
          "base_uri": "https://localhost:8080/"
        },
        "id": "3rcgOJryyEYu",
        "outputId": "378ea846-6ab1-4357-f150-8a206e943a9b"
      },
      "execution_count": 7,
      "outputs": [
        {
          "output_type": "execute_result",
          "data": {
            "text/plain": [
              "['modelo_regresion_lineal.pkl']"
            ]
          },
          "metadata": {},
          "execution_count": 7
        }
      ]
    },
    {
      "cell_type": "code",
      "source": [
        "import pandas as pd\n",
        "import joblib\n",
        "\n",
        "# Cargar el modelo\n",
        "model = joblib.load('modelo_regresion_lineal.pkl')\n",
        "\n",
        "# Función para realizar predicciones\n",
        "def predecir(horas_estudio, calidad_sueno):\n",
        "    datos_entrada = pd.DataFrame({\n",
        "        'Horas_de_Estudio': [horas_estudio],\n",
        "        'Calidad_del_Sueño': [calidad_sueno]\n",
        "    })\n",
        "    prediccion = model.predict(datos_entrada)\n",
        "    return prediccion[0]\n",
        "\n",
        "# Ejemplo de uso\n",
        "puntaje_predicho = predecir(3, 1)\n",
        "print(f'Puntaje de examen predicho: {puntaje_predicho}')\n"
      ],
      "metadata": {
        "colab": {
          "base_uri": "https://localhost:8080/"
        },
        "id": "eE9CK8vKyKyF",
        "outputId": "6c82493b-6d36-40da-8214-808231df0137"
      },
      "execution_count": 14,
      "outputs": [
        {
          "output_type": "stream",
          "name": "stdout",
          "text": [
            "Puntaje de examen predicho: 61.930333327302094\n"
          ]
        }
      ]
    },
    {
      "cell_type": "code",
      "source": [
        "pip install Flask\n"
      ],
      "metadata": {
        "colab": {
          "base_uri": "https://localhost:8080/"
        },
        "id": "9AHfXSJly_iE",
        "outputId": "f3c2d971-3fbf-426c-ea5d-52c0862684c0"
      },
      "execution_count": 15,
      "outputs": [
        {
          "output_type": "stream",
          "name": "stdout",
          "text": [
            "Requirement already satisfied: Flask in /usr/local/lib/python3.10/dist-packages (2.2.5)\n",
            "Requirement already satisfied: Werkzeug>=2.2.2 in /usr/local/lib/python3.10/dist-packages (from Flask) (3.0.1)\n",
            "Requirement already satisfied: Jinja2>=3.0 in /usr/local/lib/python3.10/dist-packages (from Flask) (3.1.2)\n",
            "Requirement already satisfied: itsdangerous>=2.0 in /usr/local/lib/python3.10/dist-packages (from Flask) (2.1.2)\n",
            "Requirement already satisfied: click>=8.0 in /usr/local/lib/python3.10/dist-packages (from Flask) (8.1.7)\n",
            "Requirement already satisfied: MarkupSafe>=2.0 in /usr/local/lib/python3.10/dist-packages (from Jinja2>=3.0->Flask) (2.1.3)\n"
          ]
        }
      ]
    },
    {
      "cell_type": "code",
      "source": [
        "from flask import Flask, request, render_template\n",
        "import joblib\n",
        "\n",
        "app = Flask(__name__)\n",
        "model = joblib.load('modelo_regresion_lineal.pkl')  # Asegúrate de que este archivo esté en el mismo directorio\n",
        "\n",
        "@app.route('/', methods=['GET', 'POST'])\n",
        "def index():\n",
        "    if request.method == 'POST':\n",
        "        horas_estudio = request.form.get('horas_estudio', type=float)\n",
        "        calidad_sueno = request.form.get('calidad_sueno', type=float)\n",
        "        prediccion = model.predict([[horas_estudio, calidad_sueno]])[0]\n",
        "        return render_template('index.html', prediction=prediccion)\n",
        "    else:\n",
        "        return render_template('index_2.html', prediction=None)\n",
        "\n",
        "if __name__ == '__main__':\n",
        "    app.run(debug=True)\n"
      ],
      "metadata": {
        "colab": {
          "base_uri": "https://localhost:8080/"
        },
        "id": "A8gjgkou6oCJ",
        "outputId": "a50c62fa-63d7-4140-d79b-3cf84b769511"
      },
      "execution_count": 17,
      "outputs": [
        {
          "output_type": "stream",
          "name": "stdout",
          "text": [
            " * Serving Flask app '__main__'\n",
            " * Debug mode: on\n"
          ]
        },
        {
          "output_type": "stream",
          "name": "stderr",
          "text": [
            "INFO:werkzeug:\u001b[31m\u001b[1mWARNING: This is a development server. Do not use it in a production deployment. Use a production WSGI server instead.\u001b[0m\n",
            " * Running on http://127.0.0.1:5000\n",
            "INFO:werkzeug:\u001b[33mPress CTRL+C to quit\u001b[0m\n",
            "INFO:werkzeug: * Restarting with stat\n"
          ]
        }
      ]
    },
    {
      "cell_type": "code",
      "source": [
        "from flask import Flask, request, render_template_string\n",
        "import joblib\n",
        "\n",
        "app = Flask(__name__)\n",
        "model = joblib.load('modelo_regresion_lineal.pkl')  # Asegúrate de que este archivo esté en el mismo directorio\n",
        "\n",
        "@app.route('/', methods=['GET', 'POST'])\n",
        "def index():\n",
        "    prediction = None\n",
        "    if request.method == 'POST':\n",
        "        horas_estudio = request.form.get('horas_estudio', type=float)\n",
        "        calidad_sueno = request.form.get('calidad_sueno', type=float)\n",
        "        prediction = model.predict([[horas_estudio, calidad_sueno]])[0]\n",
        "\n",
        "    html = '''\n",
        "    <!DOCTYPE html>\n",
        "    <html>\n",
        "    <head>\n",
        "        <title>Predicción del Puntaje del Examen</title>\n",
        "    </head>\n",
        "    <body>\n",
        "        <h1>Predicción del Puntaje del Examen</h1>\n",
        "        <form method=\"post\">\n",
        "            Horas de estudio: <input type=\"text\" name=\"horas_estudio\"><br>\n",
        "            Calidad del sueño: <input type=\"text\" name=\"calidad_sueno\"><br>\n",
        "            <input type=\"submit\" value=\"Predecir\">\n",
        "        </form>\n",
        "\n",
        "        {% if prediction %}\n",
        "        <h2>Predicción del puntaje: {{ prediction }}</h2>\n",
        "        {% endif %}\n",
        "    </body>\n",
        "    </html>\n",
        "    '''\n",
        "    return render_template_string(html, prediction=prediction)\n",
        "\n",
        "if __name__ == '__main__':\n",
        "    app.run(debug=True)\n"
      ],
      "metadata": {
        "colab": {
          "base_uri": "https://localhost:8080/"
        },
        "id": "kdYGr4MD7scM",
        "outputId": "4d2fd331-18d5-4a68-996e-5c72be7d2f50"
      },
      "execution_count": 18,
      "outputs": [
        {
          "output_type": "stream",
          "name": "stdout",
          "text": [
            " * Serving Flask app '__main__'\n",
            " * Debug mode: on\n"
          ]
        },
        {
          "output_type": "stream",
          "name": "stderr",
          "text": [
            "INFO:werkzeug:\u001b[31m\u001b[1mWARNING: This is a development server. Do not use it in a production deployment. Use a production WSGI server instead.\u001b[0m\n",
            " * Running on http://127.0.0.1:5000\n",
            "INFO:werkzeug:\u001b[33mPress CTRL+C to quit\u001b[0m\n",
            "INFO:werkzeug: * Restarting with stat\n"
          ]
        }
      ]
    }
  ]
}