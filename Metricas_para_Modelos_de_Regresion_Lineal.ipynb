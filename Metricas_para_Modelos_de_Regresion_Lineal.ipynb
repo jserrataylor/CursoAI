{
  "cells": [
    {
      "cell_type": "markdown",
      "metadata": {
        "id": "view-in-github",
        "colab_type": "text"
      },
      "source": [
        "<a href=\"https://colab.research.google.com/github/jserrataylor/cursoAI/blob/main/Metricas_para_Modelos_de_Regresion_Lineal.ipynb\" target=\"_parent\"><img src=\"https://colab.research.google.com/assets/colab-badge.svg\" alt=\"Open In Colab\"/></a>"
      ]
    },
    {
      "cell_type": "markdown",
      "metadata": {
        "id": "b1t2hjVdsSyz"
      },
      "source": [
        "# **Métricas para Regresión Lineal**\n",
        "\n",
        "Un modelo de regresión es un enfoque estadístico y de aprendizaje automático empleado para predecir o estimar la relación entre una variable dependiente (o variable objetivo) y una o más variables independientes (o predictores). El objetivo principal de un modelo de regresión es comprender cómo los valores de las variables independientes están asociados con los valores de la variable dependiente, permitiendo así realizar predicciones o inferencias sobre esta última.\n",
        "\n",
        "Los modelos de regresión son herramientas poderosas en diversos campos, como la economía, la ingeniería, las ciencias biológicas y las ciencias sociales, facilitando la explicación de fenómenos y la realización de predicciones basadas en datos históricos. La elección del modelo de regresión adecuado depende de varios factores, incluyendo la naturaleza de los datos y el objetivo específico del análisis.\n",
        "\n",
        "Existen varios tipos de modelos de regresión, los cuales varían según la naturaleza de la relación entre las variables y el tipo de datos. Dentro de los más comunes se encuentran la **Regresión Lineal** y la **Regresión Logística**.\n",
        "\n",
        "La **Regresión Lineal** es el tipo más básico y comúnmente utilizado de regresión. Modela la relación de manera lineal entre la variable dependiente y una o más variables independientes. En la regresión lineal simple, se busca ajustar una línea recta a los datos, mientras que en la regresión lineal múltiple se utilizan múltiples variables independientes.\n",
        "\n",
        "Las **métricas para modelos de regresión lineal** se utilizan para evaluar y cuantificar el rendimiento y la precisión de estos modelos. Estas métricas brindan información sobre qué tan bien el modelo se ajusta a los datos y su capacidad para predecir valores futuros. Entre las métricas más comunes se encuentran:\n",
        "\n",
        "1. **Error Absoluto Máximo**: Es el máximo de los errores absolutos entre los valores reales y los predichos, proporcionando una indicación del peor caso de error en las predicciones del modelo.\n",
        "\n",
        "2. **Error Absoluto Medio (MAE)**: Es el promedio de los errores absolutos entre los valores reales y los predichos. A diferencia del MSE y el RMSE, no penaliza tanto los errores grandes, haciéndolo menos sensible a los outliers.\n",
        "\n",
        "3. **Error Cuadrático Medio (MSE)**: Representa el promedio de los cuadrados de los errores entre los valores reales y los predichos. Penaliza más significativamente los errores grandes, ya que los errores se elevan al cuadrado antes de ser promediados.\n",
        "\n",
        "4. **Raíz del Error Cuadrático Medio (RMSE)**: Corresponde a la raíz cuadrada del MSE. Está en la misma escala que los datos originales, facilitando así su interpretación.\n",
        "\n",
        "5. **Suma de los Cuadrados de los Residuos (RSS)**: Es la suma de los cuadrados de las diferencias entre los valores reales y los predichos, representando la variabilidad total no explicada por el modelo.\n",
        "\n",
        "6. **Coeficiente de Determinación $(R^2)$**: Mide la proporción de la variabilidad en la variable dependiente que es explicada por el modelo. Un \\($R^2$\\) cercano a 1 indica que el modelo explica una gran parte de la variabilidad.\n",
        "\n",
        "**Referencias**:\n",
        "\n",
        "Gutiérrez-García, J.O. (2022, 3 de Enero). Las Mejores Métricas para Evaluar Modelos de Regresión con Scikit-Learn: R2, MSE, RMSE, MAE y otras. Código Máquina. https://www.youtube.com/watch?v=9IZ6OPQWtpw\n",
        "\n",
        "\n",
        "Spiess, A. N., & Neumeyer, N. (2010). An evaluation of R2as an inadequate measure for nonlinear models in pharmacological and biochemical research: A Monte Carlo approach. BMC Pharmacology, 10, 1–11. https://doi.org/10.1186/1471-2210-10-6"
      ]
    },
    {
      "cell_type": "markdown",
      "metadata": {
        "id": "f4UNYSOKsSy2"
      },
      "source": [
        "## **Error Absoluto Máximo (M)**\n",
        "\n",
        "El Error Absoluto Máximo (a menudo abreviado como \"M\") en estadística y análisis de datos, especialmente en el contexto de la regresión, es una métrica que mide el mayor error absoluto entre un conjunto de valores predichos y los valores reales correspondientes.\n",
        "\n",
        "Se define como el máximo de las diferencias absolutas entre los valores predichos y los valores reales. Matemáticamente, se expresa como:\n",
        "\n",
        "$\\text{M} = \\max(|y_i - \\hat{y}_i|)$\n",
        "\n",
        "donde:\n",
        "- \\( y_i \\) son los valores reales.\n",
        "- \\($̂{y}$) son los valores predichos por el modelo.\n",
        "- \\($ \\max \\$) denota la operación de tomar el valor máximo entre todos los valores absolutos de las diferencias.\n",
        "\n",
        "Esta métrica es útil para identificar el peor caso de error en las predicciones de un modelo. A diferencia de otras métricas como el MSE o el MAE, que proporcionan un promedio del error, el Error Absoluto Máximo se centra específicamente en el error más grande. Es particularmente relevante en situaciones donde los errores grandes son más críticos que los errores más pequeños y frecuentes.\n",
        "\n"
      ]
    },
    {
      "cell_type": "code",
      "execution_count": null,
      "metadata": {
        "colab": {
          "base_uri": "https://localhost:8080/"
        },
        "id": "xNfoWIZBsSy3",
        "outputId": "14798458-6582-4cd7-dce8-c61230d37a07"
      },
      "outputs": [
        {
          "output_type": "execute_result",
          "data": {
            "text/plain": [
              "2"
            ]
          },
          "metadata": {},
          "execution_count": 23
        }
      ],
      "source": [
        "# Importando la función para calcular el Error Absoluto Máximo (M)\n",
        "from sklearn.metrics import max_error\n",
        "\n",
        "# Valores verdaderos y predichos\n",
        "y_verdadero = [1, 2, 3, 4, 5]\n",
        "y_predicho = [1, 2, 3, 4, 7]\n",
        "\n",
        "# Calculando Error Absoluto Máximo (M)\n",
        "max_error(y_verdadero, y_predicho)"
      ]
    },
    {
      "cell_type": "markdown",
      "metadata": {
        "scrolled": false,
        "id": "J8EySQZ1sSy4"
      },
      "source": [
        "## **Error Absoluto Medio (MAE)**\n",
        "\n",
        "El Error Absoluto Medio (MAE, por sus siglas en inglés Mean Absolute Error) es una métrica utilizada en estadística y aprendizaje automático para medir la precisión de un modelo en tareas de regresión. El MAE calcula el promedio de los errores absolutos entre las predicciones del modelo y los valores reales, proporcionando así una medida de la magnitud del error sin tener en cuenta su dirección.\n",
        "\n",
        "El MAE se calcula con la siguiente fórmula:\n",
        "\n",
        "$\\text{MAE} = \\frac{1}{n} \\sum_{i=1}^{n} |y_i - \\hat{y}_i|$\n",
        "\n",
        "donde:\n",
        "- \\($ y_i $\\) son los valores reales.\n",
        "- \\($\\hat{y}$) son los valores predichos por el modelo.\n",
        "- \\($n$) es el número total de observaciones.\n",
        "\n",
        "A diferencia del Error Cuadrático Medio (MSE), el MAE no eleva los errores al cuadrado, por lo que no da un peso adicional a los errores grandes. Esto lo hace útil en situaciones donde los errores grandes no necesariamente deben ser penalizados más fuertemente que los errores pequeños. El MAE es una métrica fácil de interpretar, ya que está en la misma escala que los datos originales. Un valor más bajo de MAE indica un mejor rendimiento del modelo."
      ]
    },
    {
      "cell_type": "code",
      "execution_count": null,
      "metadata": {
        "colab": {
          "base_uri": "https://localhost:8080/"
        },
        "id": "MvtSNvWesSy4",
        "outputId": "dc86aae2-c463-4beb-d57e-6299ac8bad4b"
      },
      "outputs": [
        {
          "output_type": "execute_result",
          "data": {
            "text/plain": [
              "0.4"
            ]
          },
          "metadata": {},
          "execution_count": 24
        }
      ],
      "source": [
        "# Importando la función para calcular el MAE\n",
        "from sklearn.metrics import mean_absolute_error\n",
        "\n",
        "# Valores verdaderos y predichos\n",
        "y_verdadero = [1, 2, 3, 4, 5]\n",
        "y_predicho = [1, 2, 3, 4, 7]\n",
        "\n",
        "# Calculando MAE\n",
        "mean_absolute_error(y_verdadero, y_predicho)"
      ]
    },
    {
      "cell_type": "markdown",
      "metadata": {
        "id": "Ai45T-VlsSy4"
      },
      "source": [
        "## **Error Cuadrático Medio (MSE)**\n",
        "\n",
        "El Error Cuadrático Medio (MSE, por sus siglas en inglés, Mean Squared Error) es una métrica utilizada en estadística y aprendizaje automático para medir el promedio de los cuadrados de los errores o desviaciones. Es decir, el MSE mide cuánto se desvían las predicciones de un modelo de regresión de los valores reales.\n",
        "\n",
        "El MSE se calcula utilizando la siguiente fórmula:\n",
        "\n",
        "$\\text{MSE} = \\frac{1}{n} \\sum_{i=1}^{n} (y_i - \\hat{y}_i)^2$\n",
        "\n",
        "donde:\n",
        "- \\( y_i \\) son los valores reales.\n",
        "- \\($ \\hat{y}_i \\$) son los valores predichos por el modelo.\n",
        "- \\( n \\) es el número total de observaciones.\n",
        "\n",
        "El MSE es una medida del promedio de los errores al cuadrado, lo que significa que da más peso a errores más grandes (debido al cuadrado del error). Esto lo hace particularmente útil en situaciones donde los errores grandes son especialmente indeseables.\n",
        "\n",
        "Un MSE más bajo indica un mejor rendimiento del modelo. Un MSE de 0 significaría que el modelo predice perfectamente todos los valores, lo cual es raro en la práctica.\n",
        "\n",
        "El MSE tiene la ventaja de estar en una escala que es fácil de entender e interpretar, especialmente en comparación con la variable dependiente del modelo. Sin embargo, debido a que los errores se elevan al cuadrado antes de promediar, el MSE puede ser más sensible a outliers y puede no representar adecuadamente la variabilidad en los datos si los errores no se distribuyen normalmente."
      ]
    },
    {
      "cell_type": "code",
      "execution_count": null,
      "metadata": {
        "colab": {
          "base_uri": "https://localhost:8080/"
        },
        "id": "idzeiJIVsSy4",
        "outputId": "83394814-f185-4a69-df94-b2a7a552aa89"
      },
      "outputs": [
        {
          "output_type": "execute_result",
          "data": {
            "text/plain": [
              "0.8"
            ]
          },
          "metadata": {},
          "execution_count": 25
        }
      ],
      "source": [
        "# Importando la función para calcular el MSE\n",
        "from sklearn.metrics import mean_squared_error\n",
        "\n",
        "# Valores verdaderos y predichos\n",
        "y_verdadero = [1, 2, 3, 4, 5]\n",
        "y_predicho = [1, 2, 3, 4, 7]\n",
        "\n",
        "# Calculando MSE\n",
        "mean_squared_error(y_verdadero, y_predicho)"
      ]
    },
    {
      "cell_type": "markdown",
      "metadata": {
        "id": "EeujnFVtsSy5"
      },
      "source": [
        "## **Suma de los Cuadrados de los Residuos (RSS)**\n",
        "\n",
        "La Suma de los Cuadrados de los Residuos (RSS, por sus siglas en inglés) es una métrica utilizada en la regresión estadística para medir la cantidad de variabilidad en los datos que no es explicada por el modelo de regresión. En otras palabras, es una medida de la discrepancia entre los datos observados y los datos modelados.\n",
        "\n",
        "El RSS se calcula sumando los cuadrados de los residuos (errores) de cada punto de datos. Un residuo es la diferencia entre un valor observado y el valor predicho por el modelo. Matemáticamente, el RSS se expresa como:\n",
        "\n",
        "$\\text{RSS} = \\sum_{i=1}^{n} (y_i - \\hat{y}_i)^2$\n",
        "\n",
        "donde:\n",
        "- \\( y_i \\) son los valores reales observados.\n",
        "- \\($\\hat{y}$ ) son los valores predichos por el modelo.\n",
        "- \\( n \\) es el número total de observaciones.\n",
        "\n",
        "El RSS es un componente importante en el cálculo de otras métricas estadísticas, como el Error Cuadrático Medio (MSE) y el Coeficiente de Determinación $\\(R^2\\$). Un RSS más bajo indica que el modelo tiene un mejor ajuste a los datos. Sin embargo, es importante tener en cuenta que el RSS por sí solo no proporciona una medida completa del rendimiento del modelo, especialmente cuando se compara entre conjuntos de datos de diferente tamaño o se compara entre modelos con diferente número de parámetros.\n"
      ]
    },
    {
      "cell_type": "code",
      "execution_count": null,
      "metadata": {
        "colab": {
          "base_uri": "https://localhost:8080/"
        },
        "id": "cZ8nmNw2sSy5",
        "outputId": "644af355-ef37-4bb3-dadf-0cec1a581e7d"
      },
      "outputs": [
        {
          "output_type": "execute_result",
          "data": {
            "text/plain": [
              "4.0"
            ]
          },
          "metadata": {},
          "execution_count": 26
        }
      ],
      "source": [
        "# Importando la función para calcular el RSS\n",
        "from sklearn.metrics import mean_squared_error\n",
        "\n",
        "# Valores verdaderos y predichos\n",
        "y_verdadero = [1, 2, 3, 4, 5]\n",
        "y_predicho = [1, 2, 3, 4, 7]\n",
        "\n",
        "# Calculando RSS\n",
        "mean_squared_error(y_verdadero, y_predicho)*len(y_predicho)"
      ]
    },
    {
      "cell_type": "markdown",
      "metadata": {
        "id": "g_JO5Jr0sSy5"
      },
      "source": [
        "# **Root Mean Squared Error, o Raiz del Error Cuadrático Medio**\n",
        "El RMSE (Root Mean Squared Error, o Raíz del Error Cuadrático Medio) es una métrica comúnmente utilizada para evaluar el rendimiento de los modelos de regresión. Proporciona una medida de la magnitud del error del modelo en sus predicciones.\n",
        "\n",
        "El RMSE se calcula con la siguiente fórmula:\n",
        "\n",
        "$\\text{RMSE} = \\sqrt{\\frac{1}{n} \\sum_{i=1}^{n} (y_i - \\hat{y}_i)^2}$\n",
        "\n",
        "donde:\n",
        "- \\( $y_i $\\) son los valores reales.\n",
        "- \\( $\\hat{y}_i $\\) son los valores predichos por el modelo.\n",
        "- \\( n \\) es el número total de observaciones.\n",
        "\n",
        "El RMSE es la raíz cuadrada del Error Cuadrático Medio (MSE). Al igual que el MSE, el RMSE penaliza más los errores grandes, ya que estos errores se elevan al cuadrado. Sin embargo, a diferencia del MSE, el RMSE está en la misma escala que los datos originales, lo que facilita su interpretación. Un RMSE más bajo indica un mejor rendimiento del modelo, con 0 siendo el valor ideal, lo que significaría que no hay error entre las predicciones y los valores reales.\n",
        "\n",
        "El RMSE es particularmente útil porque da una idea de cuán grandes son los errores del modelo en promedio. Es especialmente valioso en contextos donde los grandes errores son particularmente indeseables.\n"
      ]
    },
    {
      "cell_type": "code",
      "source": [
        "# Importando la función para calcular el RMSE\n",
        "from sklearn.metrics import mean_squared_error\n",
        "\n",
        "# Valores verdaderos y predichos\n",
        "y_verdadero = [1, 2, 3, 4, 5]\n",
        "y_predicho = [1, 2, 3, 4, 7]\n",
        "\n",
        "# Calculando el RMSE\n",
        "rmse = mean_squared_error(y_verdadero, y_predicho, squared=False)\n",
        "rmse"
      ],
      "metadata": {
        "colab": {
          "base_uri": "https://localhost:8080/"
        },
        "id": "7R325TKkDl2k",
        "outputId": "ab09cce5-15b9-4ef2-c15b-29f9f2fe3369"
      },
      "execution_count": null,
      "outputs": [
        {
          "output_type": "execute_result",
          "data": {
            "text/plain": [
              "0.8944271909999159"
            ]
          },
          "metadata": {},
          "execution_count": 27
        }
      ]
    },
    {
      "cell_type": "markdown",
      "metadata": {
        "id": "jIp5NzkbsSy5"
      },
      "source": [
        "\n",
        "## **R² (Coeficiente de determinación)**\n",
        "\n",
        "El R², también conocido como coeficiente de determinación, es una métrica utilizada en el análisis de regresión para evaluar la bondad de ajuste de un modelo. Proporciona una medida de cuánta variabilidad en la variable dependiente puede ser explicada por el modelo de regresión.\n",
        "\n",
        "El R² se calcula con la siguiente fórmula:\n",
        "\n",
        "$R^2 = 1 - \\frac{\\text{Suma de los cuadrados de los residuos (RSS)}}{\\text{Suma total de cuadrados (TSS)}}$\n",
        "\n",
        "donde:\n",
        "\n",
        "- **RSS (Residual Sum of Squares)** es la suma de los cuadrados de los residuos, es decir, la suma de los cuadrados de las diferencias entre los valores observados y los valores predichos por el modelo.\n",
        "- **TSS (Total Sum of Squares)** es la suma total de cuadrados de las diferencias entre los valores observados y la media de los valores observados.\n",
        "\n",
        "En términos más sencillos, el R² mide qué proporción de la variabilidad total de la variable dependiente es capturada por el modelo. Los valores de R² varían entre 0 y 1:\n",
        "\n",
        "- Un R² de 0 indica que el modelo no explica nada de la variabilidad de los datos.\n",
        "- Un R² de 1 indica que el modelo explica toda la variabilidad de los datos.\n",
        "\n",
        "Un R² más alto generalmente indica un mejor ajuste del modelo a los datos, aunque hay que tener cuidado con su interpretación, especialmente en situaciones con datos no lineales o con modelos sobreajustados. Además, R² puede ser engañoso en situaciones donde el número de predictores es muy grande en comparación con el tamaño de la muestra. En tales casos, ajustes adicionales al R², como el R² ajustado, pueden proporcionar una medida más precisa de la bondad de ajuste del modelo."
      ]
    },
    {
      "cell_type": "code",
      "execution_count": null,
      "metadata": {
        "colab": {
          "base_uri": "https://localhost:8080/"
        },
        "id": "UjvcKLdcsSy5",
        "outputId": "ef3ced92-5d9f-4745-a577-6467bbcc196c"
      },
      "outputs": [
        {
          "output_type": "execute_result",
          "data": {
            "text/plain": [
              "0.6"
            ]
          },
          "metadata": {},
          "execution_count": 28
        }
      ],
      "source": [
        "# Importando la función para calcular el R2\n",
        "from sklearn.metrics import r2_score\n",
        "\n",
        "# Valores verdaderos y predichos\n",
        "y_verdadero = [1, 2, 3, 4, 5]\n",
        "y_predicho = [1, 2, 3, 4, 7]\n",
        "\n",
        "# Calculando R^2\n",
        "r2_score(y_verdadero, y_predicho)"
      ]
    },
    {
      "cell_type": "markdown",
      "source": [
        "## $ R^2 $ Ajustado\n",
        "\n",
        "Para calcular el \\($ R^2 $\\) ajustado a partir de un conjunto de datos y predicciones, necesitarás más información que solo el \\($ R^2 $\\) obtenido del modelo. A diferencia del \\($ R^2 $\\) estándar, el \\($ R^2 $\\) ajustado tiene en cuenta el número de predictores en el modelo y ajusta el estadístico en consecuencia para penalizar la complejidad adicional.\n",
        "\n",
        "El \\($ R^2 $\\) ajustado se calcula con la siguiente fórmula:\n",
        "\n",
        "$R^2_{\\text{ajustado}} = 1 - (1 - R^2) \\times \\frac{n - 1}{n - p - 1}$\n",
        "\n",
        "donde:\n",
        "- \\($ R^2 $\\) es el coeficiente de determinación.\n",
        "- \\( n \\) es el número total de observaciones.\n",
        "- \\( p \\) es el número de predictores independientes en el modelo (sin contar la constante/intercepto).\n",
        "\n",
        "En tu caso, para calcular el \\($ R^2 $\\) ajustado, necesitas conocer el número de predictores \\( p \\) utilizados en tu modelo. Por ejemplo, si solo estás utilizando una variable independiente (como en una regresión lineal simple), \\( p \\) sería 1. Si estás utilizando más variables, necesitarás ajustar este número en consecuencia."
      ],
      "metadata": {
        "id": "C5mNjPOoTv2g"
      }
    },
    {
      "cell_type": "code",
      "source": [
        "# Importando la función para calcular el R2\n",
        "from sklearn.metrics import r2_score\n",
        "\n",
        "# Valores verdaderos y predichos\n",
        "y_verdadero = [1, 2, 3, 4, 5]\n",
        "y_predicho = [1, 2, 3, 4, 7]\n",
        "\n",
        "# Calculando R^2\n",
        "r2 = r2_score(y_verdadero, y_predicho)\n",
        "\n",
        "# Número total de observaciones (n) y número de predictores (p)\n",
        "n = len(y_verdadero)\n",
        "p = 1  # Asumiendo una regresión lineal simple\n",
        "\n",
        "# Calculando R^2 ajustado\n",
        "r2_ajustado = 1 - (1 - r2) * (n - 1) / (n - p - 1)\n",
        "r2_ajustado\n"
      ],
      "metadata": {
        "colab": {
          "base_uri": "https://localhost:8080/"
        },
        "id": "iMV-aoLBTwTJ",
        "outputId": "76b2e7b2-6706-49ea-9fb4-5a7a7a966f1a"
      },
      "execution_count": null,
      "outputs": [
        {
          "output_type": "execute_result",
          "data": {
            "text/plain": [
              "0.4666666666666667"
            ]
          },
          "metadata": {},
          "execution_count": 29
        }
      ]
    },
    {
      "cell_type": "markdown",
      "metadata": {
        "id": "qQ8DXHO2sSy6"
      },
      "source": [
        "<BR><BR><BR><BR><BR><BR><BR><BR><BR><BR><BR><BR><BR><BR><BR><BR><BR><BR><BR><BR><BR><BR><BR><BR>"
      ]
    }
  ],
  "metadata": {
    "kernelspec": {
      "display_name": "Python 3",
      "language": "python",
      "name": "python3"
    },
    "language_info": {
      "codemirror_mode": {
        "name": "ipython",
        "version": 3
      },
      "file_extension": ".py",
      "mimetype": "text/x-python",
      "name": "python",
      "nbconvert_exporter": "python",
      "pygments_lexer": "ipython3",
      "version": "3.8.5"
    },
    "colab": {
      "provenance": [],
      "include_colab_link": true
    }
  },
  "nbformat": 4,
  "nbformat_minor": 0
}