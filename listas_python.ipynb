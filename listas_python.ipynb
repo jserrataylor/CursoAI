{
  "cells": [
    {
      "cell_type": "markdown",
      "metadata": {
        "id": "view-in-github",
        "colab_type": "text"
      },
      "source": [
        "<a href=\"https://colab.research.google.com/github/jserrataylor/cursoAI/blob/main/listas_python.ipynb\" target=\"_parent\"><img src=\"https://colab.research.google.com/assets/colab-badge.svg\" alt=\"Open In Colab\"/></a>"
      ]
    },
    {
      "cell_type": "markdown",
      "id": "9b19ac86-6faf-44e9-89fc-bbde40c9b1de",
      "metadata": {
        "id": "9b19ac86-6faf-44e9-89fc-bbde40c9b1de"
      },
      "source": [
        "# **Listas en Python**\n",
        "\n",
        "### Elaborado por Jose Serra (2023)"
      ]
    },
    {
      "cell_type": "markdown",
      "id": "bae1b950-f2bf-4614-9042-5daabf80a1ad",
      "metadata": {
        "tags": [],
        "id": "bae1b950-f2bf-4614-9042-5daabf80a1ad"
      },
      "source": [
        "## **Tutorial: Introducción a las Listas en Python**\n",
        "\n",
        "Las listas en Python son herramientas poderosas y flexibles que se utilizan en una amplia variedad de aplicaciones, desde simples scripts hasta aplicaciones complejas y sistemas de aprendizaje automático.\n",
        "\n",
        "### **¿Qué es una lista?**\n",
        "Una lista en Python es una colección ordenada de elementos. Estos elementos pueden ser de cualquier tipo: números, cadenas, objetos, e incluso otras listas. Las listas se definen encerrando los elementos entre corchetes `[]`.\n",
        "\n",
        "### Características de las listas en Python:\n",
        "\n",
        "1. **Ordenadas**: Los elementos en una lista tienen un orden definido, y ese orden no cambia a menos que se modifique explícitamente.\n",
        "\n",
        "2. **Mutables**: Puedes modificar una lista después de su creación, lo que significa que puedes cambiar, agregar o eliminar elementos de una lista.\n",
        "\n",
        "3. **Permiten duplicados**: Las listas pueden tener dos o más elementos que sean iguales.\n",
        "\n",
        "4. **Versátiles**: Las listas pueden contener cualquier tipo de dato: números, cadenas, otros objetos, e incluso otras listas.\n",
        "\n",
        "\n",
        "### **Creando una lista**\n",
        "Para crear una lista, simplemente coloca los elementos entre corchetes y sepáralos con comas.\n",
        "\n",
        "```python\n",
        "# Lista de números\n",
        "mi_lista = [1, 2, 3, 4, 5]\n",
        "\n",
        "# Lista de cadenas\n",
        "nombres = [\"Ana\", \"Luis\", \"Marta\", \"Juan\"]\n",
        "\n",
        "# Lista mixta\n",
        "mixta = [1, \"Hola\", 3.14, [\"a\", \"b\", \"c\"], True]\n",
        "\n",
        "# Lista vacía\n",
        "vacia = []\n",
        "```\n",
        "\n",
        "### **Operaciones comunes con listas**:\n",
        "\n",
        "1. **Acceder a elementos**: Puedes acceder a un elemento de la lista usando su índice.\n",
        "  ```python\n",
        "  print(nombres[0])  # Salida: Ana\n",
        "  ```\n",
        "\n",
        "2. **Modificar elementos**: Las listas son mutables, por lo que puedes cambiar un elemento usando su índice.\n",
        "  ```python\n",
        "  nombres[1] = \"Carlos\"\n",
        "  print(nombres)  # Salida: ['Carlos', 'Pedro', 'Luis']\n",
        "  ```\n",
        "\n",
        "3. **Agregar elementos**: Puedes usar el método `append()` para agregar un elemento al final de la lista. Mientras que `insert()`añade un elemento en el indice seleccionado.\n",
        "  ```python\n",
        "  nombres.append(\"Sofía\")  # Se coloca el elemento a añadirse\n",
        "  nombres.insert(1, \"Rivera\")  # Se coloca el índice y luego el elemento a añadirse, ya que lo colocar en un lugar de la lista en específico\n",
        "  ```\n",
        "\n",
        "4. **Eliminar elementos**: Puedes usar el método `remove()` para eliminar un elemento específico o `pop()` para eliminar un elemento en un índice específico.\n",
        "  ```python\n",
        "  nombres.remove(\"Ana\") # Debe colocarse el elemento a elimarse.\n",
        "  numeros.pop(2) # Debe colocarse el indice del elemento a eliminarse.\n",
        "  ```\n",
        "\n",
        "5. **Iterar sobre una lista**: Puedes usar un bucle `for` para recorrer todos los elementos de una lista.\n",
        "  ```python\n",
        "  for nombre in nombres:\n",
        "      print(nombre)\n",
        "  ```\n",
        "6. **Modificando una lista:** Las listas son mutables, lo que significa que puedes cambiar sus elementos.\n",
        "```python\n",
        "nombres[1] = \"Pedro\"\n",
        "print(nombres)  # Salida: ['Ana', 'Pedro', 'Luis']\n",
        "```\n",
        "\n",
        "7. **Longitud de una lista:** Para saber cuántos elementos hay en una lista, utiliza la función `len()`.\n",
        "```python\n",
        "print(len(nombres))  # Salida: 2\n",
        "```\n",
        "\n",
        "8. **Listas anidadas**\n",
        "Las listas pueden contener otras listas.\n",
        "```python\n",
        "matriz = [[1, 2, 3], [4, 5, 6], [7, 8, 9]]\n",
        "print(matriz[1][2])  # Salida: 6\n",
        "```\n",
        "\n",
        "9. **Recorriendo una lista**\n",
        "Puedes usar un bucle `for` para recorrer todos los elementos de una lista.\n",
        "```python\n",
        "for nombre in nombres:\n",
        "    print(nombre)\n",
        "```\n",
        "\n",
        "10. **Algunos métodos útiles**\n",
        "- `sort()`: Ordena la lista.\n",
        "- `reverse()`: Invierte el orden de la lista.\n",
        "- `index(elemento)`: Devuelve el índice del primer elemento encontrado."
      ]
    },
    {
      "cell_type": "code",
      "source": [
        "# Crear una lista con el Contexto edades de las personas\n",
        "edades = [13, 22, 35, 44, 35]"
      ],
      "metadata": {
        "id": "JybPVJTBq68L"
      },
      "id": "JybPVJTBq68L",
      "execution_count": 7,
      "outputs": []
    },
    {
      "cell_type": "code",
      "execution_count": 9,
      "id": "166bc3da-f2b4-4a9e-9a71-769eb4fa8a6f",
      "metadata": {
        "tags": [],
        "colab": {
          "base_uri": "https://localhost:8080/"
        },
        "id": "166bc3da-f2b4-4a9e-9a71-769eb4fa8a6f",
        "outputId": "2e5cd228-28d3-4b9e-8a25-2310d2a98a9b"
      },
      "outputs": [
        {
          "output_type": "stream",
          "name": "stdout",
          "text": [
            "<class 'list'>\n"
          ]
        },
        {
          "output_type": "execute_result",
          "data": {
            "text/plain": [
              "[13, 22, 35, 44, 35]"
            ]
          },
          "metadata": {},
          "execution_count": 9
        }
      ],
      "source": [
        "# Conocer el tipo de datos con el método type()\n",
        "print(type(edades))\n",
        "edades"
      ]
    },
    {
      "cell_type": "code",
      "source": [
        "# Acceder a un elemento a través de su índice [0], [2], [4]\n",
        "edades[0]"
      ],
      "metadata": {
        "colab": {
          "base_uri": "https://localhost:8080/"
        },
        "id": "1SGxlfDWzcAe",
        "outputId": "5dc84e6d-3dbf-4e4a-d810-5597e220836c"
      },
      "id": "1SGxlfDWzcAe",
      "execution_count": 10,
      "outputs": [
        {
          "output_type": "execute_result",
          "data": {
            "text/plain": [
              "13"
            ]
          },
          "metadata": {},
          "execution_count": 10
        }
      ]
    },
    {
      "cell_type": "code",
      "source": [
        "# Acceder a través de un rango [0:2], [:2], [2:]\n",
        "edades[0:2]"
      ],
      "metadata": {
        "colab": {
          "base_uri": "https://localhost:8080/"
        },
        "id": "W4JfQxZvz7zC",
        "outputId": "4637a1bf-206a-40b8-d180-6a6c9db17ccb"
      },
      "id": "W4JfQxZvz7zC",
      "execution_count": 11,
      "outputs": [
        {
          "output_type": "execute_result",
          "data": {
            "text/plain": [
              "[13, 22]"
            ]
          },
          "metadata": {},
          "execution_count": 11
        }
      ]
    },
    {
      "cell_type": "code",
      "source": [
        "# Acceder a la cantidad de elementos de la lista a través de la función len()\n",
        "len(edades)"
      ],
      "metadata": {
        "colab": {
          "base_uri": "https://localhost:8080/"
        },
        "id": "IALpHAbD0kQQ",
        "outputId": "d4f9a063-bada-48a9-fcab-ff1fa6b83bf9"
      },
      "id": "IALpHAbD0kQQ",
      "execution_count": 12,
      "outputs": [
        {
          "output_type": "execute_result",
          "data": {
            "text/plain": [
              "5"
            ]
          },
          "metadata": {},
          "execution_count": 12
        }
      ]
    },
    {
      "cell_type": "code",
      "source": [
        "# Conocer el elemento mayor a través de la función max()\n",
        "max(edades)"
      ],
      "metadata": {
        "colab": {
          "base_uri": "https://localhost:8080/"
        },
        "id": "ZuBmskCF05jz",
        "outputId": "ab3a4529-91c8-4c78-a532-4160187f8056"
      },
      "id": "ZuBmskCF05jz",
      "execution_count": 13,
      "outputs": [
        {
          "output_type": "execute_result",
          "data": {
            "text/plain": [
              "44"
            ]
          },
          "metadata": {},
          "execution_count": 13
        }
      ]
    },
    {
      "cell_type": "code",
      "source": [
        "# Conocer el elemento menor a través de la función min()\n",
        "min(edades)"
      ],
      "metadata": {
        "colab": {
          "base_uri": "https://localhost:8080/"
        },
        "id": "52MCbCxJ1Em1",
        "outputId": "78fda29c-6f66-4653-f06c-c4e2d8f2e930"
      },
      "id": "52MCbCxJ1Em1",
      "execution_count": 14,
      "outputs": [
        {
          "output_type": "execute_result",
          "data": {
            "text/plain": [
              "13"
            ]
          },
          "metadata": {},
          "execution_count": 14
        }
      ]
    },
    {
      "cell_type": "code",
      "source": [
        "# Conocer la sumatoria de los elementos sum()\n",
        "sum(edades)"
      ],
      "metadata": {
        "colab": {
          "base_uri": "https://localhost:8080/"
        },
        "id": "zUyxSGqj1NFk",
        "outputId": "77727e84-6861-4823-a566-0bf620637730"
      },
      "id": "zUyxSGqj1NFk",
      "execution_count": 15,
      "outputs": [
        {
          "output_type": "execute_result",
          "data": {
            "text/plain": [
              "149"
            ]
          },
          "metadata": {},
          "execution_count": 15
        }
      ]
    },
    {
      "cell_type": "code",
      "source": [
        "# No hay una función de promedio, pero se puede obtener: media = sum(edades)/len(edades)\n",
        "sum(edades)/len(edades)"
      ],
      "metadata": {
        "colab": {
          "base_uri": "https://localhost:8080/"
        },
        "id": "4WD8absL1Tp2",
        "outputId": "86f8270f-0604-49fe-f8a0-87f868b83c6d"
      },
      "id": "4WD8absL1Tp2",
      "execution_count": 16,
      "outputs": [
        {
          "output_type": "execute_result",
          "data": {
            "text/plain": [
              "29.8"
            ]
          },
          "metadata": {},
          "execution_count": 16
        }
      ]
    },
    {
      "cell_type": "markdown",
      "source": [
        "## Modificaciones en las listas"
      ],
      "metadata": {
        "id": "eUcfzv1b1vo7"
      },
      "id": "eUcfzv1b1vo7"
    },
    {
      "cell_type": "code",
      "source": [
        "# Agregar elementos con el metodo insert, se debe dar el indice que se desea colocar en la lista\n",
        "edades.insert(0, 62)\n",
        "edades\n"
      ],
      "metadata": {
        "colab": {
          "base_uri": "https://localhost:8080/"
        },
        "id": "p47W2WUX1rmQ",
        "outputId": "29c4be83-b63e-4b59-da1e-ed1678fd9570"
      },
      "id": "p47W2WUX1rmQ",
      "execution_count": 17,
      "outputs": [
        {
          "output_type": "execute_result",
          "data": {
            "text/plain": [
              "[62, 13, 22, 35, 44, 35]"
            ]
          },
          "metadata": {},
          "execution_count": 17
        }
      ]
    },
    {
      "cell_type": "code",
      "source": [
        "# Agregar un elemento con el método append, se añade un elemento al final de la lista: var.append(55)\n",
        "edades.append(76)\n",
        "edades\n"
      ],
      "metadata": {
        "colab": {
          "base_uri": "https://localhost:8080/"
        },
        "id": "hntn-pUXAFnT",
        "outputId": "6a43cbc6-7110-4b61-c35a-669cf51f32bb"
      },
      "id": "hntn-pUXAFnT",
      "execution_count": 18,
      "outputs": [
        {
          "output_type": "execute_result",
          "data": {
            "text/plain": [
              "[62, 13, 22, 35, 44, 35, 76]"
            ]
          },
          "metadata": {},
          "execution_count": 18
        }
      ]
    },
    {
      "cell_type": "code",
      "source": [
        "# Agregar una lista se utiliza el método extend([valor1, valor2])\n",
        "edades.extend([80,80])\n",
        "edades\n"
      ],
      "metadata": {
        "colab": {
          "base_uri": "https://localhost:8080/"
        },
        "id": "nE8WKtpBAIls",
        "outputId": "c2e03220-deb9-4689-b5ea-a31987123c14"
      },
      "id": "nE8WKtpBAIls",
      "execution_count": 19,
      "outputs": [
        {
          "output_type": "execute_result",
          "data": {
            "text/plain": [
              "[62, 13, 22, 35, 44, 35, 76, 80, 80]"
            ]
          },
          "metadata": {},
          "execution_count": 19
        }
      ]
    },
    {
      "cell_type": "code",
      "source": [
        "# Eliminar elemento de una lista con el metodo del: del var[1]\n",
        "del edades[1]\n",
        "edades\n"
      ],
      "metadata": {
        "colab": {
          "base_uri": "https://localhost:8080/"
        },
        "id": "LEk5hswJ2opY",
        "outputId": "1d110ee6-1bce-4247-cf7f-14d643650a17"
      },
      "id": "LEk5hswJ2opY",
      "execution_count": 20,
      "outputs": [
        {
          "output_type": "execute_result",
          "data": {
            "text/plain": [
              "[62, 22, 35, 44, 35, 76, 80, 80]"
            ]
          },
          "metadata": {},
          "execution_count": 20
        }
      ]
    },
    {
      "cell_type": "code",
      "source": [
        "# Eliminar elemento con el método remove: var.remove(13), y borra el primer elemento que coincida con el valor\n",
        "edades.remove(76)\n",
        "edades\n"
      ],
      "metadata": {
        "colab": {
          "base_uri": "https://localhost:8080/"
        },
        "id": "zKwQOO0FASQN",
        "outputId": "74740dd6-7280-4b1f-de90-b2685ef0c1e0"
      },
      "id": "zKwQOO0FASQN",
      "execution_count": 21,
      "outputs": [
        {
          "output_type": "execute_result",
          "data": {
            "text/plain": [
              "[62, 22, 35, 44, 35, 80, 80]"
            ]
          },
          "metadata": {},
          "execution_count": 21
        }
      ]
    },
    {
      "cell_type": "code",
      "source": [
        "# Elminar ultimo elemento con el método pop: var.pop()\n",
        "edades.pop()\n",
        "edades"
      ],
      "metadata": {
        "colab": {
          "base_uri": "https://localhost:8080/"
        },
        "id": "YaxsyWQAAUbh",
        "outputId": "828fedbe-4fd6-4f1a-b46b-008eeabc2dbf"
      },
      "id": "YaxsyWQAAUbh",
      "execution_count": 22,
      "outputs": [
        {
          "output_type": "execute_result",
          "data": {
            "text/plain": [
              "[62, 22, 35, 44, 35, 80]"
            ]
          },
          "metadata": {},
          "execution_count": 22
        }
      ]
    },
    {
      "cell_type": "code",
      "source": [
        "# Contar elemento con el método count: var.count(33), verificar cuantas persona tienen el valor buscado\n",
        "edades.count(22)\n"
      ],
      "metadata": {
        "colab": {
          "base_uri": "https://localhost:8080/"
        },
        "id": "XZtztB9Q3VSm",
        "outputId": "a08e91d5-0025-42bb-e589-c40b2dfce8b3"
      },
      "id": "XZtztB9Q3VSm",
      "execution_count": 24,
      "outputs": [
        {
          "output_type": "execute_result",
          "data": {
            "text/plain": [
              "1"
            ]
          },
          "metadata": {},
          "execution_count": 24
        }
      ]
    },
    {
      "cell_type": "code",
      "source": [
        "# Búsqueda la posición de un elemento en la lista con método index: var.index (55), identifica la posición donde esta almacenada\n",
        "edades.index(35)"
      ],
      "metadata": {
        "colab": {
          "base_uri": "https://localhost:8080/"
        },
        "id": "l0Rm7V_aAf4d",
        "outputId": "ace19504-a4e8-4768-8c02-af4b6c54166c"
      },
      "id": "l0Rm7V_aAf4d",
      "execution_count": 25,
      "outputs": [
        {
          "output_type": "execute_result",
          "data": {
            "text/plain": [
              "2"
            ]
          },
          "metadata": {},
          "execution_count": 25
        }
      ]
    },
    {
      "cell_type": "code",
      "source": [
        "# Ordenación de una lista, con la función sort: var.sort(), para orden de menor a mayor\n",
        "edades.sort()\n",
        "edades\n"
      ],
      "metadata": {
        "colab": {
          "base_uri": "https://localhost:8080/"
        },
        "id": "qJc470Qt3s34",
        "outputId": "e6fdb28d-03c8-4c9b-b2e4-9c7dc60b8248"
      },
      "id": "qJc470Qt3s34",
      "execution_count": 26,
      "outputs": [
        {
          "output_type": "execute_result",
          "data": {
            "text/plain": [
              "[22, 35, 35, 44, 62, 80]"
            ]
          },
          "metadata": {},
          "execution_count": 26
        }
      ]
    },
    {
      "cell_type": "code",
      "source": [
        "# Ordenación de mayor a mener reverse: var.reverse()\n",
        "edades.reverse()\n",
        "edades"
      ],
      "metadata": {
        "colab": {
          "base_uri": "https://localhost:8080/"
        },
        "id": "sMYlOPhAAxRF",
        "outputId": "452017d0-e735-4543-b37c-e885127a4b1c"
      },
      "id": "sMYlOPhAAxRF",
      "execution_count": 27,
      "outputs": [
        {
          "output_type": "execute_result",
          "data": {
            "text/plain": [
              "[80, 62, 44, 35, 35, 22]"
            ]
          },
          "metadata": {},
          "execution_count": 27
        }
      ]
    },
    {
      "cell_type": "code",
      "source": [
        "# Crear combinación de listas, o mejor conocido como anidamiento de listas\n",
        "persona1 = [\"Juan\", 39]\n",
        "persona2 = [\"Manuel\", 27]\n",
        "personas = [persona1, persona2]\n",
        "personas"
      ],
      "metadata": {
        "colab": {
          "base_uri": "https://localhost:8080/"
        },
        "id": "iALqtY0d4G2d",
        "outputId": "e893d4d9-6c61-4466-9705-dc4930f2cb65"
      },
      "id": "iALqtY0d4G2d",
      "execution_count": 28,
      "outputs": [
        {
          "output_type": "execute_result",
          "data": {
            "text/plain": [
              "[['Juan', 39], ['Manuel', 27]]"
            ]
          },
          "metadata": {},
          "execution_count": 28
        }
      ]
    },
    {
      "cell_type": "code",
      "source": [
        "# Acceder a una lista como elemento dentro de otra lista\n",
        "personas[1] #primera lista\n"
      ],
      "metadata": {
        "colab": {
          "base_uri": "https://localhost:8080/"
        },
        "id": "Vog0NBEq4l9L",
        "outputId": "7c81c3be-e6f8-4786-cd9e-0c48201cd6be"
      },
      "id": "Vog0NBEq4l9L",
      "execution_count": 32,
      "outputs": [
        {
          "output_type": "execute_result",
          "data": {
            "text/plain": [
              "['Manuel', 27]"
            ]
          },
          "metadata": {},
          "execution_count": 32
        }
      ]
    },
    {
      "cell_type": "code",
      "source": [
        "personas[0] #segunda lista\n"
      ],
      "metadata": {
        "colab": {
          "base_uri": "https://localhost:8080/"
        },
        "id": "Hu2AS_qDBVPS",
        "outputId": "4148180d-0e6a-4758-f831-82da22a883a2"
      },
      "id": "Hu2AS_qDBVPS",
      "execution_count": 33,
      "outputs": [
        {
          "output_type": "execute_result",
          "data": {
            "text/plain": [
              "['Juan', 39]"
            ]
          },
          "metadata": {},
          "execution_count": 33
        }
      ]
    },
    {
      "cell_type": "code",
      "source": [
        "# Acceder a un elemento específico de la lista anidada, en este caso la lista en el indice 0, elemento 0\n",
        "personas[0][0]\n"
      ],
      "metadata": {
        "colab": {
          "base_uri": "https://localhost:8080/",
          "height": 35
        },
        "id": "sZez7t8SBXrr",
        "outputId": "da60e2b5-0164-468a-9acc-17da4dd91fe8"
      },
      "id": "sZez7t8SBXrr",
      "execution_count": 34,
      "outputs": [
        {
          "output_type": "execute_result",
          "data": {
            "text/plain": [
              "'Juan'"
            ],
            "application/vnd.google.colaboratory.intrinsic+json": {
              "type": "string"
            }
          },
          "metadata": {},
          "execution_count": 34
        }
      ]
    },
    {
      "cell_type": "code",
      "source": [
        "# Acceder a un elemento específico de la lista anidada, en este caso la lista en el indice 1, elemento 0\n",
        "personas[1][0]"
      ],
      "metadata": {
        "colab": {
          "base_uri": "https://localhost:8080/",
          "height": 35
        },
        "id": "zagfdwqRBZpx",
        "outputId": "c9887c4a-e935-4e70-d19c-5bb7e5cc7823"
      },
      "id": "zagfdwqRBZpx",
      "execution_count": 35,
      "outputs": [
        {
          "output_type": "execute_result",
          "data": {
            "text/plain": [
              "'Manuel'"
            ],
            "application/vnd.google.colaboratory.intrinsic+json": {
              "type": "string"
            }
          },
          "metadata": {},
          "execution_count": 35
        }
      ]
    },
    {
      "cell_type": "code",
      "execution_count": null,
      "id": "d70030a4-40d0-4cb2-a185-7996a2ae308b",
      "metadata": {
        "tags": [],
        "id": "d70030a4-40d0-4cb2-a185-7996a2ae308b",
        "outputId": "0973b771-884f-4dbf-aaed-304015cb304d"
      },
      "outputs": [
        {
          "name": "stdout",
          "output_type": "stream",
          "text": [
            "1\n",
            "Hola\n"
          ]
        }
      ],
      "source": [
        "# Para imprimir los elementos en una lista\n",
        "\n",
        "for i in range(2):\n",
        "    print(edades[i])"
      ]
    },
    {
      "cell_type": "code",
      "execution_count": 36,
      "id": "4e056576-0f1e-4c61-98d4-a61e4462cf86",
      "metadata": {
        "tags": [],
        "colab": {
          "base_uri": "https://localhost:8080/"
        },
        "id": "4e056576-0f1e-4c61-98d4-a61e4462cf86",
        "outputId": "893a86ef-1eee-4675-9801-ae7774beb032"
      },
      "outputs": [
        {
          "output_type": "stream",
          "name": "stdout",
          "text": [
            "80\n",
            "62\n",
            "44\n",
            "35\n",
            "35\n",
            "22\n"
          ]
        }
      ],
      "source": [
        "# Función len cuenta la cantidad de elementos en la lista\n",
        "\n",
        "for i in range(len(edades)):\n",
        "    print(edades[i])"
      ]
    },
    {
      "cell_type": "code",
      "execution_count": 38,
      "id": "5c863246-16ad-41a4-a5f2-91857007cc55",
      "metadata": {
        "tags": [],
        "colab": {
          "base_uri": "https://localhost:8080/"
        },
        "id": "5c863246-16ad-41a4-a5f2-91857007cc55",
        "outputId": "45857004-1d10-4436-b278-d2bf3f377a9a"
      },
      "outputs": [
        {
          "output_type": "stream",
          "name": "stdout",
          "text": [
            "encontrado:  35\n",
            "encontrado:  35\n"
          ]
        }
      ],
      "source": [
        "# Buscar un elemento\n",
        "\n",
        "var = 35  #\"Hola\"\n",
        "\n",
        "for i in range(len(edades)):\n",
        "    if edades[i] == var:\n",
        "        print(\"encontrado: \", edades[i])"
      ]
    },
    {
      "cell_type": "code",
      "execution_count": 40,
      "id": "82d3177f-6aba-4bf6-acd1-d368bb1f3489",
      "metadata": {
        "tags": [],
        "colab": {
          "base_uri": "https://localhost:8080/"
        },
        "id": "82d3177f-6aba-4bf6-acd1-d368bb1f3489",
        "outputId": "1f20ff2c-3b76-4134-824c-3561af984f9f"
      },
      "outputs": [
        {
          "output_type": "stream",
          "name": "stdout",
          "text": [
            "encontrado:  62\n"
          ]
        }
      ],
      "source": [
        "# Buscar un elemento\n",
        "#var = 33 #\"Hola\"\n",
        "\n",
        "for i in range(len(edades)):\n",
        "    if edades[i] == 62:\n",
        "        print(\"encontrado: \", edades[i])"
      ]
    }
  ],
  "metadata": {
    "kernelspec": {
      "display_name": "Python 3 (ipykernel)",
      "language": "python",
      "name": "python3"
    },
    "language_info": {
      "codemirror_mode": {
        "name": "ipython",
        "version": 3
      },
      "file_extension": ".py",
      "mimetype": "text/x-python",
      "name": "python",
      "nbconvert_exporter": "python",
      "pygments_lexer": "ipython3",
      "version": "3.11.4"
    },
    "colab": {
      "provenance": [],
      "include_colab_link": true
    }
  },
  "nbformat": 4,
  "nbformat_minor": 5
}