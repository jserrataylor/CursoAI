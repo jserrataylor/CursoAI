{
  "nbformat": 4,
  "nbformat_minor": 0,
  "metadata": {
    "colab": {
      "provenance": [],
      "include_colab_link": true
    },
    "kernelspec": {
      "name": "python3",
      "display_name": "Python 3"
    },
    "language_info": {
      "name": "python"
    },
    "accelerator": "TPU"
  },
  "cells": [
    {
      "cell_type": "markdown",
      "metadata": {
        "id": "view-in-github",
        "colab_type": "text"
      },
      "source": [
        "<a href=\"https://colab.research.google.com/github/jserrataylor/cursoAI/blob/main/Tutorial_Colaboratory.ipynb\" target=\"_parent\"><img src=\"https://colab.research.google.com/assets/colab-badge.svg\" alt=\"Open In Colab\"/></a>"
      ]
    },
    {
      "cell_type": "markdown",
      "source": [
        "# **Google Colaboratory o Google Colab**"
      ],
      "metadata": {
        "id": "4Fgw10N_hJLS"
      }
    },
    {
      "cell_type": "markdown",
      "source": [
        "## **Tutorial sobre Google Colab**\n",
        "\n",
        "Este tutorial es una introducción básica a Google Colab. A medida que te familiarices con la herramienta, descubrirás muchas más características y funcionalidades que te ayudarán en tus proyectos de ciencia de datos y programación en Python.\n",
        "\n",
        "### **¿Qué es Google Colab?**\n",
        "Google Colab, o simplemente \"Colab\", es un entorno de **Jupyter Notebook** que permite escribir y ejecutar código Python en un navegador web sin necesidad de configuración. Es una herramienta gratuita ofrecida por Google que se ejecuta completamente en la nube. Es un servicio gratuito ofrecido por Google.\n",
        "\n",
        "**Colab** es una herramienta poderosa y accesible para cualquier persona interesada en la programación en Python, análisis de datos, aprendizaje automático y más. Su capacidad para proporcionar recursos computacionales de alta potencia de forma gratuita y sin configuración lo hace especialmente atractivo para estudiantes, investigadores y profesionales que desean experimentar y compartir su trabajo fácilmente.\n",
        "\n",
        "### **¿Por qué usar Google Colab y cuales son sus características?**\n",
        "1. **Ejecución en la Nube**: Colab permite ejecutar notebooks directamente en la nube de Google, lo que significa que no necesitas configurar tu propia máquina o entorno local.\n",
        "2. **Sin configuración**: Puedes ejecutar tu código Python directamente en tu navegador.\n",
        "3. **Acceso gratuito a GPUs**: Ideal para aprendizaje automático y tareas relacionadas que requieren alto poder computacional.\n",
        "4. **Fácil de compartir**: Puedes compartir tus proyectos como lo harías con documentos de Google Docs o Google Sheets.\n",
        "5. **Integración con Google Drive**: Almacena todo tu trabajo directamente en Google Drive.\n",
        "6. **Interactivo**: Permite una ejecución interactiva, similar a Jupyter Notebook.\n",
        "7. **Soporte para Varios Formatos**: Además de Python, Colab soporta otros formatos y lenguajes como Markdown, lo que permite crear documentos con un formato atractivo y explicativo.\n",
        "8. **Integración con GitHub**: Puedes guardar tus notebooks de Colab directamente en repositorios de GitHub y también puedes cargar notebooks desde GitHub a Colab.\n",
        "9. **Instalar paquetes**: Puedes instalar paquetes adicionales usando `!pip install nombre_del_paquete`.\n",
        "10. **Entorno Educativo**: Dada su facilidad de uso y acceso gratuito, Colab es ampliamente utilizado en educación, especialmente en cursos de ciencia de datos, aprendizaje automático y áreas relacionadas.\n",
        "11. **Colaboración en Tiempo Real**: Al igual que otros productos de Google Drive, múltiples personas pueden colaborar en un notebook de Colab en tiempo real, lo que facilita el trabajo en equipo.\n",
        "12. **Celdas de texto**: Puedes agregar celdas de texto para incluir explicaciones, imágenes o ecuaciones usando Markdown.\n",
        "13. **Subir archivos**: Usa la pestaña \"Archivos\" en el panel izquierdo para subir datasets o cualquier otro archivo."
      ],
      "metadata": {
        "id": "36ESV9-g6YQb"
      }
    },
    {
      "cell_type": "markdown",
      "source": [
        "### **Primeros Pasos con Google Colab**\n",
        "\n",
        "1. **Acceso a Google Colab**:\n",
        "   - Ve a [Google Colab](https://colab.research.google.com/).\n",
        "   - Necesitarás una cuenta de Google para usar Colab.\n",
        "\n",
        "2. **Crear un nuevo notebook**:\n",
        "   - Una vez en Colab, haz clic en `Nuevo notebook` para crear un nuevo proyecto.\n",
        "\n",
        "3. **Interfaz**:\n",
        "   - Verás una celda en blanco. Aquí es donde puedes comenzar a escribir tu código Python.\n",
        "   - Puedes agregar nuevas celdas haciendo clic en el botón `+ Código` o `+ Texto` en la barra de herramientas.\n",
        "\n",
        "4. **Ejecutar una celda**:\n",
        "   - Escribe algún código Python en una celda, por ejemplo: `print(\"¡Hola, mundo!\")`.\n",
        "   - Haz clic en el botón de reproducción a la izquierda de la celda o presiona `Shift + Enter` para ejecutarla.\n",
        "\n",
        "5. **Guardar tu trabajo**:\n",
        "   - Tu notebook se guardará automáticamente en Google Drive.\n",
        "   - También puedes descargarlo en diferentes formatos como `.ipynb` o `.pdf` desde `Archivo > Descargar`.\n",
        "\n",
        "6. **Importar bibliotecas**:\n",
        "   - Puedes importar bibliotecas de Python como lo harías en cualquier otro entorno de Python, por ejemplo: `import pandas as pd`.\n",
        "\n",
        "7. **Acceso a GPUs**:\n",
        "   - Ve a `Entorno de ejecución > Cambiar tipo de entorno de ejecución`.\n",
        "   - En \"Acelerador por hardware\", selecciona \"GPU\" y guarda."
      ],
      "metadata": {
        "id": "yaZp-rq7hEw_"
      }
    },
    {
      "cell_type": "markdown",
      "source": [
        "## **Menú de Google Colab**\n",
        "\n",
        "El Menú de Google Colab ofrece una variedad de opciones que te permiten interactuar y controlar tu notebook.\n",
        "\n",
        "1. **Archivo**:\n",
        "   - **Nuevo notebook**: Crea un nuevo notebook en blanco.\n",
        "   - **Subir notebook**: Te permite subir un notebook desde tu computadora.\n",
        "   - **Abrir notebook**: Abre un notebook existente desde Google Drive, GitHub o una URL.\n",
        "   - **Guardar**: Guarda los cambios actuales en el notebook.\n",
        "   - **Guardar una copia en Drive**: Guarda una copia del notebook actual en tu Google Drive.\n",
        "   - **Descargar .ipynb**: Descarga el notebook en formato `.ipynb`.\n",
        "   - **Descargar .py**: Descarga el notebook en formato `.py`.\n",
        "   - **Imprimir**: Imprime el notebook.\n",
        "   - **Cerrar y detener**: Cierra el notebook y detiene cualquier celda que se esté ejecutando.\n",
        "\n",
        "2. **Editar**:\n",
        "   - **Deshacer**: Deshace la última acción.\n",
        "   - **Rehacer**: Rehace la última acción deshecha.\n",
        "   - **Cortar celda**: Corta la celda seleccionada.\n",
        "   - **Copiar celda**: Copia la celda seleccionada.\n",
        "   - **Pegar celda**: Pega la celda copiada o cortada.\n",
        "   - **Buscar y reemplazar**: Busca y reemplaza texto en el notebook.\n",
        "   - **Configuración del notebook**: Accede a la configuración del notebook, como cambiar el tipo de acelerador de hardware.\n",
        "\n",
        "3. **Ver**:\n",
        "   - **Tabla de contenidos**: Muestra una tabla de contenidos basada en los encabezados del notebook.\n",
        "   - **Mostrar/Ocultar código**: Muestra u oculta todas las celdas de código en el notebook.\n",
        "   - **Mostrar/Ocultar salida**: Muestra u oculta la salida de todas las celdas de código.\n",
        "\n",
        "4. **Insertar**:\n",
        "   - **Código**: Inserta una nueva celda de código debajo de la celda actual.\n",
        "   - **Texto**: Inserta una nueva celda de texto debajo de la celda actual.\n",
        "\n",
        "5. **Entorno de ejecución**:\n",
        "   - **Ejecutar todo**: Ejecuta todas las celdas del notebook en orden.\n",
        "   - **Ejecutar antes**: Ejecuta todas las celdas que están antes de la celda actual.\n",
        "   - **Ejecutar selección**: Ejecuta la celda o celdas seleccionadas.\n",
        "   - **Interrumpir ejecución**: Detiene la ejecución de la celda que se está ejecutando.\n",
        "   - **Reiniciar entorno de ejecución**: Reinicia el kernel, lo que borra todas las variables y estados.\n",
        "   - **Cambiar tipo de entorno de ejecución**: Te permite cambiar la configuración, como seleccionar una GPU o TPU.\n",
        "\n",
        "6. **Herramientas**:\n",
        "   - **Configuración**: Accede a las preferencias y configuraciones del notebook.\n",
        "   - **Comandos**: Muestra una lista de comandos que puedes usar en Colab.\n",
        "   - **Extensiones**: Te permite gestionar y agregar extensiones.\n",
        "\n",
        "7. **Ayuda**:\n",
        "   - Contiene enlaces a documentación, tutoriales y otros recursos útiles para trabajar con Colab.\n"
      ],
      "metadata": {
        "id": "4SvjYj-b7JDA"
      }
    },
    {
      "cell_type": "markdown",
      "source": [
        "## **Menú lateral de Google Colab**:\n",
        "\n",
        "Estas pestañas en el menú de lateral izquierdo de Google Colab te ayudan a navegar, buscar, gestionar variables y archivos, y acceder a fragmentos de código útiles, lo que facilita y mejora tu experiencia de trabajo en la plataforma.\n",
        "\n",
        "1. **Índice (Table of Contents)**:\n",
        "   - Esta pestaña muestra un índice o tabla de contenidos de tu notebook. Cada encabezado en tu notebook (creado usando Markdown) aparecerá aquí, permitiéndote navegar rápidamente a diferentes secciones de tu notebook. Es especialmente útil para notebooks largos.\n",
        "\n",
        "2. **Búsqueda (Search)**:\n",
        "   - Esta pestaña te permite buscar específicamente en tu notebook. Puedes introducir términos de búsqueda y Colab resaltará y te llevará a las ocurrencias de esos términos en el notebook. Es similar a la función de búsqueda en la mayoría de los editores de texto.\n",
        "\n",
        "3. **Variables (Code snippets)**:\n",
        "   - Aquí puedes ver todas las variables que están actualmente en memoria en tu entorno de ejecución. Te muestra el nombre de la variable, su tipo y su valor actual. Es útil para hacer un seguimiento de las variables que has definido y para depurar tu código.\n",
        "   - Además, en esta pestaña, puedes encontrar fragmentos de código predefinidos que puedes insertar directamente en tu notebook. Estos fragmentos incluyen tareas comunes como cargar datos o visualizar gráficos.\n",
        "\n",
        "4. **Archivos (Files)**:\n",
        "   - Esta pestaña muestra el sistema de archivos del entorno de ejecución de Colab. Aquí puedes ver y gestionar archivos que has cargado o generado. También te permite cargar archivos desde tu computadora o descargar archivos a tu computadora.\n",
        "   - Además, puedes montar tu Google Drive en el entorno de ejecución de Colab, lo que te permite acceder a tus archivos de Drive directamente desde Colab."
      ],
      "metadata": {
        "id": "L37iQMMsfX5T"
      }
    },
    {
      "cell_type": "markdown",
      "source": [
        "## **Markdown**\n",
        "\n",
        "**Markdown** es un lenguaje de marcado ligero que se utiliza para formatear texto. Es fácil de escribir y de leer, y se convierte en HTML para ser visualizado en la web. Es ampliamente utilizado en plataformas como GitHub, Jupyter Notebooks (incluido Google Colab) y muchas otras.\n",
        "\n",
        "Guía básica de las sintaxis más comunes de Markdown:\n",
        "\n",
        "### 1. Encabezados:\n",
        "Puedes crear encabezados de diferentes niveles utilizando el símbolo `#`:\n",
        "\n",
        "# Encabezado Nivel 1\n",
        "## Encabezado Nivel 2\n",
        "### Encabezado Nivel 3\n",
        "#### Encabezado Nivel 4\n",
        "##### Encabezado Nivel 5 en adelante es el mismo ta˜mano\n",
        "\n",
        "### 2. Estilos de texto:\n",
        "- **Negrita**: `**texto en negrita**` o `__texto en negrita__` produce **texto en negrita**.\n",
        "- *Cursiva*: `*texto en cursiva*` o `_texto en cursiva_` produce *texto en cursiva*.\n",
        "- **_Negrita y cursiva_**: `**_texto en negrita y cursiva_**` produce **_texto en negrita y cursiva_**.\n",
        "- ~~Tachado~~: `~~texto tachado~~` produce ~~texto tachado~~.\n",
        "\n",
        "### 3. Listas:\n",
        "\n",
        "- **Listas no ordenadas**: Utiliza `*`, `-` o `+` seguido de un espacio:\n",
        "\n",
        "```\n",
        "* Elemento 1\n",
        "* Elemento 2\n",
        "  * Subelemento 2.1\n",
        "  * Subelemento 2.2\n",
        "```\n",
        "\n",
        "- **Listas ordenadas**: Utiliza números seguidos de un punto:\n",
        "\n",
        "```\n",
        "1. Primer elemento\n",
        "2. Segundo elemento\n",
        "3. Tercer elemento\n",
        "```\n",
        "\n",
        "### 4. Enlaces:\n",
        "- Enlace en línea: `[nombre del enlace](URL)` produce [nombre del enlace](URL).\n",
        "- Enlace con título (el título aparece cuando pasas el cursor sobre el enlace): `[nombre del enlace](URL \"título del enlace\")`.\n",
        "\n",
        "### 5. Imágenes:\n",
        "- `![Texto alternativo](URL de la imagen)`.\n",
        "\n",
        "### 6. Código:\n",
        "- Código en línea: Utiliza comillas invertidas (\\`) alrededor del código: \\`código\\` produce `código`.\n",
        "- Bloque de código: Utiliza tres comillas invertidas (\\```) antes y después del bloque de código:\n",
        "\n",
        "\\```\n",
        "Bloque de código\n",
        "Otra línea de código\n",
        "\\```\n",
        "\n",
        "### 7. Citas:\n",
        "Utiliza el símbolo `>` al inicio de la línea:\n",
        "\n",
        "```\n",
        "> Esta es una cita.\n",
        "> Continuación de la cita.\n",
        "```\n",
        "\n",
        "### 8. Líneas horizontales:\n",
        "Puedes crear una línea horizontal usando tres `-`, `*` o `_`.\n",
        "\n",
        "```\n",
        "---\n",
        "```\n",
        "\n",
        "### 9. Tablas:\n",
        "\n",
        "```\n",
        "| Encabezado 1 | Encabezado 2 |\n",
        "|--------------|--------------|\n",
        "| celda 1.1    | celda 1.2    |\n",
        "| celda 2.1    | celda 2.2    |\n",
        "```\n",
        "\n",
        "### 10. Ecuaciones\n",
        "\n",
        "1. **Ecuaciones en línea**:\n",
        "   - Usa signos de dólar (`$`) alrededor de la ecuación.\n",
        "   - Ejemplo: `$e = mc^2$` se renderizará (visualizará) como $e = mc^2$.\n",
        "\n",
        "2. **Ecuaciones en bloque**:\n",
        "   - Usa doble signo de dólar (`$$`) al inicio y al final de la ecuación para que se muestre en su propia línea centrada.\n",
        "   - Ejemplo:\n",
        "     \n",
        "     `$$\n",
        "     f(x) = \\frac{1}{\\sqrt{2\\pi\\sigma^2}} e^{-\\frac{(x-\\mu)^2}{2\\sigma^2}}\n",
        "     $$`\n",
        "     \n",
        "     se visualizará como:\n",
        "     $$f(x) = \\frac{1}{\\sqrt{2\\pi\\sigma^2}} e^{-\\frac{(x-\\mu)^2}{2\\sigma^2}}\n",
        "     $$\n",
        "\n",
        "3. **Subíndices y superíndices**:\n",
        "  - `$x_i$` produce ($x_i$)\n",
        "  - `$x^2$` produce ($x^2$)\n",
        "\n",
        "4. **Fracciones**:\n",
        "  - `$frac{a}{b}$` produce \\($\\frac{a}{b}\\$)\n",
        "\n",
        "5. **Raíces cuadradas**:\n",
        "  - `$\\sqrt{x}$` produce ($\\sqrt{x}$)\n",
        "  - `$\\sqrt[n]{x}$` produce ($\\sqrt[n]{x}$)\n",
        "\n",
        "6. **Símbolos griegos**:\n",
        "  - `$\\alpha$, $\\beta$, $\\gamma$, $\\delta$` produce ($\\alpha$, $\\beta$, $\\gamma$, $\\delta$)\n",
        "\n",
        "7. **Sumatorias y productorias**:\n",
        "  - `$\\sum_{i=1}^{n} x_i$` produce ($\\sum_{i=1}^{n} x_i$)\n",
        "  - `$\\prod_{i=1}^{n} x_i$` produce ($\\prod_{i=1}^{n} x_i$)\n",
        "\n",
        "8. **Integrales**:\n",
        "  - `$\\int_{a}^{b} f(x) \\, dx$` produce ($\\int_{a}^{b} f(x) \\, dx$)"
      ],
      "metadata": {
        "id": "kFJUwBVD768H"
      }
    },
    {
      "cell_type": "markdown",
      "source": [
        "## **Celdas de código en Colab**\n",
        "\n",
        "### ¿Qué son las celdas de código en Colab?\n",
        "\n",
        "1. **Bloques Interactivos**: Las celdas de código te permiten escribir y ejecutar código en tiempo real. Puedes ver los resultados inmediatamente debajo de la celda después de ejecutarla.\n",
        "\n",
        "2. **Lenguaje de Programación**: Por defecto, las celdas de código en Colab están configuradas para ejecutar código Python, pero también puedes ejecutar comandos de shell (Bash) precediendo el comando con un signo de exclamación (`!`), por ejemplo: ```!pip install pandas```\n",
        "\n",
        "3. **Entorno Aislado**: Cada notebook de Colab se ejecuta en su propio entorno virtual, lo que significa que las variables, bibliotecas y configuraciones que definas en un notebook no afectarán a otros notebooks.\n",
        "\n",
        "### ¿Cómo funcionan?\n",
        "\n",
        "1. **Escribir Código**: Simplemente haz clic en una celda de código y comienza a escribir. Puedes usar estas celdas para definir variables, escribir funciones, importar bibliotecas y más.\n",
        "\n",
        "2. **Ejecutar Código**: Una vez que hayas escrito tu código, puedes ejecutar la celda haciendo clic en el botón de reproducción (triángulo) a la izquierda de la celda o usando el atajo de teclado `Shift + Enter`. El código se ejecutará y cualquier salida (como impresiones o gráficos) aparecerá directamente debajo de la celda.\n",
        "\n",
        "3. **Errores y Depuración**: Si hay un error en tu código, Colab mostrará un mensaje de error debajo de la celda. Esto te ayuda a identificar y corregir problemas en tu código.\n",
        "\n",
        "4. **Variables y Estado**: Las variables y funciones definidas en una celda están disponibles para otras celdas en el mismo notebook. Esto te permite dividir tu código en bloques lógicos y ejecutar partes específicas de tu código sin tener que redefinir variables o funciones.\n",
        "\n",
        "5. **Reinicio y Limpieza**: Si necesitas reiniciar tu entorno (por ejemplo, si tu código entra en un bucle infinito o si deseas limpiar todas las variables), puedes hacerlo utilizando las opciones \"Reiniciar entorno de ejecución\" o \"Reiniciar y limpiar todo\" en el menú de Colab."
      ],
      "metadata": {
        "id": "cEWnZ4wFh8uq"
      }
    },
    {
      "cell_type": "markdown",
      "source": [
        "## Formularios\n",
        "\n",
        "Los formularios en Colab son herramientas interactivas que te permiten agregar campos como deslizadores, casillas de verificación y campos de texto a tu notebook. Estos campos facilitan la modificación de variables y parámetros en tu código sin tener que editar el código directamente.\n",
        "\n",
        "**¿Para qué sirven?**\n",
        "- Te permiten interactuar con tu código de manera más visual.\n",
        "- Son útiles para presentaciones y demos, ya que los espectadores pueden cambiar valores fácilmente.\n",
        "- Facilitan la enseñanza, permitiendo a los estudiantes experimentar con valores sin modificar el código.\n",
        "\n",
        "**¿Cómo usarlos?**\n",
        "1. En una celda, haz clic en el icono de \"Formulario\".\n",
        "2. Agrega el campo que desees (por ejemplo, un deslizador).\n",
        "3. Vincula ese campo a una variable en tu código.\n",
        "4. Al ajustar el campo en el formulario (como mover un deslizador), el valor de la variable en tu código cambiará automáticamente."
      ],
      "metadata": {
        "id": "j2wcpY1fkuGS"
      }
    },
    {
      "cell_type": "code",
      "source": [
        "# @title Formulario: Datos personales\n",
        "nombre = \"Pedro\" # @param {type:\"string\"}\n",
        "edad = 50 # @param {type:\"number\"}\n",
        "ciudad = \"San Juan\" # @param [\"San Juan\", \"Caguas\", \"Ponce\"]\n",
        "donador = True # @param {type:\"boolean\"}\n",
        "fecha_entrevista = \"2023-09-12\" # @param {type:\"date\"}"
      ],
      "metadata": {
        "id": "qKxdebyssL-W"
      },
      "execution_count": 7,
      "outputs": []
    },
    {
      "cell_type": "code",
      "source": [
        "#@title Impresión en pantalla de los Datos Personales entrados en el Formulario\n",
        "print(\"Nombre:\", nombre)\n",
        "print(\"Edad:\", edad)\n",
        "print(\"Residencia:\", ciudad)\n",
        "print(\"Donador:\", donador)\n",
        "print(\"Fecha Entrevista:\", fecha_entrevista)"
      ],
      "metadata": {
        "colab": {
          "base_uri": "https://localhost:8080/"
        },
        "id": "MZiCX6gGn9Kr",
        "outputId": "d49ca3db-7229-49f0-fc1b-8360d8cad68b"
      },
      "execution_count": 8,
      "outputs": [
        {
          "output_type": "stream",
          "name": "stdout",
          "text": [
            "Nombre: Pedro\n",
            "Edad: 50\n",
            "Residencia: San Juan\n",
            "Donador: True\n",
            "Fecha Entrevista: 2023-09-12\n"
          ]
        }
      ]
    },
    {
      "cell_type": "code",
      "source": [
        "# @title Ejercicio sobre el Desarrollo de Formularios { run: \"auto\" }\n",
        "variable_name = \"Pedro\" # @param {type:\"string\"}\n",
        "variable_name"
      ],
      "metadata": {
        "colab": {
          "base_uri": "https://localhost:8080/",
          "height": 35
        },
        "id": "vTIjffELuTAz",
        "outputId": "346ef376-e62d-4ff3-845f-6d46faef051e"
      },
      "execution_count": 9,
      "outputs": [
        {
          "output_type": "execute_result",
          "data": {
            "text/plain": [
              "'Pedro'"
            ],
            "application/vnd.google.colaboratory.intrinsic+json": {
              "type": "string"
            }
          },
          "metadata": {},
          "execution_count": 9
        }
      ]
    },
    {
      "cell_type": "markdown",
      "source": [
        "## Visualizacion de Código o Script"
      ],
      "metadata": {
        "id": "_o-vDbUUjxTM"
      }
    },
    {
      "cell_type": "code",
      "source": [
        "print(\"Hola Mundo\")"
      ],
      "metadata": {
        "colab": {
          "base_uri": "https://localhost:8080/"
        },
        "id": "st7TPT7Ljt9l",
        "outputId": "52d24ac3-41cd-4773-97e7-72b9a4a19e34"
      },
      "execution_count": 10,
      "outputs": [
        {
          "output_type": "stream",
          "name": "stdout",
          "text": [
            "Hola Mundo\n"
          ]
        }
      ]
    },
    {
      "cell_type": "code",
      "source": [
        "a = 5\n",
        "b = 10\n",
        "print(a + b)"
      ],
      "metadata": {
        "colab": {
          "base_uri": "https://localhost:8080/"
        },
        "id": "qEbAOH4kj8cX",
        "outputId": "623b7808-1837-4195-d97d-231b1dd88247"
      },
      "execution_count": 11,
      "outputs": [
        {
          "output_type": "stream",
          "name": "stdout",
          "text": [
            "15\n"
          ]
        }
      ]
    },
    {
      "cell_type": "markdown",
      "source": [
        "## Visualización de Graficos"
      ],
      "metadata": {
        "id": "_vq0AtEU6CHH"
      }
    },
    {
      "cell_type": "code",
      "source": [
        "from matplotlib import pyplot as plt\n",
        "plt.pie([45, 55, 20, 65], labels = [\"San Juan\", \"Caguas\", \"Guaynabo\", \"Ponce\"])\n",
        "plt.show()"
      ],
      "metadata": {
        "id": "uF3EL1vwpWWr",
        "colab": {
          "base_uri": "https://localhost:8080/",
          "height": 406
        },
        "outputId": "89619459-1b49-46c6-f3fc-b336fed6c256"
      },
      "execution_count": 12,
      "outputs": [
        {
          "output_type": "display_data",
          "data": {
            "text/plain": [
              "<Figure size 640x480 with 1 Axes>"
            ],
            "image/png": "[encoded data removed]"
          },
          "metadata": {}
        }
      ]
    },
    {
      "cell_type": "markdown",
      "source": [
        "## Google Sheets - Hoja de Cálculo de Google"
      ],
      "metadata": {
        "id": "uQsCevGN6ISW"
      }
    },
    {
      "cell_type": "code",
      "source": [
        "# https://sheets.google.com\n",
        "import gspread\n",
        "import pandas as pd\n",
        "from google.colab import auth\n",
        "from google.auth import default\n",
        "\n",
        "# Credenciales para acceso a cuenta\n",
        "auth.authenticate_user()\n",
        "creds, _ = default()\n",
        "gc = gspread.authorize(creds)\n",
        "\n",
        "# Crea hoja de cálculo\n",
        "gc.create(\"Mi_Hoja_de_Calculo\")\n",
        "\n",
        "# Abre hoja de cálculo\n",
        "hoja = gc.open(\"Mi_Hoja_de_Calculo\").sheet1\n",
        "\n",
        "# Escribe sobre hoja de cálculo\n",
        "hoja.update_cell(1, 1, 1000)\n",
        "hoja.update_cell(1, 2, 2000)\n",
        "hoja.update_cell(2, 1, 3000)\n",
        "hoja.update_cell(2, 2, 4000)\n",
        "\n",
        "# Lee e imprime hoja de cálculo\n",
        "renglones = hoja.get_all_values()\n",
        "df = pd.DataFrame.from_records(renglones) # Crea un Data Frame\n",
        "df # Cargarlo en un Data Frame"
      ],
      "metadata": {
        "id": "OPCrN5HlwaMv",
        "colab": {
          "base_uri": "https://localhost:8080/",
          "height": 112
        },
        "outputId": "1665d7ec-1ffc-422f-efc6-0644524e70de"
      },
      "execution_count": 13,
      "outputs": [
        {
          "output_type": "execute_result",
          "data": {
            "text/plain": [
              "      0     1\n",
              "0  1000  2000\n",
              "1  3000  4000"
            ],
            "text/html": [
              "\n",
              "  <div id=\"df-4e68c450-c248-4ef7-a0d7-3823a6ac7a31\" class=\"colab-df-container\">\n",
              "    <div>\n",
              "<style scoped>\n",
              "    .dataframe tbody tr th:only-of-type {\n",
              "        vertical-align: middle;\n",
              "    }\n",
              "\n",
              "    .dataframe tbody tr th {\n",
              "        vertical-align: top;\n",
              "    }\n",
              "\n",
              "    .dataframe thead th {\n",
              "        text-align: right;\n",
              "    }\n",
              "</style>\n",
              "<table border=\"1\" class=\"dataframe\">\n",
              "  <thead>\n",
              "    <tr style=\"text-align: right;\">\n",
              "      <th></th>\n",
              "      <th>0</th>\n",
              "      <th>1</th>\n",
              "    </tr>\n",
              "  </thead>\n",
              "  <tbody>\n",
              "    <tr>\n",
              "      <th>0</th>\n",
              "      <td>1000</td>\n",
              "      <td>2000</td>\n",
              "    </tr>\n",
              "    <tr>\n",
              "      <th>1</th>\n",
              "      <td>3000</td>\n",
              "      <td>4000</td>\n",
              "    </tr>\n",
              "  </tbody>\n",
              "</table>\n",
              "</div>\n",
              "    <div class=\"colab-df-buttons\">\n",
              "\n",
              "  <div class=\"colab-df-container\">\n",
              "    <button class=\"colab-df-convert\" onclick=\"convertToInteractive('df-4e68c450-c248-4ef7-a0d7-3823a6ac7a31')\"\n",
              "            title=\"Convert this dataframe to an interactive table.\"\n",
              "            style=\"display:none;\">\n",
              "\n",
              "  <svg xmlns=\"http://www.w3.org/2000/svg\" height=\"24px\" viewBox=\"0 -960 960 960\">\n",
              "    <path d=\"M120-120v-720h720v720H120Zm60-500h600v-160H180v160Zm220 220h160v-160H400v160Zm0 220h160v-160H400v160ZM180-400h160v-160H180v160Zm440 0h160v-160H620v160ZM180-180h160v-160H180v160Zm440 0h160v-160H620v160Z\"/>\n",
              "  </svg>\n",
              "    </button>\n",
              "\n",
              "  <style>\n",
              "    .colab-df-container {\n",
              "      display:flex;\n",
              "      gap: 12px;\n",
              "    }\n",
              "\n",
              "    .colab-df-convert {\n",
              "      background-color: #E8F0FE;\n",
              "      border: none;\n",
              "      border-radius: 50%;\n",
              "      cursor: pointer;\n",
              "      display: none;\n",
              "      fill: #1967D2;\n",
              "      height: 32px;\n",
              "      padding: 0 0 0 0;\n",
              "      width: 32px;\n",
              "    }\n",
              "\n",
              "    .colab-df-convert:hover {\n",
              "      background-color: #E2EBFA;\n",
              "      box-shadow: 0px 1px 2px rgba(60, 64, 67, 0.3), 0px 1px 3px 1px rgba(60, 64, 67, 0.15);\n",
              "      fill: #174EA6;\n",
              "    }\n",
              "\n",
              "    .colab-df-buttons div {\n",
              "      margin-bottom: 4px;\n",
              "    }\n",
              "\n",
              "    [theme=dark] .colab-df-convert {\n",
              "      background-color: #3B4455;\n",
              "      fill: #D2E3FC;\n",
              "    }\n",
              "\n",
              "    [theme=dark] .colab-df-convert:hover {\n",
              "      background-color: #434B5C;\n",
              "      box-shadow: 0px 1px 3px 1px rgba(0, 0, 0, 0.15);\n",
              "      filter: drop-shadow(0px 1px 2px rgba(0, 0, 0, 0.3));\n",
              "      fill: #FFFFFF;\n",
              "    }\n",
              "  </style>\n",
              "\n",
              "    <script>\n",
              "      const buttonEl =\n",
              "        document.querySelector('#df-4e68c450-c248-4ef7-a0d7-3823a6ac7a31 button.colab-df-convert');\n",
              "      buttonEl.style.display =\n",
              "        google.colab.kernel.accessAllowed ? 'block' : 'none';\n",
              "\n",
              "      async function convertToInteractive(key) {\n",
              "        const element = document.querySelector('#df-4e68c450-c248-4ef7-a0d7-3823a6ac7a31');\n",
              "        const dataTable =\n",
              "          await google.colab.kernel.invokeFunction('convertToInteractive',\n",
              "                                                    [key], {});\n",
              "        if (!dataTable) return;\n",
              "\n",
              "        const docLinkHtml = 'Like what you see? Visit the ' +\n",
              "          '<a target=\"_blank\" href=https://colab.research.google.com/notebooks/data_table.ipynb>data table notebook</a>'\n",
              "          + ' to learn more about interactive tables.';\n",
              "        element.innerHTML = '';\n",
              "        dataTable['output_type'] = 'display_data';\n",
              "        await google.colab.output.renderOutput(dataTable, element);\n",
              "        const docLink = document.createElement('div');\n",
              "        docLink.innerHTML = docLinkHtml;\n",
              "        element.appendChild(docLink);\n",
              "      }\n",
              "    </script>\n",
              "  </div>\n",
              "\n",
              "\n",
              "<div id=\"df-3c9d993c-967b-4018-8fd4-12e5c76c4ac1\">\n",
              "  <button class=\"colab-df-quickchart\" onclick=\"quickchart('df-3c9d993c-967b-4018-8fd4-12e5c76c4ac1')\"\n",
              "            title=\"Suggest charts.\"\n",
              "            style=\"display:none;\">\n",
              "\n",
              "<svg xmlns=\"http://www.w3.org/2000/svg\" height=\"24px\"viewBox=\"0 0 24 24\"\n",
              "     width=\"24px\">\n",
              "    <g>\n",
              "        <path d=\"M19 3H5c-1.1 0-2 .9-2 2v14c0 1.1.9 2 2 2h14c1.1 0 2-.9 2-2V5c0-1.1-.9-2-2-2zM9 17H7v-7h2v7zm4 0h-2V7h2v10zm4 0h-2v-4h2v4z\"/>\n",
              "    </g>\n",
              "</svg>\n",
              "  </button>\n",
              "\n",
              "<style>\n",
              "  .colab-df-quickchart {\n",
              "      --bg-color: #E8F0FE;\n",
              "      --fill-color: #1967D2;\n",
              "      --hover-bg-color: #E2EBFA;\n",
              "      --hover-fill-color: #174EA6;\n",
              "      --disabled-fill-color: #AAA;\n",
              "      --disabled-bg-color: #DDD;\n",
              "  }\n",
              "\n",
              "  [theme=dark] .colab-df-quickchart {\n",
              "      --bg-color: #3B4455;\n",
              "      --fill-color: #D2E3FC;\n",
              "      --hover-bg-color: #434B5C;\n",
              "      --hover-fill-color: #FFFFFF;\n",
              "      --disabled-bg-color: #3B4455;\n",
              "      --disabled-fill-color: #666;\n",
              "  }\n",
              "\n",
              "  .colab-df-quickchart {\n",
              "    background-color: var(--bg-color);\n",
              "    border: none;\n",
              "    border-radius: 50%;\n",
              "    cursor: pointer;\n",
              "    display: none;\n",
              "    fill: var(--fill-color);\n",
              "    height: 32px;\n",
              "    padding: 0;\n",
              "    width: 32px;\n",
              "  }\n",
              "\n",
              "  .colab-df-quickchart:hover {\n",
              "    background-color: var(--hover-bg-color);\n",
              "    box-shadow: 0 1px 2px rgba(60, 64, 67, 0.3), 0 1px 3px 1px rgba(60, 64, 67, 0.15);\n",
              "    fill: var(--button-hover-fill-color);\n",
              "  }\n",
              "\n",
              "  .colab-df-quickchart-complete:disabled,\n",
              "  .colab-df-quickchart-complete:disabled:hover {\n",
              "    background-color: var(--disabled-bg-color);\n",
              "    fill: var(--disabled-fill-color);\n",
              "    box-shadow: none;\n",
              "  }\n",
              "\n",
              "  .colab-df-spinner {\n",
              "    border: 2px solid var(--fill-color);\n",
              "    border-color: transparent;\n",
              "    border-bottom-color: var(--fill-color);\n",
              "    animation:\n",
              "      spin 1s steps(1) infinite;\n",
              "  }\n",
              "\n",
              "  @keyframes spin {\n",
              "    0% {\n",
              "      border-color: transparent;\n",
              "      border-bottom-color: var(--fill-color);\n",
              "      border-left-color: var(--fill-color);\n",
              "    }\n",
              "    20% {\n",
              "      border-color: transparent;\n",
              "      border-left-color: var(--fill-color);\n",
              "      border-top-color: var(--fill-color);\n",
              "    }\n",
              "    30% {\n",
              "      border-color: transparent;\n",
              "      border-left-color: var(--fill-color);\n",
              "      border-top-color: var(--fill-color);\n",
              "      border-right-color: var(--fill-color);\n",
              "    }\n",
              "    40% {\n",
              "      border-color: transparent;\n",
              "      border-right-color: var(--fill-color);\n",
              "      border-top-color: var(--fill-color);\n",
              "    }\n",
              "    60% {\n",
              "      border-color: transparent;\n",
              "      border-right-color: var(--fill-color);\n",
              "    }\n",
              "    80% {\n",
              "      border-color: transparent;\n",
              "      border-right-color: var(--fill-color);\n",
              "      border-bottom-color: var(--fill-color);\n",
              "    }\n",
              "    90% {\n",
              "      border-color: transparent;\n",
              "      border-bottom-color: var(--fill-color);\n",
              "    }\n",
              "  }\n",
              "</style>\n",
              "\n",
              "  <script>\n",
              "    async function quickchart(key) {\n",
              "      const quickchartButtonEl =\n",
              "        document.querySelector('#' + key + ' button');\n",
              "      quickchartButtonEl.disabled = true;  // To prevent multiple clicks.\n",
              "      quickchartButtonEl.classList.add('colab-df-spinner');\n",
              "      try {\n",
              "        const charts = await google.colab.kernel.invokeFunction(\n",
              "            'suggestCharts', [key], {});\n",
              "      } catch (error) {\n",
              "        console.error('Error during call to suggestCharts:', error);\n",
              "      }\n",
              "      quickchartButtonEl.classList.remove('colab-df-spinner');\n",
              "      quickchartButtonEl.classList.add('colab-df-quickchart-complete');\n",
              "    }\n",
              "    (() => {\n",
              "      let quickchartButtonEl =\n",
              "        document.querySelector('#df-3c9d993c-967b-4018-8fd4-12e5c76c4ac1 button');\n",
              "      quickchartButtonEl.style.display =\n",
              "        google.colab.kernel.accessAllowed ? 'block' : 'none';\n",
              "    })();\n",
              "  </script>\n",
              "</div>\n",
              "    </div>\n",
              "  </div>\n"
            ]
          },
          "metadata": {},
          "execution_count": 13
        }
      ]
    },
    {
      "cell_type": "markdown",
      "source": [
        "## GPUs - Unidad de Procesamiento Gráfico\n",
        "\n",
        "Las GPUs (Graphics Processing Units o Unidades de Procesamiento Gráfico) son dispositivos de hardware diseñados originalmente para acelerar la creación de imágenes en un marco de píxeles, lo que las hace ideales para juegos y gráficos por computadora. Sin embargo, debido a su capacidad para manejar operaciones paralelas, las GPUs también se han vuelto esenciales en el campo del aprendizaje automático y el aprendizaje profundo.\n",
        "\n",
        "En el contexto de Google Colab:\n",
        "\n",
        "- **Acceso gratuito a GPUs**: Google Colab ofrece acceso gratuito a GPUs para que los usuarios puedan experimentar con el aprendizaje profundo y ejecutar modelos de manera más rápida y eficiente en comparación con la ejecución solo en CPUs.\n",
        "\n",
        "- **Integración con frameworks populares**: Las GPUs en Colab están bien integradas con frameworks populares de aprendizaje automático como TensorFlow y PyTorch, lo que facilita el entrenamiento y la inferencia de modelos utilizando la potencia de la GPU.\n",
        "\n",
        "**Ventajas de las GPUs en Colab**:\n",
        "\n",
        "1. **Paralelización**: Las GPUs están diseñadas para realizar muchas operaciones simultáneamente, lo que las hace especialmente adecuadas para tareas de aprendizaje profundo que requieren una gran cantidad de cálculos paralelos.\n",
        "\n",
        "2. **Aceleración del entrenamiento**: El entrenamiento de modelos de aprendizaje profundo, especialmente redes neuronales grandes, puede ser intensivo en términos de tiempo y recursos. Las GPUs pueden acelerar significativamente este proceso.\n",
        "\n",
        "3. **Costo-efectividad**: Aunque las GPUs de alta gama pueden ser costosas, Google ofrece acceso gratuito a GPUs en Colab, lo que permite a los usuarios beneficiarse de la aceleración de la GPU sin incurrir en costos directos.\n",
        "\n",
        "**Cómo usar GPUs en Google Colab**:\n",
        "\n",
        "1. En tu notebook de Colab, ve al menú y selecciona `Entorno de ejecución > Cambiar tipo de entorno de ejecución`.\n",
        "2. En \"Acelerador por hardware\", selecciona \"GPU\" y guarda los cambios.\n",
        "3. Ahora, cualquier código que ejecute en ese notebook podrá aprovechar la GPU. Si estás utilizando frameworks como TensorFlow o PyTorch, generalmente solo necesitas especificar que deseas que el modelo y los datos se ejecuten en la GPU.\n",
        "\n",
        "Las GPUs ofrecen una aceleración significativa para muchas tareas de aprendizaje profundo, no todas las tareas se beneficiarán de la misma manera. Algunas tareas o modelos pueden no ver una mejora significativa en la velocidad, mientras que otras pueden ver mejoras drásticas. Sin embargo, en general, las GPUs son una herramienta valiosa para cualquier científico de datos o investigador que trabaje en aprendizaje automático o aprendizaje profundo en Colab."
      ],
      "metadata": {
        "id": "pQa459JR06us"
      }
    },
    {
      "cell_type": "code",
      "source": [
        "import tensorflow as tf\n",
        "\n",
        "# Detección de GPU\n",
        "tf.test.gpu_device_name()"
      ],
      "metadata": {
        "id": "xNmR5RZlz3_P",
        "colab": {
          "base_uri": "https://localhost:8080/",
          "height": 35
        },
        "outputId": "62691757-1349-488c-d6de-4c00ab37baf7"
      },
      "execution_count": null,
      "outputs": [
        {
          "output_type": "execute_result",
          "data": {
            "text/plain": [
              "'/device:GPU:0'"
            ],
            "application/vnd.google.colaboratory.intrinsic+json": {
              "type": "string"
            }
          },
          "metadata": {},
          "execution_count": 3
        }
      ]
    },
    {
      "cell_type": "markdown",
      "source": [
        "## TPUs - Unidad de Procesamiento Tensorial\n",
        "\n",
        "Las TPUs (Tensor Processing Units) son aceleradores de hardware desarrollados por Google específicamente para mejorar la velocidad y eficiencia de las cargas de trabajo relacionadas con el aprendizaje profundo. Están diseñadas para optimizar y acelerar las operaciones de tensores, que son fundamentales en las redes neuronales y en muchas tareas de aprendizaje automático.\n",
        "\n",
        "En el contexto de Google Colab:\n",
        "\n",
        "- **Acceso gratuito a TPUs**: Google Colab ofrece acceso gratuito a TPUs para que los usuarios puedan experimentar con el aprendizaje profundo y ejecutar modelos de manera más rápida y eficiente en comparación con la ejecución en CPUs o incluso GPUs.\n",
        "\n",
        "- **Integración con TensorFlow**: Las TPUs están estrechamente integradas con TensorFlow, el popular framework de aprendizaje automático desarrollado por Google. Esto significa que, con algunas modificaciones en el código, puedes aprovechar las TPUs en Colab para entrenar y ejecutar tus modelos de TensorFlow.\n",
        "\n",
        "**Ventajas de las TPUs en Colab**:\n",
        "\n",
        "1. **Alto rendimiento**: Las TPUs están diseñadas para ofrecer un alto rendimiento en operaciones específicas de aprendizaje profundo, lo que puede resultar en un entrenamiento de modelos mucho más rápido en comparación con CPUs y GPUs.\n",
        "\n",
        "2. **Memoria de alta velocidad**: Las TPUs vienen con una memoria de alta velocidad que permite un acceso rápido a los datos, lo que es esencial para operaciones intensivas de aprendizaje profundo.\n",
        "\n",
        "3. **Costo-efectividad**: Aunque las TPUs son dispositivos de hardware costosos, Google ofrece acceso gratuito a TPUs en Colab, lo que permite a los usuarios experimentar con hardware de vanguardia sin incurrir en costos.\n",
        "\n",
        "**Cómo usar TPUs en Google Colab**:\n",
        "\n",
        "1. En tu notebook de Colab, ve al menú y selecciona `Entorno de ejecución > Cambiar tipo de entorno de ejecución`.\n",
        "2. En \"Acelerador por hardware\", selecciona \"TPU\" y guarda los cambios.\n",
        "3. En tu código, asegúrate de que estás utilizando TensorFlow y haz las adaptaciones necesarias para que tu modelo utilice la TPU.\n",
        "\n",
        "Las TPUs ofrecen un rendimiento impresionante para ciertas tareas, no todos los modelos o cargas de trabajo se beneficiarán de la misma manera. Es posible que algunos modelos se ejecuten más rápido en GPUs, dependiendo de la naturaleza del modelo y de la tarea específica. Sin embargo, en muchos casos, especialmente con modelos grandes y datasets extensos, las TPUs pueden ofrecer ventajas significativas en términos de velocidad y eficiencia."
      ],
      "metadata": {
        "id": "4YZkVMlG1giq"
      }
    },
    {
      "cell_type": "code",
      "source": [
        "import tensorflow as tf\n",
        "\n",
        "try:\n",
        "  # Detección de TPU\n",
        "  tpu=tf.distribute.cluster_resolver.TPUClusterResolver()\n",
        "  print(\"TPU ubicando en:\", tpu.cluster_spec().as_dict()['worker'])\n",
        "except ValueError:\n",
        "  raise BaseException('¡Error de conexión')\n"
      ],
      "metadata": {
        "colab": {
          "base_uri": "https://localhost:8080/"
        },
        "id": "HTyhjVsc0nWv",
        "outputId": "16561e48-b55b-4c9c-fb57-5c436a2817d7"
      },
      "execution_count": null,
      "outputs": [
        {
          "output_type": "stream",
          "name": "stdout",
          "text": [
            "TPU ubicando en: ['10.26.82.18:8470']\n"
          ]
        }
      ]
    },
    {
      "cell_type": "markdown",
      "source": [
        "## Comando Bash\n",
        "\n",
        "Son los comandos de consola"
      ],
      "metadata": {
        "id": "Urcc7PA33z5O"
      }
    },
    {
      "cell_type": "markdown",
      "source": [
        "Bash (Bourne Again SHell) es una de las shells (intérpretes de comandos) más populares para sistemas operativos Unix y Linux. Un \"comando Bash\" se refiere a una instrucción o conjunto de instrucciones que se dan a esta shell para realizar diversas tareas.\n",
        "\n",
        "Descripción general de algunos comandos Bash comunes:\n",
        "\n",
        "1. **`ls`**: Lista los archivos y directorios en el directorio actual.\n",
        "2. **`cd`**: Cambia el directorio actual. Por ejemplo, `cd Documents` te llevará al directorio \"Documents\".\n",
        "3. **`pwd`**: Muestra el directorio de trabajo actual (path working directory).\n",
        "4. **`echo`**: Imprime un mensaje o variable. Por ejemplo, `echo \"Hola Mundo\"` imprimirá \"Hola Mundo\".\n",
        "5. **`mkdir`**: Crea un nuevo directorio.\n",
        "6. **`rmdir`**: Elimina un directorio (debe estar vacío).\n",
        "7. **`rm`**: Elimina archivos o directorios. Por ejemplo, `rm archivo.txt` eliminará \"archivo.txt\".\n",
        "8. **`cat`**: Muestra el contenido de un archivo. Por ejemplo, `cat archivo.txt` mostrará el contenido de \"archivo.txt\".\n",
        "9. **`man`**: Muestra el manual o ayuda de un comando. Por ejemplo, `man ls` mostrará la ayuda para el comando `ls`.\n",
        "10. **`ps`**: Muestra los procesos en ejecución en el sistema.\n",
        "11. **`chmod`**: Cambia los permisos de un archivo o directorio.\n",
        "12. **`chown`**: Cambia el propietario de un archivo o directorio.\n",
        "\n",
        "En Google Colab, puedes ejecutar comandos Bash directamente desde las celdas del notebook. Para hacerlo, simplemente precede el comando con un signo de exclamación (`!`).\n",
        "\n",
        "Algunos ejemplos y usos comunes de **comandos Bash en Colab**:\n",
        "\n",
        "1. **Listar archivos y directorios**: ```!ls```\n",
        "2. **Mostrar el directorio actual**: ```!pwd```\n",
        "3. **Crear un nuevo directorio**: ```!mkdir nuevo_directorio```\n",
        "4. **Eliminar un directorio**: ```!rmdir nuevo_directorio```\n",
        "5. **Escribir contenido en un archivo**: ```!echo \"Hola Mundo\" > archivo.txt```\n",
        "6. **Mostrar el contenido de un archivo**: ```!cat archivo.txt```\n",
        "7. **Instalar paquetes**: Dado que Colab se ejecuta en un entorno Linux, puedes usar `apt-get` para instalar paquetes: ```!apt-get install paquete_deseado```\n",
        "8. **Ejecutar un script de Python**: Si tienes un script de Python en el entorno de Colab, puedes ejecutarlo con: ```!python nombre_del_script.py```\n",
        "9. **Clonar un repositorio de GitHub**: ```!git clone https://github.com/usuario/repositorio.git```\n",
        "10. **Ver uso de memoria y CPU**: ```!top -n 1```"
      ],
      "metadata": {
        "id": "KsQ1zmx-YHHP"
      }
    },
    {
      "cell_type": "code",
      "source": [
        "!mkdir mi_directorio # Se crea de manera temporal, ya que una vez terminemos la sesión de trabajo se borra\n",
        "!ls\n",
        "!pip install efficient-apriori"
      ],
      "metadata": {
        "colab": {
          "base_uri": "https://localhost:8080/"
        },
        "id": "voaquGEb3ywV",
        "outputId": "1f925afa-7811-4dd3-962e-ae00d2287e3e"
      },
      "execution_count": null,
      "outputs": [
        {
          "output_type": "stream",
          "name": "stdout",
          "text": [
            "mi_directorio  sample_data\n",
            "Collecting efficient-apriori\n",
            "  Downloading efficient_apriori-2.0.3-py3-none-any.whl (14 kB)\n",
            "Installing collected packages: efficient-apriori\n",
            "Successfully installed efficient-apriori-2.0.3\n"
          ]
        }
      ]
    }
  ]
}