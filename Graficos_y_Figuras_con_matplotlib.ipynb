{
  "cells": [
    {
      "cell_type": "markdown",
      "metadata": {
        "id": "view-in-github",
        "colab_type": "text"
      },
      "source": [
        "<a href=\"https://colab.research.google.com/github/jserrataylor/cursoAI/blob/main/Graficos_y_Figuras_con_matplotlib.ipynb\" target=\"_parent\"><img src=\"https://colab.research.google.com/assets/colab-badge.svg\" alt=\"Open In Colab\"/></a>"
      ]
    },
    {
      "cell_type": "markdown",
      "source": [
        "# Gráficas con MatPlotLib"
      ],
      "metadata": {
        "id": "Kvq_zq91oo2s"
      }
    },
    {
      "cell_type": "markdown",
      "metadata": {
        "id": "dZ-rAh4OPU_b"
      },
      "source": [
        "[Matplotlib](https://matplotlib.org/stable/users/explain/quick_start.html) es una biblioteca más popular en Python para la visualización de datos. Se utiliza ampliamente en la ciencia de datos, la inteligencia artificial, y muchos otros campos de la informática y la ciencia de datos debido a su flexibilidad y a la amplia gama de gráficos que puede producir.\n",
        "\n",
        "Matplotlib se integra bien con Pandas, permitiéndote usar DataFrames y Series directamente para crear visualizaciones.\n",
        "\n",
        "![Grafica](https://matplotlib.org/stable/_images/anatomy.png)\n",
        "\n",
        "Esta figura bidimencional tiene dos (2) ejes donde se graficará la información (datos). En esta figura se observan tres series de datos (linea anaranjada, linea azul y los puntos cuadrados es una gráfica de dispersión). Admemás, se activan leyendas, cambiar el títulos, marcas, escalas de los datos\n",
        "\n",
        "### ¿Por qué Matplotlib?\n",
        "\n",
        "1. **Simplicidad**: Puedes crear visualizaciones básicas con solo unas pocas líneas de código.\n",
        "   \n",
        "2. **Control**: Ofrece un control total sobre los estilos, propiedades y dimensiones de los gráficos.\n",
        "\n",
        "3. **Versatilidad**: Puedes crear prácticamente cualquier gráfico: desde histogramas y scatterplots hasta gráficos 3D.\n",
        "\n",
        "### Componentes Básicos:\n",
        "\n",
        "- **Figure**: Contenedor de más alto nivel que contiene todos los elementos del gráfico.\n",
        "- **Axes**: Lo que comúnmente llamamos \"un gráfico\". Una figura puede contener muchos Axes.\n",
        "- **Axis**: Ejes numéricos que muestran los intervalos de valores.\n",
        "- **Label**: Etiquetas para los títulos y los datos en los ejes.\n",
        "- **Legend**: Descripción de los elementos en el gráfico.\n",
        "- **Title**: Título del gráfico.\n",
        "- **Plot**: Los datos visualizados en el gráfico (puede ser líneas, barras, scatter points, etc.)\n",
        "\n",
        "### Ejemplo Básico:\n",
        "\n",
        "```python\n",
        "import matplotlib.pyplot as plt\n",
        "\n",
        "# Datos de ejemplo\n",
        "x = [1, 2, 3, 4, 5]\n",
        "y = [1, 4, 9, 16, 25]\n",
        "\n",
        "# Crear un gráfico\n",
        "plt.plot(x, y)\n",
        "\n",
        "# Añadir títulos y etiquetas\n",
        "plt.title(\"Ejemplo Básico\")\n",
        "plt.xlabel(\"Eje X\")\n",
        "plt.ylabel(\"Eje Y\")\n",
        "\n",
        "# Mostrar el gráfico\n",
        "plt.show()\n",
        "```\n",
        "\n",
        "### Tipos de Gráficos Comunes:\n",
        "\n",
        "- **Line Plot**: `plt.plot()` - Es el método más utilizado en Matplotlib. Se utiliza para crear gráficos de líneas.\n",
        "- **Bar y barh Chart**: `plt.bar()` y `plt.barh()`- Utilizados para crear gráficos de barras verticales y horizontales respectivamente.\n",
        "- **Histogram**: `plt.hist()` - Utilizado para crear histogramas.\n",
        "- **Scatter Plot**: `plt.scatter()` - Utilizado para crear gráficos de dispersión.\n",
        "- **Pie Chart**: `plt.pie()` - Utilizado para crear gráficos circulares.\n",
        "- **Box Plot**: `plt.boxplot()` - Utilizado para crear gráficos de caja y bigotes.\n",
        "\n",
        "### Personalización:\n",
        "Matplotlib permite personalizar colores, estilos de línea, marcadores, tamaños, etiquetas y muchos otros elementos de los gráficos.\n",
        "- **Title**: `plt.title()` - Utilizados para agregar un título al gráfico y etiquetas a los ejes x y y respectivamente.\n",
        "- **Label de x**: `plt.xlabel()` - Utilizados para agregar etiquetas a los ejes x en el gráfico.\n",
        "- **Label de y**: `plt.ylabel()` - Utilizados para agregar etiquetas a los ejes y en el gráfico.\n",
        "- **xticks**: `plt.xticks (np.arange(0, 5.5, 0.5))`\n",
        "- **yticks**: `plt.yticks (np.arange(0, 50, 5))`\n",
        "- **Grid**: `plt.grid()` # activar las cuadrículas - Utilizado para agregar una cuadrícula al gráfico.\n",
        "- **Minorticks**: `plt.minorticks_on()` # Activar marcas menores en el Eje X y Eje Y\n",
        "- **Legenda**: `plt.legend()` - Utilizado para agregar una leyenda al gráfico.\n",
        "- **Guardar Gráficos**: Usa `plt.savefig('nombre_del_archivo.png')` para guardar tus gráficos como imágenes. Debe estar antes del `plt.show()`\n",
        "- **Mostrar gráfico**: `plt.show()` - Utilizado para mostrar el gráfico actual en una ventana.\n",
        "- **Mostra varios gráficos**: `plt.subplot()` y `plt.subplots()` - Para crear múltiples gráficos en una única figura, lo cual es útil para comparar diferentes visualizaciones de datos lado a ladoUtilizados para agregar subgráficos a la figura actual.\n",
        "\n",
        "### Otras personalizaciones:\n",
        "Estas personalizaciones se realizarán dentro de los paréntesis. Por ejemplo, `plt.plot(x, y, color='red')`\n",
        "\n",
        "- **Color**: `color='color'` para cambiar las lineas en distintos colores al default\n",
        "- **Marker**: `marker='tipo de marca'`\n",
        "- **Linestyle**: `linestyle='tipo de linea'`\n",
        "\n",
        "\n"
      ]
    },
    {
      "cell_type": "markdown",
      "metadata": {
        "id": "ZR4hHpZ2PU_e"
      },
      "source": [
        "## Creación de Gráficas de Líneas (plot)"
      ]
    },
    {
      "cell_type": "markdown",
      "source": [
        "### `plt.plot()` = es un como un lienzo vacío para pintar los gráficos con los datos.\n",
        "### `plt.show()` = muestra los datos graficados"
      ],
      "metadata": {
        "id": "lrc4ruHkHb0O"
      }
    },
    {
      "cell_type": "code",
      "source": [
        "#plt.pie(y) # Grafica de pie\n",
        "#plt.bar(x, z) # Graficas de barras\n",
        "\n",
        "## EJEMPLO 1\n",
        "import matplotlib.pyplot as plt\n",
        "import numpy as np\n",
        "\n",
        "# Datos de ejemplo\n",
        "x = [1, 2, 3, 4, 5]\n",
        "y = [1, 4, 9, 16, 25]\n",
        "\n",
        "# Crear un gráfico\n",
        "plt.plot(x, y) #, label=\"y\", color = 'Red', marker='o')\n",
        "#plt.plot(x, z) #, label=\"z\", color = 'Red', marker='o')\n",
        "\n",
        "# Mostrar el gráfico\n",
        "plt.show()\n",
        "\n",
        "# Activar leyendas\n",
        "#plt.legend()\n",
        "\n",
        "# Añadir títulos y etiquetas\n",
        "#plt.title(\"Ejemplo Básico\")\n",
        "#plt.xlabel(\"Eje X\")\n",
        "#plt.ylabel(\"Eje Y\")\n",
        "\n",
        "# Activar marcas menores en ambos ejes\n",
        "#plt.minorticks_on()\n",
        "\n",
        "# Activar cuadriculas\n",
        "#plt.grid()\n",
        "\n",
        "# Activar marcas mayores por ejes separados\n",
        "#plt.yticks (np.arange(0, 50, 5))\n",
        "#plt.xticks (np.arange(0, 5.5, 0.5))\n",
        "\n",
        "# Guardar el gráfico y debe estar antes de plt.show()\n",
        "#plt.savefig('mi_grafico.png')\n"
      ],
      "metadata": {
        "id": "7_pd8KX4G3qV"
      },
      "execution_count": null,
      "outputs": []
    },
    {
      "cell_type": "code",
      "execution_count": null,
      "metadata": {
        "tags": [],
        "id": "_e1p7INhPU_g"
      },
      "outputs": [],
      "source": [
        "## EJERCICIO PARA EL SALÓN # 1\n",
        "import matplotlib.pyplot as plt\n",
        "\n",
        "eje_x = [\"a\",\"b\",\"c\",\"d\",\"e\"]\n",
        "datos1 = [10, 20, 30, 40, 50]   ## DataFrame, Series, etc.\n",
        "\n"
      ]
    },
    {
      "cell_type": "markdown",
      "metadata": {
        "id": "pJP4WwXMPU_g"
      },
      "source": [
        "### Examen de Certificación de Equivalencia para Estudiantes de 4 niveles (noveno a duodecimo grado) y tenemos datos de estudiantes que ya lo han tomando desde 2011 al 2020\n",
        "\n",
        "### GENERAR DATOS ALEATORIOS con: np.random.rand()\n",
        "#### `nivel1 = np.random.rand(10)*100`\n",
        "#### `nivel2 = np.random.rand(10)*200 + 100`\n",
        "#### `nivel3 = np.random.rand(10)*300 + 200`\n",
        "#### `nivel4 = np.random.rand(10)*400 + 300`\n"
      ]
    },
    {
      "cell_type": "code",
      "execution_count": null,
      "metadata": {
        "id": "Sb01KjFzPU_h"
      },
      "outputs": [],
      "source": [
        "## Es necesario instalar la librería numpy, para generar las puntuaciones de los estudiantes\n",
        "\n",
        "import numpy as np\n",
        "\n",
        "años = [\"2011\", \"2012\", \"2013\", \"2014\", \"2015\",\n",
        "        \"2016\", \"2017\", \"2018\", \"2019\", \"2020\"]\n",
        "\n",
        "np.random.rand() # Librería numpy que genera números aleatorios"
      ]
    },
    {
      "cell_type": "markdown",
      "metadata": {
        "id": "f1ku8apKPU_h"
      },
      "source": [
        "## Personalización de Gráficas"
      ]
    },
    {
      "cell_type": "code",
      "execution_count": null,
      "metadata": {
        "id": "YezppP3qPU_h"
      },
      "outputs": [],
      "source": [
        "# Introducir series de datos con color, marcador, etiqueta y estilo\n",
        "\n",
        "plt.plot(años, nivel1) #, label=\"Nivel 1\", color=\"purple\", marker=\"<\", linestyle=\"-\")\n",
        "plt.plot(años, nivel2) #, label=\"Nivel 2\", color=\"red\", marker=\"*\", linestyle=\"--\")\n",
        "plt.plot(años, nivel3) #, label=\"Nivel 3\", color=\"blue\", marker=\"^\", linestyle=\":\")\n",
        "plt.plot(años, nivel4) #, label=\"Nivel 4\", color=\"black\", marker=\".\", linestyle=\"-.\")\n",
        "\n",
        "\n",
        "# Activar leyendas\n",
        "# plt.legend() para activar las leyendas en conjuto con label\n",
        "\n",
        "# Título de Gráfica\n",
        "#plt.title(\"Examen de Certificación\")\n",
        "\n",
        "# Etiquetas de los ejes\n",
        "#plt.xlabel(\"Años que se ha realizado el examen\")\n",
        "#plt.ylabel(\"Puntaje\")\n",
        "\n",
        "# Personalizar Eje de Puntaje de 0 a 1000 en incrementos de 50\n",
        "#plt.yticks(np.arange(0, 1001, 50))\n",
        "\n",
        "# Activar cuadrícula\n",
        "#plt.grid()\n",
        "\n",
        "# Activar marcas menores\n",
        "#plt.minorticks_on()\n",
        "\n",
        "plt.show()"
      ]
    },
    {
      "cell_type": "markdown",
      "metadata": {
        "id": "_LfYvOPoPU_h"
      },
      "source": [
        "## Gráfica de Barras Verticales (bar)"
      ]
    },
    {
      "cell_type": "code",
      "execution_count": null,
      "metadata": {
        "id": "diRPnH5SPU_h"
      },
      "outputs": [],
      "source": [
        "eje_x = np.arange(0, 10)\n",
        "\n",
        "plt.bar(eje_x, nivel4) #, width=1/4)\n",
        "plt.bar(eje_x, nivel3) # +0.2, nivel4) #, width=1/4)\n",
        "plt.bar(eje_x, nivel2) # +0.4, nivel3) #, width=1/4)\n",
        "plt.bar(eje_x, nivel1) #+0.6) #, nivel2, width=1/4)\n",
        "\n",
        "plt.show()"
      ]
    },
    {
      "cell_type": "markdown",
      "metadata": {
        "id": "DS5__CR9PU_i"
      },
      "source": [
        "## Gráfica de Barras Horizontales (barh)"
      ]
    },
    {
      "cell_type": "code",
      "execution_count": null,
      "metadata": {
        "id": "x8Nc-nLDPU_i"
      },
      "outputs": [],
      "source": [
        "plt.barh(eje_x+0.6, nivel4, height = 1/4)\n",
        "plt.barh(eje_x+0.4, nivel3, height = 1/4)\n",
        "plt.barh(eje_x+0.2, nivel2, height = 1/4)\n",
        "plt.barh(eje_x,     nivel1, height = 1/4)\n",
        "\n",
        "plt.show()"
      ]
    },
    {
      "cell_type": "markdown",
      "metadata": {
        "id": "a1DIa8GVPU_i"
      },
      "source": [
        "## Gráfica de Barras Verticales Apiladas"
      ]
    },
    {
      "cell_type": "code",
      "execution_count": null,
      "metadata": {
        "id": "uKXuDxxgPU_i"
      },
      "outputs": [],
      "source": [
        "plt.bar(eje_x, nivel4)\n",
        "plt.bar(eje_x, nivel3) #, bottom=nivel4)\n",
        "plt.bar(eje_x, nivel2) #, bottom=nivel3+nivel4)\n",
        "plt.bar(eje_x, nivel1) #, bottom=nivel2+nivel3+nivel4)\n",
        "\n",
        "plt.show()"
      ]
    },
    {
      "cell_type": "markdown",
      "metadata": {
        "id": "plQBauiNPU_i"
      },
      "source": [
        "## Gráfica de Dispersión (scatter)"
      ]
    },
    {
      "cell_type": "code",
      "execution_count": null,
      "metadata": {
        "id": "jgLuE15uPU_i"
      },
      "outputs": [],
      "source": [
        "plt.scatter(eje_x, nivel1) #, marker=\"*\")\n",
        "plt.scatter(eje_x, nivel2)\n",
        "plt.scatter(eje_x, nivel3)\n",
        "plt.scatter(eje_x, nivel4)\n",
        "\n",
        "plt.show()"
      ]
    },
    {
      "cell_type": "markdown",
      "metadata": {
        "id": "hjcuCbIIPU_i"
      },
      "source": [
        "## Gráfica de Pie"
      ]
    },
    {
      "cell_type": "code",
      "execution_count": null,
      "metadata": {
        "id": "Yt-ZGlyQPU_j"
      },
      "outputs": [],
      "source": [
        "plt.pie(nivel1,\n",
        "        labels=[\"México\",\"Colombia\", \"España\", \"Estados Unidos\", \"Ecuador\",\n",
        "                \"Argentina\", \"Venezuela\", \"Puerto Rico\", \"Honduras\", \"Uruguay\"])\n",
        "\n",
        "plt.show()"
      ]
    },
    {
      "cell_type": "markdown",
      "metadata": {
        "id": "ymYh6LFkPU_j"
      },
      "source": [
        "## Combinar Gráficas"
      ]
    },
    {
      "cell_type": "code",
      "execution_count": null,
      "metadata": {
        "id": "vMUmgjhzPU_j"
      },
      "outputs": [],
      "source": [
        "plt.bar(eje_x,     nivel1,  width = 1/4)\n",
        "plt.bar(eje_x+0.2, nivel2,  width = 1/4)\n",
        "\n",
        "plt.plot(años, nivel3)\n",
        "\n",
        "plt.scatter(eje_x, nivel4)\n",
        "\n",
        "plt.show()"
      ]
    },
    {
      "cell_type": "markdown",
      "source": [
        "El método `subplots()` en Matplotlib se utiliza para crear una figura y un conjunto de ejes de subgráfico. Esto permite organizar múltiples gráficos en una cuadrícula dentro de una sola figura.\n",
        "\n",
        "1. **Sintaxis Básica**:\n",
        "```python\n",
        "import matplotlib.pyplot as plt\n",
        "\n",
        "fig, axs = plt.subplots(nrows=2, ncols=2)  # Crea una cuadrícula de 2x2 de subgráficos\n",
        "\n",
        "# axs es una matriz de ejes que puedes usar para dibujar gráficos en las ubicaciones específicas\n",
        "axs[0, 0].plot([1, 2, 3, 4])  # Dibuja en la primera ubicación\n",
        "axs[0, 1].plot([4, 3, 2, 1])  # Dibuja en la segunda ubicación\n",
        "axs[1, 0].plot([1, 4, 1, 4])  # Dibuja en la tercera ubicación\n",
        "axs[1, 1].plot([4, 1, 4, 1])  # Dibuja en la cuarta ubicación\n",
        "\n",
        "plt.show()  # Muestra la figura con los subgráficos\n",
        "```\n",
        "\n",
        "2. **Personalización**:\n",
        "Puedes personalizar los subgráficos utilizando varios argumentos en `subplots()`, como `figsize` para especificar el tamaño de la figura, y `sharex` y `sharey` para especificar si los subgráficos deben compartir los ejes x y/o y.\n",
        "\n",
        "```python\n",
        "fig, axs = plt.subplots(2, 2, figsize=(10, 10), sharex=True, sharey=True)\n",
        "```\n",
        "\n",
        "3. **Títulos y Etiquetas**:\n",
        "Puedes agregar títulos, etiquetas y otros elementos a cada subgráfico individualmente.\n",
        "\n",
        "```python\n",
        "fig, axs = plt.subplots(2, 2)\n",
        "axs[0, 0].set_title('Subgráfico Superior Izquierdo')\n",
        "axs[0, 0].set_xlabel('Eje X')\n",
        "axs[0, 0].set_ylabel('Eje Y')\n",
        "plt.show()\n",
        "```\n",
        "\n",
        "5. **Espaciado**:\n",
        "Puedes ajustar el espaciado entre subgráficos usando `plt.tight_layout()` o `fig.subplots_adjust()`.\n",
        "\n",
        "```python\n",
        "plt.tight_layout() # Ajustar el espacio a lo más junto\n",
        "# o\n",
        "fig.subplots_adjust(hspace=0.5, wspace=0.5)  # Ajusta el espacio horizontal y vertical entre subgráficos\n",
        "```\n",
        "\n",
        "Estas son algunas de las formas en que puedes usar `subplots()` en Matplotlib para crear y organizar múltiples gráficos en una sola figura."
      ],
      "metadata": {
        "id": "DUmd-Gi1WDDM"
      }
    },
    {
      "cell_type": "code",
      "source": [
        "import matplotlib.pyplot as plt\n",
        "\n",
        "fig, axs = plt.subplots(nrows=2, ncols=2) #, figsize=(10, 10)) #, sharex=True, sharey=True)  # Crea una cuadrícula de 2x2 de subgráficos\n",
        "\n",
        "# axs es una matriz de ejes que puedes usar para dibujar gráficos en las ubicaciones específicas\n",
        "axs[0, 0].plot([1, 2, 3, 4])  # Dibuja en la primera ubicación\n",
        "#axs[0, 0].set_title('Subgráfico Superior Izquierdo')\n",
        "#axs[0, 0].grid(True)\n",
        "#axs[0, 0].minorticks_on()\n",
        "#axs[0, 0].set_xlabel('Eje X')\n",
        "#axs[0, 0].set_ylabel('Eje Y')\n",
        "#axs[0, 1].plot([4, 3, 2, 1])  # Dibuja en la segunda ubicación\n",
        "#axs[0, 1].set_title('Subgráfico Superior Derecho')\n",
        "#axs[0, 1].set_xlabel('Eje X')\n",
        "#axs[0, 1].set_ylabel('Eje Y')\n",
        "#axs[1, 0].plot([1, 4, 1, 4])  # Dibuja en la tercera ubicación\n",
        "#axs[1, 0].set_title('Subgráfico Inferior Izquierdo')\n",
        "#axs[1, 0].set_xlabel('Eje X')\n",
        "#axs[1, 0].set_ylabel('Eje Y')\n",
        "#axs[1, 1].plot([4, 1, 4, 1])  # Dibuja en la cuarta ubicación\n",
        "#axs[1, 1].set_title('Subgráfico Inferior Derecho')\n",
        "#axs[1, 1].set_xlabel('Eje X')\n",
        "#axs[1, 1].set_ylabel('Eje Y')\n",
        "\n",
        "#plt.savefig('mi_grafico2.png')\n",
        "plt.show()  # Muestra la figura con los subgráficos"
      ],
      "metadata": {
        "colab": {
          "base_uri": "https://localhost:8080/",
          "height": 435
        },
        "id": "QGntzSLpVvNp",
        "outputId": "fb72b399-ee94-4478-e49e-8a61208cd25e"
      },
      "execution_count": 132,
      "outputs": [
        {
          "output_type": "display_data",
          "data": {
            "text/plain": [
              "<Figure size 640x480 with 4 Axes>"
            ],
            "image/png": "[encoded data removed]"
          },
          "metadata": {}
        }
      ]
    },
    {
      "cell_type": "markdown",
      "source": [
        "## Crear un gráfico de calor\n",
        "\n",
        "La función `matshow()` y otras similares como `imshow()` en Matplotlib sirven para visualizar datos matriciales o arreglos bidimensionales de manera gráfica. Estas funciones son muy útiles en diversos contextos dentro del análisis de datos y la ciencia de datos, entre otros.\n",
        "\n",
        "Este tipo de visualizaciones facilitan la interpretación y el análisis de los datos, permitiendo a los científicos de datos extraer comprensión, identificar patrones y comunicar sus hallazgos de manera efectiva. También pueden ayudar a diagnosticar problemas en los modelos y en los datos, lo que puede ser crucial para mejorar el desempeño de los modelos de aprendizaje automático.\n",
        "\n",
        "Sus usos comunes son:\n",
        "\n",
        "1. **Visualización de Matrices de Confusión**: - Una matriz de confusión es una tabla que se utiliza para evaluar el desempeño de un modelo de clasificación. `matshow()` puede ayudar a visualizar esta matriz de una manera más intuitiva al colorear las celdas de acuerdo con sus valores.\n",
        "\n",
        "2. **Visualización de Mapas de Calor (Heatmaps)**: - Un mapa de calor es una representación gráfica de datos donde los valores individuales contenidos en una matriz son representados como colores. Es útil para entender la distribución y la concentración de los valores en la matriz.\n",
        "\n",
        "3. **Visualización de Datos Espaciales o Geoespaciales**: - Los datos que tienen una estructura espacial o geoespacial, como los datos de elevación o temperatura en una región geográfica, pueden visualizarse como imágenes o mapas de calor.\n",
        "\n",
        "4. **Análisis Exploratorio de Datos**: - En el análisis exploratorio de datos, es útil visualizar las relaciones entre diferentes variables o características. Los mapas de calor pueden ayudar a identificar patrones, correlaciones o agrupaciones en los datos.\n",
        "\n",
        "5. **Visualización de Matrices de Correlación y Covarianza**: - Las matrices de covarianza o correlación que describen las relaciones entre variables en un conjunto de datos pueden visualizarse de manera efectiva como mapas de calor.\n",
        "\n",
        "7. **Inspección Visual de Datos Matriciales**: - En ocasiones, los datos matriciales pueden contener patrones o estructuras que son más fácilmente identificables visualmente.\n"
      ],
      "metadata": {
        "id": "6YYDNy9ZJHuP"
      }
    },
    {
      "cell_type": "markdown",
      "source": [
        "### Supongamos que tenemos datos de temperatura o cantidad de robos para todos los meses del año en una ciudad."
      ],
      "metadata": {
        "id": "_to7ZCCLojHh"
      }
    },
    {
      "cell_type": "code",
      "source": [
        "import matplotlib.pyplot as plt\n",
        "import numpy as np\n",
        "\n",
        "# Crear una matriz de datos\n",
        "matrix = np.array([[7, 12, 35, 4],\n",
        "                   [55, 6, 57, 8],\n",
        "                   [9, 11, 21, 20]])\n",
        "\n",
        "# Crear una figura\n",
        "plt.figure()\n",
        "\n",
        "# Mostrar la matriz como una imagen\n",
        "plt.matshow(matrix, cmap='viridis')  # 'viridis' es un mapa de colores\n",
        "\n",
        "# Agregar una barra de colores\n",
        "plt.colorbar()\n",
        "\n",
        "# Mostrar título\n",
        "plt.title('Cantidad de Robos por mes en una Ciudad X en el 2022')\n",
        "\n",
        "# Opcional: agregar etiquetas a los ejes\n",
        "plt.xlabel('Eje X')\n",
        "plt.ylabel('Eje Y')\n",
        "\n",
        "# Mostrar la figura\n",
        "plt.show()\n"
      ],
      "metadata": {
        "colab": {
          "base_uri": "https://localhost:8080/",
          "height": 434
        },
        "id": "5RIXDnFNgbur",
        "outputId": "537d153f-ee01-465c-d989-dea6c8a3dbbd"
      },
      "execution_count": 37,
      "outputs": [
        {
          "output_type": "display_data",
          "data": {
            "text/plain": [
              "<Figure size 640x480 with 0 Axes>"
            ]
          },
          "metadata": {}
        },
        {
          "output_type": "display_data",
          "data": {
            "text/plain": [
              "<Figure size 640x480 with 2 Axes>"
            ],
            "image/png": "[encoded data removed]"
          },
          "metadata": {}
        }
      ]
    },
    {
      "cell_type": "code",
      "source": [
        "# GRAFICOS CON DATOS GENERADOS ALEATORIAMENTE\n",
        "\n",
        "import matplotlib.pyplot as plt\n",
        "import numpy as np\n",
        "\n",
        "# Crear una matriz de datos\n",
        "# Definir las dimensiones de la matriz\n",
        "filas = 3\n",
        "columnas = 4\n",
        "\n",
        "# Definir el rango de los valores aleatorios\n",
        "min_val = 0  # Valor mínimo\n",
        "max_val = 100  # Valor máximo\n",
        "\n",
        "# Generar datos aleatorios\n",
        "matrix_random = np.random.randint(min_val, max_val, size=(filas, columnas))\n",
        "\n",
        "# Crear una figura\n",
        "plt.figure()\n",
        "\n",
        "# Mostrar la matriz como una imagen\n",
        "plt.matshow(matrix_random, cmap='viridis')  # 'viridis' es un mapa de colores\n",
        "\n",
        "# Agregar una barra de colores\n",
        "plt.colorbar()\n",
        "\n",
        "# Mostrar título\n",
        "plt.title('Cantidad de Robos por mes en una Ciudad X en el 2022')\n",
        "\n",
        "# Opcional: agregar etiquetas a los ejes\n",
        "plt.xlabel('Eje X')\n",
        "plt.ylabel('Eje Y')\n",
        "\n",
        "# Mostrar la figura\n",
        "plt.show()"
      ],
      "metadata": {
        "colab": {
          "base_uri": "https://localhost:8080/",
          "height": 434
        },
        "id": "PdzhwY4_SB-L",
        "outputId": "8f32b508-90a4-482b-dadb-65902d37c801"
      },
      "execution_count": 38,
      "outputs": [
        {
          "output_type": "display_data",
          "data": {
            "text/plain": [
              "<Figure size 640x480 with 0 Axes>"
            ]
          },
          "metadata": {}
        },
        {
          "output_type": "display_data",
          "data": {
            "text/plain": [
              "<Figure size 640x480 with 2 Axes>"
            ],
            "image/png": "[encoded data removed]"
          },
          "metadata": {}
        }
      ]
    }
  ],
  "metadata": {
    "kernelspec": {
      "display_name": "Python 3 (ipykernel)",
      "language": "python",
      "name": "python3"
    },
    "language_info": {
      "codemirror_mode": {
        "name": "ipython",
        "version": 3
      },
      "file_extension": ".py",
      "mimetype": "text/x-python",
      "name": "python",
      "nbconvert_exporter": "python",
      "pygments_lexer": "ipython3",
      "version": "3.11.5"
    },
    "colab": {
      "provenance": [],
      "include_colab_link": true
    }
  },
  "nbformat": 4,
  "nbformat_minor": 0
}