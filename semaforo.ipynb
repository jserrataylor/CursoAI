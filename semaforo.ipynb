{
  "nbformat": 4,
  "nbformat_minor": 0,
  "metadata": {
    "colab": {
      "provenance": [],
      "mount_file_id": "1ImuprqM_I6FalQeHRmYBh4necaz1jgMV",
      "authorship_tag": "ABX9TyMgKjMZ2oIrRRzOQ+ZGPwmr",
      "include_colab_link": true
    },
    "kernelspec": {
      "name": "python3",
      "display_name": "Python 3"
    },
    "language_info": {
      "name": "python"
    }
  },
  "cells": [
    {
      "cell_type": "markdown",
      "metadata": {
        "id": "view-in-github",
        "colab_type": "text"
      },
      "source": [
        "<a href=\"https://colab.research.google.com/github/jserrataylor/mlflow/blob/main/semaforo.ipynb\" target=\"_parent\"><img src=\"https://colab.research.google.com/assets/colab-badge.svg\" alt=\"Open In Colab\"/></a>"
      ]
    },
    {
      "cell_type": "markdown",
      "source": [
        "## EL SIGUIENTE SCRIPT DESARROLLA UN MODELO PARA PREDECIR EL PATRÓN DE TRAFICO EN UN SEMAFORO POR HORA."
      ],
      "metadata": {
        "id": "sj0uoF2Pi_W5"
      }
    },
    {
      "cell_type": "code",
      "source": [
        "import numpy as np\n",
        "import pandas as pd\n",
        "from keras.models import Sequential\n",
        "from keras.layers import Dense, LSTM\n",
        "from sklearn.preprocessing import MinMaxScaler\n",
        "from sklearn.metrics import mean_squared_error\n",
        "import matplotlib.pyplot as plt\n",
        "\n",
        "# Cargar y procesar los datos\n",
        "data = pd.read_csv(\"traffic_data.csv\")\n",
        "data[\"timestamp\"] = pd.to_datetime(data[\"timestamp\"])\n",
        "data = data.set_index(\"timestamp\")\n",
        "\n",
        "# Preprocesamiento de los datos\n",
        "scaler = MinMaxScaler(feature_range=(0, 1))\n",
        "data_scaled = scaler.fit_transform(data)\n",
        "\n",
        "# Dividir los datos en conjuntos de entrenamiento y prueba\n",
        "train_size = int(len(data_scaled) * 0.8)\n",
        "train, test = data_scaled[0:train_size, :], data_scaled[train_size:len(data_scaled), :]\n",
        "\n",
        "# Función para crear conjuntos de datos de series temporales\n",
        "def create_dataset(dataset, look_back=1):\n",
        "    dataX, dataY = [], []\n",
        "    for i in range(len(dataset) - look_back - 1):\n",
        "        dataX.append(dataset[i:(i + look_back), 0])\n",
        "        dataY.append(dataset[i + look_back, 0])\n",
        "    return np.array(dataX), np.array(dataY)\n",
        "\n",
        "look_back = 3\n",
        "trainX, trainY = create_dataset(train, look_back)\n",
        "testX, testY = create_dataset(test, look_back)\n",
        "\n",
        "trainX = np.reshape(trainX, (trainX.shape[0], 1, trainX.shape[1]))\n",
        "testX = np.reshape(testX, (testX.shape[0], 1, testX.shape[1]))\n",
        "\n",
        "# Crear y entrenar el modelo LSTM\n",
        "model = Sequential()\n",
        "model.add(LSTM(4, input_shape=(1, look_back)))\n",
        "model.add(Dense(1))\n",
        "model.compile(loss=\"mean_squared_error\", optimizer=\"adam\")\n",
        "model.fit(trainX, trainY, epochs=100, batch_size=1, verbose=2)\n",
        "\n",
        "# Realizar predicciones\n",
        "trainPredict = model.predict(trainX)\n",
        "testPredict = model.predict(testX)\n",
        "\n",
        "# Transformar las predicciones de vuelta a la escala original\n",
        "trainPredict = scaler.inverse_transform(trainPredict)\n",
        "trainY = scaler.inverse_transform([trainY])\n",
        "testPredict = scaler.inverse_transform(testPredict)\n",
        "testY = scaler.inverse_transform([testY])\n",
        "\n",
        "# Calcular el error cuadrático medio (MSE)\n",
        "trainScore = mean_squared_error(trainY[0], trainPredict[:, 0])\n",
        "testScore = mean_squared_error(testY[0], testPredict[:, 0])\n",
        "\n",
        "print(f\"Train Score: {trainScore:.2f} MSE\")\n",
        "print(f\"Test Score: {testScore:.2f} MSE\")\n",
        "\n",
        "# Graficar las predicciones\n",
        "plt.plot(data.index[:len(trainPredict)], trainPredict, label=\"Predicciones de entrenamiento\")\n",
        "plt.plot(data.index[len(trainPredict):len(trainPredict) + len(testPredict)], testPredict, label=\"Predicciones de prueba\")\n",
        "plt.plot(data.index, scaler.inverse_transform(data_scaled), label=\"Datos reales\")\n",
        "plt.legend()\n",
        "plt.show()\n",
        "\n",
        "def predict_traffic_at_hour(hour):\n",
        "    if not 0 <= hour <= 23:\n",
        "        raise ValueError(\"La hora debe estar entre 0 y 23\")\n",
        "    \n",
        "    hour_index = data.index[data.index.hour == hour][-1]\n",
        "    hour_index_position = data.index.get_loc(hour_index)\n",
        "\n",
        "    last_values = data_scaled[hour_index_position - look_back + 1:hour_index_position + 1]\n",
        "    last_values = np.reshape(last_values, (1, 1, look_back))\n",
        "    prediction = model.predict(last_values)\n",
        "    prediction = scaler.inverse_transform(prediction)\n",
        "    return prediction[0, 0]"
      ],
      "metadata": {
        "id": "Ci6eFZllWY-P"
      },
      "execution_count": null,
      "outputs": []
    },
    {
      "cell_type": "code",
      "source": [
        "# Ejemplo de uso del modelo para predecir el tráfico y ajustar el tiempo de espera del semáforo\n",
        "input_hour = int(input(\"Ingrese la hora (0-23) para la que desea predecir el tráfico: \"))\n",
        "predicted_traffic = predict_traffic_at_hour(input_hour)\n",
        "print(f\"El tráfico predicho para la hora {input_hour} es: {predicted_traffic:.0f} vehículos\")"
      ],
      "metadata": {
        "colab": {
          "base_uri": "https://localhost:8080/"
        },
        "id": "j2l_cTS7XK1G",
        "outputId": "e32569ac-3345-484b-d49f-da7df38ea129"
      },
      "execution_count": 32,
      "outputs": [
        {
          "output_type": "stream",
          "name": "stdout",
          "text": [
            "Ingrese la hora (0-23) para la que desea predecir el tráfico: 16\n",
            "1/1 [==============================] - 0s 17ms/step\n",
            "El tráfico predicho para la hora 16 es: 53 vehículos\n"
          ]
        }
      ]
    },
    {
      "cell_type": "markdown",
      "source": [
        "## PREDICCIÓN DE TRAFICO POR HORA EN UN SEMAFORO QUE INCLUYE LAS HORA Y LOS MINUTOS, PERO NECESITA DATOS DE ENTRENAMIENTO QUE INCLUYAN MINUTOS."
      ],
      "metadata": {
        "id": "gna7kPy3en7m"
      }
    },
    {
      "cell_type": "code",
      "source": [
        "\n",
        "import numpy as np\n",
        "import pandas as pd\n",
        "from keras.models import Sequential\n",
        "from keras.layers import Dense, LSTM\n",
        "from sklearn.preprocessing import MinMaxScaler\n",
        "from sklearn.metrics import mean_squared_error\n",
        "import matplotlib.pyplot as plt\n",
        "\n",
        "# Cargar y procesar los datos\n",
        "data = pd.read_csv(\"traffic_data.csv\")\n",
        "data[\"timestamp\"] = pd.to_datetime(data[\"timestamp\"])\n",
        "data = data.set_index(\"timestamp\")\n",
        "\n",
        "# Preprocesamiento de los datos\n",
        "scaler = MinMaxScaler(feature_range=(0, 1))\n",
        "data_scaled = scaler.fit_transform(data)\n",
        "\n",
        "# Dividir los datos en conjuntos de entrenamiento y prueba\n",
        "train_size = int(len(data_scaled) * 0.8)\n",
        "train, test = data_scaled[0:train_size, :], data_scaled[train_size:len(data_scaled), :]\n",
        "\n",
        "# Función para crear conjuntos de datos de series temporales\n",
        "def create_dataset(dataset, look_back=1):\n",
        "    dataX, dataY = [], []\n",
        "    for i in range(len(dataset) - look_back - 1):\n",
        "        dataX.append(dataset[i:(i + look_back), 0])\n",
        "        dataY.append(dataset[i + look_back, 0])\n",
        "    return np.array(dataX), np.array(dataY)\n",
        "\n",
        "look_back = 3\n",
        "trainX, trainY = create_dataset(train, look_back)\n",
        "testX, testY = create_dataset(test, look_back)\n",
        "\n",
        "trainX = np.reshape(trainX, (trainX.shape[0], 1, trainX.shape[1]))\n",
        "testX = np.reshape(testX, (testX.shape[0], 1, testX.shape[1]))\n",
        "\n",
        "# Crear y entrenar el modelo LSTM\n",
        "model = Sequential()\n",
        "model.add(LSTM(4, input_shape=(1, look_back)))\n",
        "model.add(Dense(1))\n",
        "model.compile(loss=\"mean_squared_error\", optimizer=\"adam\")\n",
        "model.fit(trainX, trainY, epochs=100, batch_size=1, verbose=2)\n",
        "\n",
        "# Realizar predicciones\n",
        "trainPredict = model.predict(trainX)\n",
        "testPredict = model.predict(testX)\n",
        "\n",
        "# Transformar las predicciones de vuelta a la escala original\n",
        "trainPredict = scaler.inverse_transform(trainPredict)\n",
        "trainY = scaler.inverse_transform([trainY])\n",
        "testPredict = scaler.inverse_transform(testPredict)\n",
        "testY = scaler.inverse_transform([testY])\n",
        "\n",
        "# Calcular el error cuadrático medio (MSE)\n",
        "trainScore = mean_squared_error(trainY[0], trainPredict[:, 0])\n",
        "testScore = mean_squared_error(testY[0], testPredict[:, 0])\n",
        "\n",
        "print(f\"Train Score: {trainScore:.2f} MSE\")\n",
        "print(f\"Test Score: {testScore:.2f} MSE\")\n",
        "\n",
        "# Graficar las predicciones\n",
        "plt.plot(data.index[:len(trainPredict)], trainPredict, label=\"Predicciones de entrenamiento\")\n",
        "plt.plot(data.index[len(trainPredict):len(trainPredict) + len(testPredict)], testPredict, label=\"Predicciones de prueba\")\n",
        "plt.plot(data.index, scaler.inverse_transform(data_scaled), label=\"Datos reales\")\n",
        "plt.legend()\n",
        "plt.show()\n",
        "\n",
        "def predict_traffic_at_time(hour, minute):\n",
        "    if not 0 <= hour <= 23:\n",
        "        raise ValueError(\"La hora debe estar entre 0 y 23\")\n",
        "    if not 0 <= minute <= 59:\n",
        "        raise ValueError(\"Los minutos deben estar entre 0 y 59\")\n",
        "    \n",
        "    minute_index = data.index[(data.index.hour == hour) & (data.index.minute == minute)][-1]\n",
        "    minute_index_position = data.index.get_loc(minute_index)\n",
        "\n",
        "    last_values = data_scaled[minute_index_position - look_back + 1:minute_index_position + 1]\n",
        "    last_values = np.reshape(last_values, (1, 1, look_back))\n",
        "    prediction = model.predict(last_values)\n",
        "    prediction = scaler.inverse_transform(prediction)\n",
        "    return prediction[0, 0]\n",
        "\n",
        "# Ejemplo de uso del modelo para predecir el tráfico y ajustar el tiempo de espera del semáforo\n",
        "input_time = input(\"Ingrese la hora y los minutos en formato hh:mm para predecir el tráfico: \")\n",
        "input_hour, input_minute = map(int, input_time.split(':'))\n",
        "\n",
        "predicted_traffic = predict_traffic_at_time(input_hour, input_minute)\n",
        "print(f\"El tráfico predicho para las {input_hour}:{input_minute:02d} es: {predicted_traffic:.0f} vehículos\")\n",
        "\n",
        "# Aquí puedes ajustar el tiempo de espera del semáforo según la predicción del modelo\n"
      ],
      "metadata": {
        "id": "CzIubzD7csGE"
      },
      "execution_count": null,
      "outputs": []
    }
  ]
}