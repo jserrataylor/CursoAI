{
  "cells": [
    {
      "cell_type": "markdown",
      "metadata": {
        "id": "view-in-github",
        "colab_type": "text"
      },
      "source": [
        "<a href=\"https://colab.research.google.com/github/jserrataylor/cursoAI/blob/main/dataframes_pandas.ipynb\" target=\"_parent\"><img src=\"https://colab.research.google.com/assets/colab-badge.svg\" alt=\"Open In Colab\"/></a>"
      ]
    },
    {
      "cell_type": "markdown",
      "id": "a89aba60-03d9-4d22-bc20-1dfd381e8ecc",
      "metadata": {
        "id": "a89aba60-03d9-4d22-bc20-1dfd381e8ecc"
      },
      "source": [
        "## Creación y Manipulación de DataFrames"
      ]
    },
    {
      "cell_type": "markdown",
      "id": "46d6e2f5-5093-445a-b271-cce737091a4c",
      "metadata": {
        "id": "46d6e2f5-5093-445a-b271-cce737091a4c"
      },
      "source": [
        "## Qué es pandas?\n",
        "\n",
        "`pandas` es una biblioteca de programación en Python que proporciona estructuras de datos y herramientas de análisis de datos de alto rendimiento y fáciles de usar. Es una de las bibliotecas más populares y ampliamente utilizadas para la manipulación y análisis de datos en Python.\n",
        "\n",
        "## Qué es una DataFrame?\n",
        "\n",
        "Un `DataFrame` es una de las principales estructuras de datos en `pandas`. Se puede pensar en un `DataFrame` como una tabla bidimensional (similar a una hoja de cálculo de Excel o una tabla SQL) que puede almacenar datos de diferentes tipos, como números, cadenas y objetos. Un `DataFrame` tiene dos dimensiones: filas y columnas. Cada columna en un `DataFrame` puede considerarse como una `Series`, que es otra estructura de datos principal en `pandas`."
      ]
    },
    {
      "cell_type": "markdown",
      "id": "0c4ab449-48ed-4b0d-a77f-ed2b595e62bf",
      "metadata": {
        "id": "0c4ab449-48ed-4b0d-a77f-ed2b595e62bf"
      },
      "source": [
        "### Características clave de un `DataFrame`\n",
        "\n",
        "1. **Etiquetas de Eje**: Tanto las filas como las columnas pueden tener etiquetas.\n",
        "2. **Diferentes tipos de datos**: Cada columna puede tener un tipo de dato diferente.\n",
        "3. **Tamaño mutable**: Se pueden cambiar las dimensiones (agregar o eliminar filas/columnas).\n",
        "4. **Operaciones de datos**: Puede realizar muchas operaciones, como agregar y eliminar columnas, llenar valores faltantes, filtrar por condiciones y agrupar por variables.\n",
        "\n",
        "Un ejemplo simple de un `DataFrame` podría ser una tabla que contiene información sobre estudiantes, donde las filas representan a cada estudiante y las columnas contienen información como nombre, edad y calificación."
      ]
    },
    {
      "cell_type": "markdown",
      "id": "5b220242-8459-4a94-8748-86e6bffd073b",
      "metadata": {
        "tags": [],
        "id": "5b220242-8459-4a94-8748-86e6bffd073b"
      },
      "source": [
        "## Características clave de una `Series`\n",
        "\n",
        "Una `Series` en `pandas` es una estructura de datos unidimensional que puede almacenar datos de cualquier tipo (enteros, cadenas, números flotantes, objetos Python, etc.). Es similar a una columna (o vector) en una hoja de cálculo o base de datos.\n",
        "\n",
        "1. **Etiquetas de Eje**: Cada elemento en una `Series` tiene una etiqueta asociada, que comúnmente se conoce como índice. Por defecto, este índice es una secuencia numérica que comienza desde 0, pero puede ser modificado para tener etiquetas personalizadas o incluso índices jerárquicos.\n",
        "2. **Tipo de dato único**: A diferencia de un `DataFrame`, una `Series` solo puede contener un tipo de dato en particular.\n",
        "3. **Operaciones vectorizadas**: Al igual que los arrays en NumPy, las operaciones en una `Series` son vectorizadas, lo que significa que se aplican elemento por elemento, permitiendo operaciones rápidas sin necesidad de bucles explícitos. Un vector se refiere a un array [Lista] unidimencional de datos.\n",
        "\n",
        "Otra librería en python conocida con Numpy\n",
        "```python\n",
        "import numpy as np\n",
        "\n",
        "# Crear dos arrays\n",
        "a = np.array([1, 2, 3, 4])\n",
        "b = np.array([5, 6, 7, 8])\n",
        "\n",
        "# Suma vectorizada\n",
        "c = a + b\n",
        "print(c)  # Output: [6 8 10 12]\n",
        "```\n",
        "\n",
        "Un ejemplo simple de una `Series` podría ser una lista de calificaciones de estudiantes. Si bien los valores representan las calificaciones, los índices podrían representar los nombres de los estudiantes index=[\"Juan\", \"Ana\", \"Luis\", \"Marta\"]. Sin embargo, el índice podrían ser números secuenciales si no se modifican index=[0, 1, 2, 3]."
      ]
    },
    {
      "cell_type": "markdown",
      "id": "3ced07ec-50e3-47e3-a6b6-c20a6c87e8b2",
      "metadata": {
        "tags": [],
        "id": "3ced07ec-50e3-47e3-a6b6-c20a6c87e8b2"
      },
      "source": [
        "### Creación de una Series"
      ]
    },
    {
      "cell_type": "code",
      "execution_count": null,
      "id": "c9b4fa8f-ee2a-4afa-b8e5-d4589e39ff4c",
      "metadata": {
        "tags": [],
        "id": "c9b4fa8f-ee2a-4afa-b8e5-d4589e39ff4c",
        "outputId": "97f2446f-44dd-4a6b-d9cf-2a25d51ad0e0"
      },
      "outputs": [
        {
          "name": "stdout",
          "output_type": "stream",
          "text": [
            "Juan     90\n",
            "Ana      85\n",
            "Luis     78\n",
            "Marta    92\n",
            "dtype: int64\n",
            "0    90\n",
            "1    85\n",
            "2    78\n",
            "3    92\n",
            "dtype: int64\n"
          ]
        }
      ],
      "source": [
        "## Creación de una Series\n",
        "import pandas as pd\n",
        "\n",
        "# Con indice declarado\n",
        "s = pd.Series([90, 85, 78, 92], index=[\"Juan\", \"Ana\", \"Luis\", \"Marta\"])\n",
        "print(s)\n",
        "\n",
        "# Sin indice declarado\n",
        "s = pd.Series([90, 85, 78, 92]) #, index=[\"Juan\", \"Ana\", \"Luis\", \"Marta\"])\n",
        "print(s)"
      ]
    },
    {
      "cell_type": "markdown",
      "id": "622a3230-b690-4078-93a8-433e7565ec50",
      "metadata": {
        "id": "622a3230-b690-4078-93a8-433e7565ec50"
      },
      "source": [
        "### Creación de un DataFrame\n",
        "\n",
        "Crear un `DataFrame` en `pandas` es sencillo y hay varias formas de hacerlo, dependiendo de la fuente de datos y la estructura que tengas.\n",
        "\n",
        "Formas más comunes de crear un `DataFrame`\n",
        "\n",
        "Recordar importar pandas y asignarle un apodo (pd) utilizando la siguiente linea de codigo:\n",
        "```python\n",
        "import pandas as pd\n",
        "```"
      ]
    },
    {
      "cell_type": "code",
      "execution_count": null,
      "id": "feb0f69c-fa28-41fe-bf6d-7ef7b40d39f7",
      "metadata": {
        "tags": [],
        "id": "feb0f69c-fa28-41fe-bf6d-7ef7b40d39f7",
        "outputId": "e9e6f69f-b8ef-4d21-db2b-94e8bd9209c8"
      },
      "outputs": [
        {
          "name": "stdout",
          "output_type": "stream",
          "text": [
            "  Nombres  Edades     Ciudad\n",
            "0    Juan      25     Madrid\n",
            "1     Ana      30  Barcelona\n",
            "2    Luis      22   Valencia\n",
            "3   Marta      29    Sevilla\n"
          ]
        }
      ],
      "source": [
        "# A partir de un diccionario de listas o arrays:\n",
        "import pandas as pd\n",
        "\n",
        "datos = {\n",
        "    'Nombres': ['Juan', 'Ana', 'Luis', 'Marta'],\n",
        "    'Edades': [25, 30, 22, 29],\n",
        "    'Ciudad': ['Madrid', 'Barcelona', 'Valencia', 'Sevilla']\n",
        "}\n",
        "\n",
        "# Con indice de numero secuenciales\n",
        "df = pd.DataFrame(datos)\n",
        "print(df)\n",
        "\n",
        "# Sin indice numerico\n",
        "# print(df.to_string(index=False))"
      ]
    },
    {
      "cell_type": "code",
      "execution_count": null,
      "id": "5b63c28a-aa85-4623-8dc4-734b573fd6cc",
      "metadata": {
        "tags": [],
        "id": "5b63c28a-aa85-4623-8dc4-734b573fd6cc",
        "outputId": "e18bf3f6-ed4c-4aa1-bdb8-a4dadc11a342"
      },
      "outputs": [
        {
          "name": "stdout",
          "output_type": "stream",
          "text": [
            "  Nombres  Edades     Ciudad\n",
            "0    Juan      25     Madrid\n",
            "1     Ana      30  Barcelona\n",
            "2    Luis      22   Valencia\n",
            "3   Marta      29    Sevilla\n"
          ]
        }
      ],
      "source": [
        "# A partir de una lista de diccionarios:\n",
        "\n",
        "import pandas as pd\n",
        "\n",
        "lista_de_diccionarios = [\n",
        "    {'Nombres': 'Juan', 'Edades': 25, 'Ciudad': 'Madrid'},\n",
        "    {'Nombres': 'Ana', 'Edades': 30, 'Ciudad': 'Barcelona'},\n",
        "    {'Nombres': 'Luis', 'Edades': 22, 'Ciudad': 'Valencia'},\n",
        "    {'Nombres': 'Marta', 'Edades': 29, 'Ciudad': 'Sevilla'}\n",
        "]\n",
        "\n",
        "df = pd.DataFrame(lista_de_diccionarios)\n",
        "print(df)\n"
      ]
    },
    {
      "cell_type": "code",
      "execution_count": null,
      "id": "9b189fc5-caa2-4aaf-bb45-8a6a20544fb3",
      "metadata": {
        "tags": [],
        "id": "9b189fc5-caa2-4aaf-bb45-8a6a20544fb3",
        "outputId": "e5a7c59b-da7e-4ebe-ed05-f6a0edb0f199"
      },
      "outputs": [
        {
          "name": "stdout",
          "output_type": "stream",
          "text": [
            "      Edades     Ciudad\n",
            "Juan      25     Madrid\n",
            "Ana       30  Barcelona\n",
            "Luis      22   Valencia\n",
            "Marta     29    Sevilla\n"
          ]
        }
      ],
      "source": [
        "# A partir de un array de NumPy:\n",
        "import pandas as pd\n",
        "import numpy as np\n",
        "\n",
        "# array\n",
        "datos_array= np.array([[25, 'Madrid'], [30, 'Barcelona'], [22, 'Valencia'], [29, 'Sevilla']])\n",
        "df = pd.DataFrame(datos_array, columns=['Edades', 'Ciudad'], index=['Juan', 'Ana', 'Luis', 'Marta'])\n",
        "print(df)"
      ]
    },
    {
      "cell_type": "code",
      "execution_count": null,
      "id": "d636d446-62a7-460b-b54a-e93ad57f8e13",
      "metadata": {
        "tags": [],
        "id": "d636d446-62a7-460b-b54a-e93ad57f8e13",
        "outputId": "dedf9b43-f564-469c-b074-e111d0839593"
      },
      "outputs": [
        {
          "name": "stdout",
          "output_type": "stream",
          "text": [
            "  Nombres  Edades     Ciudad\n",
            "0    Juan       5     Madrid\n",
            "1     Ana      30  Barcelona\n",
            "2    Luis      22   Valencia\n",
            "3   Marta       9    Sevilla\n",
            "      Nombres  Edades     Ciudad\n",
            "Juan     Juan       5     Madrid\n",
            "Ana       Ana      30  Barcelona\n",
            "Luis     Luis      22   Valencia\n",
            "Marta   Marta       9    Sevilla\n"
          ]
        }
      ],
      "source": [
        "#A partir de un archivo:\n",
        "'''Puedes crear un DataFrame directamente desde un archivo,\n",
        "como un CSV, Excel, SQL, entre otros. Por ejemplo, para leer un archivo CSV.'''\n",
        "\n",
        "import pandas as pd\n",
        "\n",
        "# df = pd.read_csv('ruta_del_archivo.csv')\n",
        "# df = pd.read_csv('/Users/jast/Downloads/Curso_AI/Pandas/train.csv')\n",
        "datos_archivo = pd.read_csv('/Users/jast/Downloads/Curso_AI/Pandas/ejempo_datos.csv')\n",
        "\n",
        "indice = ['Juan', 'Ana', 'Luis', 'Marta']\n",
        "df = pd.DataFrame(datos_archivo)\n",
        "print(df)\n",
        "\n",
        "# Si se desea añadir un indice luego de creado el dataframe se utiliza el siguiente método\n",
        "df.index = ['Juan', 'Ana', 'Luis', 'Marta']\n",
        "print(df)"
      ]
    },
    {
      "cell_type": "code",
      "execution_count": null,
      "id": "bf1e0f94-b68a-4f2e-8b39-d76fd740e864",
      "metadata": {
        "id": "bf1e0f94-b68a-4f2e-8b39-d76fd740e864"
      },
      "outputs": [],
      "source": [
        "## Población mundial en millones"
      ]
    },
    {
      "cell_type": "code",
      "execution_count": null,
      "id": "6f4e3e34-5714-486e-be5c-6498dec137d7",
      "metadata": {
        "tags": [],
        "id": "6f4e3e34-5714-486e-be5c-6498dec137d7"
      },
      "outputs": [],
      "source": [
        "import pandas as pd\n",
        "\n",
        "nombre_paises = [\"China\", \"India\", \"Estados Unidos\", \"Indonesia\", \"Pakistán\",\n",
        "                 \"Brasil\", \"Nigeria\", \"Bangladesh\", \"Rusia\", \"México\"]\n",
        "\n",
        "# encabezado = [\"poblacion\", \"porcentaje\"]\n",
        "\n",
        "datos = [[1439, 18.47],\n",
        "        [1380, 17.70],\n",
        "        [331, 4.25],\n",
        "        [273, 3.51],\n",
        "        [220, 2.83],\n",
        "        [212, 2.73],\n",
        "        [206, 2.64],\n",
        "        [164, 2.11],\n",
        "        [145, 1.87],\n",
        "        [128, 1.65]]\n",
        "\n",
        "# paises = pd.DataFrame(datos, index=nombre_paises, columns=encabezado)\n",
        "paises = pd.DataFrame(datos)\n",
        "# paises\n"
      ]
    },
    {
      "cell_type": "code",
      "execution_count": null,
      "id": "98d54ac9-1c03-4944-ace8-0b1f173afbd7",
      "metadata": {
        "tags": [],
        "id": "98d54ac9-1c03-4944-ace8-0b1f173afbd7"
      },
      "outputs": [],
      "source": [
        "# Datos definidos a través de un diccionario\n",
        "datos = {\"China\": [1439, 18.47],\n",
        "         \"India\": [1380, 17.70],\n",
        "         \"Estados Unidos\": [331, 4.25],\n",
        "         \"Indonesia\": [273, 3.51],\n",
        "         \"Pakistán\": [220, 2.83],\n",
        "         \"Brasil\": [212, 2.73],\n",
        "         \"Nigeria\": [206, 2.64],\n",
        "         \"Bangladesh\": [164, 2.11],\n",
        "         \"Rusia\": [145, 1.87],\n",
        "         \"México\": [128, 1.65]}\n",
        "\n",
        "paises = pd.DataFrame(datos) #, index=encabezado)\n",
        "# paises = paises.T # Transpuesto (cambiar columnas por renglones y vice versa)\n",
        "paises\n"
      ]
    },
    {
      "cell_type": "markdown",
      "id": "5e582aa6-e51a-4b85-9c4e-9e369915b6b1",
      "metadata": {
        "id": "5e582aa6-e51a-4b85-9c4e-9e369915b6b1"
      },
      "source": [
        "### Atributos básicos de  un DataFrame\n",
        "\n",
        "Un `DataFrame` en `pandas` tiene varios atributos que permiten acceder a información específica sobre la estructura y los datos que contiene.\n",
        "\n",
        "Estos atributos son útiles para obtener una idea rápida de la estructura y características de un `DataFrame`, especialmente cuando estás trabajando con un conjunto de datos por primera vez o cuando estás realizando análisis exploratorios.\n",
        "\n",
        "1. **`df.shape`**: Devuelve una tupla que representa la dimensionalidad del `DataFrame` (número de filas, número de columnas).\n",
        "\n",
        "2. **`df.index`**: Devuelve el índice (etiquetas de las filas) del `DataFrame`.\n",
        "\n",
        "3. **`df.columns`**: Devuelve las columnas del `DataFrame` (etiquetas de las columnas).\n",
        "\n",
        "4. **`df.dtypes`**: Devuelve una serie con el tipo de dato de cada columna.\n",
        "\n",
        "5. **`df.values`**: Devuelve una representación en forma de array de NumPy de los datos del `DataFrame`.\n",
        "\n",
        "6. **`df.size`**: Devuelve el número total de elementos en el `DataFrame`.\n",
        "\n",
        "7. **`df.ndim`**: Devuelve el número de dimensiones del `DataFrame`. Para un `DataFrame` típico, este valor es 2.\n",
        "\n",
        "8. **`df.empty`**: Devuelve `True` si el `DataFrame` está vacío (sin elementos) y `False` en caso contrario.\n",
        "\n",
        "9. **`df.info()`**: Proporciona un resumen conciso del `DataFrame`, incluyendo el tipo de dato de cada columna, valores no nulos y memoria utilizada. Aunque `info()` es más bien un método, es comúnmente utilizado para obtener una visión general rápida del `DataFrame`."
      ]
    },
    {
      "cell_type": "code",
      "execution_count": null,
      "id": "1670989f-eeb5-4574-91a5-ff3a64ce5612",
      "metadata": {
        "tags": [],
        "id": "1670989f-eeb5-4574-91a5-ff3a64ce5612"
      },
      "outputs": [],
      "source": [
        "# El dataframe se llama paises\n",
        "# paises.dtypes"
      ]
    },
    {
      "cell_type": "code",
      "execution_count": null,
      "id": "5563c965-64a3-4e59-9983-79202c6e451c",
      "metadata": {
        "tags": [],
        "id": "5563c965-64a3-4e59-9983-79202c6e451c"
      },
      "outputs": [],
      "source": [
        "# paises.values, paises.size"
      ]
    },
    {
      "cell_type": "code",
      "execution_count": null,
      "id": "3074196f-668b-459e-b93c-d93a47fee40e",
      "metadata": {
        "tags": [],
        "id": "3074196f-668b-459e-b93c-d93a47fee40e"
      },
      "outputs": [],
      "source": [
        "# Con los objetos index se puede iterar\n",
        "# paises.index, paises.columns"
      ]
    },
    {
      "cell_type": "markdown",
      "id": "805a6aaa-0cb0-40f9-800a-147950dfcc51",
      "metadata": {
        "id": "805a6aaa-0cb0-40f9-800a-147950dfcc51"
      },
      "source": [
        "### Acceso a los elementos de un DataFrame\n"
      ]
    },
    {
      "cell_type": "markdown",
      "id": "ab7f8d62-818c-424d-90eb-873178660b96",
      "metadata": {
        "id": "ab7f8d62-818c-424d-90eb-873178660b96"
      },
      "source": [
        "En `pandas`, hay varias formas de acceder a los elementos de un `DataFrame`. A continuación, te presento algunas de las más comunes:\n",
        "\n",
        "1. **Acceso a columnas**:\n",
        "   - Usando corchetes y el nombre de la columna:\n",
        "     ```python\n",
        "     df['Nombres']\n",
        "     ```\n",
        "   - Usando el atributo de la columna (si el nombre de la columna es un identificador válido en Python):\n",
        "     ```python\n",
        "     df.Nombres\n",
        "     ```\n",
        "\n",
        "2. **Acceso a filas por etiqueta con `loc`**:\n",
        "   - Una fila específica por etiqueta:\n",
        "     ```python\n",
        "     df.loc[0]\n",
        "     ```\n",
        "   - Varias filas y columnas específicas:\n",
        "     ```python\n",
        "     df.loc[0:2, ['Nombres', 'Edades']]\n",
        "     ```\n",
        "\n",
        "3. **Acceso a filas por posición con `iloc`**:\n",
        "   - Una fila específica por índice numérico:\n",
        "     ```python\n",
        "     df.iloc[0]\n",
        "     ```\n",
        "   - Varias filas y columnas específicas:\n",
        "     ```python\n",
        "     df.iloc[0:2, 0:2]\n",
        "     ```\n",
        "\n",
        "4. **Acceso a elementos individuales**:\n",
        "   - Usando `loc`:\n",
        "     ```python\n",
        "     df.loc[0, 'Nombres']\n",
        "     ```\n",
        "   - Usando `at` (más rápido para acceder a un único elemento):\n",
        "     ```python\n",
        "     df.at[0, 'Nombres']\n",
        "     ```\n",
        "   - Usando `iloc`:\n",
        "     ```python\n",
        "     df.iloc[0, 0]\n",
        "     ```\n",
        "   - Usando `iat` (más rápido para acceder a un único elemento por posición):\n",
        "     ```python\n",
        "     df.iat[0, 0]\n",
        "     ```\n",
        "\n",
        "5. **Acceso condicional**:\n",
        "   Puedes usar condiciones para filtrar filas basadas en ciertos criterios. Por ejemplo, para seleccionar todas las filas donde `Edades` es mayor que 25:\n",
        "   ```python\n",
        "   df[df['Edades'] > 25]\n",
        "   ```\n",
        "\n",
        "6. **Acceso a través de métodos como `head()` y `tail()`**:\n",
        "   - Las primeras `n` filas:\n",
        "     ```python\n",
        "     df.head(n)\n",
        "     ```\n",
        "   - Las últimas `n` filas:\n",
        "     ```python\n",
        "     df.tail(n)\n",
        "     ```\n",
        "\n",
        "Estas son solo algunas de las formas básicas de acceder a los elementos de un `DataFrame`. `pandas` ofrece una amplia variedad de métodos y funcionalidades para manipular y acceder a datos de manera eficiente."
      ]
    },
    {
      "cell_type": "code",
      "execution_count": null,
      "id": "86584f14-61b4-4717-846f-0ce8e69e493c",
      "metadata": {
        "tags": [],
        "id": "86584f14-61b4-4717-846f-0ce8e69e493c"
      },
      "outputs": [],
      "source": [
        "# Acceso específico a la columna o serie de datos\n",
        "# paises.poblacion"
      ]
    },
    {
      "cell_type": "code",
      "execution_count": null,
      "id": "d5354874-2bb0-4318-a53c-c6886e662f90",
      "metadata": {
        "tags": [],
        "id": "d5354874-2bb0-4318-a53c-c6886e662f90"
      },
      "outputs": [],
      "source": [
        "# paises[\"poblacion\"], paises[[\"poblacion\", \"porcentaje\"]]"
      ]
    },
    {
      "cell_type": "code",
      "execution_count": null,
      "id": "666ac19c-98fa-4b37-bf35-0f55a2766970",
      "metadata": {
        "id": "666ac19c-98fa-4b37-bf35-0f55a2766970"
      },
      "outputs": [],
      "source": [
        "# paises[\"poblacion\"][0], paises.poblacion[0],paises[\"poblacion\"][0:3]"
      ]
    },
    {
      "cell_type": "code",
      "execution_count": null,
      "id": "a37aa317-6818-40b4-b85f-62ff73a8c5ff",
      "metadata": {
        "id": "a37aa317-6818-40b4-b85f-62ff73a8c5ff"
      },
      "outputs": [],
      "source": [
        "# paises.iloc[0], paises.loc[\"China\"]"
      ]
    },
    {
      "cell_type": "markdown",
      "id": "e5652231-15be-4214-8d71-1bb4e0965f47",
      "metadata": {
        "id": "e5652231-15be-4214-8d71-1bb4e0965f47"
      },
      "source": [
        "### Métodos básicos comunes de DataFrames"
      ]
    },
    {
      "cell_type": "markdown",
      "id": "98cc4870-d735-4d3f-b84a-29828f31b8c7",
      "metadata": {
        "id": "98cc4870-d735-4d3f-b84a-29828f31b8c7"
      },
      "source": [
        "Los `DataFrames` en `pandas` vienen con una amplia variedad de métodos que facilitan la manipulación y análisis de datos. A continuación, te presento algunos de los métodos básicos más comunes asociados con `DataFrames`:\n",
        "\n",
        "1. **Visualización y Resumen**:\n",
        "   - `head(n)`: Muestra las primeras `n` filas del `DataFrame`.\n",
        "   - `tail(n)`: Muestra las últimas `n` filas del `DataFrame`.\n",
        "   - `info()`: Proporciona un resumen del `DataFrame`, incluyendo el número de valores no nulos y el tipo de dato de cada columna.\n",
        "   - `describe()`: Genera estadísticas descriptivas de las columnas, como el conteo, la media, la desviación estándar, los valores mínimo y máximo, entre otros.\n",
        "\n",
        "2. **Manipulación de Datos**:\n",
        "   - `copy()`: Crea una copia del `DataFrame`.\n",
        "   - `drop(labels, axis)`: Elimina filas (axis=0) o columnas (axis=1) según el valor de `axis`.\n",
        "   - `drop(labels, axis, inplace=True)`: Elimina filas o columnas dentro del `DataFrame`.\n",
        "   - `rename()`: Renombra las columnas o índices del `DataFrame`.\n",
        "   - `astype(dtype)`: Convierte el tipo de dato de las columnas.\n",
        "\n",
        "3. **Filtrado y Selección**:\n",
        "   - `loc[]`: Selecciona filas y columnas por etiqueta.\n",
        "   - `iloc[]`: Selecciona filas y columnas por posición (índice numérico).\n",
        "   - `query(expr)`: Filtra filas según una expresión de consulta.\n",
        "\n",
        "4. **Ordenación**:\n",
        "   - `sort_values(by, ascending)`: Ordena el `DataFrame` por una o más columnas.\n",
        "   - `sort_index()`: Ordena el `DataFrame` por índices.\n",
        "\n",
        "5. **Operaciones Aritméticas y Estadísticas**:\n",
        "   - `sum()`: Suma los valores de las columnas o filas.\n",
        "   - `mean()`: Calcula la media de las columnas o filas.\n",
        "   - `min()`, `max()`: Encuentra el valor mínimo o máximo, respectivamente.\n",
        "   - `cumsum()`: Calcula la suma acumulativa.\n",
        "\n",
        "6. **Manipulación de Valores Faltantes**:\n",
        "   - `isna()`, `isnull()`: Devuelve un `DataFrame` booleano que indica si los valores son NA o NULL.\n",
        "   - `dropna()`: Elimina filas o columnas con valores faltantes.\n",
        "   - `fillna(value)`: Rellena los valores faltantes con un valor específico o método (como `'mean'` o `'median'`).\n",
        "\n",
        "7. **Agrupación y Agregación**:\n",
        "   - `groupby()`: Agrupa el `DataFrame` usando una columna o varias columnas.\n",
        "   - `agg()`: Agrega usando una o más operaciones sobre el `DataFrame` agrupado.\n",
        "\n",
        "8. **Combinación y Unión**:\n",
        "   - `merge()`: Combina `DataFrames` usando una o más claves.\n",
        "   - `join()`: Une `DataFrames` en un índice o columna específica.\n",
        "   - `concat()`: Concatena `DataFrames` a lo largo de un eje particular.\n",
        "\n",
        "9. **Aplicación de Funciones**:\n",
        "   - `apply(func)`: Aplica una función a lo largo de un eje del `DataFrame`.\n",
        "   - `applymap(func)`: Aplica una función a cada elemento del `DataFrame`.\n",
        "\n",
        "Estos son solo algunos de los métodos básicos asociados con `DataFrames` en `pandas`. La biblioteca ofrece una amplia gama de funcionalidades adicionales que cubren diversas necesidades de manipulación y análisis de datos."
      ]
    },
    {
      "cell_type": "code",
      "execution_count": null,
      "id": "12ae91d2-77fd-4a58-ba2f-f59c2cb5ad7c",
      "metadata": {
        "id": "12ae91d2-77fd-4a58-ba2f-f59c2cb5ad7c"
      },
      "outputs": [],
      "source": [
        "# paises[\"poblacion\"] = paises[\"poblacion\"].astype(\"int\") # Convertir en entero"
      ]
    },
    {
      "cell_type": "code",
      "execution_count": null,
      "id": "e834be13-cd62-42f7-bcac-4e43fdff90df",
      "metadata": {
        "id": "e834be13-cd62-42f7-bcac-4e43fdff90df"
      },
      "outputs": [],
      "source": [
        "# paises.info()"
      ]
    },
    {
      "cell_type": "code",
      "execution_count": null,
      "id": "f7c89d80-7cc6-4b03-a796-5e254f7a813a",
      "metadata": {
        "id": "f7c89d80-7cc6-4b03-a796-5e254f7a813a"
      },
      "outputs": [],
      "source": [
        "# paises.head() # Para obtener las primeras filas o renglones"
      ]
    },
    {
      "cell_type": "code",
      "execution_count": null,
      "id": "631d53e4-f82e-40a5-a573-3a9a241c00e5",
      "metadata": {
        "id": "631d53e4-f82e-40a5-a573-3a9a241c00e5"
      },
      "outputs": [],
      "source": [
        "# paises.tail()# Para obtener las últimas filas o renglones"
      ]
    },
    {
      "cell_type": "code",
      "execution_count": null,
      "id": "52c3cd67-717a-44d2-8e11-caf962ca6ce4",
      "metadata": {
        "id": "52c3cd67-717a-44d2-8e11-caf962ca6ce4"
      },
      "outputs": [],
      "source": [
        "# paises.sort_values(by=[\"porcentaje\"]), ascending=True # Ordenar de menor a mayor por los elementos seleccionado"
      ]
    },
    {
      "cell_type": "code",
      "execution_count": null,
      "id": "47c84804-949c-465b-829f-3224c2862bb9",
      "metadata": {
        "id": "47c84804-949c-465b-829f-3224c2862bb9"
      },
      "outputs": [],
      "source": [
        "# paises.sort_index() # Ordena de menor a mayor por la columna de indice"
      ]
    },
    {
      "cell_type": "markdown",
      "id": "d2247f83-9825-4138-a190-e244d4c4615a",
      "metadata": {
        "id": "d2247f83-9825-4138-a190-e244d4c4615a"
      },
      "source": [
        "## Agregar y borrar renglones y columnas"
      ]
    },
    {
      "cell_type": "code",
      "execution_count": null,
      "id": "6492fa02-80ad-44fc-963a-4cfef373a495",
      "metadata": {
        "id": "6492fa02-80ad-44fc-963a-4cfef373a495"
      },
      "outputs": [],
      "source": [
        "# Agregar una columna con los datos a continuación\n",
        "# tasa_fertilidad = [1.7, 2.2, 1.8, 2.3, 3.6, 1.7, 5.4, 2.1, 1.8, 2.1]\n",
        "# paises[\"tasa_fertilidad\"] = tasa_fertilidad\n",
        "# paises"
      ]
    },
    {
      "cell_type": "code",
      "execution_count": null,
      "id": "010db157-4da3-4ef0-9b3b-34920ccd103f",
      "metadata": {
        "id": "010db157-4da3-4ef0-9b3b-34920ccd103f"
      },
      "outputs": [],
      "source": [
        "# Borrar columna a través de método pop\n",
        "# paises.pop(\"tasa_fertilidad\")\n",
        "# del paises[\"tasa_fertilidad\"]\n",
        "# paises.drop(\"tasa_fertilidad\", axis=1, inplace=True)\n",
        "# paises"
      ]
    },
    {
      "cell_type": "code",
      "execution_count": null,
      "id": "02d104f8-7a29-47e4-bd28-f7777fa499e6",
      "metadata": {
        "id": "02d104f8-7a29-47e4-bd28-f7777fa499e6"
      },
      "outputs": [],
      "source": [
        "# Borrar columna a través del metodo del\n",
        "# del paises[\"tasa_fertilidad\"]\n",
        "# paises"
      ]
    },
    {
      "cell_type": "code",
      "execution_count": null,
      "id": "975b823f-1297-4ba3-8ca0-c38363b000ad",
      "metadata": {
        "id": "975b823f-1297-4ba3-8ca0-c38363b000ad"
      },
      "outputs": [],
      "source": [
        "# Borrar columna o filas a través del metodo del drop, pero requiere el axis=1 y inplace para que lo pueda ejercutar en el dataframe\n",
        "# paises.drop(\"tasa_fertilidad\", axis=1, inplace=True) # Borrar en el eje  (axis=0) de las columnas, con el parametro de inplace para modificar el dataframe\n",
        "# paises"
      ]
    },
    {
      "cell_type": "code",
      "execution_count": null,
      "id": "5a2e55f4-01a1-4700-b703-2421d8257c44",
      "metadata": {
        "id": "5a2e55f4-01a1-4700-b703-2421d8257c44"
      },
      "outputs": [],
      "source": [
        "# Para agregar un registro requiere crear una Series\n",
        "# Japón -> 126, 1.62\n",
        "# renglon = pd.Series(name=\"Japón\", data=[126, 1.62], index=[\"poblacion\", \"porcentaje\"])\n",
        "# renglon\n",
        "\n",
        "# Agregar a la variable paises\n",
        "# paises = paises.append(renglon)\n",
        "# paises"
      ]
    },
    {
      "cell_type": "code",
      "execution_count": null,
      "id": "3737ce94-47db-4a2b-a202-b46f7a120811",
      "metadata": {
        "id": "3737ce94-47db-4a2b-a202-b46f7a120811"
      },
      "outputs": [],
      "source": [
        "# Borrar un renglón o fila o indice\n",
        "# paises.drop([\"Japón\"], axis=0, inplace=True) # Borrar en el eje (axis=0) de las filas o renglones"
      ]
    },
    {
      "cell_type": "markdown",
      "id": "e9d4c19f-afb5-46ab-9b0f-338455a7ea54",
      "metadata": {
        "id": "e9d4c19f-afb5-46ab-9b0f-338455a7ea54"
      },
      "source": [
        "### Funciones de estadística y de agregación básicas"
      ]
    },
    {
      "cell_type": "markdown",
      "id": "55fb080c-cf77-4dd3-929a-b069ca232a99",
      "metadata": {
        "id": "55fb080c-cf77-4dd3-929a-b069ca232a99"
      },
      "source": [
        "`pandas` ofrece una amplia gama de funciones estadísticas que se pueden aplicar a `Series` y `DataFrames`. Estas funciones son útiles para realizar análisis exploratorio de datos y obtener insights rápidos de tus conjuntos de datos. A continuación, se enumeran algunas de las funciones estadísticas más comunes disponibles en `pandas`:\n",
        "\n",
        "1. **Medidas de Tendencia Central**:\n",
        "   - `mean()`: Calcula la media aritmética.\n",
        "   - `median()`: Calcula la mediana.\n",
        "   - `mode()`: Devuelve la moda.\n",
        "\n",
        "2. **Medidas de Dispersión**:\n",
        "   - `std()`: Calcula la desviación estándar.\n",
        "   - `var()`: Calcula la varianza.\n",
        "   - `min()`: Devuelve el valor mínimo.\n",
        "   - `max()`: Devuelve el valor máximo.\n",
        "   - `quantile(q)`: Calcula el cuantil del conjunto de datos para el valor `q` dado.\n",
        "\n",
        "3. **Medidas de Forma**:\n",
        "   - `skew()`: Calcula la asimetría de la distribución.\n",
        "   - `kurt()`: Calcula la curtosis de la distribución.\n",
        "\n",
        "4. **Descripción General**:\n",
        "   - `describe()`: Proporciona un resumen estadístico que incluye medidas como la media, mediana, desviación estándar, valores mínimo y máximo, y cuantiles.\n",
        "\n",
        "5. **Conteo**:\n",
        "   - `count()`: Cuenta el número de valores no nulos.\n",
        "   - `value_counts()`: Cuenta la frecuencia de valores únicos (típicamente usado en `Series`).\n",
        "\n",
        "6. **Correlación y Covarianza**:\n",
        "   - `corr()`: Calcula la correlación entre columnas.\n",
        "   - `cov()`: Calcula la covarianza entre columnas.\n",
        "\n",
        "7. **Funciones de Acumulación**:\n",
        "   - `cumsum()`: Calcula la suma acumulativa.\n",
        "   - `cumprod()`: Calcula el producto acumulativo.\n",
        "   - `cummax()`: Devuelve el máximo acumulativo.\n",
        "   - `cummin()`: Devuelve el mínimo acumulativo.\n",
        "\n",
        "8. **Funciones de Agregación**:\n",
        "   - `agg()`, `aggregate()`: Aplican una o más operaciones de agregación al `DataFrame`.\n",
        "\n",
        "9. **Otros**:\n",
        "   - `nunique()`: Cuenta el número de valores únicos.\n",
        "   - `idxmax()`: Devuelve el índice del primer valor máximo.\n",
        "   - `idxmin()`: Devuelve el índice del primer valor mínimo.\n",
        "   - `rank()`: Asigna rangos a los elementos.\n",
        "\n",
        "Estas son solo algunas de las funciones estadísticas disponibles en `pandas`. La biblioteca ofrece muchas otras herramientas y funciones para realizar análisis estadísticos más avanzados y adaptados a diferentes necesidades."
      ]
    },
    {
      "cell_type": "code",
      "execution_count": null,
      "id": "6254db49-9067-4e3d-9d53-d1b6c58f401b",
      "metadata": {
        "id": "6254db49-9067-4e3d-9d53-d1b6c58f401b"
      },
      "outputs": [],
      "source": [
        "# paises.describe() # metodo describe es para los datos estadísticos descriptivos"
      ]
    },
    {
      "cell_type": "code",
      "execution_count": null,
      "id": "9ce08055-6a1c-437b-9610-c55fbda448b5",
      "metadata": {
        "id": "9ce08055-6a1c-437b-9610-c55fbda448b5"
      },
      "outputs": [],
      "source": [
        "# paises.min()"
      ]
    },
    {
      "cell_type": "code",
      "execution_count": null,
      "id": "f4d3cef7-8e17-4b1c-af18-1e26439b2734",
      "metadata": {
        "id": "f4d3cef7-8e17-4b1c-af18-1e26439b2734"
      },
      "outputs": [],
      "source": [
        "# paises.comsum() # Metodo para suma acumulativa"
      ]
    },
    {
      "cell_type": "markdown",
      "id": "6527b996-5638-4866-bbeb-2fddc00bafcb",
      "metadata": {
        "id": "6527b996-5638-4866-bbeb-2fddc00bafcb"
      },
      "source": [
        "## Graficos"
      ]
    },
    {
      "cell_type": "markdown",
      "id": "7e4502e4-96de-4e47-aa91-589852f69e51",
      "metadata": {
        "id": "7e4502e4-96de-4e47-aa91-589852f69e51"
      },
      "source": [
        "Dentro de `pandas`, el objeto `DataFrame` tiene un método integrado llamado `.plot()` que proporciona una interfaz para generar diferentes tipos de gráficos utilizando `matplotlib` como backend. A continuación, te muestro algunos ejemplos de gráficos que puedes crear directamente desde un `DataFrame` en `pandas`:\n",
        "\n",
        "1. **Gráfico de Líneas**:\n",
        "   ```python\n",
        "   df.plot(kind='line')\n",
        "   plt.show()\n",
        "   ```\n",
        "\n",
        "2. **Histograma**:\n",
        "   ```python\n",
        "   df['columna'].plot(kind='hist')\n",
        "   plt.show()\n",
        "   ```\n",
        "\n",
        "3. **Gráfico de Barras**:\n",
        "   ```python\n",
        "   df.plot(kind='bar')\n",
        "   plt.show()\n",
        "   ```\n",
        "\n",
        "4. **Gráfico de Barras Horizontales**:\n",
        "   ```python\n",
        "   df.plot(kind='barh')\n",
        "   plt.show()\n",
        "   ```\n",
        "\n",
        "5. **Gráfico de Dispersión (Scatter Plot)**:\n",
        "   ```python\n",
        "   df.plot(kind='scatter', x='columna_x', y='columna_y')\n",
        "   plt.show()\n",
        "   ```\n",
        "\n",
        "6. **Diagrama de Caja (Box Plot)**:\n",
        "   ```python\n",
        "   df.plot(kind='box')\n",
        "   plt.show()\n",
        "   ```\n",
        "\n",
        "7. **Gráfico de Área**:\n",
        "   ```python\n",
        "   df.plot(kind='area')\n",
        "   plt.show()\n",
        "   ```\n",
        "\n",
        "8. **Gráfico Circular (Pie Chart)**:\n",
        "   ```python\n",
        "   df['columna'].plot(kind='pie')\n",
        "   plt.show()\n",
        "   ```\n",
        "\n",
        "Para todos estos gráficos, puedes personalizarlos aún más utilizando argumentos adicionales en el método `.plot()` o manipulando el gráfico con funciones adicionales de `matplotlib`.\n",
        "\n",
        "Es importante mencionar que, para visualizar estos gráficos, necesitarás tener instalada la biblioteca `matplotlib`. Si aún no la tienes, puedes instalarla usando `pip`:\n",
        "\n",
        "```python\n",
        "pip install matplotlib\n",
        "```\n",
        "\n",
        "Con el método `.plot()` de `pandas`, es fácil y rápido generar visualizaciones básicas directamente desde un `DataFrame`. Sin embargo, para visualizaciones más avanzadas o personalizadas, es posible que desees explorar bibliotecas adicionales como `seaborn` o `plotly`."
      ]
    },
    {
      "cell_type": "code",
      "execution_count": null,
      "id": "48dd95f1-9692-4ca7-b863-091c47358066",
      "metadata": {
        "tags": [],
        "id": "48dd95f1-9692-4ca7-b863-091c47358066"
      },
      "outputs": [],
      "source": [
        "# Importar biblioteca de graficios Matplotlib\n",
        "# import matplotlib.pyplot as plt"
      ]
    },
    {
      "cell_type": "code",
      "execution_count": null,
      "id": "37fe1060-9bb4-4677-a643-77c564dc7f63",
      "metadata": {
        "tags": [],
        "id": "37fe1060-9bb4-4677-a643-77c564dc7f63"
      },
      "outputs": [],
      "source": [
        "# Graficos\n",
        "# paises.boxplot()"
      ]
    },
    {
      "cell_type": "code",
      "execution_count": null,
      "id": "56db7b23-89d7-434a-94af-ba119d91a6ec",
      "metadata": {
        "tags": [],
        "id": "56db7b23-89d7-434a-94af-ba119d91a6ec"
      },
      "outputs": [],
      "source": [
        "# paises.plot(kind='bar')\n",
        "# plt.show()"
      ]
    },
    {
      "cell_type": "code",
      "execution_count": null,
      "id": "f0ec4145-b036-4183-8095-baee7248ff2c",
      "metadata": {
        "id": "f0ec4145-b036-4183-8095-baee7248ff2c"
      },
      "outputs": [],
      "source": []
    }
  ],
  "metadata": {
    "kernelspec": {
      "display_name": "Python 3 (ipykernel)",
      "language": "python",
      "name": "python3"
    },
    "language_info": {
      "codemirror_mode": {
        "name": "ipython",
        "version": 3
      },
      "file_extension": ".py",
      "mimetype": "text/x-python",
      "name": "python",
      "nbconvert_exporter": "python",
      "pygments_lexer": "ipython3",
      "version": "3.11.4"
    },
    "colab": {
      "provenance": [],
      "include_colab_link": true
    }
  },
  "nbformat": 4,
  "nbformat_minor": 5
}