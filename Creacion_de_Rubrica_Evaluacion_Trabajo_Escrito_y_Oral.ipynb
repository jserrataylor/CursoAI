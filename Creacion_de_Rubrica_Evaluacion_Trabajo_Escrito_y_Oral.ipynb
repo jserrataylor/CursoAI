{
  "nbformat": 4,
  "nbformat_minor": 0,
  "metadata": {
    "colab": {
      "provenance": [],
      "authorship_tag": "ABX9TyNnYD7tZmA8TrfP/hloHHe5",
      "include_colab_link": true
    },
    "kernelspec": {
      "name": "python3",
      "display_name": "Python 3"
    },
    "language_info": {
      "name": "python"
    }
  },
  "cells": [
    {
      "cell_type": "markdown",
      "metadata": {
        "id": "view-in-github",
        "colab_type": "text"
      },
      "source": [
        "<a href=\"https://colab.research.google.com/github/jserrataylor/cursoAI/blob/main/Creacion_de_Rubrica_Evaluacion_Trabajo_Escrito_y_Oral.ipynb\" target=\"_parent\"><img src=\"https://colab.research.google.com/assets/colab-badge.svg\" alt=\"Open In Colab\"/></a>"
      ]
    },
    {
      "cell_type": "code",
      "source": [
        "pip install python-docx\n"
      ],
      "metadata": {
        "colab": {
          "base_uri": "https://localhost:8080/"
        },
        "id": "dhskE7ls-Zpe",
        "outputId": "1eeb0e8e-ce65-4b7c-c25e-7247f1cef38b"
      },
      "execution_count": 2,
      "outputs": [
        {
          "output_type": "stream",
          "name": "stdout",
          "text": [
            "Collecting python-docx\n",
            "  Downloading python_docx-1.1.0-py3-none-any.whl (239 kB)\n",
            "\u001b[?25l     \u001b[90m━━━━━━━━━━━━━━━━━━━━━━━━━━━━━━━━━━━━━━━━\u001b[0m \u001b[32m0.0/239.6 kB\u001b[0m \u001b[31m?\u001b[0m eta \u001b[36m-:--:--\u001b[0m\r\u001b[2K     \u001b[91m━━━━━\u001b[0m\u001b[90m╺\u001b[0m\u001b[90m━━━━━━━━━━━━━━━━━━━━━━━━━━━━━━━━━━\u001b[0m \u001b[32m30.7/239.6 kB\u001b[0m \u001b[31m998.8 kB/s\u001b[0m eta \u001b[36m0:00:01\u001b[0m\r\u001b[2K     \u001b[91m━━━━━━━━━━━━━━━━━━━━━━━━━━━━━━━━\u001b[0m\u001b[90m╺\u001b[0m\u001b[90m━━━━━━━\u001b[0m \u001b[32m194.6/239.6 kB\u001b[0m \u001b[31m2.9 MB/s\u001b[0m eta \u001b[36m0:00:01\u001b[0m\r\u001b[2K     \u001b[90m━━━━━━━━━━━━━━━━━━━━━━━━━━━━━━━━━━━━━━━━\u001b[0m \u001b[32m239.6/239.6 kB\u001b[0m \u001b[31m3.0 MB/s\u001b[0m eta \u001b[36m0:00:00\u001b[0m\n",
            "\u001b[?25hRequirement already satisfied: lxml>=3.1.0 in /usr/local/lib/python3.10/dist-packages (from python-docx) (4.9.3)\n",
            "Requirement already satisfied: typing-extensions in /usr/local/lib/python3.10/dist-packages (from python-docx) (4.5.0)\n",
            "Installing collected packages: python-docx\n",
            "Successfully installed python-docx-1.1.0\n"
          ]
        }
      ]
    },
    {
      "cell_type": "code",
      "execution_count": 3,
      "metadata": {
        "colab": {
          "base_uri": "https://localhost:8080/",
          "height": 35
        },
        "id": "HlFOEQSntMHE",
        "outputId": "789c7c77-0499-4b81-abfd-b0fbb01c9c2f"
      },
      "outputs": [
        {
          "output_type": "execute_result",
          "data": {
            "text/plain": [
              "'Rubrica_Evaluacion_Trabajo_Escrito_y_Presentacion_Oral.docx'"
            ],
            "application/vnd.google.colaboratory.intrinsic+json": {
              "type": "string"
            }
          },
          "metadata": {},
          "execution_count": 3
        }
      ],
      "source": [
        "from docx import Document\n",
        "from docx.shared import Pt\n",
        "from docx.enum.text import WD_ALIGN_PARAGRAPH\n",
        "\n",
        "# Crear un documento Word\n",
        "doc = Document()\n",
        "\n",
        "# Añadir título y subtítulos\n",
        "doc.add_heading('Rúbrica de Evaluación', 0)\n",
        "\n",
        "# Rúbrica para Trabajo Escrito\n",
        "doc.add_heading('Trabajo Escrito', level=1)\n",
        "\n",
        "# Criterios para el Trabajo Escrito\n",
        "criterios_escrito = [\n",
        "    \"Introducción\",\n",
        "    \"Metodología\",\n",
        "    \"Resultados\",\n",
        "    \"Discusión y Conclusiones\",\n",
        "    \"Referencias\",\n",
        "    \"Presentación General\"\n",
        "]\n",
        "\n",
        "# Descripciones para cada criterio del Trabajo Escrito\n",
        "descripciones_escrito = [\n",
        "    \"Claridad en la presentación del tema, objetivos del trabajo y relevancia del estudio.\",\n",
        "    \"Detalle en la descripción del método, incluyendo preprocesamiento de datos, selección de datasets y tratamiento de valores faltantes.\",\n",
        "    \"Claridad en la presentación de resultados, incluyendo análisis exploratorio, gráficas y evaluación del modelo.\",\n",
        "    \"Profundidad en el análisis de los resultados, discusión de implicaciones y limitaciones, y conclusiones claras.\",\n",
        "    \"Uso adecuado y formato correcto de las referencias bibliográficas.\",\n",
        "    \"Calidad de la escritura, organización del documento y cumplimiento de las normas de formato especificadas.\"\n",
        "]\n",
        "\n",
        "# Agregar tabla para el Trabajo Escrito\n",
        "tabla_escrito = doc.add_table(rows=1, cols=3)\n",
        "tabla_escrito.style = 'Table Grid'\n",
        "hdr_cells = tabla_escrito.rows[0].cells\n",
        "hdr_cells[0].text = 'Criterio'\n",
        "hdr_cells[1].text = 'Descripción'\n",
        "hdr_cells[2].text = 'Puntuación (1-5)'\n",
        "\n",
        "# Llenar tabla con los criterios y descripciones\n",
        "for i, criterio in enumerate(criterios_escrito):\n",
        "    row_cells = tabla_escrito.add_row().cells\n",
        "    row_cells[0].text = criterio\n",
        "    row_cells[1].text = descripciones_escrito[i]\n",
        "    row_cells[2].text = ''\n",
        "\n",
        "# Rúbrica para Presentación Oral\n",
        "doc.add_heading('Presentación Oral', level=1)\n",
        "\n",
        "# Criterios para la Presentación Oral\n",
        "criterios_oral = [\n",
        "    \"Contenido\",\n",
        "    \"Diseño del Póster\",\n",
        "    \"Presentación Oral\",\n",
        "    \"Dominio del Tema\",\n",
        "    \"Interacción con el Público\"\n",
        "]\n",
        "\n",
        "# Descripciones para cada criterio de la Presentación Oral\n",
        "descripciones_oral = [\n",
        "    \"Inclusión de todos los elementos relevantes del trabajo (introducción, metodología, resultados, conclusiones).\",\n",
        "    \"Atractivo visual, legibilidad, uso efectivo de gráficos y tablas.\",\n",
        "    \"Claridad al hablar, habilidad para captar y mantener la atención del público y manejo del tiempo.\",\n",
        "    \"Capacidad para responder preguntas y discutir el tema con profundidad.\",\n",
        "    \"Habilidad para involucrar al público y manejar la interacción durante la presentación.\"\n",
        "]\n",
        "\n",
        "# Agregar tabla para la Presentación Oral\n",
        "tabla_oral = doc.add_table(rows=1, cols=3)\n",
        "tabla_oral.style = 'Table Grid'\n",
        "hdr_cells = tabla_oral.rows[0].cells\n",
        "hdr_cells[0].text = 'Criterio'\n",
        "hdr_cells[1].text = 'Descripción'\n",
        "hdr_cells[2].text = 'Puntuación (1-5)'\n",
        "\n",
        "# Llenar tabla con los criterios y descripciones\n",
        "for i, criterio in enumerate(criterios_oral):\n",
        "    row_cells = tabla_oral.add_row().cells\n",
        "    row_cells[0].text = criterio\n",
        "    row_cells[1].text = descripciones_oral[i]\n",
        "    row_cells[2].text = ''\n",
        "\n",
        "# Guardar el documento\n",
        "doc_path = 'Rubrica_Evaluacion_Trabajo_Escrito_y_Presentacion_Oral.docx'\n",
        "doc.save(doc_path)\n",
        "\n",
        "doc_path\n"
      ]
    }
  ]
}