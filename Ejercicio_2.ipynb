{
  "nbformat": 4,
  "nbformat_minor": 0,
  "metadata": {
    "colab": {
      "provenance": [],
      "authorship_tag": "ABX9TyPIQvZ4EtSwfaA9RoqnsXB7",
      "include_colab_link": true
    },
    "kernelspec": {
      "name": "python3",
      "display_name": "Python 3"
    },
    "language_info": {
      "name": "python"
    }
  },
  "cells": [
    {
      "cell_type": "markdown",
      "metadata": {
        "id": "view-in-github",
        "colab_type": "text"
      },
      "source": [
        "<a href=\"https://colab.research.google.com/github/jserrataylor/cursoAI/blob/main/Ejercicio_2.ipynb\" target=\"_parent\"><img src=\"https://colab.research.google.com/assets/colab-badge.svg\" alt=\"Open In Colab\"/></a>"
      ]
    },
    {
      "cell_type": "markdown",
      "source": [
        "# **Ejercicio 2:**\n",
        "### **Gestión de una Lista de Estudiantes**\n",
        "\n",
        "**Objetivo**: Familiarizarse con la creación, modificación y acceso a listas en Python.\n",
        "\n",
        "### **Descripción**:\n",
        "Imagina que eres un profesor y tienes una lista de estudiantes en tu clase. Quieres realizar algunas operaciones básicas con esta lista.\n",
        "\n",
        "### **Instrucciones**:\n",
        "\n",
        "1. **Creación de la lista**:\n",
        "   - Crea una lista llamada `estudiantes` que contenga los nombres: \"Ana\", \"Juan\", \"Luis\" y \"Marta\".\n",
        "\n",
        "2. **Acceso a elementos**:\n",
        "   - Imprime el nombre del tercer estudiante en la lista.\n",
        "\n",
        "3. **Agregar estudiantes**:\n",
        "   - Agrega a \"Pedro\" y \"Laura\" al final de la lista.\n",
        "   - Imprime la lista actualizada.\n",
        "\n",
        "4. **Eliminar estudiantes**:\n",
        "   - Elimina a \"Juan\" de la lista.\n",
        "   - Imprime la lista después de la eliminación.\n",
        "\n",
        "5. **Número de estudiantes**:\n",
        "   - Imprime el número total de estudiantes en la lista.\n",
        "\n",
        "6. **Búsqueda de un estudiante**:\n",
        "   - Verifica si \"Luis\" está en la lista y muestra un mensaje apropiado.\n",
        "   - Verifica si \"Carlos\" está en la lista y muestra un mensaje apropiado.\n",
        "\n",
        "7. **Reto adicional: [Orejitas: investiga la función enumerate]**:\n",
        "   - Crea una segunda lista llamada `notas` con calificaciones (por ejemplo, 85, 70, 90, etc.) para cada estudiante.\n",
        "   - Imprime el nombre y la calificación de cada estudiante usando un bucle.\n",
        "\n",
        "**Consejo**: Recuerda usar métodos como `append()`, `remove()`, y funciones como `len()` y `print()`. También puedes usar el operador `in` para verificar si un elemento está en la lista.\n",
        "\n",
        "### **Puntuación (10 puntos)**\n",
        "1. En GitHub abre el archivo en Colab: Ejercicio_2.ipynb y lo guardas en tu Drive.\n",
        "2. Colocar tu nombre en titulo del archivo: ejercicio_2_Juan_del_Pueblo.ipynb\n",
        "3. Download el archivo .ipynb y envialo al profesor\n",
        "4. Fecha de entrega en o antes del 20 de septiembre de 2023\n",
        "\n",
        "**Nota: **Otra alternativa para entregarlo en compartirla (Share) con el profesor."
      ],
      "metadata": {
        "id": "OUojxCv7EU53"
      }
    },
    {
      "cell_type": "code",
      "execution_count": null,
      "metadata": {
        "id": "fg6j-W5ZEMxC"
      },
      "outputs": [],
      "source": []
    }
  ]
}