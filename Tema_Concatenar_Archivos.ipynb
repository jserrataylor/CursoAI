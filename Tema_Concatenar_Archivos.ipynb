{
  "cells": [
    {
      "cell_type": "markdown",
      "metadata": {
        "id": "view-in-github",
        "colab_type": "text"
      },
      "source": [
        "<a href=\"https://colab.research.google.com/github/jserrataylor/cursoAI/blob/main/Tema_Concatenar_Archivos.ipynb\" target=\"_parent\"><img src=\"https://colab.research.google.com/assets/colab-badge.svg\" alt=\"Open In Colab\"/></a>"
      ]
    },
    {
      "cell_type": "markdown",
      "source": [
        "#**Tema: Concatenar Datos, DataFrame, Series y Archivos**"
      ],
      "metadata": {
        "id": "W-ouwteNqCyH"
      }
    },
    {
      "cell_type": "markdown",
      "source": [
        "## **1. Introducción**\n",
        "\n",
        "Los **científicos de datos pasan alrededor del 80% de su tiempo limpiando y organizando datos** Por ello, aprender a gestionar datos es una habilidad esencial.\n",
        "\n",
        "### **¿Por Qué es Importante la Manipulación de Datos?**\n",
        "\n",
        "Para desarrollar modelos de IA, necesitaremos alimentar esos modelos con datos. Pero los datos rara vez vienen en el formato perfecto para nuestros propósitos. A menudo, tendremos que modificarlos, limpiarlos y, lo que exploraremos hoy: **concatenarlos**.\n",
        "\n",
        "### **¿Qué es Concatenar?**\n",
        "\n",
        "Imaginen que tienen varios archivos de datos, cada uno con información que desean unir para crear un único conjunto de datos más grande y más informativo. Eso es, en esencia, concatenar. Tomamos varios conjuntos de datos (o \"archivos\") y los unimos para formar uno solo.\n",
        "\n",
        "### **¿Por Qué Concatenar Archivos en IA y Ciencia de Datos?**\n",
        "\n",
        "- **Completitud**: A veces, la información está dispersa en varios archivos o bases de datos. Concatenar nos permite reunir toda esta información en un solo lugar.\n",
        "- **Mejor Análisis**: Con más datos, podemos realizar análisis más completos y robustos.\n",
        "- **Entrenamiento de Modelos**: Los modelos de IA se benefician de tener más datos para el entrenamiento, ayudándolos a aprender patrones más generalizables.\n",
        "\n",
        "### **¿Qué Habilidades que Aprenderemos Hoy?**\n",
        "\n",
        "- **Leer Archivos**: Cómo cargar archivos de datos en nuestro entorno de programación.\n",
        "- **Explorar Datos**: Utilizar herramientas básicas para explorar y entender nuestros datos.\n",
        "- **Concatenar**: Unir múltiples conjuntos de datos en uno.\n",
        "- **Guardar Datos**: Guardar nuestro nuevo conjunto de datos unificado para uso futuro."
      ],
      "metadata": {
        "id": "eG5bPmqb9y2B"
      }
    },
    {
      "cell_type": "markdown",
      "source": [
        "## Elementos importantes al Concatenar archivos\n",
        "\n",
        "Cuando concatenas DataFrames en Pandas usando `pd.concat()`, hay varios elementos y parámetros que son importantes y que pueden afectar el resultado de la operación. Algunos de los más relevantes incluyen:\n",
        "\n",
        "### 1. `objs`:\n",
        "- **Descripción**: La lista o secuencia de objetos a concatenar. Estos objetos pueden ser `Series` o `DataFrames`.\n",
        "- **Importancia**: Es fundamental proporcionar los objetos correctos para concatenar, en el orden en que se deseen concatenar.\n",
        "\n",
        "### 2. `axis`:\n",
        "- **Descripción**: El eje a lo largo del cual se realizará la concatenación. `0` indica que la concatenación será a lo largo de las filas (vertical), y `1` indica que será a lo largo de las columnas (horizontal).\n",
        "- **Importancia**: Define la dirección de la concatenación y puede afectar significativamente la estructura del DataFrame resultante.\n",
        "\n",
        "### 3. `keys`:\n",
        "- **Descripción**: Secuencia para etiquetar los diferentes objetos que están siendo concatenados.\n",
        "- **Importancia**: Utilizando `keys` puedes crear un MultiIndex (índice jerárquico) en el eje de concatenación. Esto es útil para identificar de dónde proviene cada parte del DataFrame concatenado.\n",
        "- Supongamos que tienes varios DataFrames que deseas concatenar. Utilizando keys, puedes asignar identificadores únicos a cada fragmento de datos concatenados para poder referenciarlos más fácilmente después.\n",
        "- **Multi-índice** Creación de un DataFrame Multi-índice con keys\n",
        "- **Parametro keys**: keys = ['x', 'y']\n",
        "- **Acceder a los datos asociados con la clave 'x'**: **print(df_concat.loc['x']**. Esto imprimirá solo las filas de `df_concat` que originalmente pertenecían a `df1`, ya que `df1` fue asociado con la clave 'x' durante la concatenación.\n",
        "\n",
        "### 4. `ignore_index`:\n",
        "- **Descripción**: Si es `True`, no utiliza los índices de los objetos que se están concatenando.\n",
        "- **Importancia**: Puede ser útil si los índices originales no tienen un significado en el contexto del nuevo DataFrame concatenado.\n",
        "\n",
        "### 5. `join`:\n",
        "- **Descripción**: Define cómo manejar los ejes que están presentes en los objetos que se están concatenando pero no en el objeto resultante. Puede ser `'inner'` o `'outer'`.\n",
        "- **Importancia**: `'outer'` tomará la unión de todos los ejes (llenando con `NaN` los valores faltantes), mientras que `'inner'` tomará solo los ejes que son comunes a todos los objetos que se están concatenando.\n",
        "\n",
        "### 6. `verify_integrity`:\n",
        "- **Descripción**: Si es `True`, verifica que el nuevo eje concatenado no contiene duplicados.\n",
        "- **Importancia**: Útil para evitar la concatenación de DataFrames con índices solapados o duplicados, lo cual podría generar errores en análisis posteriores.\n",
        "\n",
        "### 7. `sort`:\n",
        "- **Descripción**: Si es `True`, ordena las columnas resultantes (solo si `axis=1`).\n",
        "- **Importancia**: Puede ser útil si deseas que las columnas del DataFrame resultante estén ordenadas. Sin embargo, ten en cuenta que el ordenamiento puede aumentar el tiempo de computación.\n",
        "\n",
        "### Ejemplo de Uso:\n",
        "A continuación un pequeño ejemplo usando algunos de los parámetros mencionados:\n",
        "\n",
        "```python\n",
        "import pandas as pd\n",
        "\n",
        "df1 = pd.DataFrame({'A': ['A0', 'A1'],\n",
        "                    'B': ['B0', 'B1']},\n",
        "                    index=['K0', 'K1'])\n",
        "\n",
        "df2 = pd.DataFrame({'C': ['C0', 'C1'],\n",
        "                    'D': ['D0', 'D1']},\n",
        "                    index=['K0', 'K2'])\n",
        "\n",
        "# Concatenando y utilizando keys\n",
        "result = pd.concat([df1, df2], axis=1, keys=['level1', 'level2'], join='outer', ignore_index=False, sort=False)\n",
        "\n",
        "print(result)\n",
        "```"
      ],
      "metadata": {
        "id": "4wLP6ImBRVFQ"
      }
    },
    {
      "cell_type": "markdown",
      "source": [
        "## **2. Importación de Librerías**"
      ],
      "metadata": {
        "id": "psvZjL9rpFH1"
      }
    },
    {
      "cell_type": "code",
      "source": [
        "# Importar las bibliotecas necesarias\n",
        "import pandas as pd  # Pandas para manipulación de datos en dataframes\n",
        "import os  # os para interactuar con el sistema operativo\n",
        "import numpy as np # Numpy para el desarrollo de matrices y arreglos\n",
        "\n",
        "import re  # re para trabajar con expresiones regulares\n",
        "import datetime as dt  # datetime para trabajar con fechas y horas\n",
        "\n",
        "import matplotlib.pyplot as plt  # Matplotlib para visualizaciones\n",
        "import seaborn as sns  # Seaborn para visualizaciones estadísticas\n",
        "\n",
        "import itertools\n",
        "from itertools import combinations #genera el conjutno de combinaciones\n",
        "import collections\n",
        "from collections import Counter #simplemente para realizar conteos"
      ],
      "metadata": {
        "id": "Z4OuwBStq0_2"
      },
      "execution_count": 1,
      "outputs": []
    },
    {
      "cell_type": "markdown",
      "source": [
        "## **3. Carga y Explorar de Datos**\n",
        "\n",
        "- Mencionar la ubicación y el formato de los archivos a concatenar."
      ],
      "metadata": {
        "id": "TBz2AYBfq9-2"
      }
    },
    {
      "cell_type": "code",
      "source": [
        "# Acceder al directorio de Google Drive\n",
        "from google.colab import drive\n",
        "drive.mount('/content/drive')"
      ],
      "metadata": {
        "colab": {
          "base_uri": "https://localhost:8080/"
        },
        "id": "Z3CqpeZ6taYF",
        "outputId": "27407877-d8d6-4912-cbc9-44638e2ac5d2"
      },
      "execution_count": 2,
      "outputs": [
        {
          "output_type": "stream",
          "name": "stdout",
          "text": [
            "Mounted at /content/drive\n"
          ]
        }
      ]
    },
    {
      "cell_type": "code",
      "source": [
        "# Si desean subir archivos directamente a Colab\n",
        "from google.colab import files\n",
        "uploaded = files.upload()\n"
      ],
      "metadata": {
        "id": "TDi6XKFlhGxZ"
      },
      "execution_count": null,
      "outputs": []
    },
    {
      "cell_type": "markdown",
      "source": [
        "## **GitHub a Google Colab**\n",
        "\n",
        "### 1. **Clonar un Repositorio Completo:**\n",
        "Si deseas clonar un repositorio completo de GitHub a tu entorno Colab, puedes usar el comando `!git clone`.\n",
        "\n",
        "Por ejemplo:\n",
        "```bash\n",
        "!git clone https://github.com/usuario/repositorio.git\n",
        "```\n",
        "Luego, puedes navegar al directorio clonado y acceder a los archivos.\n",
        "\n",
        "### 2. **Descargar un Archivo Individual:**\n",
        "Si solo necesitas un archivo específico y quieres evitar clonar todo el repositorio, puedes descargarlo directamente si tienes la URL del archivo raw.\n",
        "\n",
        "Por ejemplo:\n",
        "```bash\n",
        "!wget https://raw.githubusercontent.com/usuario/repositorio/rama/nombre_del_archivo\n",
        "```\n",
        "Si es un archivo de datos, ya podrías comenzar a utilizarlo. Si es un script de Python, puedes importarlo si está en el mismo directorio que tu notebook de Colab.\n"
      ],
      "metadata": {
        "id": "GT2hJf7LpgLg"
      }
    },
    {
      "cell_type": "code",
      "source": [
        "# Clonar repositorio en Github\n",
        "!git clone https://github.com/jserrataylor/cursoAI"
      ],
      "metadata": {
        "id": "rlpogqwElAi7"
      },
      "execution_count": null,
      "outputs": []
    },
    {
      "cell_type": "code",
      "source": [
        "## Importar datos directamente de un archivo zip\n",
        "import zipfile\n",
        "import os\n",
        "\n",
        "zip_path = '/content/cursoAI/files_ventas_concatenar.zip'  # Ruta al archivo ZIP\n",
        "extract_folder = '/content/files_ventas'  # Carpeta donde se extraerán los archivos\n",
        "\n",
        "with zipfile.ZipFile(zip_path, 'r') as zip_ref:\n",
        "    zip_ref.extractall(extract_folder)\n"
      ],
      "metadata": {
        "id": "NBslmMXokEsZ"
      },
      "execution_count": 4,
      "outputs": []
    },
    {
      "cell_type": "code",
      "source": [
        "## Importar datos directamente de un archivo zip\n",
        "import zipfile\n",
        "import os\n",
        "\n",
        "zip_path = '/content/cursoAI/datos_calidad_aire.zip'  # Ruta al archivo ZIP\n",
        "extract_folder = '/content/calidad_aire'  # Carpeta donde se extraerán los archivos\n",
        "\n",
        "with zipfile.ZipFile(zip_path, 'r') as zip_ref:\n",
        "    zip_ref.extractall(extract_folder)"
      ],
      "metadata": {
        "id": "yT_iv-JNkeer"
      },
      "execution_count": 5,
      "outputs": []
    },
    {
      "cell_type": "code",
      "source": [
        "## Importar datos directamente de un archivo zip\n",
        "import zipfile\n",
        "import os\n",
        "\n",
        "zip_path = '/content/cursoAI/datos_titanic.zip'  # Ruta al archivo ZIP\n",
        "extract_folder = '/content/titanic'  # Carpeta donde se extraerán los archivos\n",
        "\n",
        "with zipfile.ZipFile(zip_path, 'r') as zip_ref:\n",
        "    zip_ref.extractall(extract_folder)"
      ],
      "metadata": {
        "id": "tEHLtO7Eqfw8"
      },
      "execution_count": 6,
      "outputs": []
    },
    {
      "cell_type": "code",
      "source": [
        "## Importar datos directamente de un archivo zip\n",
        "import zipfile\n",
        "import os\n",
        "\n",
        "zip_path = '/content/cursoAI/datos_ventas_anuales.zip'  # Ruta al archivo ZIP\n",
        "extract_folder = '/content/ventas_anuales'  # Carpeta donde se extraerán los archivos\n",
        "\n",
        "with zipfile.ZipFile(zip_path, 'r') as zip_ref:\n",
        "    zip_ref.extractall(extract_folder)"
      ],
      "metadata": {
        "id": "S-xEeT9sqnTf"
      },
      "execution_count": 7,
      "outputs": []
    },
    {
      "cell_type": "markdown",
      "source": [
        "## DATOS DE VENTAS"
      ],
      "metadata": {
        "id": "lBooL8JW-RNd"
      }
    },
    {
      "cell_type": "code",
      "source": [
        "# DataFrame llamado ventas, pero cargando el archivo en excel.\n",
        "# Parámetro para que lea todas las hojas y devuelve un diccionario, pero no es un DataFrame: sheet_name=None\n",
        "# Parámetro para que lea una hoja en específico sheet_name='2021'\n",
        "# Parámetro para eliminar la primera linea: skiprows=1\n",
        "# Parámetro paa convertir la primera columna en indice: index_col=0\n",
        "# Método para unir DataFrame es: df_unido = pd.concat([df1, df2])\n",
        "\n",
        "# Cargas el archivo excel: ventas_anuales.xlsx, que tiene 2 horas(sheets) (2020 y 2021)\n",
        "ventas_1 = pd.read_excel(\"/content/ventas_anuales/ventas_anuales.xlsx\", sheet_name='2020', skiprows=1, index_col=0)\n",
        "ventas_2 = pd.read_excel(\"/content/ventas_anuales/ventas_anuales.xlsx\", sheet_name='2021', skiprows=1, index_col=0)\n",
        "\n",
        "# Visualización de datos de las ventas por trimestres en los años 2020 y 2021\n",
        "ventas_1, ventas_2\n"
      ],
      "metadata": {
        "id": "EzDmioPqtkhF"
      },
      "execution_count": null,
      "outputs": []
    },
    {
      "cell_type": "markdown",
      "source": [
        "#### Concatenar los datos de las Ventas"
      ],
      "metadata": {
        "id": "6PeZKf1gDXZK"
      }
    },
    {
      "cell_type": "code",
      "source": [
        "# Concatenar los DataFrame y Series con el método: df = pd.concat([df_1, df_2])\n",
        "# Parámetro para etiquetar los DataFrame de acuerdo a su origen de datos: keys=['x', 'y']\n",
        "\n",
        "df_ventas = pd.concat([ventas_1, ventas_2], keys=['2020', '2021']) # Creación de DataFrame concatenado\n",
        "df_ventas\n",
        "\n",
        "# Guardar el DataFrame creado\n",
        "#df_ventas.to_csv('ventas_2020_y_2021.csv') # Guardar DataFrame en archivo: ventas_2020_y_2021.csv\n"
      ],
      "metadata": {
        "id": "jUaN0odnw_-x"
      },
      "execution_count": null,
      "outputs": []
    },
    {
      "cell_type": "code",
      "source": [
        "# Visualizar datos\n",
        "#df_ventas.head()\n",
        "df_ventas.loc['2020'], df_ventas.loc['2021']"
      ],
      "metadata": {
        "id": "98yw9hscJKmm"
      },
      "execution_count": null,
      "outputs": []
    },
    {
      "cell_type": "code",
      "source": [
        "# Función shape para saber de que se compone el DataFrame creado\n",
        "df_ventas.shape"
      ],
      "metadata": {
        "id": "LP02WRcsMFYL"
      },
      "execution_count": null,
      "outputs": []
    },
    {
      "cell_type": "code",
      "source": [
        "# Filtrar por columnas\n",
        "df_ventas = df_ventas[['Trimestre 2', 'Trimestre 4']]\n",
        "df_ventas.head()"
      ],
      "metadata": {
        "id": "nQz07VFDIoeA"
      },
      "execution_count": null,
      "outputs": []
    },
    {
      "cell_type": "code",
      "source": [
        "# Filtrado de registro (fila) para un índice específico 3\n",
        "# df_ventas.loc['Sucursal Oeste']\n",
        "df_ventas.loc['2020']"
      ],
      "metadata": {
        "id": "LC7ki40mKXWJ"
      },
      "execution_count": null,
      "outputs": []
    },
    {
      "cell_type": "code",
      "source": [
        "# Ordenar datos por indice\n",
        "df_ventas = df_ventas.sort_index()\n",
        "df_ventas"
      ],
      "metadata": {
        "id": "_SSEA2I5LhSV"
      },
      "execution_count": null,
      "outputs": []
    },
    {
      "cell_type": "code",
      "source": [
        "# Acceder a los datos asociados con la key (clave) 'x'\n",
        "print(df_ventas.loc['2021'])"
      ],
      "metadata": {
        "id": "ccd95_g4N1nh"
      },
      "execution_count": null,
      "outputs": []
    },
    {
      "cell_type": "markdown",
      "source": [
        "### Concatenar objetos por filas o por columnas"
      ],
      "metadata": {
        "id": "fn-ASBd9LEGJ"
      }
    },
    {
      "cell_type": "code",
      "source": [
        "# Función concat para unir los DataFrame por filas o registros\n",
        "# Parámetro para etiquetar los DataFrame de acuerdo a su origen de datos: keys=['x', 'y']\n",
        "\n",
        "df_ventas_1 = pd.concat([ventas_1, ventas_2], axis=0)\n",
        "df_ventas_1"
      ],
      "metadata": {
        "id": "T1gsOvZXLDIJ"
      },
      "execution_count": null,
      "outputs": []
    },
    {
      "cell_type": "code",
      "source": [
        "# Función concat para unir los DataFrame por columnas\n",
        "# Parámetro para etiquetar los DataFrame de acuerdo a su origen de datos: keys=['x', 'y']\n",
        "\n",
        "df_ventas_2 = pd.concat([ventas_1, ventas_2], axis=1) #, keys=['2020', '2021'])\n",
        "df_ventas_2"
      ],
      "metadata": {
        "id": "WnvmAeGAMaP6"
      },
      "execution_count": null,
      "outputs": []
    },
    {
      "cell_type": "markdown",
      "source": [
        "## DATOS DE CALIDAD DEL AIRE"
      ],
      "metadata": {
        "id": "JFb2Fv9z9r0S"
      }
    },
    {
      "cell_type": "code",
      "source": [
        "# Métodos para cargar los datos: pd.read_csv\n",
        "# Parametro index_col para asignar indice: Asignamos las fechas de los datos como índice: index_col = 2\n",
        "\n",
        "# Cargar datos no2 = air_quality_no2_long.csv\n",
        "aq_no2 = pd.read_csv('/content/calidad_aire/air_quality_no2_long.csv') #, index_col = 2)\n",
        "\n",
        "# Cargar datos pm25 = air_quality_pm25_long.csv\n",
        "aq_pm25 = pd.read_csv('/content/calidad_aire/air_quality_pm25_long.csv') #, index_col = 2)\n",
        "\n",
        "# Visualización de los datos de calidad del aire\n",
        "aq_no2.head(), aq_pm25.head()"
      ],
      "metadata": {
        "id": "h7mPWxkvxsde"
      },
      "execution_count": null,
      "outputs": []
    },
    {
      "cell_type": "markdown",
      "source": [
        "#### Concatenar los datos de la Calidad del Aire en Ciudades Europeas"
      ],
      "metadata": {
        "id": "1K83rPGIDflE"
      }
    },
    {
      "cell_type": "code",
      "source": [
        "# Concatenar los DataFrame y Series con el método: df = pd.concat([df_1, df_2])\n",
        "# Parámetro para etiquetar los DataFrame de acuerdo a su origen de datos: keys=['x', 'y']\n",
        "\n",
        "df_aq = pd.concat([aq_no2, aq_pm25], keys=['aq_no2', 'aq_pm25']) # Creación de DataFrame concatenado\n",
        "df_aq"
      ],
      "metadata": {
        "id": "Iv4wD56y_fIu"
      },
      "execution_count": null,
      "outputs": []
    },
    {
      "cell_type": "code",
      "source": [
        "# Visualizar datos\n",
        "df_aq.head()"
      ],
      "metadata": {
        "id": "qH8CSsM4JGQP"
      },
      "execution_count": null,
      "outputs": []
    },
    {
      "cell_type": "code",
      "source": [
        "# Función shape para saber de que se compone el DataFrame creado\n",
        "df_aq.shape"
      ],
      "metadata": {
        "colab": {
          "base_uri": "https://localhost:8080/"
        },
        "id": "ZwSRNlWbMKV-",
        "outputId": "f119c54e-863e-4de5-9f39-ef85ed397589"
      },
      "execution_count": 22,
      "outputs": [
        {
          "output_type": "execute_result",
          "data": {
            "text/plain": [
              "(3178, 7)"
            ]
          },
          "metadata": {},
          "execution_count": 22
        }
      ]
    },
    {
      "cell_type": "code",
      "source": [
        "# Filtrado de registro (fila) para un índice específico cuando no tienen indice los DataFrame sería: df_aq.loc[3],\n",
        "# pero si tiene Keys: df_aq.loc['aq_no2'] o df_aq.loc['aq_pm25']\n",
        "# df_aq.loc[3]\n",
        "\n",
        "# Si se desean análisis específicos por DataFrame Concatenados\n",
        "# df_aq.loc['aq_no2']\n",
        "df_aq.loc['aq_pm25']"
      ],
      "metadata": {
        "id": "RdaTROhKKGbk"
      },
      "execution_count": null,
      "outputs": []
    },
    {
      "cell_type": "code",
      "source": [
        "# Filtrar por columnas\n",
        "df_aq = df_aq[['city', 'parameter', 'value']]\n",
        "df_aq"
      ],
      "metadata": {
        "id": "BpDa_1ZEIr2o"
      },
      "execution_count": null,
      "outputs": []
    },
    {
      "cell_type": "code",
      "source": [
        "# Filtrado columnas utilizando el Método iloc\n",
        "df_aq.iloc[2:4]"
      ],
      "metadata": {
        "id": "K2J6FRKfJtLq"
      },
      "execution_count": null,
      "outputs": []
    },
    {
      "cell_type": "code",
      "source": [
        "# Ordenar datos por indice\n",
        "df_aq = df_aq.sort_index()\n",
        "df_aq"
      ],
      "metadata": {
        "id": "Gl0tLf5jL5or"
      },
      "execution_count": null,
      "outputs": []
    },
    {
      "cell_type": "code",
      "source": [
        "# Acceder a los datos asociados con la key (clave) 'x'\n",
        "print(df_aq.loc['aq_pm25'])"
      ],
      "metadata": {
        "id": "V4EM8nJBN-_S"
      },
      "execution_count": null,
      "outputs": []
    },
    {
      "cell_type": "markdown",
      "source": [
        "### Concatenar objetos por filas o por columnas"
      ],
      "metadata": {
        "id": "-yboI17DLTWb"
      }
    },
    {
      "cell_type": "code",
      "source": [
        "# Función concat para unir los DataFrame por filas o registros\n",
        "df_aq_1 = pd.concat([aq_no2, aq_pm25], axis=0)\n",
        "df_aq_1\n"
      ],
      "metadata": {
        "id": "Keyo9AiKLTp-"
      },
      "execution_count": null,
      "outputs": []
    },
    {
      "cell_type": "code",
      "source": [
        "# Función concat para unir los DataFrame por columnas\n",
        "df_aq_2 = pd.concat([aq_no2, aq_pm25], axis=0)\n",
        "df_aq_2"
      ],
      "metadata": {
        "id": "_cCHe0s8NQfO"
      },
      "execution_count": null,
      "outputs": []
    },
    {
      "cell_type": "markdown",
      "source": [
        "## Concatenar (Unir) datos creados mediante Series (concat)"
      ],
      "metadata": {
        "id": "d9rqjOVqxI2a"
      }
    },
    {
      "cell_type": "markdown",
      "source": [
        "## Creación de DataSeries (2) de datos"
      ],
      "metadata": {
        "id": "eLRzsGwCDsjj"
      }
    },
    {
      "cell_type": "code",
      "source": [
        "# Creación de dataseries\n",
        "serie_1 = pd.Series(['A', 'B', 'C']) #, index=[1, 2, 3])\n",
        "serie_2 = pd.Series(['D', 'E', 'F']) #, index=[4, 5, 6])"
      ],
      "metadata": {
        "id": "MzVcpJMBtt7s"
      },
      "execution_count": 29,
      "outputs": []
    },
    {
      "cell_type": "markdown",
      "source": [
        "### Concatenar los DataSeries"
      ],
      "metadata": {
        "id": "VG598RzLD81O"
      }
    },
    {
      "cell_type": "code",
      "source": [
        "# Concatenar dataseries\n",
        "df_c = pd.concat([serie_1, serie_2])\n",
        "df_c"
      ],
      "metadata": {
        "id": "kwsBObRDuHkY"
      },
      "execution_count": null,
      "outputs": []
    },
    {
      "cell_type": "markdown",
      "source": [
        "## Concatenar datos almacenados en distintos DataFrame"
      ],
      "metadata": {
        "id": "9KuZaA8rul5O"
      }
    },
    {
      "cell_type": "markdown",
      "source": [
        "![texto alternativo](https://www.blogodisea.com/wp-content/uploads/2011/02/diagrama-de-venn-Teoria-de-los-Conjuntos-matematicas.jpg)\n",
        "\n",
        "\n",
        "\n"
      ],
      "metadata": {
        "id": "LsXJYHo_1TCY"
      }
    },
    {
      "cell_type": "markdown",
      "source": [
        "## Supongamos que estamos estudiando en la universidad, y a la vez conseguimos una jornada de trabajo parcial, ya sea por estudio y trabajo o por jornal\n",
        "\n",
        "No dieron dos listas de nombres del personal y de estudiantes para que los unamos"
      ],
      "metadata": {
        "id": "DvyHdyRJSEII"
      }
    },
    {
      "cell_type": "code",
      "source": [
        "import pandas as pd\n",
        "\n",
        "# Método para asignar indice: df.set_index('nombre indice')\n",
        "\n",
        "# Crear DataFrames del personal\n",
        "Personal = pd.DataFrame([{'Nombre': 'Maria', 'Empleo': 'Directora'},\n",
        "                         {'Nombre': 'Pedro', 'Empleo': 'Profesor'},\n",
        "                         {'Nombre': 'Manuela', 'Empleo': 'Asistente'}])\n",
        "\n",
        "## ASEGURARSE DE COLOCAR EL MISMO INDICE A LOS DATAFRAME\n",
        "# indexamos por nombre\n",
        "#Personal = Personal.set_index('Nombre') # Establecemos nombre como el indice\n",
        "Personal"
      ],
      "metadata": {
        "id": "UL6LcqD_vEKA"
      },
      "execution_count": null,
      "outputs": []
    },
    {
      "cell_type": "code",
      "source": [
        "# Crear Dataframe de estudiantes\n",
        "Estudiantes = pd.DataFrame([{'Nombre': 'Manuela', 'Facultad': 'Empresas'},\n",
        "                           {'Nombre': 'Miguel', 'Facultad': 'Derecho'},\n",
        "                           {'Nombre': 'Fernando', 'Facultad': 'Humanidades'},\n",
        "                            {'Nombre': 'Maria', 'Facultad': 'Ciencias Naturales'}])\n",
        "\n",
        "## ASEGURARSE DE COLOCAR EL MISMO INDICE A LOS DATAFRAME\n",
        "# indexamos por nombre\n",
        "#Estudiantes = Estudiantes.set_index('Nombre') #Establecemos nombre como el indice\n",
        "Estudiantes"
      ],
      "metadata": {
        "id": "bfgf8J6gvXqt"
      },
      "execution_count": null,
      "outputs": []
    },
    {
      "cell_type": "markdown",
      "source": [
        "## METODO CONCAT (outer)\n",
        "\n",
        "### A = PERSONAL que trabaja en la universidad y B = ESTUDIANTES que estudian y trabajan en la universidad\n",
        "\n",
        "![Elmentos independientes](https://www.smartick.es/blog/wp-content/uploads/142.png)"
      ],
      "metadata": {
        "id": "RTzCF4O4vkfP"
      }
    },
    {
      "cell_type": "code",
      "source": [
        "# Concatenar (unir) por filas\n",
        "# Parámetro key para identificar la etiqueta origen de la unión de esos datos: keys=['Personal', 'Estudiantes']\n",
        "\n",
        "df3 = pd.concat([Estudiantes, Personal], axis=0, join='outer')\n",
        "df3"
      ],
      "metadata": {
        "id": "9Y8ubSh6vdeD"
      },
      "execution_count": null,
      "outputs": []
    },
    {
      "cell_type": "code",
      "source": [
        "# Concatenar (unir) por columnas\n",
        "# Parámetro key para identificar la etiqueta origen de la unión de esos datos: keys=['Personal', 'Estudiantes']\n",
        "\n",
        "df4 = pd.concat([Estudiantes, Personal], axis=1, join='outer')\n",
        "df4"
      ],
      "metadata": {
        "id": "KIr0V6bgvsMB"
      },
      "execution_count": null,
      "outputs": []
    },
    {
      "cell_type": "markdown",
      "source": [
        "# METODO CONCAT (inner)\n",
        "\n",
        "![Elmentos independientes](https://www.smartick.es/blog/wp-content/uploads/142.png)"
      ],
      "metadata": {
        "id": "dKwX1Yp_v6H9"
      }
    },
    {
      "cell_type": "markdown",
      "source": [
        "### Inter = sería el personal ya sea estudiantes que trabaja o personal que estudia en la universidad"
      ],
      "metadata": {
        "id": "ttvOQit4Slzz"
      }
    },
    {
      "cell_type": "code",
      "source": [
        "# función inner, Solo se filtra los que cumplen con la condición de ambos en el DataFrame\n",
        "# Parámetro key para identificar la etiqueta origen de la unión de esos datos: keys=['Personal', 'Estudiantes']\n",
        "\n",
        "df5 = pd.concat([Estudiantes, Personal], axis=1, join='inner')\n",
        "df5\n",
        "\n",
        "## ¿QUE OCURRE AQUÍ?"
      ],
      "metadata": {
        "id": "Kavga3eRv8yx"
      },
      "execution_count": null,
      "outputs": []
    },
    {
      "cell_type": "markdown",
      "source": [
        "# Concatenación de Archivos y otras dependencias"
      ],
      "metadata": {
        "id": "hYdsSqbv5sDz"
      }
    },
    {
      "cell_type": "code",
      "execution_count": null,
      "metadata": {
        "tags": [],
        "id": "G6Fkyve_dK73"
      },
      "outputs": [],
      "source": [
        "# Importar las bibliotecas necesarias\n",
        "import pandas as pd  # Pandas para manipulación de datos en dataframes\n",
        "import os  # os para interactuar con el sistema operativo\n",
        "\n",
        "import re  # re para trabajar con expresiones regulares\n",
        "import datetime as dt  # datetime para trabajar con fechas y horas\n",
        "\n",
        "import matplotlib.pyplot as plt  # Matplotlib para visualizaciones\n",
        "import seaborn as sns  # Seaborn para visualizaciones estadísticas\n",
        "\n",
        "# Configurar el estilo de los gráficos\n",
        "plt.style.use('seaborn')  # Usar el estilo 'seaborn' para los gráficos de matplotlib\n",
        "sns.set_style('darkgrid')  # Usar el fondo 'darkgrid' para los gráficos de seaborn\n"
      ]
    },
    {
      "cell_type": "markdown",
      "metadata": {
        "id": "bC4Wp2qydK75"
      },
      "source": [
        "## Comentarios previos sobre las funciones para lectura de múltiples archivos\n",
        "La línea `os.listdir('files')` utiliza la función `listdir` del módulo `os` para obtener una lista de los nombres de los archivos en el directorio especificado, que en este caso es `'files'`.\n",
        "\n",
        "- `os`: Es el módulo de Python que proporciona una manera de usar funcionalidades dependientes del sistema operativo, como la lectura o escritura en el sistema de archivos.\n",
        "  \n",
        "- `listdir`: Es una función dentro del módulo `os` que devuelve una lista conteniendo los nombres de las entradas en el directorio dado por el argumento path (ruta). Si path es una cadena de texto o bytes, se devolverá una lista de tipo correspondiente, es decir, una lista de cadenas de texto o una lista de bytes.\n",
        "\n",
        "- `'files'`: Es el argumento que se pasa a `listdir`, y representa el nombre del directorio del que queremos obtener los nombres de los archivos. La función buscará este directorio en la ruta actual del script a menos que se proporcione una ruta completa.\n",
        "\n",
        "Por lo tanto, `os.listdir('files')` muestra una lista de nombres de todos los archivos y subdirectorios en el directorio `'files'`. Si el directorio no existe, se lanzará un error `FileNotFoundError`."
      ]
    },
    {
      "cell_type": "code",
      "execution_count": null,
      "metadata": {
        "tags": [],
        "id": "-o3K5Dn0dK75"
      },
      "outputs": [],
      "source": [
        "# La función listdir del módulo os para obtener una lista de los nombres de los archivos en el directorio especificado: 'files'\n",
        "\n",
        "os.listdir('/content/files_ventas') # files represente el nombre del directorio\n",
        "\n",
        "# Dirección en Drive: /content/drive/MyDrive/Colab Notebooks/Curso_AI/Pandas/Ventas/sales/"
      ]
    },
    {
      "cell_type": "code",
      "execution_count": 32,
      "metadata": {
        "tags": [],
        "id": "SVYDdZdNdK75"
      },
      "outputs": [],
      "source": [
        "#leactura de csv de pandas\n",
        "df=pd.DataFrame()"
      ]
    },
    {
      "cell_type": "code",
      "execution_count": 33,
      "metadata": {
        "tags": [],
        "id": "-bcvD5gYdK76"
      },
      "outputs": [],
      "source": [
        "# Lectura y Creación del DataFrame Concatenado con múltiple archivos csv.\n",
        "# 1. files: Es una lista que almacena estos nombres de archivo.\n",
        "# 2. os.listdir('files'): Obtiene una lista de todos los nombres de los archivos en el directorio llamado 'files'\n",
        "# 3. for x in files: Inicia un bucle que recorre cada nombre de archivo en la lista files, almacenando el nombre del archivo actual en la variable x en cada iteración.\n",
        "# 4. 'files/' + x: Crea la ruta completa al archivo actual concatenando la carpeta\n",
        "# 5. 'files/' con el nombre del archivo x.\n",
        "# 6. pd.read_csv('files/' + x): Lee el archivo CSV en la ruta especificada y lo convierte en un DataFrame.\n",
        "# 7. file: Almacena este DataFrame en la variable file.\n",
        "# 8. [file, df]: Crea una lista que contiene el DataFrame recién leído (file) y el DataFrame df (que no está definido en el fragmento de código proporcionado, por lo que asumiré que ha sido definido previamente en el script).\n",
        "# 9. pd.concat([file, df]): Concatena los DataFrames en la lista a lo largo de las filas (uno debajo del otro).\n",
        "# 10. df: Almacena el DataFrame concatenado de nuevo en la variable df.\n",
        "\n",
        "files=os.listdir('files_ventas')\n",
        "for x in files:\n",
        "    file=pd.read_csv('files_ventas/' + x)\n",
        "    df=pd.concat([file,df])\n"
      ]
    },
    {
      "cell_type": "code",
      "source": [
        "df.head()"
      ],
      "metadata": {
        "id": "CpjSBDpXeMc7"
      },
      "execution_count": null,
      "outputs": []
    },
    {
      "cell_type": "code",
      "execution_count": null,
      "metadata": {
        "tags": [],
        "id": "pNNeA7lDdK76"
      },
      "outputs": [],
      "source": [
        "#df.to_csv('sales.csv')\n",
        "df.shape, df.info(), df.dtypes"
      ]
    },
    {
      "cell_type": "code",
      "execution_count": null,
      "metadata": {
        "tags": [],
        "id": "x2yt283XdK76"
      },
      "outputs": [],
      "source": [
        "# Función para Contar los datos nulos\n",
        "\n",
        "df['Order ID'].isnull().value_counts()"
      ]
    },
    {
      "cell_type": "code",
      "execution_count": 37,
      "metadata": {
        "tags": [],
        "id": "UUtzlypgdK77"
      },
      "outputs": [],
      "source": [
        "## Función para Eliminar datos nulos\n",
        "\n",
        "df=df[df['Order ID'].notnull()]"
      ]
    },
    {
      "cell_type": "code",
      "execution_count": null,
      "metadata": {
        "tags": [],
        "id": "sBWIGtZmdK77"
      },
      "outputs": [],
      "source": [
        "# Conteo de datos nulos\n",
        "df.isnull().value_counts()"
      ]
    },
    {
      "cell_type": "code",
      "execution_count": null,
      "metadata": {
        "tags": [],
        "id": "z4NLcBlndK77"
      },
      "outputs": [],
      "source": [
        "#definir el tipo de cada variable\n",
        "df.dtypes"
      ]
    },
    {
      "cell_type": "markdown",
      "metadata": {
        "id": "BhhqD0wNdK77"
      },
      "source": [
        "### Elimar datos de los encabezados no deseados\n",
        "La línea de código `df = df[df['Product'] != 'Product']` está utilizando una técnica en Pandas conocida como \"Boolean Indexing\" para filtrar el DataFrame `df`. Vamos a desglosarla:\n",
        "\n",
        "- `df['Product'] != 'Product'`: Esta parte crea una Serie de valores booleanos (True/False) al comparar cada elemento en la columna 'Product' con la cadena 'Product'. Si el elemento es igual a la cadena 'Product', el correspondiente valor booleano será `False`, de lo contrario será `True`.\n",
        "\n",
        "- `df[df['Product'] != 'Product']`: Aquí, esta Serie booleana se utiliza para indexar el DataFrame original `df`. Esencialmente, para cada `True` en la Serie booleana, la correspondiente fila en `df` será seleccionada, y para cada `False`, la fila será excluida.\n",
        "\n",
        "- `df =`: Finalmente, el DataFrame filtrado se asigna de nuevo a `df`, efectivamente sobrescribiendo el DataFrame original con la versión filtrada.\n",
        "\n",
        "Esta línea de código elimina todas las filas del DataFrame `df` donde la columna 'Product' es igual a la cadena 'Product'. Este tipo de operación es útil para eliminar filas que contienen encabezados de columnas en los datos, lo cual puede ocurrir si se han concatenado varios archivos CSV que contienen encabezados en medio de los datos."
      ]
    },
    {
      "cell_type": "code",
      "execution_count": 40,
      "metadata": {
        "tags": [],
        "id": "PCn5IRd_dK77"
      },
      "outputs": [],
      "source": [
        "#Eliminar (filtrar) elementos no deseados que aparecen en el DataFrame\n",
        "df=df[df['Product']!='Product']"
      ]
    },
    {
      "cell_type": "code",
      "execution_count": 41,
      "metadata": {
        "tags": [],
        "id": "nAn5IAK6dK78"
      },
      "outputs": [],
      "source": [
        "df['Quantity Ordered']=df['Quantity Ordered'].astype('int64')\n",
        "df['Price Each']=df['Price Each'].astype('float')\n",
        "df['Order Date']=pd.to_datetime(df['Order Date']) #, format='%m-%m-%Y'\n"
      ]
    },
    {
      "cell_type": "code",
      "execution_count": null,
      "metadata": {
        "tags": [],
        "id": "rYCG4_BDdK78"
      },
      "outputs": [],
      "source": [
        "df.info(), df.dtypes"
      ]
    },
    {
      "cell_type": "markdown",
      "metadata": {
        "id": "iGbzyQ0PdK78"
      },
      "source": [
        "# CUAL FUE EL MES CON LA VENTA MAS ALTA"
      ]
    },
    {
      "cell_type": "code",
      "execution_count": 43,
      "metadata": {
        "tags": [],
        "id": "f38acUQidK78"
      },
      "outputs": [],
      "source": [
        "#Crea una columna del resultado de la multiplicacion de precio por cantidad\n",
        "df['Total_Ventas']=df['Quantity Ordered']*df['Price Each']"
      ]
    },
    {
      "cell_type": "code",
      "execution_count": null,
      "metadata": {
        "tags": [],
        "id": "mQ79YNy9dK78"
      },
      "outputs": [],
      "source": [
        "#agrupaciones primero por mes\n",
        "df['Mes']=df['Order Date'].dt.month\\\n",
        "\n",
        "df_mes=df.groupby('Mes').sum()\n",
        "\n",
        "#resetear el indice\n",
        "df_mes=df_mes.reset_index()\n",
        "df_mes.head()"
      ]
    },
    {
      "cell_type": "code",
      "execution_count": null,
      "metadata": {
        "id": "WQkP8lf7dK78"
      },
      "outputs": [],
      "source": [
        "#agrupacion la voy haver por fecha\n",
        "df_week=df.groupby('Order Date').sum()"
      ]
    },
    {
      "cell_type": "code",
      "execution_count": null,
      "metadata": {
        "id": "nwVxN2xidK78"
      },
      "outputs": [],
      "source": [
        "df_week=df_week.resample('W').sum()\n",
        "df_week.head()"
      ]
    },
    {
      "cell_type": "code",
      "execution_count": null,
      "metadata": {
        "tags": [],
        "id": "kscV0JaBdK78"
      },
      "outputs": [],
      "source": [
        "#subplot de graficos\n",
        "fig, axes=plt.subplots(1,2, figsize=(16,7))\n",
        "ax1=plt.subplot(1,2,1)\n",
        "ax2=plt.subplot(1,2,2)\n",
        "bars=ax1.bar(df_mes['Mes'], df_mes['Total_Ventas'])\n",
        "ax2.plot(df_week['Total_Ventas'])\n",
        "ax1.set_xticks(df_mes['Mes'])\n",
        "ax1.set_title('Ventas por Mes', size=18)\n",
        "ax2.set_title('Tendencia de Ventas Por Semana', size=18)\n",
        "\n",
        "ax1.set_xlabel('Meses')\n",
        "ax1.set_ylabel('Ventas en Millones')\n",
        "bars[11].set_color('#005f73')\n",
        "\n",
        "ax2.set_xlabel('Semanas')\n",
        "ax2.set_ylabel('Ventas en Millones')\n",
        "\n",
        "plt.show()"
      ]
    },
    {
      "cell_type": "code",
      "execution_count": null,
      "metadata": {
        "id": "ch4malELdK79"
      },
      "outputs": [],
      "source": [
        "df.head()"
      ]
    },
    {
      "cell_type": "markdown",
      "metadata": {
        "id": "0LV18aw2dK79"
      },
      "source": [
        "# CUAL ES LA CIUDAD CON MAYOR VENTA"
      ]
    },
    {
      "cell_type": "markdown",
      "source": [
        "## **Función anonima lamda**:\n",
        "\n",
        "La función `lambda` en Python se utiliza para crear funciones anónimas en línea. Estas son funciones que se declaran y se utilizan en el mismo lugar, y generalmente sirven para operaciones simples que no requieren una definición de función completa usando `def`. La sintaxis básica de una función `lambda` es:\n",
        "\n",
        "```python\n",
        "lambda argumentos: expresion\n",
        "```\n",
        "\n",
        "## Linea de Código\n",
        "\n",
        "```python\n",
        "df['Ciudad'] = df['Purchase Address'].apply(lambda x: x.split(',')[1])\n",
        "```\n",
        "\n",
        "La línea de código utiliza la función `apply()` junto con una función `lambda` para crear o modificar una columna (`'Ciudad'`) en un DataFrame `df` de `pandas`. Veamos cada parte de esta línea de código:\n",
        "\n",
        "### Desglose:\n",
        "\n",
        "- **`df['Purchase Address']`**: Selecciona la columna `'Purchase Address'` del DataFrame `df`.\n",
        "  \n",
        "- **`.apply()`**: Aplica una función a cada elemento de la columna seleccionada. En este caso, se aplica una función `lambda` a cada entrada de la columna `'Purchase Address'`.\n",
        "\n",
        "- **`lambda x: x.split(',')[1]`**: Esta es una función anónima (o `lambda`), que toma un argumento `x` y devuelve `x.split(',')[1]`.\n",
        "  - **`x.split(',')`**: Divide la cadena `x` en una lista de subcadenas cada vez que encuentra una coma (`,`).\n",
        "  - **`[1]`**: Selecciona el segundo elemento de la lista resultante.\n",
        "\n",
        "- **`df['Ciudad'] = ...`**: Asigna los resultados de la operación `apply()` a una nueva columna llamada `'Ciudad'` en el DataFrame `df`.\n",
        "\n",
        "### Ejemplo:\n",
        "\n",
        "Si tuviéramos un DataFrame con una columna `'Purchase Address'` que tiene el siguiente formato:\n",
        "\n",
        "```\n",
        "123 Main St, Springfield, IL 62704\n",
        "```\n",
        "\n",
        "La función `lambda x: x.split(',')[1]` tomará cada dirección, la dividirá en partes utilizando la coma como delimitador, y seleccionará la segunda parte (índice `[1]`), que en este caso es el nombre de la ciudad (`' Springfield'`).\n",
        "\n",
        "Así que después de aplicar esta línea de código, el DataFrame `df` tendrá una nueva columna llamada `'Ciudad'` que contiene los nombres de las ciudades extraídos de la columna `'Purchase Address'`."
      ],
      "metadata": {
        "id": "NuyQk2D6DsEr"
      }
    },
    {
      "cell_type": "code",
      "execution_count": null,
      "metadata": {
        "id": "aVxldYdJdK79"
      },
      "outputs": [],
      "source": [
        "# Ver explicación anterior relacionado a función lamda\n",
        "df['Ciudad']=df['Purchase Address'].apply(lambda x: x.split(',')[1])\n",
        "df.head()"
      ]
    },
    {
      "cell_type": "code",
      "execution_count": null,
      "metadata": {
        "id": "3-D0Q2KpdK79"
      },
      "outputs": [],
      "source": [
        "#grafica para ver la ciudad\n",
        "df_ciudad=df.groupby('Ciudad').sum()\n",
        "\n",
        "df_ciudad=df_ciudad.reset_index()\n"
      ]
    },
    {
      "cell_type": "code",
      "execution_count": null,
      "metadata": {
        "id": "JNFREmUFdK79"
      },
      "outputs": [],
      "source": [
        "bars=plt.bar(df_ciudad['Ciudad'], df_ciudad['Total_Ventas'])\n",
        "plt.xticks(rotation=90)\n",
        "bars[7].set_color('r')\n",
        "plt.show()"
      ]
    },
    {
      "cell_type": "markdown",
      "metadata": {
        "id": "uvAE7EqtdK79"
      },
      "source": [
        "# CUAL ES LA HORA A QUE MAS SE VENDEN PRODUCTOS"
      ]
    },
    {
      "cell_type": "code",
      "execution_count": 52,
      "metadata": {
        "id": "rhP63rfddK79",
        "colab": {
          "base_uri": "https://localhost:8080/",
          "height": 310
        },
        "outputId": "b490b4a8-6dc7-4011-f9eb-2003bbad22ee"
      },
      "outputs": [
        {
          "output_type": "execute_result",
          "data": {
            "text/plain": [
              "  Order ID                   Product  Quantity Ordered  Price Each  \\\n",
              "0   141234                    iPhone                 1      700.00   \n",
              "1   141235  Lightning Charging Cable                 1       14.95   \n",
              "2   141236          Wired Headphones                 2       11.99   \n",
              "3   141237          27in FHD Monitor                 1      149.99   \n",
              "4   141238          Wired Headphones                 1       11.99   \n",
              "\n",
              "           Order Date                       Purchase Address  Total_Ventas  \\\n",
              "0 2019-01-22 21:25:00        944 Walnut St, Boston, MA 02215        700.00   \n",
              "1 2019-01-28 14:15:00       185 Maple St, Portland, OR 97035         14.95   \n",
              "2 2019-01-17 13:33:00  538 Adams St, San Francisco, CA 94016         23.98   \n",
              "3 2019-01-05 20:33:00     738 10th St, Los Angeles, CA 90001        149.99   \n",
              "4 2019-01-25 11:59:00          387 10th St, Austin, TX 73301         11.99   \n",
              "\n",
              "   Mes          Ciudad  \n",
              "0    1          Boston  \n",
              "1    1        Portland  \n",
              "2    1   San Francisco  \n",
              "3    1     Los Angeles  \n",
              "4    1          Austin  "
            ],
            "text/html": [
              "\n",
              "  <div id=\"df-3c11e2e4-911e-4d19-9002-9fefcad43db7\" class=\"colab-df-container\">\n",
              "    <div>\n",
              "<style scoped>\n",
              "    .dataframe tbody tr th:only-of-type {\n",
              "        vertical-align: middle;\n",
              "    }\n",
              "\n",
              "    .dataframe tbody tr th {\n",
              "        vertical-align: top;\n",
              "    }\n",
              "\n",
              "    .dataframe thead th {\n",
              "        text-align: right;\n",
              "    }\n",
              "</style>\n",
              "<table border=\"1\" class=\"dataframe\">\n",
              "  <thead>\n",
              "    <tr style=\"text-align: right;\">\n",
              "      <th></th>\n",
              "      <th>Order ID</th>\n",
              "      <th>Product</th>\n",
              "      <th>Quantity Ordered</th>\n",
              "      <th>Price Each</th>\n",
              "      <th>Order Date</th>\n",
              "      <th>Purchase Address</th>\n",
              "      <th>Total_Ventas</th>\n",
              "      <th>Mes</th>\n",
              "      <th>Ciudad</th>\n",
              "    </tr>\n",
              "  </thead>\n",
              "  <tbody>\n",
              "    <tr>\n",
              "      <th>0</th>\n",
              "      <td>141234</td>\n",
              "      <td>iPhone</td>\n",
              "      <td>1</td>\n",
              "      <td>700.00</td>\n",
              "      <td>2019-01-22 21:25:00</td>\n",
              "      <td>944 Walnut St, Boston, MA 02215</td>\n",
              "      <td>700.00</td>\n",
              "      <td>1</td>\n",
              "      <td>Boston</td>\n",
              "    </tr>\n",
              "    <tr>\n",
              "      <th>1</th>\n",
              "      <td>141235</td>\n",
              "      <td>Lightning Charging Cable</td>\n",
              "      <td>1</td>\n",
              "      <td>14.95</td>\n",
              "      <td>2019-01-28 14:15:00</td>\n",
              "      <td>185 Maple St, Portland, OR 97035</td>\n",
              "      <td>14.95</td>\n",
              "      <td>1</td>\n",
              "      <td>Portland</td>\n",
              "    </tr>\n",
              "    <tr>\n",
              "      <th>2</th>\n",
              "      <td>141236</td>\n",
              "      <td>Wired Headphones</td>\n",
              "      <td>2</td>\n",
              "      <td>11.99</td>\n",
              "      <td>2019-01-17 13:33:00</td>\n",
              "      <td>538 Adams St, San Francisco, CA 94016</td>\n",
              "      <td>23.98</td>\n",
              "      <td>1</td>\n",
              "      <td>San Francisco</td>\n",
              "    </tr>\n",
              "    <tr>\n",
              "      <th>3</th>\n",
              "      <td>141237</td>\n",
              "      <td>27in FHD Monitor</td>\n",
              "      <td>1</td>\n",
              "      <td>149.99</td>\n",
              "      <td>2019-01-05 20:33:00</td>\n",
              "      <td>738 10th St, Los Angeles, CA 90001</td>\n",
              "      <td>149.99</td>\n",
              "      <td>1</td>\n",
              "      <td>Los Angeles</td>\n",
              "    </tr>\n",
              "    <tr>\n",
              "      <th>4</th>\n",
              "      <td>141238</td>\n",
              "      <td>Wired Headphones</td>\n",
              "      <td>1</td>\n",
              "      <td>11.99</td>\n",
              "      <td>2019-01-25 11:59:00</td>\n",
              "      <td>387 10th St, Austin, TX 73301</td>\n",
              "      <td>11.99</td>\n",
              "      <td>1</td>\n",
              "      <td>Austin</td>\n",
              "    </tr>\n",
              "  </tbody>\n",
              "</table>\n",
              "</div>\n",
              "    <div class=\"colab-df-buttons\">\n",
              "\n",
              "  <div class=\"colab-df-container\">\n",
              "    <button class=\"colab-df-convert\" onclick=\"convertToInteractive('df-3c11e2e4-911e-4d19-9002-9fefcad43db7')\"\n",
              "            title=\"Convert this dataframe to an interactive table.\"\n",
              "            style=\"display:none;\">\n",
              "\n",
              "  <svg xmlns=\"http://www.w3.org/2000/svg\" height=\"24px\" viewBox=\"0 -960 960 960\">\n",
              "    <path d=\"M120-120v-720h720v720H120Zm60-500h600v-160H180v160Zm220 220h160v-160H400v160Zm0 220h160v-160H400v160ZM180-400h160v-160H180v160Zm440 0h160v-160H620v160ZM180-180h160v-160H180v160Zm440 0h160v-160H620v160Z\"/>\n",
              "  </svg>\n",
              "    </button>\n",
              "\n",
              "  <style>\n",
              "    .colab-df-container {\n",
              "      display:flex;\n",
              "      gap: 12px;\n",
              "    }\n",
              "\n",
              "    .colab-df-convert {\n",
              "      background-color: #E8F0FE;\n",
              "      border: none;\n",
              "      border-radius: 50%;\n",
              "      cursor: pointer;\n",
              "      display: none;\n",
              "      fill: #1967D2;\n",
              "      height: 32px;\n",
              "      padding: 0 0 0 0;\n",
              "      width: 32px;\n",
              "    }\n",
              "\n",
              "    .colab-df-convert:hover {\n",
              "      background-color: #E2EBFA;\n",
              "      box-shadow: 0px 1px 2px rgba(60, 64, 67, 0.3), 0px 1px 3px 1px rgba(60, 64, 67, 0.15);\n",
              "      fill: #174EA6;\n",
              "    }\n",
              "\n",
              "    .colab-df-buttons div {\n",
              "      margin-bottom: 4px;\n",
              "    }\n",
              "\n",
              "    [theme=dark] .colab-df-convert {\n",
              "      background-color: #3B4455;\n",
              "      fill: #D2E3FC;\n",
              "    }\n",
              "\n",
              "    [theme=dark] .colab-df-convert:hover {\n",
              "      background-color: #434B5C;\n",
              "      box-shadow: 0px 1px 3px 1px rgba(0, 0, 0, 0.15);\n",
              "      filter: drop-shadow(0px 1px 2px rgba(0, 0, 0, 0.3));\n",
              "      fill: #FFFFFF;\n",
              "    }\n",
              "  </style>\n",
              "\n",
              "    <script>\n",
              "      const buttonEl =\n",
              "        document.querySelector('#df-3c11e2e4-911e-4d19-9002-9fefcad43db7 button.colab-df-convert');\n",
              "      buttonEl.style.display =\n",
              "        google.colab.kernel.accessAllowed ? 'block' : 'none';\n",
              "\n",
              "      async function convertToInteractive(key) {\n",
              "        const element = document.querySelector('#df-3c11e2e4-911e-4d19-9002-9fefcad43db7');\n",
              "        const dataTable =\n",
              "          await google.colab.kernel.invokeFunction('convertToInteractive',\n",
              "                                                    [key], {});\n",
              "        if (!dataTable) return;\n",
              "\n",
              "        const docLinkHtml = 'Like what you see? Visit the ' +\n",
              "          '<a target=\"_blank\" href=https://colab.research.google.com/notebooks/data_table.ipynb>data table notebook</a>'\n",
              "          + ' to learn more about interactive tables.';\n",
              "        element.innerHTML = '';\n",
              "        dataTable['output_type'] = 'display_data';\n",
              "        await google.colab.output.renderOutput(dataTable, element);\n",
              "        const docLink = document.createElement('div');\n",
              "        docLink.innerHTML = docLinkHtml;\n",
              "        element.appendChild(docLink);\n",
              "      }\n",
              "    </script>\n",
              "  </div>\n",
              "\n",
              "\n",
              "<div id=\"df-3c63ff33-59a6-4f87-9a50-5f085e3eeb1a\">\n",
              "  <button class=\"colab-df-quickchart\" onclick=\"quickchart('df-3c63ff33-59a6-4f87-9a50-5f085e3eeb1a')\"\n",
              "            title=\"Suggest charts.\"\n",
              "            style=\"display:none;\">\n",
              "\n",
              "<svg xmlns=\"http://www.w3.org/2000/svg\" height=\"24px\"viewBox=\"0 0 24 24\"\n",
              "     width=\"24px\">\n",
              "    <g>\n",
              "        <path d=\"M19 3H5c-1.1 0-2 .9-2 2v14c0 1.1.9 2 2 2h14c1.1 0 2-.9 2-2V5c0-1.1-.9-2-2-2zM9 17H7v-7h2v7zm4 0h-2V7h2v10zm4 0h-2v-4h2v4z\"/>\n",
              "    </g>\n",
              "</svg>\n",
              "  </button>\n",
              "\n",
              "<style>\n",
              "  .colab-df-quickchart {\n",
              "      --bg-color: #E8F0FE;\n",
              "      --fill-color: #1967D2;\n",
              "      --hover-bg-color: #E2EBFA;\n",
              "      --hover-fill-color: #174EA6;\n",
              "      --disabled-fill-color: #AAA;\n",
              "      --disabled-bg-color: #DDD;\n",
              "  }\n",
              "\n",
              "  [theme=dark] .colab-df-quickchart {\n",
              "      --bg-color: #3B4455;\n",
              "      --fill-color: #D2E3FC;\n",
              "      --hover-bg-color: #434B5C;\n",
              "      --hover-fill-color: #FFFFFF;\n",
              "      --disabled-bg-color: #3B4455;\n",
              "      --disabled-fill-color: #666;\n",
              "  }\n",
              "\n",
              "  .colab-df-quickchart {\n",
              "    background-color: var(--bg-color);\n",
              "    border: none;\n",
              "    border-radius: 50%;\n",
              "    cursor: pointer;\n",
              "    display: none;\n",
              "    fill: var(--fill-color);\n",
              "    height: 32px;\n",
              "    padding: 0;\n",
              "    width: 32px;\n",
              "  }\n",
              "\n",
              "  .colab-df-quickchart:hover {\n",
              "    background-color: var(--hover-bg-color);\n",
              "    box-shadow: 0 1px 2px rgba(60, 64, 67, 0.3), 0 1px 3px 1px rgba(60, 64, 67, 0.15);\n",
              "    fill: var(--button-hover-fill-color);\n",
              "  }\n",
              "\n",
              "  .colab-df-quickchart-complete:disabled,\n",
              "  .colab-df-quickchart-complete:disabled:hover {\n",
              "    background-color: var(--disabled-bg-color);\n",
              "    fill: var(--disabled-fill-color);\n",
              "    box-shadow: none;\n",
              "  }\n",
              "\n",
              "  .colab-df-spinner {\n",
              "    border: 2px solid var(--fill-color);\n",
              "    border-color: transparent;\n",
              "    border-bottom-color: var(--fill-color);\n",
              "    animation:\n",
              "      spin 1s steps(1) infinite;\n",
              "  }\n",
              "\n",
              "  @keyframes spin {\n",
              "    0% {\n",
              "      border-color: transparent;\n",
              "      border-bottom-color: var(--fill-color);\n",
              "      border-left-color: var(--fill-color);\n",
              "    }\n",
              "    20% {\n",
              "      border-color: transparent;\n",
              "      border-left-color: var(--fill-color);\n",
              "      border-top-color: var(--fill-color);\n",
              "    }\n",
              "    30% {\n",
              "      border-color: transparent;\n",
              "      border-left-color: var(--fill-color);\n",
              "      border-top-color: var(--fill-color);\n",
              "      border-right-color: var(--fill-color);\n",
              "    }\n",
              "    40% {\n",
              "      border-color: transparent;\n",
              "      border-right-color: var(--fill-color);\n",
              "      border-top-color: var(--fill-color);\n",
              "    }\n",
              "    60% {\n",
              "      border-color: transparent;\n",
              "      border-right-color: var(--fill-color);\n",
              "    }\n",
              "    80% {\n",
              "      border-color: transparent;\n",
              "      border-right-color: var(--fill-color);\n",
              "      border-bottom-color: var(--fill-color);\n",
              "    }\n",
              "    90% {\n",
              "      border-color: transparent;\n",
              "      border-bottom-color: var(--fill-color);\n",
              "    }\n",
              "  }\n",
              "</style>\n",
              "\n",
              "  <script>\n",
              "    async function quickchart(key) {\n",
              "      const quickchartButtonEl =\n",
              "        document.querySelector('#' + key + ' button');\n",
              "      quickchartButtonEl.disabled = true;  // To prevent multiple clicks.\n",
              "      quickchartButtonEl.classList.add('colab-df-spinner');\n",
              "      try {\n",
              "        const charts = await google.colab.kernel.invokeFunction(\n",
              "            'suggestCharts', [key], {});\n",
              "      } catch (error) {\n",
              "        console.error('Error during call to suggestCharts:', error);\n",
              "      }\n",
              "      quickchartButtonEl.classList.remove('colab-df-spinner');\n",
              "      quickchartButtonEl.classList.add('colab-df-quickchart-complete');\n",
              "    }\n",
              "    (() => {\n",
              "      let quickchartButtonEl =\n",
              "        document.querySelector('#df-3c63ff33-59a6-4f87-9a50-5f085e3eeb1a button');\n",
              "      quickchartButtonEl.style.display =\n",
              "        google.colab.kernel.accessAllowed ? 'block' : 'none';\n",
              "    })();\n",
              "  </script>\n",
              "</div>\n",
              "    </div>\n",
              "  </div>\n"
            ]
          },
          "metadata": {},
          "execution_count": 52
        }
      ],
      "source": [
        "df.head()"
      ]
    },
    {
      "cell_type": "code",
      "execution_count": 53,
      "metadata": {
        "id": "58qvsAXAdK79",
        "colab": {
          "base_uri": "https://localhost:8080/",
          "height": 310
        },
        "outputId": "82239ade-5ce8-48df-8fcc-f82413f1d41d"
      },
      "outputs": [
        {
          "output_type": "execute_result",
          "data": {
            "text/plain": [
              "  Order ID                   Product  Quantity Ordered  Price Each  \\\n",
              "0   141234                    iPhone                 1      700.00   \n",
              "1   141235  Lightning Charging Cable                 1       14.95   \n",
              "2   141236          Wired Headphones                 2       11.99   \n",
              "3   141237          27in FHD Monitor                 1      149.99   \n",
              "4   141238          Wired Headphones                 1       11.99   \n",
              "\n",
              "           Order Date                       Purchase Address  Total_Ventas  \\\n",
              "0 2019-01-22 21:25:00        944 Walnut St, Boston, MA 02215        700.00   \n",
              "1 2019-01-28 14:15:00       185 Maple St, Portland, OR 97035         14.95   \n",
              "2 2019-01-17 13:33:00  538 Adams St, San Francisco, CA 94016         23.98   \n",
              "3 2019-01-05 20:33:00     738 10th St, Los Angeles, CA 90001        149.99   \n",
              "4 2019-01-25 11:59:00          387 10th St, Austin, TX 73301         11.99   \n",
              "\n",
              "   Mes          Ciudad  Hora  \n",
              "0    1          Boston    21  \n",
              "1    1        Portland    14  \n",
              "2    1   San Francisco    13  \n",
              "3    1     Los Angeles    20  \n",
              "4    1          Austin    11  "
            ],
            "text/html": [
              "\n",
              "  <div id=\"df-42f67881-4c0a-4ea1-b2c0-a4549ca1b0b8\" class=\"colab-df-container\">\n",
              "    <div>\n",
              "<style scoped>\n",
              "    .dataframe tbody tr th:only-of-type {\n",
              "        vertical-align: middle;\n",
              "    }\n",
              "\n",
              "    .dataframe tbody tr th {\n",
              "        vertical-align: top;\n",
              "    }\n",
              "\n",
              "    .dataframe thead th {\n",
              "        text-align: right;\n",
              "    }\n",
              "</style>\n",
              "<table border=\"1\" class=\"dataframe\">\n",
              "  <thead>\n",
              "    <tr style=\"text-align: right;\">\n",
              "      <th></th>\n",
              "      <th>Order ID</th>\n",
              "      <th>Product</th>\n",
              "      <th>Quantity Ordered</th>\n",
              "      <th>Price Each</th>\n",
              "      <th>Order Date</th>\n",
              "      <th>Purchase Address</th>\n",
              "      <th>Total_Ventas</th>\n",
              "      <th>Mes</th>\n",
              "      <th>Ciudad</th>\n",
              "      <th>Hora</th>\n",
              "    </tr>\n",
              "  </thead>\n",
              "  <tbody>\n",
              "    <tr>\n",
              "      <th>0</th>\n",
              "      <td>141234</td>\n",
              "      <td>iPhone</td>\n",
              "      <td>1</td>\n",
              "      <td>700.00</td>\n",
              "      <td>2019-01-22 21:25:00</td>\n",
              "      <td>944 Walnut St, Boston, MA 02215</td>\n",
              "      <td>700.00</td>\n",
              "      <td>1</td>\n",
              "      <td>Boston</td>\n",
              "      <td>21</td>\n",
              "    </tr>\n",
              "    <tr>\n",
              "      <th>1</th>\n",
              "      <td>141235</td>\n",
              "      <td>Lightning Charging Cable</td>\n",
              "      <td>1</td>\n",
              "      <td>14.95</td>\n",
              "      <td>2019-01-28 14:15:00</td>\n",
              "      <td>185 Maple St, Portland, OR 97035</td>\n",
              "      <td>14.95</td>\n",
              "      <td>1</td>\n",
              "      <td>Portland</td>\n",
              "      <td>14</td>\n",
              "    </tr>\n",
              "    <tr>\n",
              "      <th>2</th>\n",
              "      <td>141236</td>\n",
              "      <td>Wired Headphones</td>\n",
              "      <td>2</td>\n",
              "      <td>11.99</td>\n",
              "      <td>2019-01-17 13:33:00</td>\n",
              "      <td>538 Adams St, San Francisco, CA 94016</td>\n",
              "      <td>23.98</td>\n",
              "      <td>1</td>\n",
              "      <td>San Francisco</td>\n",
              "      <td>13</td>\n",
              "    </tr>\n",
              "    <tr>\n",
              "      <th>3</th>\n",
              "      <td>141237</td>\n",
              "      <td>27in FHD Monitor</td>\n",
              "      <td>1</td>\n",
              "      <td>149.99</td>\n",
              "      <td>2019-01-05 20:33:00</td>\n",
              "      <td>738 10th St, Los Angeles, CA 90001</td>\n",
              "      <td>149.99</td>\n",
              "      <td>1</td>\n",
              "      <td>Los Angeles</td>\n",
              "      <td>20</td>\n",
              "    </tr>\n",
              "    <tr>\n",
              "      <th>4</th>\n",
              "      <td>141238</td>\n",
              "      <td>Wired Headphones</td>\n",
              "      <td>1</td>\n",
              "      <td>11.99</td>\n",
              "      <td>2019-01-25 11:59:00</td>\n",
              "      <td>387 10th St, Austin, TX 73301</td>\n",
              "      <td>11.99</td>\n",
              "      <td>1</td>\n",
              "      <td>Austin</td>\n",
              "      <td>11</td>\n",
              "    </tr>\n",
              "  </tbody>\n",
              "</table>\n",
              "</div>\n",
              "    <div class=\"colab-df-buttons\">\n",
              "\n",
              "  <div class=\"colab-df-container\">\n",
              "    <button class=\"colab-df-convert\" onclick=\"convertToInteractive('df-42f67881-4c0a-4ea1-b2c0-a4549ca1b0b8')\"\n",
              "            title=\"Convert this dataframe to an interactive table.\"\n",
              "            style=\"display:none;\">\n",
              "\n",
              "  <svg xmlns=\"http://www.w3.org/2000/svg\" height=\"24px\" viewBox=\"0 -960 960 960\">\n",
              "    <path d=\"M120-120v-720h720v720H120Zm60-500h600v-160H180v160Zm220 220h160v-160H400v160Zm0 220h160v-160H400v160ZM180-400h160v-160H180v160Zm440 0h160v-160H620v160ZM180-180h160v-160H180v160Zm440 0h160v-160H620v160Z\"/>\n",
              "  </svg>\n",
              "    </button>\n",
              "\n",
              "  <style>\n",
              "    .colab-df-container {\n",
              "      display:flex;\n",
              "      gap: 12px;\n",
              "    }\n",
              "\n",
              "    .colab-df-convert {\n",
              "      background-color: #E8F0FE;\n",
              "      border: none;\n",
              "      border-radius: 50%;\n",
              "      cursor: pointer;\n",
              "      display: none;\n",
              "      fill: #1967D2;\n",
              "      height: 32px;\n",
              "      padding: 0 0 0 0;\n",
              "      width: 32px;\n",
              "    }\n",
              "\n",
              "    .colab-df-convert:hover {\n",
              "      background-color: #E2EBFA;\n",
              "      box-shadow: 0px 1px 2px rgba(60, 64, 67, 0.3), 0px 1px 3px 1px rgba(60, 64, 67, 0.15);\n",
              "      fill: #174EA6;\n",
              "    }\n",
              "\n",
              "    .colab-df-buttons div {\n",
              "      margin-bottom: 4px;\n",
              "    }\n",
              "\n",
              "    [theme=dark] .colab-df-convert {\n",
              "      background-color: #3B4455;\n",
              "      fill: #D2E3FC;\n",
              "    }\n",
              "\n",
              "    [theme=dark] .colab-df-convert:hover {\n",
              "      background-color: #434B5C;\n",
              "      box-shadow: 0px 1px 3px 1px rgba(0, 0, 0, 0.15);\n",
              "      filter: drop-shadow(0px 1px 2px rgba(0, 0, 0, 0.3));\n",
              "      fill: #FFFFFF;\n",
              "    }\n",
              "  </style>\n",
              "\n",
              "    <script>\n",
              "      const buttonEl =\n",
              "        document.querySelector('#df-42f67881-4c0a-4ea1-b2c0-a4549ca1b0b8 button.colab-df-convert');\n",
              "      buttonEl.style.display =\n",
              "        google.colab.kernel.accessAllowed ? 'block' : 'none';\n",
              "\n",
              "      async function convertToInteractive(key) {\n",
              "        const element = document.querySelector('#df-42f67881-4c0a-4ea1-b2c0-a4549ca1b0b8');\n",
              "        const dataTable =\n",
              "          await google.colab.kernel.invokeFunction('convertToInteractive',\n",
              "                                                    [key], {});\n",
              "        if (!dataTable) return;\n",
              "\n",
              "        const docLinkHtml = 'Like what you see? Visit the ' +\n",
              "          '<a target=\"_blank\" href=https://colab.research.google.com/notebooks/data_table.ipynb>data table notebook</a>'\n",
              "          + ' to learn more about interactive tables.';\n",
              "        element.innerHTML = '';\n",
              "        dataTable['output_type'] = 'display_data';\n",
              "        await google.colab.output.renderOutput(dataTable, element);\n",
              "        const docLink = document.createElement('div');\n",
              "        docLink.innerHTML = docLinkHtml;\n",
              "        element.appendChild(docLink);\n",
              "      }\n",
              "    </script>\n",
              "  </div>\n",
              "\n",
              "\n",
              "<div id=\"df-21021da3-569f-4dbc-8234-96fa71293333\">\n",
              "  <button class=\"colab-df-quickchart\" onclick=\"quickchart('df-21021da3-569f-4dbc-8234-96fa71293333')\"\n",
              "            title=\"Suggest charts.\"\n",
              "            style=\"display:none;\">\n",
              "\n",
              "<svg xmlns=\"http://www.w3.org/2000/svg\" height=\"24px\"viewBox=\"0 0 24 24\"\n",
              "     width=\"24px\">\n",
              "    <g>\n",
              "        <path d=\"M19 3H5c-1.1 0-2 .9-2 2v14c0 1.1.9 2 2 2h14c1.1 0 2-.9 2-2V5c0-1.1-.9-2-2-2zM9 17H7v-7h2v7zm4 0h-2V7h2v10zm4 0h-2v-4h2v4z\"/>\n",
              "    </g>\n",
              "</svg>\n",
              "  </button>\n",
              "\n",
              "<style>\n",
              "  .colab-df-quickchart {\n",
              "      --bg-color: #E8F0FE;\n",
              "      --fill-color: #1967D2;\n",
              "      --hover-bg-color: #E2EBFA;\n",
              "      --hover-fill-color: #174EA6;\n",
              "      --disabled-fill-color: #AAA;\n",
              "      --disabled-bg-color: #DDD;\n",
              "  }\n",
              "\n",
              "  [theme=dark] .colab-df-quickchart {\n",
              "      --bg-color: #3B4455;\n",
              "      --fill-color: #D2E3FC;\n",
              "      --hover-bg-color: #434B5C;\n",
              "      --hover-fill-color: #FFFFFF;\n",
              "      --disabled-bg-color: #3B4455;\n",
              "      --disabled-fill-color: #666;\n",
              "  }\n",
              "\n",
              "  .colab-df-quickchart {\n",
              "    background-color: var(--bg-color);\n",
              "    border: none;\n",
              "    border-radius: 50%;\n",
              "    cursor: pointer;\n",
              "    display: none;\n",
              "    fill: var(--fill-color);\n",
              "    height: 32px;\n",
              "    padding: 0;\n",
              "    width: 32px;\n",
              "  }\n",
              "\n",
              "  .colab-df-quickchart:hover {\n",
              "    background-color: var(--hover-bg-color);\n",
              "    box-shadow: 0 1px 2px rgba(60, 64, 67, 0.3), 0 1px 3px 1px rgba(60, 64, 67, 0.15);\n",
              "    fill: var(--button-hover-fill-color);\n",
              "  }\n",
              "\n",
              "  .colab-df-quickchart-complete:disabled,\n",
              "  .colab-df-quickchart-complete:disabled:hover {\n",
              "    background-color: var(--disabled-bg-color);\n",
              "    fill: var(--disabled-fill-color);\n",
              "    box-shadow: none;\n",
              "  }\n",
              "\n",
              "  .colab-df-spinner {\n",
              "    border: 2px solid var(--fill-color);\n",
              "    border-color: transparent;\n",
              "    border-bottom-color: var(--fill-color);\n",
              "    animation:\n",
              "      spin 1s steps(1) infinite;\n",
              "  }\n",
              "\n",
              "  @keyframes spin {\n",
              "    0% {\n",
              "      border-color: transparent;\n",
              "      border-bottom-color: var(--fill-color);\n",
              "      border-left-color: var(--fill-color);\n",
              "    }\n",
              "    20% {\n",
              "      border-color: transparent;\n",
              "      border-left-color: var(--fill-color);\n",
              "      border-top-color: var(--fill-color);\n",
              "    }\n",
              "    30% {\n",
              "      border-color: transparent;\n",
              "      border-left-color: var(--fill-color);\n",
              "      border-top-color: var(--fill-color);\n",
              "      border-right-color: var(--fill-color);\n",
              "    }\n",
              "    40% {\n",
              "      border-color: transparent;\n",
              "      border-right-color: var(--fill-color);\n",
              "      border-top-color: var(--fill-color);\n",
              "    }\n",
              "    60% {\n",
              "      border-color: transparent;\n",
              "      border-right-color: var(--fill-color);\n",
              "    }\n",
              "    80% {\n",
              "      border-color: transparent;\n",
              "      border-right-color: var(--fill-color);\n",
              "      border-bottom-color: var(--fill-color);\n",
              "    }\n",
              "    90% {\n",
              "      border-color: transparent;\n",
              "      border-bottom-color: var(--fill-color);\n",
              "    }\n",
              "  }\n",
              "</style>\n",
              "\n",
              "  <script>\n",
              "    async function quickchart(key) {\n",
              "      const quickchartButtonEl =\n",
              "        document.querySelector('#' + key + ' button');\n",
              "      quickchartButtonEl.disabled = true;  // To prevent multiple clicks.\n",
              "      quickchartButtonEl.classList.add('colab-df-spinner');\n",
              "      try {\n",
              "        const charts = await google.colab.kernel.invokeFunction(\n",
              "            'suggestCharts', [key], {});\n",
              "      } catch (error) {\n",
              "        console.error('Error during call to suggestCharts:', error);\n",
              "      }\n",
              "      quickchartButtonEl.classList.remove('colab-df-spinner');\n",
              "      quickchartButtonEl.classList.add('colab-df-quickchart-complete');\n",
              "    }\n",
              "    (() => {\n",
              "      let quickchartButtonEl =\n",
              "        document.querySelector('#df-21021da3-569f-4dbc-8234-96fa71293333 button');\n",
              "      quickchartButtonEl.style.display =\n",
              "        google.colab.kernel.accessAllowed ? 'block' : 'none';\n",
              "    })();\n",
              "  </script>\n",
              "</div>\n",
              "    </div>\n",
              "  </div>\n"
            ]
          },
          "metadata": {},
          "execution_count": 53
        }
      ],
      "source": [
        "df['Hora']=df['Order Date'].apply(lambda x: x.hour)\n",
        "df.head()"
      ]
    },
    {
      "cell_type": "code",
      "execution_count": 54,
      "metadata": {
        "colab": {
          "base_uri": "https://localhost:8080/"
        },
        "id": "sFsieIhhdK7-",
        "outputId": "9c1ff81d-215a-4c21-a6f8-9d313805d7d0"
      },
      "outputs": [
        {
          "output_type": "stream",
          "name": "stderr",
          "text": [
            "<ipython-input-54-57f3ffeb69fa>:2: FutureWarning: The default value of numeric_only in DataFrameGroupBy.sum is deprecated. In a future version, numeric_only will default to False. Either specify numeric_only or select only columns which should be valid for the function.\n",
            "  df_hour=df.groupby('Hora').sum()\n"
          ]
        }
      ],
      "source": [
        "#agrupacion por las horas\n",
        "df_hour=df.groupby('Hora').sum()\n",
        "df_hour=df_hour.reset_index()"
      ]
    },
    {
      "cell_type": "code",
      "execution_count": null,
      "metadata": {
        "id": "DHL9i3M8dK7-"
      },
      "outputs": [],
      "source": [
        "#grafica de lineas\n",
        "plt.plot(df_hour['Total_Ventas'], marker='o')\n",
        "plt.xticks(df_hour['Hora'])\n",
        "plt.title('Ventas por hora del día')\n",
        "\n",
        "plt.show()"
      ]
    },
    {
      "cell_type": "markdown",
      "metadata": {
        "id": "JiahOOJFdK7-"
      },
      "source": [
        "# CUALES SON LOS PRODUCTOS QUE SE VENDEN JUNTOS"
      ]
    },
    {
      "cell_type": "code",
      "execution_count": 56,
      "metadata": {
        "id": "YhqeNtsidK7-"
      },
      "outputs": [],
      "source": [
        "df=df[df['Order ID'].duplicated(keep=False)]\n",
        "\n",
        "df['agrupado']=df.groupby(['Order ID'])['Product'].transform(lambda x: ','.join(x))\n",
        "\n",
        "df=df[['Order ID', 'agrupado']].drop_duplicates()"
      ]
    },
    {
      "cell_type": "code",
      "source": [
        "df.head()"
      ],
      "metadata": {
        "id": "buQu3zmiLb-Z"
      },
      "execution_count": null,
      "outputs": []
    },
    {
      "cell_type": "code",
      "execution_count": 58,
      "metadata": {
        "id": "zW8Y4J-6dK7-"
      },
      "outputs": [],
      "source": [
        "import itertools\n",
        "from itertools import combinations #genera el conjutno de combinaciones\n",
        "import collections\n",
        "from collections import Counter #simplemente para realizar conteos"
      ]
    },
    {
      "cell_type": "code",
      "execution_count": 59,
      "metadata": {
        "id": "xUBi4lyydK7-"
      },
      "outputs": [],
      "source": [
        "count = Counter()\n",
        "\n",
        "for r in df['agrupado']:\n",
        "    filas= r.split(',')\n",
        "    count.update(Counter(combinations(filas, 3)))"
      ]
    },
    {
      "cell_type": "code",
      "execution_count": null,
      "metadata": {
        "id": "OKnnphBbdK8F"
      },
      "outputs": [],
      "source": [
        "count"
      ]
    },
    {
      "cell_type": "code",
      "execution_count": null,
      "metadata": {
        "id": "fzYdXpuHdK8F"
      },
      "outputs": [],
      "source": [
        "comunes=count.most_common(10)\n",
        "comunes"
      ]
    }
  ],
  "metadata": {
    "kernelspec": {
      "display_name": "Python 3 (ipykernel)",
      "language": "python",
      "name": "python3"
    },
    "language_info": {
      "codemirror_mode": {
        "name": "ipython",
        "version": 3
      },
      "file_extension": ".py",
      "mimetype": "text/x-python",
      "name": "python",
      "nbconvert_exporter": "python",
      "pygments_lexer": "ipython3",
      "version": "3.11.5"
    },
    "colab": {
      "provenance": [],
      "include_colab_link": true
    }
  },
  "nbformat": 4,
  "nbformat_minor": 0
}