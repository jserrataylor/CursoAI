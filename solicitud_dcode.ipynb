{
  "nbformat": 4,
  "nbformat_minor": 0,
  "metadata": {
    "colab": {
      "provenance": [],
      "mount_file_id": "18-cQY-bSZHhz_u3CMEg4bw0ElGuvRDJH",
      "authorship_tag": "ABX9TyPcefkfELwdXDVhvT9QNMQP",
      "include_colab_link": true
    },
    "kernelspec": {
      "name": "python3",
      "display_name": "Python 3"
    },
    "language_info": {
      "name": "python"
    }
  },
  "cells": [
    {
      "cell_type": "markdown",
      "metadata": {
        "id": "view-in-github",
        "colab_type": "text"
      },
      "source": [
        "<a href=\"https://colab.research.google.com/github/jserrataylor/cursoAI/blob/main/solicitud_dcode.ipynb\" target=\"_parent\"><img src=\"https://colab.research.google.com/assets/colab-badge.svg\" alt=\"Open In Colab\"/></a>"
      ]
    },
    {
      "cell_type": "code",
      "source": [
        "import numpy as np\n",
        "import pandas as pd\n",
        "from keras.models import Sequential\n",
        "from keras.layers import Dense, LSTM\n",
        "from sklearn.preprocessing import MinMaxScaler\n",
        "from sklearn.metrics import mean_squared_error\n",
        "import matplotlib.pyplot as plt\n",
        "\n",
        "# Cargar y procesar los datos\n",
        "data = pd.read_csv(\"/content/drive/MyDrive/Colab Notebooks/Curso_AI/counseling_requests.csv\")\n",
        "data[\"timestamp\"] = pd.to_datetime(data[\"timestamp\"])\n",
        "\n",
        "try:\n",
        "    data[\"week_number\"] = data[\"week\"].str.extract(\"(\\d+)\").astype(int)\n",
        "except KeyError:\n",
        "    print(\"Error: No se encontró la columna 'week' en el conjunto de datos.\")\n",
        "    raise\n",
        "\n",
        "data = data.set_index(\"timestamp\")\n",
        "\n",
        "# Preprocesamiento de los datos\n",
        "scaler = MinMaxScaler(feature_range=(0, 1))\n",
        "data_scaled = scaler.fit_transform(data[[\"requests\"]])\n",
        "\n",
        "# Dividir los datos en conjuntos de entrenamiento y prueba\n",
        "train_size = int(len(data_scaled) * 0.8)\n",
        "train, test = data_scaled[0:train_size, :], data_scaled[train_size:len(data_scaled), :]\n",
        "\n",
        "# Función para crear conjuntos de datos de series temporales\n",
        "def create_dataset(dataset, look_back=1):\n",
        "    dataX, dataY = [], []\n",
        "    for i in range(len(dataset) - look_back - 1):\n",
        "        dataX.append(dataset[i:(i + look_back), 0])\n",
        "        dataY.append(dataset[i + look_back, 0])\n",
        "    return np.array(dataX), np.array(dataY)\n",
        "\n",
        "look_back = 3\n",
        "trainX, trainY = create_dataset(train, look_back)\n",
        "testX, testY = create_dataset(test, look_back)\n",
        "\n",
        "trainX = np.reshape(trainX, (trainX.shape[0], 1, trainX.shape[1]))\n",
        "testX = np.reshape(testX, (testX.shape[0], 1, testX.shape[1]))\n",
        "\n",
        "# Crear y entrenar el modelo LSTM\n",
        "model = Sequential()\n",
        "model.add(LSTM(4, input_shape=(1, look_back)))\n",
        "model.add(Dense(1))\n",
        "model.compile(loss=\"mean_squared_error\", optimizer=\"adam\")\n",
        "model.fit(trainX, trainY, epochs=100, batch_size=1, verbose=2)\n",
        "\n",
        "# Función para predecir la cantidad de estudiantes que solicitan consejería en una semana específica\n",
        "def predict_counseling_requests(target_week):\n",
        "    current_week = len(data_scaled) - look_back\n",
        "    weeks_to_predict = target_week - current_week\n",
        "\n",
        "    if weeks_to_predict < 0:\n",
        "        weeks_to_predict += 52  # Si la semana ingresada ya pasó, asumimos que se refiere al próximo año.\n",
        "\n",
        "    last_values = data_scaled[-look_back:]\n",
        "    for _ in range(weeks_to_predict):\n",
        "        last_values_expanded = np.expand_dims(last_values[-look_back:], axis=0)\n",
        "        last_values_expanded = np.transpose(last_values_expanded, (0, 2, 1))  # Cambiar la forma de los datos de entrada\n",
        "        prediction = model.predict(last_values_expanded)\n",
        "        last_values = np.concatenate((last_values, prediction), axis=0)\n",
        "    final_prediction = scaler.inverse_transform([last_values[-1]])[0, 0]\n",
        "    return final_prediction\n"
      ],
      "metadata": {
        "id": "Sfac4hv4IvZA"
      },
      "execution_count": null,
      "outputs": []
    },
    {
      "cell_type": "code",
      "source": [
        "input_week = int(input(\"Ingrese el número de la semana en el año para predecir la cantidad de estudiantes que solicitarán consejería (entre 1 y 52): \"))\n",
        "if 1 <= input_week <= 52:\n",
        "    predicted_requests = predict_counseling_requests(input_week)\n",
        "    print(f\"Se espera que {predicted_requests:.0f} estudiantes soliciten servicios de consejería en la semana {input_week}.\")\n",
        "else:\n",
        "    print(\"Por favor, ingrese un número de semana válido entre 1 y 52.\")\n"
      ],
      "metadata": {
        "id": "as8lB98RQrOu"
      },
      "execution_count": null,
      "outputs": []
    }
  ]
}