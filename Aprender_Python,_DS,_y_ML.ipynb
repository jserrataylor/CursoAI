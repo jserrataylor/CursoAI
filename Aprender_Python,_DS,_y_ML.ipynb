{
  "nbformat": 4,
  "nbformat_minor": 0,
  "metadata": {
    "colab": {
      "provenance": [],
      "authorship_tag": "ABX9TyNWRI6v91KoZUCW+QaI9xfW",
      "include_colab_link": true
    },
    "kernelspec": {
      "name": "python3",
      "display_name": "Python 3"
    },
    "language_info": {
      "name": "python"
    }
  },
  "cells": [
    {
      "cell_type": "markdown",
      "metadata": {
        "id": "view-in-github",
        "colab_type": "text"
      },
      "source": [
        "<a href=\"https://colab.research.google.com/github/jserrataylor/cursoAI/blob/main/Aprender_Python%2C_DS%2C_y_ML.ipynb\" target=\"_parent\"><img src=\"https://colab.research.google.com/assets/colab-badge.svg\" alt=\"Open In Colab\"/></a>"
      ]
    },
    {
      "cell_type": "markdown",
      "source": [
        "# **PYTHON**"
      ],
      "metadata": {
        "id": "ZcWR3_BDtphZ"
      }
    },
    {
      "cell_type": "markdown",
      "source": [
        "**Python** es un lenguaje de programación muy popular para el procesamiento y análisis de datos debido a su facilidad de uso y las numerosas bibliotecas de terceros disponibles para tareas específicas. Algunas de las bibliotecas más populares para el procesamiento y análisis de datos son NumPy, Pandas y Matplotlib. Para el aprendizaje automático, las bibliotecas más utilizadas son scikit-learn y TensorFlow.\n",
        "\n",
        "Aquí hay una guía básica para comenzar a aprender Python para el procesamiento y análisis de datos:\n",
        "\n",
        "(1) Instala Python y un IDE (entorno de desarrollo integrado) como PyCharm o\n",
        "Spyder. Python se puede descargar desde su sitio web oficial (https://www.python.org/downloads/).\n",
        "\n",
        "(2) Aprende los fundamentos de Python: tipos de datos, operadores, estructuras de control de flujo, funciones, clases, etc. Puedes encontrar recursos en línea, como tutoriales y cursos en línea.\n",
        "\n",
        "(3) Aprende las bibliotecas de análisis de datos más populares: NumPy, Pandas y Matplotlib. NumPy es una biblioteca para trabajar con matrices y vectores numéricos. Pandas es una biblioteca para manipular y analizar datos estructurados en tablas. Matplotlib es una biblioteca para visualizar datos.\n",
        "\n",
        "(4) Aprende a usar Jupyter Notebooks, una herramienta popular para explorar y analizar datos.\n",
        "\n",
        "(5) Aprende lo básico sobre el aprendizaje automático, como las diferencias entre el aprendizaje supervisado y no supervisado, cómo se entrenan los modelos, cómo se evalúan los modelos, etc.\n",
        "\n",
        "(6) Aprende la biblioteca de aprendizaje automático scikit-learn. Scikit-learn es una biblioteca de aprendizaje automático de Python que incluye una amplia variedad de algoritmos de aprendizaje supervisado y no supervisado.\n",
        "\n",
        "(7) Aprende la biblioteca de aprendizaje automático TensorFlow. TensorFlow es una biblioteca de aprendizaje automático de Python desarrollada por Google para construir y entrenar modelos de aprendizaje profundo."
      ],
      "metadata": {
        "id": "3nr03FBxtjwH"
      }
    },
    {
      "cell_type": "markdown",
      "source": [
        "## Punto # 1\n",
        "Para instalar Python y un IDE (entorno de desarrollo integrado) como PyCharm o Spyder, sigue estos pasos:\n",
        "\n",
        "Descarga e instala Python:\n",
        "\n",
        "Ve a la página oficial de Python (https://www.python.org/downloads/)\n",
        "Descarga la última versión estable de Python para tu sistema operativo.\n",
        "Sigue las instrucciones para instalar Python. Asegúrate de agregar Python al PATH del sistema.\n",
        "Descarga e instala un IDE:\n",
        "\n",
        "PyCharm: es un IDE muy popular para Python que está disponible en dos versiones: la versión gratuita (Community Edition) y la versión de pago (Professional Edition). Puedes descargar PyCharm desde la página oficial de JetBrains (https://www.jetbrains.com/pycharm/download/).\n",
        "Spyder: es otro IDE popular para Python que está enfocado en el análisis de datos y científico. Puedes descargar Spyder desde su página oficial (https://www.spyder-ide.org/).\n",
        "Una vez que hayas descargado e instalado Python y un IDE, estarás listo para comenzar a escribir código Python y aprender las bibliotecas de procesamiento y análisis de datos."
      ],
      "metadata": {
        "id": "utjQkNrxt3N7"
      }
    },
    {
      "cell_type": "markdown",
      "source": [
        "Puedes **instalar Python en tu MacBook Pro M1** siguiendo estos pasos:\n",
        "\n",
        "Descarga el instalador de Python:\n",
        "\n",
        "Ve a la página oficial de Python (https://www.python.org/downloads/mac-osx/)\n",
        "Descarga el instalador para la última versión estable de Python para macOS. Asegúrate de descargar la versión adecuada para la arquitectura de tu procesador (en este caso, ARM64).\n",
        "Abre el instalador de Python:\n",
        "\n",
        "Busca el archivo descargado y ábrelo. El instalador se abrirá automáticamente.\n",
        "Sigue las instrucciones del instalador:\n",
        "\n",
        "Asegúrate de seleccionar la opción \"Install for all users\" (Instalar para todos los usuarios).\n",
        "Haz clic en \"Customize Installation\" (Personalizar instalación) y asegúrate de seleccionar \"pip\" y \"Add Python 3.x to PATH\" (Agregar Python 3.x al PATH).\n",
        "Haz clic en \"Install\" (Instalar) y espera a que se complete la instalación.\n",
        "Verifica la instalación de Python:\n",
        "\n",
        "Abre la Terminal y escribe \"python3\" (sin comillas) y presiona Enter.\n",
        "Deberías ver un mensaje de bienvenida de Python seguido del prompt de Python (>>>).\n",
        "Escribe \"exit()\" (sin comillas) y presiona Enter para salir de Python.\n",
        "Ahora que tienes Python instalado, puedes instalar un IDE como PyCharm o Spyder siguiendo los mismos pasos que en cualquier otra MacBook. Espero que esto te ayude."
      ],
      "metadata": {
        "id": "XeKb4FwTt_xl"
      }
    },
    {
      "cell_type": "markdown",
      "source": [
        "Para instalar PyCharm y Spyder, sigue los siguientes pasos:\n",
        "\n",
        "PyCharm:\n",
        "\n",
        "Ve a la página de descarga de PyCharm en la web de JetBrains: https://www.jetbrains.com/pycharm/download/\n",
        "Descarga la versión Community (gratuita) o Professional (de pago) según tus necesidades.\n",
        "Una vez descargado el instalador, ábrelo y sigue las instrucciones para instalar PyCharm en tu sistema operativo.\n",
        "Spyder:\n",
        "\n",
        "Ve a la página de descarga de Spyder en su sitio web oficial: https://www.spyder-ide.org/\n",
        "Descarga el instalador para tu sistema operativo.\n",
        "Una vez descargado el instalador, ábrelo y sigue las instrucciones para instalar Spyder en tu sistema operativo.\n",
        "Una vez que hayas instalado PyCharm o Spyder, puedes abrir el IDE y comenzar a escribir código Python. Estos dos IDEs tienen diferentes interfaces y opciones, por lo que te recomiendo que pruebes ambos y elijas el que más te guste y te resulte más cómodo para trabajar. Espero que esto te ayude a instalar PyCharm y Spyder en tu ordenador."
      ],
      "metadata": {
        "id": "8sq5MNH0uIbe"
      }
    },
    {
      "cell_type": "markdown",
      "source": [
        "Aquí están los pasos para instalar Anaconda en tu sistema:\n",
        "\n",
        "Descarga el instalador de Anaconda:\n",
        "\n",
        "Ve a la página de descarga de Anaconda en su sitio web oficial: https://www.anaconda.com/products/individual\n",
        "Descarga la versión adecuada para tu sistema operativo (Windows, macOS o Linux).\n",
        "Ejecuta el instalador de Anaconda:\n",
        "\n",
        "Una vez descargado el instalador, ábrelo y sigue las instrucciones para instalar Anaconda en tu sistema operativo.\n",
        "Si estás en Windows, asegúrate de seleccionar \"Agregar Anaconda a mi PATH del sistema\" en las opciones de instalación.\n",
        "Verifica la instalación de Anaconda:\n",
        "\n",
        "Abre una ventana de terminal (en Windows, abre el \"Anaconda Prompt\" que se encuentra en el menú de inicio).\n",
        "Escribe \"conda --version\" (sin comillas) y presiona Enter. Deberías ver la versión de conda que has instalado.\n",
        "Escribe \"python\" (sin comillas) y presiona Enter. Deberías ver el prompt de Python (>>>) y la versión de Python que viene incluida con Anaconda.\n",
        "Anaconda incluye muchas bibliotecas populares de Python para el análisis de datos y el aprendizaje automático, por lo que es una herramienta muy útil para los científicos de datos y los desarrolladores de aprendizaje automático. Además, Anaconda también proporciona un entorno de conda para crear y administrar entornos virtuales de Python. Espero que esto te ayude a instalar Anaconda en tu sistema."
      ],
      "metadata": {
        "id": "REnSQFs5uO_R"
      }
    },
    {
      "cell_type": "markdown",
      "source": [
        "## Punto #2\n",
        "\n",
        "Aprende los fundamentos de Python: tipos de datos, operadores, estructuras de control de flujo, funciones, clases, etc. Puedes encontrar recursos en línea, como tutoriales y cursos en línea.\"\n",
        "Claro, aquí hay más información sobre cómo aprender los fundamentos de Python:\n",
        "\n",
        "Python es un lenguaje de programación muy poderoso y versátil que se utiliza en una amplia variedad de aplicaciones, desde el desarrollo web hasta el análisis de datos y el aprendizaje automático. Para aprender los fundamentos de Python, puedes seguir estos pasos:\n",
        "\n",
        "Aprende los tipos de datos de Python:\n",
        "\n",
        "Los tipos de datos de Python incluyen números (enteros, flotantes y complejos), cadenas, booleanos y listas, tuplas y diccionarios. Aprender los tipos de datos es fundamental para entender cómo funcionan las estructuras de datos en Python.\n",
        "Aprende los operadores de Python:\n",
        "\n",
        "Los operadores de Python incluyen operadores aritméticos (+, -, *, /, etc.), operadores de comparación (==, !=, >, <, etc.), operadores lógicos (and, or, not), entre otros. Estos operadores se utilizan para realizar operaciones con variables y valores en Python.\n",
        "Aprende las estructuras de control de flujo:\n",
        "\n",
        "Las estructuras de control de flujo incluyen condicionales (if, else, elif) y bucles (for, while). Estas estructuras se utilizan para controlar el flujo de ejecución de un programa en función de ciertas condiciones.\n",
        "Aprende a definir y utilizar funciones:\n",
        "\n",
        "Las funciones son bloques de código que se pueden llamar varias veces en un programa. Aprender a definir y utilizar funciones es fundamental para modularizar y reutilizar el código.\n",
        "Aprende a definir y utilizar clases:\n",
        "\n",
        "Las clases son estructuras de datos que encapsulan datos y funciones relacionadas en un objeto. Aprender a definir y utilizar clases es fundamental para la programación orientada a objetos en Python.\n",
        "Puedes encontrar muchos recursos en línea para aprender Python, como tutoriales y cursos en línea. Aquí hay algunos recursos que podrían ayudarte a empezar:\n",
        "\n",
        "Python.org: La página web oficial de Python, que incluye documentación, tutoriales y una guía de inicio rápido.\n",
        "Codecademy: Ofrece cursos en línea para aprender Python desde cero.\n",
        "edX: Ofrece cursos en línea de Python impartidos por instituciones educativas de renombre.\n",
        "Coursera: Ofrece cursos en línea de Python impartidos por universidades y expertos en la materia."
      ],
      "metadata": {
        "id": "fRXv1vA5ugan"
      }
    },
    {
      "cell_type": "markdown",
      "source": [
        "# Tipos de datos de Python\n",
        "Los **tipos de datos de Python** incluyen números (enteros, flotantes y complejos), cadenas, booleanos y listas, tuplas y diccionarios. Aprender los tipos de datos es fundamental para entender cómo funcionan las estructuras de datos en Python.\"\n",
        "¡Por supuesto! Aquí hay una descripción de los tipos de datos básicos en Python:\n",
        "\n",
        "## Números:\n",
        "\n",
        "Los números son uno de los tipos de datos más básicos en Python y se utilizan para representar valores numéricos. Los números en Python se dividen en tres tipos principales: enteros, flotantes y complejos.\n",
        "\n",
        "Los **números enteros** representan números enteros (positivos, negativos o cero). Ejemplos: 1, -5, 0.\n",
        "\n",
        "Los **números de punto flotante** representan números decimales. Ejemplos: 3.14, -2.5, 0.0.\n",
        "\n",
        "Los **números complejos** representan números complejos con una parte real y una parte imaginaria. Ejemplos: 3+2j, -1+4j.\n",
        "\n",
        "## Cadenas:\n",
        "\n",
        "Las cadenas son un tipo de datos utilizado para representar texto. Las cadenas se definen encerrando el texto entre comillas simples o dobles. Ejemplos: \"Hola\", 'Mundo', \"¡Hola, Mundo!\".\n",
        "\n",
        "## Booleanos:\n",
        "\n",
        "Los booleanos son un tipo de datos que representan verdadero (True) o falso (False). Estos valores se utilizan comúnmente para controlar el flujo de un programa. Ejemplos: True, False.\n",
        "\n",
        "## Listas:\n",
        "\n",
        "Las listas son un tipo de datos utilizado para almacenar una colección ordenada de elementos. Las listas se definen encerrando los elementos entre corchetes y separándolos por comas. Ejemplos: [1, 2, 3], ['hola', 'mundo'], [True, False, True].\n",
        "\n",
        "## Tuplas:\n",
        "\n",
        "Las tuplas son similares a las listas, pero son inmutables, es decir, no se pueden cambiar después de su creación. Las tuplas se definen encerrando los elementos entre paréntesis y separándolos por comas. Ejemplos: (1, 2, 3), ('hola', 'mundo'), (True, False, True).\n",
        "\n",
        "## Diccionarios:\n",
        "\n",
        "Los diccionarios son un tipo de datos utilizado para almacenar una colección de pares clave-valor. Los diccionarios se definen encerrando los pares clave-valor entre llaves y separándolos por comas. Ejemplos: {'nombre': 'Juan', 'edad': 25}, {'uno': 1, 'dos': 2, 'tres': 3}.\n",
        "\n",
        "Es importante comprender estos tipos de datos ya que se utilizan en muchas partes de Python, incluyendo la manipulación y análisis de datos. Una vez que entiendas cómo funcionan estos tipos de datos, estarás listo para aprender más sobre las estructuras de datos en Python."
      ],
      "metadata": {
        "id": "_djfV7FCssUR"
      }
    },
    {
      "cell_type": "markdown",
      "source": [
        "El siguiente script crea variables que contienen cada tipo de datos y las imprime en la consola utilizando la función print(). Los valores asignados a cada variable son solo ejemplos y pueden ser diferentes en tu caso de uso real."
      ],
      "metadata": {
        "id": "9BQvQYODvmM1"
      }
    },
    {
      "cell_type": "code",
      "execution_count": 2,
      "metadata": {
        "id": "YnF5dFdisrtG",
        "colab": {
          "base_uri": "https://localhost:8080/"
        },
        "outputId": "e7d745f8-7e8b-4340-8986-db7437f1e804"
      },
      "outputs": [
        {
          "output_type": "stream",
          "name": "stdout",
          "text": [
            "Entero: 10\n",
            "Flotante: 3.14\n",
            "Complejo: (2+3j)\n",
            "Cadena: Hola, Mundo!\n",
            "Verdadero: True\n",
            "Falso: False\n",
            "Lista: [1, 2, 3, 4, 5]\n",
            "Tupla: (6, 7, 8, 9, 10)\n",
            "Diccionario: {'nombre': 'Juan', 'edad': 25, 'ciudad': 'Bogotá'}\n"
          ]
        }
      ],
      "source": [
        "# Números:\n",
        "entero = 10\n",
        "flotante = 3.14\n",
        "complejo = 2 + 3j\n",
        "\n",
        "# Cadenas:\n",
        "cadena = \"Hola, Mundo!\"\n",
        "\n",
        "# Booleanos:\n",
        "verdadero = True\n",
        "falso = False\n",
        "\n",
        "# Listas:\n",
        "lista = [1, 2, 3, 4, 5]\n",
        "\n",
        "# Tuplas:\n",
        "tupla = (6, 7, 8, 9, 10)\n",
        "\n",
        "# Diccionarios:\n",
        "diccionario = {\"nombre\": \"Juan\", \"edad\": 25, \"ciudad\": \"Bogotá\"}\n",
        "\n",
        "# Imprimir los valores:\n",
        "print(\"Entero:\", entero)\n",
        "print(\"Flotante:\", flotante)\n",
        "print(\"Complejo:\", complejo)\n",
        "print(\"Cadena:\", cadena)\n",
        "print(\"Verdadero:\", verdadero)\n",
        "print(\"Falso:\", falso)\n",
        "print(\"Lista:\", lista)\n",
        "print(\"Tupla:\", tupla)\n",
        "print(\"Diccionario:\", diccionario)\n"
      ]
    },
    {
      "cell_type": "markdown",
      "source": [
        "## Operadores de Python\n",
        "Los **operadores de Python** incluyen operadores aritméticos (+, -, *, /, etc.), operadores de comparación (==, !=, >, <, etc.), operadores lógicos (and, or, not), entre otros. Estos operadores se utilizan para realizar operaciones con variables y valores en Python.\n",
        "\n",
        "¡Por supuesto! Aquí hay una descripción de los operadores básicos en Python:\n",
        "\n",
        "Operadores aritméticos:\n",
        "\n",
        "Los operadores aritméticos se utilizan para realizar operaciones matemáticas. Los operadores aritméticos básicos son:\n",
        "\n",
        "+: suma.\n",
        "-: resta.\n",
        "*: multiplicación.\n",
        "/: división.\n",
        "%: módulo (devuelve el resto de la división).\n",
        "**: exponente.\n",
        "//: división entera (devuelve la parte entera del resultado).\n",
        "\n",
        "Operadores de comparación:\n",
        "\n",
        "Los operadores de comparación se utilizan para comparar dos valores y devolver un valor booleano (True o False). Los operadores de comparación básicos son:\n",
        "\n",
        "==: igual a.\n",
        "!=: distinto de.\n",
        ">: mayor que.\n",
        "<: menor que.\n",
        ">=: mayor o igual que.\n",
        "<=: menor o igual que.\n",
        "Operadores lógicos:\n",
        "\n",
        "Los operadores lógicos se utilizan para combinar valores booleanos y devolver un valor booleano (True o False). Los operadores lógicos básicos son:\n",
        "\n",
        "and: devuelve True si ambos valores son True.\n",
        "or: devuelve True si al menos uno de los valores es True.\n",
        "not: devuelve el valor opuesto.\n",
        "Otros operadores:\n",
        "\n",
        "Existen otros operadores en Python, como el operador de pertenencia (in), que se utiliza para comprobar si un valor se encuentra en una lista, tupla o diccionario."
      ],
      "metadata": {
        "id": "ZMci0nc6vqPt"
      }
    },
    {
      "cell_type": "markdown",
      "source": [
        "\n",
        "Este **script** utiliza los operadores aritméticos para realizar operaciones matemáticas con dos variables, los operadores de comparación para comparar dos valores y los operadores lógicos para combinar valores booleanos. También utiliza el operador de pertenencia para comprobar si un valor se encuentra en una lista. Los valores asignados a cada variable son solo ejemplos y pueden ser diferentes en tu caso de uso real.\n",
        "\n",
        "**Aquí hay un ejemplo de cómo utilizar algunos de estos operadores en un script de Python:**"
      ],
      "metadata": {
        "id": "SVl-7QAsx6bC"
      }
    },
    {
      "cell_type": "code",
      "source": [
        "# Operadores aritméticos:\n",
        "a = 10\n",
        "b = 5\n",
        "suma = a + b\n",
        "resta = a - b\n",
        "multiplicacion = a * b\n",
        "division = a / b\n",
        "modulo = a % b\n",
        "exponente = a ** b\n",
        "division_entera = a // b\n",
        "\n",
        "# Operadores de comparación:\n",
        "c = 10\n",
        "d = 20\n",
        "igual = c == d\n",
        "distinto = c != d\n",
        "mayor_que = c > d\n",
        "menor_que = c < d\n",
        "mayor_o_igual_que = c >= d\n",
        "menor_o_igual_que = c <= d\n",
        "\n",
        "# Operadores lógicos:\n",
        "verdadero = True\n",
        "falso = False\n",
        "and_logico = verdadero and falso\n",
        "or_logico = verdadero or falso\n",
        "not_logico = not verdadero\n",
        "\n",
        "# Otros operadores:\n",
        "lista = [1, 2, 3, 4, 5]\n",
        "pertenece = 3 in lista\n",
        "no_pertenece = 6 not in lista\n",
        "\n",
        "# Imprimir los valores:\n",
        "print(\"Suma:\", suma)\n",
        "print(\"Resta:\", resta)\n",
        "print(\"Multiplicación:\", multiplicacion)\n",
        "print(\"División:\", division)\n",
        "print(\"Módulo:\", modulo)\n",
        "print(\"Exponente:\", exponente)\n",
        "print(\"División entera:\", division_entera)\n",
        "\n",
        "print(\"Igual:\", igual)\n",
        "print(\"Distinto:\", distinto)\n",
        "print(\"Mayor que:\", mayor_que)\n",
        "print(\"Menor que:\", menor_que)\n",
        "print(\"Mayor o igual que:\", mayor_o_igual_que)\n",
        "print(\"Menor o igual que:\", menor_o_igual_que)\n",
        "\n",
        "print(\"Or lógico:\", or_logico)\n",
        "print(\"Not lógico:\", not_logico)\n",
        "\n",
        "print(\"Pertenece:\", pertenece)\n",
        "print(\"No pertenece:\", no_pertenece)\n"
      ],
      "metadata": {
        "id": "bxkmyuRDxilA",
        "colab": {
          "base_uri": "https://localhost:8080/"
        },
        "outputId": "77b1fd57-6418-4878-e38e-5b872d423fd9"
      },
      "execution_count": 1,
      "outputs": [
        {
          "output_type": "stream",
          "name": "stdout",
          "text": [
            "Suma: 15\n",
            "Resta: 5\n",
            "Multiplicación: 50\n",
            "División: 2.0\n",
            "Módulo: 0\n",
            "Exponente: 100000\n",
            "División entera: 2\n",
            "Igual: False\n",
            "Distinto: True\n",
            "Mayor que: False\n",
            "Menor que: True\n",
            "Mayor o igual que: False\n",
            "Menor o igual que: True\n",
            "Or lógico: True\n",
            "Not lógico: False\n",
            "Pertenece: True\n",
            "No pertenece: True\n"
          ]
        }
      ]
    },
    {
      "cell_type": "markdown",
      "source": [
        "## Estructuras de control de flujo\n",
        "\n",
        "Las estructuras de control de flujo incluyen condicionales (if, else, elif) y bucles (for, while). Estas estructuras se utilizan para controlar el flujo de ejecución de un programa en función de ciertas condiciones.\n",
        "\n",
        "### Condicionales (if, else, elif):\n",
        "Los condicionales se utilizan para tomar decisiones en función de ciertas condiciones. El condicional if comprueba si una condición es verdadera y ejecuta un bloque de código si lo es. El condicional else se ejecuta si la condición es falsa. El condicional elif se utiliza para comprobar condiciones adicionales si la condición anterior es falsa.\n",
        "\n",
        "### Bucles (for, while):\n",
        "Los bucles se utilizan para repetir una acción varias veces. El bucle for se utiliza para iterar sobre una secuencia (como una lista o tupla) y ejecutar un bloque de código para cada elemento. El bucle while se utiliza para repetir un bloque de código mientras una condición es verdadera.\n",
        "\n",
        "**Aquí hay un ejemplo de cómo utilizar estas estructuras de control de flujo en un script de Python**:\n",
        "\n",
        "Este script utiliza una estructura condicional para comprobar si una variable es mayor, menor o igual a otra y ejecuta un bloque de código en función de la condición. También utiliza un bucle for para iterar sobre los elementos de una lista e imprimir cada uno, y un bucle while para imprimir los números del 0 al 4.\n",
        "\n",
        "Los valores asignados a cada variable son solo ejemplos y pueden ser diferentes en tu caso de uso real."
      ],
      "metadata": {
        "id": "X9Pi0csryPmg"
      }
    },
    {
      "cell_type": "code",
      "source": [
        "# Condicionales:\n",
        "x = 10\n",
        "y = 5\n",
        "\n",
        "if x > y:\n",
        "    print(\"x es mayor que y\")\n",
        "elif x == y:\n",
        "    print(\"x es igual a y\")\n",
        "else:\n",
        "    print(\"x es menor que y\")\n",
        "\n",
        "# Bucles:\n",
        "# Bucle for\n",
        "lista = [1, 2, 3, 4, 5]\n",
        "for elemento in lista:\n",
        "    print(elemento)\n",
        "\n",
        "# Bucle while\n",
        "i = 0\n",
        "while i < 5:\n",
        "    print(i)\n",
        "    i += 1\n"
      ],
      "metadata": {
        "id": "Bta47s-Kys4e",
        "colab": {
          "base_uri": "https://localhost:8080/"
        },
        "outputId": "a4a954d9-1091-4b95-c888-26137f831db5"
      },
      "execution_count": 3,
      "outputs": [
        {
          "output_type": "stream",
          "name": "stdout",
          "text": [
            "x es mayor que y\n",
            "1\n",
            "2\n",
            "3\n",
            "4\n",
            "5\n",
            "0\n",
            "1\n",
            "2\n",
            "3\n",
            "4\n"
          ]
        }
      ]
    },
    {
      "cell_type": "markdown",
      "source": [
        "# Funciones\n",
        "\n",
        "Las **funciones son bloques de código que se pueden llamar varias veces en un programa**. Aprender a definir y utilizar funciones es fundamental para modularizar y reutilizar el código.\n",
        "\n",
        "Aquí hay una descripción de cómo definir y utilizar funciones en Python:\n",
        "\n",
        "## Definición de funciones:\n",
        "Para definir una función en Python, se utiliza la palabra clave **def**, seguida del nombre de la función y los parámetros que recibe (si los hay), encerrados entre paréntesis. Después de los paréntesis, se escribe un dos puntos (:) y se define el bloque de código de la función, que se ejecuta cada vez que se llama la función.\n",
        "\n",
        "## Parámetros y argumentos:\n",
        "Los parámetros son valores que se pasan a una función al momento de llamarla. Los parámetros se definen en la definición de la función y se utilizan en el bloque de código. Los argumentos son los valores que se pasan a la función al momento de llamarla.\n",
        "\n",
        "## Retorno de valores:\n",
        "Las funciones pueden devolver un valor utilizando la palabra clave return. El valor que devuelve la función puede ser utilizado en el resto del programa.\n",
        "\n",
        "Aquí hay un ejemplo de cómo definir y utilizar una función en un script de Python:\n",
        "\n",
        "Este **script** define una función llamada suma, que toma dos parámetros y devuelve la suma de los mismos. Luego, se llama a la función pasando dos argumentos (x e y) y se guarda el resultado en una variable llamada resultado_suma. Finalmente, se imprime el resultado en la consola.\n",
        "\n",
        "Los valores asignados a cada variable son solo ejemplos y pueden ser diferentes en tu caso de uso real."
      ],
      "metadata": {
        "id": "qPjVisCpyzt-"
      }
    },
    {
      "cell_type": "code",
      "source": [
        "# Definición de función\n",
        "def suma(a, b):\n",
        "    resultado = a + b\n",
        "    return resultado\n",
        "\n",
        "# Uso de la función\n",
        "x = 10\n",
        "y = 5\n",
        "resultado_suma = suma(x, y)\n",
        "print(resultado_suma)\n"
      ],
      "metadata": {
        "colab": {
          "base_uri": "https://localhost:8080/"
        },
        "id": "58iLK6kvzxqD",
        "outputId": "b7d11241-4b9f-419d-8232-5f2afdd4fbff"
      },
      "execution_count": 4,
      "outputs": [
        {
          "output_type": "stream",
          "name": "stdout",
          "text": [
            "15\n"
          ]
        }
      ]
    },
    {
      "cell_type": "markdown",
      "source": [
        "# Clases\n",
        "\n",
        "Aprende a **definir y utilizar clases**:\n",
        "\n",
        "Las **clases son estructuras de datos que encapsulan datos y funciones relacionadas en un objeto**. Aprender a definir y utilizar clases es fundamental para la programación orientada a objetos en Python.\n",
        "\n",
        "## Definición de clases:\n",
        "\n",
        "Para definir una clase en Python, se utiliza la palabra clave class, seguida del nombre de la clase y dos puntos (:). Después de los dos puntos, se definen las variables de instancia y los métodos de la clase.\n",
        "\n",
        "## Variables de instancia:\n",
        "\n",
        "Las variables de instancia son variables que pertenecen a cada objeto creado a partir de la clase. Se definen dentro de la clase utilizando la sintaxis self.nombre_variable = valor.\n",
        "\n",
        "## Métodos:\n",
        "\n",
        "Los métodos son funciones que pertenecen a cada objeto creado a partir de la clase. Se definen dentro de la clase utilizando la sintaxis def nombre_metodo(self, parametros):.\n",
        "\n",
        "## Creación de objetos:\n",
        "\n",
        "Para crear un objeto a partir de una clase, se utiliza la sintaxis nombre_objeto = NombreClase(). Se pueden pasar argumentos a la clase en la creación del objeto.\n",
        "\n",
        "## Ejemplo:\n",
        "Aquí hay un ejemplo de cómo definir y utilizar una clase en un script de Python:\n",
        "\n",
        "Este **script** define una clase llamada Persona, que tiene dos variables de instancia (nombre y edad) y un método llamado saludar, que imprime un mensaje en la consola. Luego, se crea un objeto de la clase Persona llamado juan, pasando dos argumentos (\"Juan\" y 25) y se llama al método saludar del objeto.\n",
        "\n",
        "Los valores asignados a cada variable son solo ejemplos y pueden ser diferentes en tu caso de uso real."
      ],
      "metadata": {
        "id": "WhqacAj20K8z"
      }
    },
    {
      "cell_type": "code",
      "source": [
        "# Definición de clase\n",
        "class Persona:\n",
        "    def __init__(self, nombre, edad):\n",
        "        self.nombre = nombre\n",
        "        self.edad = edad\n",
        "\n",
        "    def saludar(self):\n",
        "        print(\"Hola, mi nombre es\", self.nombre, \"y tengo\", self.edad, \"años.\")\n",
        "\n",
        "# Creación de objeto\n",
        "juan = Persona(\"Juan\", 25)\n",
        "\n",
        "# Uso de método\n",
        "juan.saludar()\n"
      ],
      "metadata": {
        "colab": {
          "base_uri": "https://localhost:8080/"
        },
        "id": "yndZmhE80qZU",
        "outputId": "28d6eb1e-66d9-485c-d7bf-e19bbb03bb30"
      },
      "execution_count": null,
      "outputs": [
        {
          "output_type": "stream",
          "name": "stdout",
          "text": [
            "Hola, mi nombre es Juan y tengo 25 años.\n"
          ]
        }
      ]
    },
    {
      "cell_type": "markdown",
      "source": [
        "\n",
        "# Biblioteca de análisis de dato\n",
        "Aprende las bibliotecas de análisis de datos más populares: **NumPy, Pandas y Matplotlib**. NumPy es una biblioteca para trabajar con matrices y vectores numéricos. Pandas es una biblioteca para manipular y analizar datos estructurados en tablas. Matplotlib es una biblioteca para visualizar datos.\n",
        "\n",
        "\n",
        "## NumPy:\n",
        "\n",
        "NumPy es una biblioteca fundamental para el análisis de datos en Python. Proporciona herramientas para trabajar con matrices y vectores numéricos, lo que es esencial para realizar cálculos en el análisis de datos. Algunas de las funciones más importantes de NumPy son:\n",
        "Creación de matrices y vectores.\n",
        "Operaciones matemáticas con matrices y vectores.\n",
        "Indexación y selección de elementos de matrices y vectores.\n",
        "Estadísticas y cálculo de probabilidades.\n",
        "\n",
        "## Pandas:\n",
        "\n",
        "Pandas es una biblioteca que proporciona herramientas para manipular y analizar datos estructurados en tablas. Permite cargar datos desde diferentes fuentes, limpiar y preparar los datos para su análisis, y realizar operaciones de análisis y manipulación de datos, como la agregación y el filtrado de datos. Algunas de las funciones más importantes de Pandas son:\n",
        "Creación de objetos Series y DataFrame.\n",
        "Carga de datos desde diferentes fuentes (CSV, Excel, bases de datos, etc.).\n",
        "Selección y filtrado de datos.\n",
        "Agregación y agrupamiento de datos.\n",
        "Unión y combinación de datos.\n",
        "\n",
        "## Matplotlib:\n",
        "\n",
        "Matplotlib es una biblioteca para visualizar datos. Proporciona herramientas para crear diferentes tipos de gráficos, como gráficos de barras, gráficos de líneas, gráficos de dispersión, gráficos de áreas y gráficos de tortas. Algunas de las funciones más importantes de Matplotlib son:\n",
        "Creación de diferentes tipos de gráficos.\n",
        "Personalización de la apariencia de los gráficos.\n",
        "Adición de etiquetas y títulos a los gráficos.\n",
        "Guardado de gráficos en diferentes formatos (PDF, PNG, SVG, etc.).\n",
        "\n",
        "Aquí hay un ejemplo de cómo utilizar estas bibliotecas para realizar algunas operaciones de análisis de datos en un script de Python:\n",
        "\n",
        "Este script utiliza NumPy para crear una matriz y un vector y realizar operaciones matemáticas con ellos. Luego, utiliza Pandas para crear un DataFrame con datos de diferentes personas y realizar operaciones de análisis y filtrado de datos en él. Finalmente, utiliza Matplotlib para crear un histograma de las edades de las personas en el DataFrame.\n",
        "\n",
        "Los valores asignados a cada variable son solo ejemplos y pueden ser diferentes en tu caso de uso real. Además, hay muchas más funciones y herramientas disponibles en cada biblioteca que las mencionadas en este ejemplo, por lo que te recomendamos explorarlas más en profundidad a medida que avances en tu aprendizaje."
      ],
      "metadata": {
        "id": "tbbWn3Tx1jrd"
      }
    },
    {
      "cell_type": "code",
      "source": [
        "import numpy as np\n",
        "import pandas as pd\n",
        "import matplotlib.pyplot as plt\n",
        "\n",
        "# Creación de matriz y vector con NumPy\n",
        "matriz = np.array([[1, 2], [3, 4]])\n",
        "vector = np.array([5, 6])\n",
        "\n",
        "# Operaciones matemáticas con NumPy\n",
        "suma = np.sum(matriz)\n",
        "producto_punto = np.dot(matriz, vector)\n",
        "\n",
        "# Creación de DataFrame con Pandas\n",
        "datos = {'nombre': ['Juan', 'Ana', 'Pedro', 'Marta'],\n",
        "         'edad': [25, 30, 20, 35],\n",
        "         'genero': ['M', 'F', 'M', 'F']}\n",
        "df = pd.DataFrame(datos)\n",
        "\n",
        "# Operaciones de análisis con Pandas\n",
        "filtrado = df[df['edad'] > 25]\n",
        "agrupado = df.groupby('genero').mean()\n",
        "\n",
        "# Creación de gráfico con Matplotlib\n",
        "edades = df['edad']\n",
        "plt.hist(edades, bins=range(20, 40, 5), edgecolor='black')\n",
        "plt.xlabel('Edad')\n",
        "plt.ylabel('Frecuencia')\n",
        "plt.title('Histograma de edades')\n",
        "plt.show()\n"
      ],
      "metadata": {
        "colab": {
          "base_uri": "https://localhost:8080/",
          "height": 295
        },
        "id": "g0L0MX8S2GiM",
        "outputId": "303e088a-b7da-4490-845e-226555b54ae6"
      },
      "execution_count": null,
      "outputs": [
        {
          "output_type": "display_data",
          "data": {
            "text/plain": [
              "<Figure size 432x288 with 1 Axes>"
            ],
            "image/png": "[encoded data removed]"
          },
          "metadata": {
            "needs_background": "light"
          }
        }
      ]
    },
    {
      "cell_type": "markdown",
      "source": [
        "# NumPy:\n",
        "\n",
        "NumPy es una biblioteca fundamental para el análisis de datos en Python. Proporciona herramientas para trabajar con matrices y vectores numéricos, lo que es esencial para realizar cálculos en el análisis de datos. Algunas de las funciones más importantes de NumPy son:\n",
        "Creación de matrices y vectores.\n",
        "Operaciones matemáticas con matrices y vectores.\n",
        "Indexación y selección de elementos de matrices y vectores.\n",
        "Estadísticas y cálculo de probabilidades.\n",
        "\n",
        "Aquí hay una descripción más detallada de cómo utilizar la biblioteca NumPy en Python:\n",
        "\n",
        "## Creación de matrices y vectores:\n",
        "\n",
        "Para crear una matriz en NumPy, se utiliza la función np.array(), pasando una lista de listas que representan las filas de la matriz. Por ejemplo, np.array([[1, 2, 3], [4, 5, 6], [7, 8, 9]]) crea una matriz 3x3 con los números del 1 al 9.\n",
        "Para crear un vector en NumPy, se utiliza la función np.array(), pasando una lista de números. Por ejemplo, np.array([1, 2, 3]) crea un vector con los números 1, 2 y 3.\n",
        "\n",
        "## Operaciones matemáticas con matrices y vectores:\n",
        "\n",
        "NumPy proporciona muchas funciones para realizar operaciones matemáticas con matrices y vectores. Algunas de las más comunes son:\n",
        "np.sum(): suma los elementos de una matriz o vector.\n",
        "np.mean(): calcula la media de los elementos de una matriz o vector.\n",
        "np.dot(): realiza el producto punto entre dos vectores.\n",
        "np.matmul(): realiza la multiplicación de dos matrices.\n",
        "np.transpose(): transpone una matriz.\n",
        "\n",
        "## Indexación y selección de elementos de matrices y vectores:\n",
        "\n",
        "En NumPy, se puede acceder a los elementos de una matriz o vector utilizando la indexación. Para acceder a un elemento en una matriz, se utiliza la sintaxis matriz[fila, columna]. Para acceder a un elemento en un vector, se utiliza la sintaxis vector[indice].\n",
        "También se puede acceder a varios elementos de una matriz o vector utilizando la selección de elementos. Para seleccionar una submatriz o subvector, se utiliza la sintaxis matriz[fila_inicio:fila_fin, columna_inicio:columna_fin] o vector[indice_inicio:indice_fin].\n",
        "\n",
        "## Estadísticas y cálculo de probabilidades:\n",
        "\n",
        "NumPy proporciona muchas funciones para calcular estadísticas y probabilidades en matrices y vectores. Algunas de las más comunes son:\n",
        "np.mean(): calcula la media de los elementos de una matriz o vector.\n",
        "np.var(): calcula la varianza de los elementos de una matriz o vector.\n",
        "np.std(): calcula la desviación estándar de los elementos de una matriz o vector.\n",
        "np.percentile(): calcula el percentil de los elementos de una matriz o vector.\n",
        "np.random.rand(): genera números aleatorios en una distribución uniforme.\n",
        "np.random.randn(): genera números aleatorios en una distribución normal.\n",
        "\n",
        "\n",
        "Aquí hay un ejemplo de cómo utilizar NumPy para realizar algunas operaciones de análisis de datos en un script de Python:\n",
        "\n",
        "Este **script** utiliza NumPy para crear una matriz y un vector y realizar varias operaciones matemáticas con ellos. Luego, utiliza la indexación y la selección de elementos para acceder a elementos específicos de la matriz y el vector. Finalmente, utiliza algunas funciones de estadísticas y probabilidades para calcular la varianza, la desviación estándar y otros valores estadísticos en la matriz y el vector.\n",
        "\n",
        "Recuerda que los valores asignados a cada variable son solo ejemplos y pueden ser diferentes en tu caso de uso real. Además, hay muchas más funciones y herramientas disponibles en NumPy que las mencionadas en este ejemplo, por lo que te recomendamos explorarlas más en profundidad a medida que avances en tu aprendizaje.\n",
        "\n",
        "Espero que esto te ayude a entender cómo utilizar la biblioteca NumPy para el análisis de datos en Python. ¡Buena suerte en tu camino de aprendizaje!\n"
      ],
      "metadata": {
        "id": "X4BIY5ZM26OC"
      }
    },
    {
      "cell_type": "code",
      "source": [
        "import numpy as np\n",
        "\n",
        "# Creación de matriz y vector\n",
        "matriz = np.array([[1, 2, 3], [4, 5, 6], [7, 8, 9]])\n",
        "vector = np.array([1, 2, 3])\n",
        "\n",
        "# Operaciones matemáticas con NumPy\n",
        "suma = np.sum(matriz)\n",
        "media = np.mean(matriz)\n",
        "producto_punto = np.dot(vector, vector)\n",
        "producto_matricial = np.matmul(matriz, matriz)\n",
        "matriz_transpuesta = np.transpose(matriz)\n",
        "\n",
        "# Indexación y selección de elementos de NumPy\n",
        "elemento_1 = matriz[0, 0]\n",
        "submatriz = matriz[:2, 1:]\n",
        "elementos_pares = vector[::2]\n",
        "\n",
        "# Estadísticas y cálculo de probabilidades con NumPy\n",
        "varianza = np.var(matriz)\n",
        "desviacion_estandar = np.std(matriz)\n",
        "percentil_90 = np.percentile(vector, 90)\n",
        "aleatorio_uniforme = np.random.rand(3, 3)\n",
        "aleatorio_normal = np.random.randn(3, 3)"
      ],
      "metadata": {
        "id": "Bk9FhToi3WCP"
      },
      "execution_count": null,
      "outputs": []
    },
    {
      "cell_type": "markdown",
      "source": [
        "# Biblioteca Pandas:\n",
        "\n",
        "**Pandas es una biblioteca que proporciona herramientas para manipular y analizar datos estructurados en tablas**. Permite cargar datos desde diferentes fuentes, limpiar y preparar los datos para su análisis, y realizar operaciones de análisis y manipulación de datos, como la agregación y el filtrado de datos. Algunas de las funciones más importantes de Pandas son:\n",
        "Creación de objetos Series y DataFrame.\n",
        "Carga de datos desde diferentes fuentes (CSV, Excel, bases de datos, etc.).\"\n",
        "Selección y filtrado de datos.\n",
        "Agregación y agrupamiento de datos.\n",
        "Unión y combinación de datos.\n",
        "\n",
        "Aquí hay una descripción más detallada de cómo utilizar la biblioteca Pandas en Python:\n",
        "\n",
        "## Creación de objetos Series y DataFrame:\n",
        "\n",
        "Un objeto Series es una estructura de datos unidimensional que puede contener cualquier tipo de datos, como números, cadenas de texto, fechas, etc. Para crear un objeto Series en Pandas, se utiliza la función pd.Series(), pasando una lista de valores. Por ejemplo, pd.Series([1, 2, 3]) crea un objeto Series con los valores 1, 2 y 3.\n",
        "Un objeto DataFrame es una estructura de datos bidimensional que se utiliza para representar datos estructurados en forma de tabla. Cada columna del DataFrame puede tener un tipo de datos diferente. Para crear un objeto DataFrame en Pandas, se utiliza la función pd.DataFrame(), pasando un diccionario de valores. Por ejemplo, pd.DataFrame({'nombre': ['Juan', 'Ana', 'Pedro'], 'edad': [25, 30, 20]}) crea un DataFrame con dos columnas: 'nombre' y 'edad'.\n",
        "\n",
        "## Carga de datos desde diferentes fuentes:\n",
        "\n",
        "Pandas permite cargar datos desde diferentes fuentes, como archivos CSV, hojas de cálculo de Excel, bases de datos, etc. Para cargar un archivo CSV, se utiliza la función pd.read_csv(), pasando la ruta del archivo.\n",
        "\n",
        "Por ejemplo, pd.read_csv('datos.csv') carga un archivo CSV con nombre 'datos.csv'.\n",
        "\n",
        "Para cargar una hoja de cálculo de Excel, se utiliza la función pd.read_excel(), pasando la ruta del archivo y el nombre de la hoja.\n",
        "\n",
        "Por ejemplo, pd.read_excel('datos.xlsx', sheet_name='hoja1') carga la hoja de cálculo 'hoja1' del archivo Excel 'datos.xlsx'.\n",
        "\n",
        "## Selección y filtrado de datos:\n",
        "\n",
        "En Pandas, se puede acceder a los datos de un DataFrame utilizando la selección de columnas y filas. Para seleccionar una columna en un DataFrame, se utiliza la sintaxis df['columna']. Para seleccionar una fila en un DataFrame, se utiliza la sintaxis df.loc[indice].\n",
        "\n",
        "También se puede seleccionar y filtrar los datos de un DataFrame utilizando condiciones lógicas.\n",
        "\n",
        "Por ejemplo, df[df['edad'] > 25] selecciona las filas del DataFrame donde la edad es mayor que 25.\n",
        "\n",
        "## Agregación y agrupamiento de datos:\n",
        "\n",
        "Pandas permite realizar operaciones de agregación y agrupamiento de datos en un DataFrame. Algunas de las funciones más comunes son:\n",
        "**df.groupby():** agrupa los datos del DataFrame por una o más columnas.\n",
        "**df.mean():** calcula la media de cada columna del DataFrame.\n",
        "**df.sum():** calcula la suma de cada columna del DataFrame.\n",
        "**df.count():** cuenta el número de valores no nulos en cada columna del DataFrame.\n",
        "\n",
        "## Unión y combinación de datos:\n",
        "\n",
        "Pandas permite unir y combinar datos de diferentes DataFrames. Algunas de las funciones más comunes son:\n",
        "**pd.concat():** combina dos o más DataFrames en una sola tabla.\n",
        "**df.merge():** combina dos DataFrames en función de una o más columnas comunes.\n",
        "**df.join():** une dos DataFrames en función de sus índices.\n",
        "\n",
        "# Ejemplo\n",
        "Aquí hay un ejemplo de cómo utilizar Pandas para realizar algunas operaciones de análisis de datos en un script de Python:\n",
        "\n",
        "Este **script** utiliza Pandas para cargar datos desde un archivo CSV, seleccionar y filtrar datos, realizar operaciones de agregación y agrupamiento de datos, y unir y combinar datos de diferentes DataFrames.\n",
        "\n",
        "Recuerda que los valores asignados a cada variable son solo ejemplos y pueden ser diferentes en tu caso de uso real. Además, hay muchas más funciones y herramientas disponibles en Pandas que las mencionadas en este ejemplo, por lo que te recomendamos explorarlas más en profundidad a medida que avances en tu aprendizaje."
      ],
      "metadata": {
        "id": "D4DaUlv449gi"
      }
    },
    {
      "cell_type": "code",
      "source": [
        "import pandas as pd\n",
        "\n",
        "# Carga de datos desde un archivo CSV\n",
        "datos = pd.read_csv('datos.csv')\n",
        "\n",
        "# Selección y filtrado de datos\n",
        "columna_edad = datos['edad']\n",
        "filas_mayores_25 = datos[datos['edad'] > 25]\n",
        "\n",
        "# Agregación y agrupamiento de datos\n",
        "media_edad = datos['edad'].mean()\n",
        "agrupado_por_genero = datos.groupby('genero').mean()\n",
        "\n",
        "# Unión y combinación de datos\n",
        "datos_2 = pd.read_csv('datos_2.csv')\n",
        "combinado = pd.concat([datos, datos_2])\n",
        "unido = datos.merge(datos_2, on='id')\n"
      ],
      "metadata": {
        "id": "1qDtzlsk6GnQ"
      },
      "execution_count": null,
      "outputs": []
    },
    {
      "cell_type": "markdown",
      "source": [
        "# Matplotlib:\n",
        "\n",
        "Matplotlib es una biblioteca para visualizar datos. Proporciona herramientas para crear diferentes tipos de gráficos, como gráficos de barras, gráficos de líneas, gráficos de dispersión, gráficos de áreas y gráficos de tortas. Algunas de las funciones más importantes de Matplotlib son:\n",
        "Creación de diferentes tipos de gráficos.\n",
        "Personalización de la apariencia de los gráficos.\n",
        "Adición de etiquetas y títulos a los gráficos.\n",
        "Guardado de gráficos en diferentes formatos (PDF, PNG, SVG, etc.).\n",
        "\n",
        "Aquí hay una descripción más detallada de cómo utilizar la biblioteca Matplotlib en Python:\n",
        "\n",
        "## Creación de diferentes tipos de gráficos:\n",
        "\n",
        "Matplotlib proporciona herramientas para crear diferentes tipos de gráficos, como gráficos de barras, gráficos de líneas, gráficos de dispersión, gráficos de áreas y gráficos de tortas. Para crear un gráfico en Matplotlib, se utiliza la función plt.plot(), pasando los datos a graficar. Por ejemplo, plt.plot([1, 2, 3], [4, 5, 6]) crea un gráfico de línea con los puntos (1, 4), (2, 5) y (3, 6).\n",
        "\n",
        "## Personalización de la apariencia de los gráficos:\n",
        "\n",
        "Matplotlib permite personalizar la apariencia de los gráficos, como el color, el estilo de línea, el tamaño de los puntos y el tamaño del gráfico. Para personalizar la apariencia de un gráfico, se utilizan diferentes funciones de Matplotlib, como plt.xlabel() para etiquetar el eje x del gráfico, plt.title() para agregar un título al gráfico y plt.legend() para agregar una leyenda al gráfico.\n",
        "\n",
        "## Adición de etiquetas y títulos a los gráficos:\n",
        "\n",
        "Matplotlib permite agregar etiquetas y títulos a los gráficos para mejorar la claridad y la comprensión de los datos. Para agregar etiquetas y títulos a un gráfico, se utilizan diferentes funciones de Matplotlib, como plt.xlabel(), plt.ylabel() y plt.title().\n",
        "\n",
        "## Guardado de gráficos en diferentes formatos:\n",
        "\n",
        "Matplotlib permite guardar los gráficos en diferentes formatos, como PDF, PNG, SVG, etc. Para guardar un gráfico en un archivo, se utiliza la función plt.savefig(), pasando la ruta del archivo y el formato deseado. Por ejemplo, plt.savefig('grafico.png', format='png') guarda el gráfico en un archivo PNG con nombre 'grafico.png'.\n",
        "\n",
        "# Ejemplo:\n",
        "Aquí hay un ejemplo de cómo utilizar Matplotlib para crear y personalizar un gráfico de líneas en un script de Python:\n",
        "\n",
        "Este **script** utiliza Matplotlib para crear y personalizar un gráfico de líneas con los datos proporcionados. Luego, guarda el gráfico en un archivo PNG y lo muestra en pantalla.\n",
        "\n",
        "Recuerda que los valores asignados a cada variable son solo ejemplos y pueden ser diferentes en tu caso de uso real. Además, hay muchas más funciones y herramientas disponibles en Matplotlib que las mencionadas en este ejemplo, por lo que te recomendamos explorarlas más en profundidad a medida que avances en tu aprendizaje."
      ],
      "metadata": {
        "id": "K2C015r-7fT3"
      }
    },
    {
      "cell_type": "code",
      "source": [
        "import matplotlib.pyplot as plt\n",
        "\n",
        "# Datos para graficar\n",
        "x = [1, 2, 3, 4, 5]\n",
        "y = [2, 4, 6, 8, 10]\n",
        "\n",
        "# Creación del gráfico\n",
        "plt.plot(x, y, color='blue', linestyle='--', marker='o')\n",
        "\n",
        "# Personalización del gráfico\n",
        "plt.xlabel('Eje x')\n",
        "plt.ylabel('Eje y')\n",
        "plt.title('Gráfico de líneas')\n",
        "plt.legend(['Datos'])\n",
        "\n",
        "# Guardado del gráfico en un archivo PNG\n",
        "plt.savefig('grafico.png', format='png')\n",
        "\n",
        "# Mostrar el gráfico en pantalla\n",
        "plt.show()\n"
      ],
      "metadata": {
        "colab": {
          "base_uri": "https://localhost:8080/",
          "height": 295
        },
        "id": "3Aqfg3Vv8WYJ",
        "outputId": "4f3e8e3b-9b3f-479f-904d-b1f452f311cf"
      },
      "execution_count": null,
      "outputs": [
        {
          "output_type": "display_data",
          "data": {
            "text/plain": [
              "<Figure size 432x288 with 1 Axes>"
            ],
            "image/png": "[encoded data removed]"
          },
          "metadata": {
            "needs_background": "light"
          }
        }
      ]
    },
    {
      "cell_type": "markdown",
      "source": [
        "# Jupyter Notebooks\n",
        "\n",
        "Aprende a usar **Jupyter Notebooks**, una herramienta popular para explorar y analizar datos.\n",
        "\n",
        "Aquí hay una descripción más detallada de cómo utilizar Jupyter Notebooks para explorar y analizar datos:\n",
        "\n",
        "## ¿Qué es Jupyter Notebook?\n",
        "\n",
        "Jupyter Notebook es una herramienta popular para explorar y analizar datos en Python. Es una aplicación web que permite crear y compartir documentos que contienen código, texto, gráficos y otros elementos interactivos. Los documentos de Jupyter Notebook se llaman \"cuadernos\" y tienen la extensión \".ipynb\".\n",
        "\n",
        "## ¿Cómo instalar Jupyter Notebook?\n",
        "\n",
        "Jupyter Notebook se puede instalar mediante la distribución de Anaconda o mediante la línea de comandos utilizando el paquete pip. Si ya tienes instalada la distribución de Anaconda, Jupyter Notebook se instalará automáticamente. Si no tienes instalada la distribución de Anaconda, puedes instalar Jupyter Notebook ejecutando el siguiente comando en la línea de comandos: pip install jupyter.\n",
        "\n",
        "## ¿Cómo utilizar Jupyter Notebook?\n",
        "\n",
        "Para utilizar Jupyter Notebook, abre una terminal o línea de comandos, navega hasta la carpeta donde quieras crear el cuaderno y ejecuta el siguiente comando: jupyter notebook. Esto abrirá una pestaña en tu navegador web que te permitirá crear un nuevo cuaderno o abrir uno existente.\n",
        "\n",
        "Dentro del cuaderno, puedes escribir código en las celdas de código y texto en las celdas de texto. Puedes ejecutar una celda de código presionando Shift + Enter. El resultado de la ejecución aparecerá debajo de la celda de código.\n",
        "\n",
        "Además de escribir código en Python, también puedes utilizar Jupyter Notebook para crear gráficos interactivos, visualizar datos y explorar datos de forma interactiva. Jupyter Notebook admite diferentes bibliotecas de visualización de datos, como Matplotlib y Plotly, y bibliotecas de análisis de datos, como Pandas y NumPy.\n",
        "\n",
        "## ¿Cómo compartir un cuaderno de Jupyter Notebook?\n",
        "\n",
        "Para compartir un cuaderno de Jupyter Notebook, debes guardar el archivo \".ipynb\" en un repositorio en línea, como GitHub, o en un servicio de almacenamiento en la nube, como Google Drive o Dropbox. Luego, puedes compartir el enlace al archivo con otras personas para que puedan abrirlo en su propia instancia de Jupyter Notebook.\n",
        "\n",
        "# Ejemplo\n",
        "Aquí hay un ejemplo de cómo utilizar Jupyter Notebook para explorar y analizar datos:\n",
        "\n",
        "1. Abre Jupyter Notebook en tu navegador web.\n",
        "2. Crea un nuevo cuaderno y agrega una celda de código.\n",
        "3. Importa la biblioteca Pandas y carga un archivo CSV en un DataFrame:\n"
      ],
      "metadata": {
        "id": "ZLDfTBrK9PSX"
      }
    },
    {
      "cell_type": "code",
      "source": [
        "import pandas as pd\n",
        "\n",
        "datos = pd.read_csv('datos.csv')"
      ],
      "metadata": {
        "id": "_gk7ddK89x0Q"
      },
      "execution_count": null,
      "outputs": []
    },
    {
      "cell_type": "markdown",
      "source": [
        "4. Agrega una celda de código y realiza algunas operaciones de análisis de datos en el DataFrame, como calcular la media de la edad:"
      ],
      "metadata": {
        "id": "Kx1R6aVZ-M42"
      }
    },
    {
      "cell_type": "code",
      "source": [
        "media_edad = datos['edad'].mean()\n",
        "print(media_edad)\n"
      ],
      "metadata": {
        "id": "lFSN71ll-P2b"
      },
      "execution_count": null,
      "outputs": []
    },
    {
      "cell_type": "markdown",
      "source": [
        "5. Agrega una celda de código y crea un gráfico de barras con los datos del DataFrame:\n",
        "\n",
        "6. Guarda el cuaderno y comparte el archivo \".ipynb\" con otras personas.\n",
        "\n",
        "Recuerda que los valores y las operaciones en el ejemplo anterior son solo ejemplos y pueden ser diferentes en tu caso de uso real."
      ],
      "metadata": {
        "id": "be-CwF0u-SQF"
      }
    },
    {
      "cell_type": "code",
      "source": [
        "import matplotlib.pyplot as plt\n",
        "\n",
        "datos.plot(kind='bar', x='nombre', y='edad')\n",
        "plt.show()\n"
      ],
      "metadata": {
        "id": "eR-SlYD4-ZPt"
      },
      "execution_count": null,
      "outputs": []
    },
    {
      "cell_type": "code",
      "source": [
        "## EJERCICIO PARA JUPYTER NOTEBOOK\n",
        "\n",
        "import pandas as pd\n",
        "\n",
        "# datos = pd.read_csv('datos.csv')\n",
        "\n",
        "# Creación de DataFrame con Pandas\n",
        "datos = {'nombre': ['Juan', 'Ana', 'Pedro', 'Marta'],\n",
        "         'edad': [25, 30, 20, 35],\n",
        "         'genero': ['M', 'F', 'M', 'F']}\n",
        "df = pd.DataFrame(datos)\n",
        "\n",
        "# Operaciones de análisis con Pandas\n",
        "filtrado = df[df['edad'] > 25]\n",
        "agrupado = df.groupby('genero').mean()\n",
        "\n",
        "\n",
        "media_edad = df['edad'].mean()\n",
        "print(media_edad)\n",
        "\n",
        "import matplotlib.pyplot as plt\n",
        "\n",
        "df.plot(kind='bar', x='nombre', y='edad')\n",
        "plt.show()"
      ],
      "metadata": {
        "id": "nl0pcqw7CPMX"
      },
      "execution_count": null,
      "outputs": []
    },
    {
      "cell_type": "markdown",
      "source": [
        "# Aprendizaje Automático\n",
        "Aprende lo básico sobre el aprendizaje automático, como las diferencias entre el aprendizaje supervisado y no supervisado, cómo se entrenan los modelos, cómo se evalúan los modelos, etc.\n",
        "\n",
        "Aquí hay una descripción más detallada de lo básico del aprendizaje automático:\n",
        "\n",
        "## ¿Qué es el aprendizaje automático?\n",
        "\n",
        "El aprendizaje automático es una rama de la inteligencia artificial que se centra en desarrollar algoritmos que puedan aprender y mejorar automáticamente a partir de datos. Los modelos de aprendizaje automático pueden utilizarse para hacer predicciones, clasificar datos, identificar patrones y mucho más.\n",
        "\n",
        "## ¿Cuáles son las diferencias entre el aprendizaje supervisado y no supervisado?\n",
        "\n",
        "El aprendizaje supervisado implica entrenar un modelo con un conjunto de datos etiquetados, es decir, un conjunto de datos que incluye tanto las características de entrada como las respuestas deseadas. El modelo aprende a hacer predicciones sobre nuevos datos a partir de la relación entre las características de entrada y las respuestas deseadas. Por otro lado, el aprendizaje no supervisado implica entrenar un modelo con un conjunto de datos no etiquetados, es decir, un conjunto de datos que solo incluye las características de entrada. El modelo aprende a identificar patrones y estructuras en los datos sin tener información explícita sobre las respuestas deseadas.\n",
        "\n",
        "### Ejemplos de aprendizaje supervisado:\n",
        "\n",
        "1. Clasificación de correo electrónico como \"spam\" o \"no spam\" en función del contenido del correo electrónico y de la información de la dirección de correo electrónico del remitente (por ejemplo, usando un modelo de regresión logística o un modelo de árbol de decisión).\n",
        "2. Predicción de los precios de las viviendas en función de las características de la vivienda, como el tamaño, la ubicación y el número de habitaciones (por ejemplo, usando un modelo de regresión lineal o un modelo de bosque aleatorio).\n",
        "3. Detección de enfermedades cardíacas en pacientes a partir de datos médicos, como el historial de salud, la edad y los síntomas (por ejemplo, usando un modelo de clasificación de vectores de soporte o un modelo de redes neuronales).\n",
        "\n",
        "### Ejemplos de aprendizaje no supervisado:\n",
        "\n",
        "1. Agrupación de clientes en función de su historial de compras y preferencias de producto (por ejemplo, usando un modelo de agrupamiento k-means o un modelo de agrupamiento jerárquico).\n",
        "2. Reducción de la dimensionalidad de los datos mediante técnicas como el análisis de componentes principales (PCA) para visualizar los datos en un espacio de menor dimensión.\n",
        "3. Detección de anomalías en datos de sensores, como fallas en un sistema de producción, mediante técnicas de detección de anomalías.\n",
        "\n",
        "## ¿Cómo se entrenan los modelos de aprendizaje automático?\n",
        "\n",
        "Para entrenar un modelo de aprendizaje automático, se utilizan algoritmos de optimización que ajustan los parámetros del modelo para minimizar una función de pérdida o de costo. Esta función mide la discrepancia entre las respuestas deseadas y las predicciones del modelo. El objetivo del entrenamiento es encontrar los valores óptimos de los parámetros que minimicen la función de pérdida.\n",
        "\n",
        "## ¿Cómo se evalúan los modelos de aprendizaje automático?\n",
        "\n",
        "Para evaluar un modelo de aprendizaje automático, se utiliza un conjunto de datos separado del conjunto de datos de entrenamiento, llamado conjunto de datos de prueba. Se calculan varias métricas de rendimiento, como la precisión, la exhaustividad y la puntuación F1, para medir el rendimiento del modelo en el conjunto de datos de prueba. El objetivo es evaluar la capacidad del modelo para hacer predicciones precisas sobre nuevos datos.\n",
        "\n",
        "# Ejemplo\n",
        "Aquí hay un ejemplo de cómo entrenar y evaluar un modelo de aprendizaje automático utilizando el aprendizaje supervisado:\n",
        "\n",
        "1. Importa la biblioteca scikit-learn y carga los datos de un conjunto de datos de ejemplo:\n",
        "\n",
        "from sklearn import datasets\n",
        "\n",
        "iris = datasets.load_iris()\n",
        "X = iris.data\n",
        "y = iris.target\n",
        "\n",
        "2. Separa los datos en un conjunto de entrenamiento y un conjunto de prueba:\n",
        "\n",
        "from sklearn.model_selection import train_test_split\n",
        "\n",
        "X_train, X_test, y_train, y_test = train_test_split(X, y, test_size=0.2, random_state=42)\n",
        "\n",
        "3. Importa un modelo de clasificación, como el modelo de regresión logística, y entrena el modelo con los datos de entrenamiento:\n",
        "\n",
        "from sklearn.linear_model import LogisticRegression\n",
        "\n",
        "modelo = LogisticRegression()\n",
        "modelo.fit(X_train, y_train)\n",
        "\n",
        "4. Evalúa el rendimiento del modelo en el conjunto de datos de prueba:\n",
        "\n",
        "from sklearn.metrics import accuracy_score\n",
        "\n",
        "y_pred = modelo.predict(X_test)\n",
        "precision = accuracy_score(y_test, y_pred)\n",
        "print('Precisión del modelo:', precision)\n",
        "\n",
        "\n",
        "En este ejemplo, estamos utilizando un conjunto de datos de iris y entrenando un modelo de regresión logística para clasificar los diferentes tipos de flores de iris. Primero, cargamos los datos y los dividimos en conjuntos de entrenamiento y prueba. Luego, importamos un modelo de regresión logística y lo entrenamos con los datos de entrenamiento. Finalmente, evaluamos el rendimiento del modelo en el conjunto de datos de prueba utilizando la métrica de precisión.\n",
        "\n",
        "Recuerda que este es solo un ejemplo y que hay muchos otros modelos de aprendizaje automático y métricas de evaluación disponibles, dependiendo del problema que estés tratando de resolver. Además, el aprendizaje automático puede ser un tema complejo que requiere un conocimiento sólido de las matemáticas y la estadística, así como de la programación en Python."
      ],
      "metadata": {
        "id": "EilZnpIzDnUf"
      }
    },
    {
      "cell_type": "code",
      "source": [
        "#Aquí hay un ejemplo de cómo entrenar y evaluar un modelo de aprendizaje automático utilizando el aprendizaje supervisado:\n",
        "\n",
        "#Importa la biblioteca scikit-learn y carga los datos de un conjunto de datos de ejemplo:\n",
        "from sklearn import datasets\n",
        "\n",
        "iris = datasets.load_iris()\n",
        "X = iris.data\n",
        "y = iris.target\n",
        "\n",
        "#Separa los datos en un conjunto de entrenamiento y un conjunto de prueba:\n",
        "from sklearn.model_selection import train_test_split\n",
        "\n",
        "X_train, X_test, y_train, y_test = train_test_split(X, y, test_size=0.3, random_state=42)\n",
        "\n",
        "#Importa un modelo de clasificación, como el modelo de regresión logística, y entrena el modelo con los datos de entrenamiento:\n",
        "from sklearn.linear_model import LogisticRegression\n",
        "\n",
        "modelo = LogisticRegression()\n",
        "modelo.fit(X_train, y_train)\n",
        "\n",
        "#Evalúa el rendimiento del modelo en el conjunto de datos de prueba:\n",
        "from sklearn.metrics import accuracy_score\n",
        "\n",
        "y_pred = modelo.predict(X_test)\n",
        "precision = accuracy_score(y_test, y_pred)\n",
        "print('Precisión del modelo:', precision)\n"
      ],
      "metadata": {
        "colab": {
          "base_uri": "https://localhost:8080/"
        },
        "id": "H3StNOqKE-Hb",
        "outputId": "682347c4-584c-4e01-8d8a-2c783a5af98a"
      },
      "execution_count": null,
      "outputs": [
        {
          "output_type": "stream",
          "name": "stdout",
          "text": [
            "Precisión del modelo: 1.0\n"
          ]
        }
      ]
    },
    {
      "cell_type": "markdown",
      "source": [
        "# Biblioteca de aprendizaje automático scikit-learn\n",
        "\n",
        "Aprende la **biblioteca de aprendizaje automático scikit-learn**. Scikit-learn es una biblioteca de aprendizaje automático de Python que incluye una amplia variedad de algoritmos de aprendizaje supervisado y no supervisado.\n",
        "\n",
        "**Scikit-learn es una biblioteca popular de Python para el aprendizaje automático** que proporciona una amplia variedad de algoritmos de aprendizaje supervisado y no supervisado, herramientas de preprocesamiento de datos y herramientas de evaluación y validación de modelos. Algunas de las características y funcionalidades más importantes de scikit-learn incluyen:\n",
        "\n",
        "**Implementación de algoritmos de aprendizaje supervisado**, como regresión lineal, regresión logística, k-vecinos más cercanos, árboles de decisión, bosques aleatorios, SVM, redes neuronales, entre otros.\n",
        "Implementación de algoritmos de aprendizaje no supervisado, como k-means, agrupamiento jerárquico, análisis de componentes principales (PCA), detección de anomalías, entre otros.\n",
        "\n",
        "Herramientas para preprocesar y transformar los datos, como la normalización de los datos, la eliminación de valores atípicos, la discretización de variables continuas, la reducción de la dimensionalidad, entre otros.\n",
        "\n",
        "Herramientas para evaluar y validar los modelos, como la división de los datos en conjuntos de entrenamiento y prueba, la validación cruzada, la curva de aprendizaje, la matriz de confusión, entre otros.\n",
        "Integración con otras bibliotecas de Python para el análisis de datos, como NumPy, Pandas y Matplotlib.\n",
        "\n",
        "# Ejemplo\n",
        "\n",
        "Aquí hay un ejemplo simple de cómo usar scikit-learn para entrenar y evaluar un modelo de regresión lineal:\n",
        "\n",
        "En este ejemplo, estamos utilizando el conjunto de datos de Boston Housing para predecir los precios de las viviendas en función de diferentes características de la vivienda. Primero, cargamos los datos y los dividimos en conjuntos de entrenamiento y prueba. Luego, importamos un modelo de regresión lineal y lo entrenamos con los datos de entrenamiento. Finalmente, evaluamos el rendimiento del modelo en el conjunto de datos de prueba utilizando la métrica de error cuadrático medio."
      ],
      "metadata": {
        "id": "84aOVbfuVik7"
      }
    },
    {
      "cell_type": "code",
      "source": [
        "# 1. Importa la biblioteca scikit-learn y carga los datos en un objeto de conjunto de datos:\n",
        "\n",
        "from sklearn import datasets\n",
        "\n",
        "boston = datasets.load_boston()\n",
        "X = boston.data\n",
        "y = boston.target\n",
        "\n",
        "# 2. Separa los datos en un conjunto de entrenamiento y un conjunto de prueba:\n",
        "\n",
        "from sklearn.model_selection import train_test_split\n",
        "\n",
        "X_train, X_test, y_train, y_test = train_test_split(X, y, test_size=0.2, random_state=42)\n",
        "\n",
        "# 3. Importa un modelo de regresión lineal y lo entrena con los datos de entrenamiento:\n",
        "\n",
        "from sklearn.linear_model import LinearRegression\n",
        "\n",
        "modelo = LinearRegression()\n",
        "modelo.fit(X_train, y_train)\n",
        "\n",
        "# 4. Evalúa el rendimiento del modelo en el conjunto de datos de prueba:\n",
        "\n",
        "from sklearn.metrics import mean_squared_error\n",
        "\n",
        "y_pred = modelo.predict(X_test)\n",
        "mse = mean_squared_error(y_test, y_pred)\n",
        "print('Error cuadrático medio del modelo:', mse)\n"
      ],
      "metadata": {
        "id": "pwsZJ_nlWEgj"
      },
      "execution_count": null,
      "outputs": []
    },
    {
      "cell_type": "markdown",
      "source": [
        "## Error cuadrático medio (MSE, por sus siglas en inglés)\n",
        "El **error cuadrático medio (MSE, por sus siglas en inglés)** es una medida de la calidad de un modelo de regresión que se utiliza para evaluar cuánto se desvían las predicciones del modelo de los valores reales. El MSE es el promedio de los errores al cuadrado para cada punto de datos en el conjunto de prueba. Los errores son la diferencia entre las predicciones del modelo y los valores reales correspondientes. El MSE se calcula utilizando la siguiente fórmula:\n",
        "\n",
        "MSE = (1/n) * Σ(y_true - y_pred)^2\n",
        "\n",
        "donde n es el número de puntos de datos en el conjunto de prueba, y_true son los valores reales del objetivo correspondientes a cada punto de datos, y y_pred son las predicciones del modelo para cada punto de datos.\n",
        "\n",
        "En general, un MSE más bajo indica un modelo más preciso. Sin embargo, el MSE no siempre es la mejor métrica de evaluación, ya que puede ser sensible a valores atípicos en los datos. En su lugar, se pueden utilizar otras métricas de evaluación, como el coeficiente de determinación (R^2), que es una medida de la proporción de la varianza en los datos que es explicada por el modelo."
      ],
      "metadata": {
        "id": "Zrj7amIcXClL"
      }
    },
    {
      "cell_type": "markdown",
      "source": [
        "# Implementación de algoritmos de aprendizaje supervisado\n",
        "Implementación de **algoritmos de aprendizaje supervisado**, como regresión lineal, regresión logística, k-vecinos más cercanos, árboles de decisión, bosques aleatorios, SVM, redes neuronales, entre otros.\n",
        "\n",
        "**Algoritmos de aprendizaje supervisado más comunes** que se pueden implementar con scikit-learn:\n",
        "\n",
        "**Regresión lineal**: es un modelo que busca encontrar una relación lineal entre una variable de entrada (o múltiples variables de entrada) y una variable de salida continua. Se puede utilizar para hacer predicciones numéricas, como predecir los precios de las viviendas en función de diferentes características.\n",
        "\n",
        "**Regresión logística**: es un modelo que se utiliza para la clasificación binaria, es decir, cuando se busca predecir una salida binaria (por ejemplo, \"sí\" o \"no\", \"verdadero\" o \"falso\") en función de variables de entrada. Es muy utilizado en aplicaciones como la detección de spam o la detección de fraudes.\n",
        "\n",
        "**K-vecinos más cercanos (KNN)**: es un algoritmo que se utiliza tanto para la clasificación como para la regresión. Se basa en la idea de que los puntos de datos con características similares tienden a agruparse. El modelo busca los k puntos de datos más cercanos a un nuevo punto de datos y toma la decisión de clasificación o de regresión en función de los valores de salida de los vecinos.\n",
        "\n",
        "**Árboles de decisión**: son modelos que se utilizan tanto para la clasificación como para la regresión. Se basan en la idea de que es posible tomar decisiones a través de un conjunto de preguntas que dividen los datos en diferentes grupos. El modelo construye un árbol de decisiones a partir de los datos de entrenamiento y utiliza este árbol para hacer predicciones para nuevos datos.\n",
        "\n",
        "**Bosques aleatorios**: es una técnica que combina varios árboles de decisión para hacer predicciones más precisas. El modelo construye múltiples árboles de decisión a partir de subconjuntos aleatorios de los datos de entrenamiento y combina las predicciones de los árboles para obtener una predicción final.\n",
        "\n",
        "**SVM**: es un modelo que se utiliza tanto para la clasificación como para la regresión. Se basa en la idea de encontrar un hiperplano que divida los datos en diferentes grupos. El modelo busca el hiperplano que maximiza la separación entre los grupos.\n",
        "\n",
        "**Redes neuronales**: son modelos que se utilizan tanto para la clasificación como para la regresión. Se basan en la idea de que es posible aprender una representación no lineal de los datos mediante la combinación de múltiples capas de unidades de procesamiento. Los modelos de redes neuronales son muy potentes y se utilizan en una amplia variedad de aplicaciones de aprendizaje automático.\n",
        "\n",
        "Estos son solo algunos ejemplos de los algoritmos de aprendizaje supervisado más comunes que se pueden implementar con scikit-learn. Cada algoritmo tiene sus propias fortalezas y debilidades, y la elección del algoritmo adecuado dependerá de los datos y de la tarea de aprendizaje automático en cuestión."
      ],
      "metadata": {
        "id": "zgslknHYYQcP"
      }
    },
    {
      "cell_type": "code",
      "source": [
        "# 1. Regresión lineal:\n",
        "from sklearn.linear_model import LinearRegression from sklearn.datasets import load_boston from sklearn.model_selection import train_test_split from sklearn.metrics import mean_squared_error\n",
        "\n",
        "boston = load_boston() X_train, X_test, y_train, y_test = train_test_split(boston.data, boston.target, test_size=0.2, random_state=42)\n",
        "\n",
        "model = LinearRegression() model.fit(X_train, y_train)\n",
        "\n",
        "y_pred = model.predict(X_test) mse = mean_squared_error(y_test, y_pred)\n",
        "\n",
        "print(\"MSE:\", mse)\n"
      ],
      "metadata": {
        "id": "yklyk0K3d78O"
      },
      "execution_count": null,
      "outputs": []
    },
    {
      "cell_type": "code",
      "source": [
        "# 2. Regresión logística:\n",
        "\n",
        "from sklearn.linear_model import LogisticRegression\n",
        "from sklearn.datasets import load_iris\n",
        "from sklearn.model_selection import train_test_split\n",
        "from sklearn.metrics import accuracy_score\n",
        "\n",
        "iris = load_iris()\n",
        "X_train, X_test, y_train, y_test = train_test_split(iris.data, iris.target, test_size=0.2, random_state=42)\n",
        "\n",
        "model = LogisticRegression()\n",
        "\n",
        "model.fit(X_train, y_train)\n",
        "\n",
        "y_pred = model.predict(X_test)\n",
        "accuracy = accuracy_score(y_test, y_pred)\n",
        "\n",
        "print(\"Accuracy:\", accuracy)\n"
      ],
      "metadata": {
        "id": "W5jnyLMZeJ6x"
      },
      "execution_count": null,
      "outputs": []
    },
    {
      "cell_type": "code",
      "source": [
        "# 3. K-vecinos más cercanos (KNN):\n",
        "\n",
        "from sklearn.neighbors import KNeighborsClassifier\n",
        "from sklearn.datasets import load_iris\n",
        "from sklearn.model_selection import train_test_split\n",
        "from sklearn.metrics import accuracy_score\n",
        "\n",
        "iris = load_iris()\n",
        "X_train, X_test, y_train, y_test = train_test_split(iris.data, iris.target, test_size=0.2, random_state=42)\n",
        "\n",
        "model = KNeighborsClassifier(n_neighbors=3)\n",
        "model.fit(X_train, y_train)\n",
        "\n",
        "y_pred = model.predict(X_test)\n",
        "accuracy = accuracy_score(y_test, y_pred)\n",
        "\n",
        "print(\"Accuracy:\", accuracy)\n"
      ],
      "metadata": {
        "id": "P1W6b6WefvoA"
      },
      "execution_count": null,
      "outputs": []
    },
    {
      "cell_type": "code",
      "source": [
        "# 4. Árboles de decisión:\n",
        "\n",
        "from sklearn.tree import DecisionTreeClassifier\n",
        "from sklearn.datasets import load_iris\n",
        "from sklearn.model_selection import train_test_split\n",
        "from sklearn.metrics import accuracy_score\n",
        "\n",
        "iris = load_iris()\n",
        "X_train, X_test, y_train, y_test = train_test_split(iris.data, iris.target, test_size=0.2, random_state=42)\n",
        "\n",
        "model = DecisionTreeClassifier(max_depth=3)\n",
        "model.fit(X_train, y_train)\n",
        "\n",
        "y_pred = model.predict(X_test)\n",
        "accuracy = accuracy_score(y_test, y_pred)\n",
        "\n",
        "print(\"Accuracy:\", accuracy)\n"
      ],
      "metadata": {
        "id": "7xoJzOMAfy6Z"
      },
      "execution_count": null,
      "outputs": []
    },
    {
      "cell_type": "code",
      "source": [
        "# 5. Bosques aleatorios:\n",
        "\n",
        "from sklearn.ensemble import RandomForestClassifier\n",
        "from sklearn.datasets import load_iris\n",
        "from sklearn.model_selection import train_test_split\n",
        "from sklearn.metrics import accuracy_score\n",
        "\n",
        "iris = load_iris()\n",
        "X_train, X_test, y_train, y_test = train_test_split(iris.data, iris.target, test_size=0.2, random_state=42)\n",
        "\n",
        "model = RandomForestClassifier(n_estimators=100, max_depth=3)\n",
        "model.fit(X_train, y_train)\n",
        "\n",
        "y_pred = model.predict(X_test)\n",
        "accuracy = accuracy_score(y_test, y_pred)\n",
        "\n",
        "print(\"Accuracy:\", accuracy)\n"
      ],
      "metadata": {
        "id": "AmwdtG8Mf2hZ"
      },
      "execution_count": null,
      "outputs": []
    },
    {
      "cell_type": "code",
      "source": [
        "# 6. SVM:\n",
        "\n",
        "from sklearn.svm import SVC\n",
        "from sklearn.datasets import load_iris\n",
        "from sklearn.model_selection import train_test_split\n",
        "from sklearn.metrics import accuracy_score\n",
        "\n",
        "iris = load_iris()\n",
        "X_train, X_test, y_train, y_test = train_test_split(iris.data, iris.target, test_size=0.2, random_state=42)\n",
        "\n",
        "model = SVC(kernel='linear', C=1.0)\n",
        "\n",
        "model.fit(X_train, y_train)\n",
        "\n",
        "y_pred = model.predict(X_test)\n",
        "accuracy = accuracy_score(y_test, y_pred)\n",
        "\n",
        "print(\"Accuracy:\", accuracy)\n"
      ],
      "metadata": {
        "id": "0iUl4aDLf43J"
      },
      "execution_count": null,
      "outputs": []
    },
    {
      "cell_type": "code",
      "source": [
        "# 7. Redes neuronales:\n",
        "\n",
        "from sklearn.neural_network import MLPClassifier\n",
        "from sklearn.datasets import load_iris\n",
        "from sklearn.model_selection import train_test_split\n",
        "from sklearn.metrics import accuracy_score\n",
        "\n",
        "iris = load_iris()\n",
        "X_train, X_test, y_train, y_test = train_test_split(iris.data, iris.target, test_size=0.2, random_state=42)\n",
        "\n",
        "model = MLPClassifier(hidden_layer_sizes=(10,), max_iter=1000)\n",
        "model.fit(X_train, y_train)\n",
        "\n",
        "y_pred = model.predict(X_test)\n",
        "accuracy = accuracy_score(y_test, y_pred)\n",
        "\n",
        "print(\"Accuracy:\", accuracy)"
      ],
      "metadata": {
        "id": "nAJ56bO-f7sq"
      },
      "execution_count": null,
      "outputs": []
    },
    {
      "cell_type": "markdown",
      "source": [
        "# Algoritmos de aprendizaje no supervisado\n",
        "Implementación de algoritmos de aprendizaje no supervisado, como k-means, agrupamiento jerárquico, análisis de componentes principales (PCA), detección de anomalías, entre otros.\n",
        "\n",
        "**K-means**: Un algoritmo de agrupamiento que divide un conjunto de datos en k grupos (clusters) basados en la similitud de los datos. El algoritmo comienza asignando aleatoriamente los datos a k centroides, luego asigna cada dato al centroide más cercano y recalcula los centroides. El proceso se repite hasta que los centroides no cambian significativamente.\n",
        "\n",
        "**Agrupamiento jerárquico**: Un algoritmo de agrupamiento que crea una jerarquía de grupos en función de la similitud de los datos. El algoritmo comienza considerando cada dato como un grupo individual, luego combina los grupos más similares y continúa combinando grupos hasta que todos los datos pertenecen a un solo grupo.\n",
        "\n",
        "**Análisis de componentes principales (PCA)**: Una técnica de reducción de dimensionalidad que encuentra las direcciones en los datos que explican la mayor cantidad de variabilidad. PCA transforma los datos originales en un nuevo conjunto de variables llamadas componentes principales, que son combinaciones lineales de las variables originales.\n",
        "\n",
        "**Detección de anomalías**: Un enfoque para identificar observaciones inusuales o anómalas que no siguen el patrón general de los datos. Los algoritmos de detección de anomalías encuentran puntos de datos que están muy lejos de la mayoría de los puntos de datos o puntos de datos que no siguen las tendencias de los demás.\n",
        "\n",
        "Estos son solo algunos ejemplos de algoritmos de aprendizaje no supervisado. Existen muchos más algoritmos y técnicas que se utilizan en diferentes contextos de análisis de datos."
      ],
      "metadata": {
        "id": "LZLwSP5MaQbK"
      }
    },
    {
      "cell_type": "code",
      "source": [
        "# 1. K-means:\n",
        "\n",
        "from sklearn.cluster import KMeans\n",
        "from sklearn.datasets import load_iris\n",
        "from sklearn.preprocessing import StandardScaler\n",
        "from sklearn.decomposition import PCA\n",
        "import matplotlib.pyplot as plt\n",
        "\n",
        "iris = load_iris()\n",
        "X = iris.data\n",
        "\n",
        "scaler = StandardScaler()\n",
        "X_scaled = scaler.fit_transform(X)\n",
        "\n",
        "pca = PCA(n_components=2)\n",
        "X_pca = pca.fit_transform(X_scaled)\n",
        "\n",
        "model = KMeans(n_clusters=3, random_state=42)\n",
        "model.fit(X_scaled)\n",
        "\n",
        "y_pred = model.predict(X_scaled)\n",
        "\n",
        "plt.scatter(X_pca[:, 0], X_pca[:, 1], c=y_pred)\n",
        "plt.xlabel(\"Componente principal 1\")\n",
        "plt.ylabel(\"Componente principal 2\")\n",
        "plt.title(\"K-means clustering\")\n",
        "plt.show()\n"
      ],
      "metadata": {
        "id": "dNNF71sfdMT-"
      },
      "execution_count": null,
      "outputs": []
    },
    {
      "cell_type": "code",
      "source": [
        "# 2. Agrupamiento jerárquico:\n",
        "\n",
        "from sklearn.cluster import AgglomerativeClustering\n",
        "from sklearn.datasets import load_iris\n",
        "from sklearn.preprocessing import StandardScaler\n",
        "from sklearn.decomposition import PCA\n",
        "import matplotlib.pyplot as plt\n",
        "\n",
        "iris = load_iris()\n",
        "X = iris.data\n",
        "\n",
        "scaler = StandardScaler()\n",
        "X_scaled = scaler.fit_transform(X)\n",
        "\n",
        "pca = PCA(n_components=2)\n",
        "X_pca = pca.fit_transform(X_scaled)\n",
        "\n",
        "model = AgglomerativeClustering(n_clusters=3)\n",
        "y_pred = model.fit_predict(X_scaled)\n",
        "\n",
        "plt.scatter(X_pca[:, 0], X_pca[:, 1], c=y_pred)\n",
        "plt.xlabel(\"Componente principal 1\")\n",
        "plt.ylabel(\"Componente principal 2\")\n",
        "plt.title(\"Hierarchical clustering\")\n",
        "plt.show()\n"
      ],
      "metadata": {
        "id": "UlE5IP6udWA0"
      },
      "execution_count": null,
      "outputs": []
    },
    {
      "cell_type": "code",
      "source": [
        "3. Análisis de componentes principales (PCA):\n",
        "\n",
        "from sklearn.datasets import load_iris\n",
        "from sklearn.preprocessing import StandardScaler\n",
        "from sklearn.decomposition import PCA\n",
        "import matplotlib.pyplot as plt\n",
        "\n",
        "iris = load_iris()\n",
        "X = iris.data\n",
        "\n",
        "scaler = StandardScaler()\n",
        "X_scaled = scaler.fit_transform(X)\n",
        "\n",
        "pca = PCA(n_components=2)\n",
        "X_pca = pca.fit_transform(X_scaled)\n",
        "\n",
        "plt.scatter(X_pca[:, 0], X_pca[:, 1], c=iris.target)\n",
        "plt.xlabel(\"Componente principal 1\")\n",
        "plt.ylabel(\"Componente principal 2\")\n",
        "plt.title(\"PCA\")\n",
        "plt.show()\n"
      ],
      "metadata": {
        "id": "kXL_omdVdeIn"
      },
      "execution_count": null,
      "outputs": []
    },
    {
      "cell_type": "code",
      "source": [
        "# 4. Detección de anomalías:\n",
        "\n",
        "from sklearn.ensemble import IsolationForest\n",
        "from sklearn.datasets import load_iris\n",
        "from sklearn.preprocessing import StandardScaler\n",
        "from sklearn.decomposition import PCA\n",
        "import matplotlib.pyplot as plt\n",
        "\n",
        "iris = load_iris()\n",
        "X = iris.data\n",
        "\n",
        "scaler = StandardScaler()\n",
        "X_scaled = scaler.fit_transform(X)\n",
        "\n",
        "pca = PCA(n_components=2)\n",
        "X_pca = pca.fit_transform(X_scaled)\n",
        "\n",
        "model = IsolationForest(contamination=0.1, random_state=42)\n",
        "model.fit(X_scaled)\n",
        "\n",
        "y_pred = model.predict(X_scaled)\n",
        "\n",
        "plt.scatter(X_pca[:, 0], X_pca[:, 1], c=y_pred)\n",
        "plt.xlabel(\"Componente principal 1\")\n",
        "plt.ylabel(\"Componente principal 2\")\n",
        "plt.title(\"Outlier detection\")\n",
        "plt.show()\n"
      ],
      "metadata": {
        "id": "YrS_7Z2ldkxE"
      },
      "execution_count": null,
      "outputs": []
    }
  ]
}