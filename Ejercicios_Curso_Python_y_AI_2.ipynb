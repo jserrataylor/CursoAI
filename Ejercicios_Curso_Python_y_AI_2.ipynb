{
  "nbformat": 4,
  "nbformat_minor": 0,
  "metadata": {
    "colab": {
      "provenance": [],
      "collapsed_sections": [
        "kWLu227B7yte",
        "UEWONKZc8QlM",
        "I681MK9s9Dc1",
        "IQi4sIX29IFC",
        "Wvz440HIPDJQ",
        "BK2Lxa0v9qRD",
        "F497nreo9xE_",
        "enpvkheZ96ge",
        "fXElGCPi-B_0",
        "34onjbj1MNvB",
        "dDRFHZ0dOS3m",
        "PuJNUiXHMQd9",
        "LTaolLM5MTMG",
        "1JbAE6Zkh39x",
        "CuJ4aaF8MdZf",
        "0_EoHd95z5Pw",
        "iQaVuL1u0AaT",
        "z9HIlh9C0FBl",
        "3DDV303CMYQw",
        "lBZP_wzqMZ0g",
        "odTsb_9-MWgx",
        "JjzXMluE2NHy",
        "NUYjlTtFMnuw",
        "YgaAsaymztLF"
      ],
      "include_colab_link": true
    },
    "kernelspec": {
      "name": "python3",
      "display_name": "Python 3"
    }
  },
  "cells": [
    {
      "cell_type": "markdown",
      "metadata": {
        "id": "view-in-github",
        "colab_type": "text"
      },
      "source": [
        "<a href=\"https://colab.research.google.com/github/jserrataylor/cursoAI/blob/main/Ejercicios_Curso_Python_y_AI_2.ipynb\" target=\"_parent\"><img src=\"https://colab.research.google.com/assets/colab-badge.svg\" alt=\"Open In Colab\"/></a>"
      ]
    },
    {
      "cell_type": "markdown",
      "source": [
        "# Curso Introductorio Python y AI"
      ],
      "metadata": {
        "id": "dYQzsbYNyJz7"
      }
    },
    {
      "cell_type": "markdown",
      "metadata": {
        "id": "51IZVTJVyZYN"
      },
      "source": [
        "# Consejos\n",
        "\n",
        "\n",
        "\n"
      ]
    },
    {
      "cell_type": "markdown",
      "metadata": {
        "id": "DSGubOQp_BUd"
      },
      "source": [
        "En este curso intentaremos abordar los conceptos claves de Python para poder manejar las diferentes prácticas que realizaremos a lo largo del curso, les dejo una serie de consejos para abordar esta sección:\n",
        "\n",
        "\n",
        "*   Orienta los apuntes como una guía o manual, aquí encontrarás prácticamente todo lo que necesitas durante el master, hay poco tiempo por lo que se mencionará añadirán recursos para ampliar los conocimientos.\n",
        "*   Intenta consultar la documentación oficial, aquí dejaré un resumen de la mayoría de los conceptos, pero es importante acudir a las guías oficiales para resolver dudas específicas.\n",
        "*   Escribe código, no te limites a leer lo que aparece, a lo largo del documento encontrarás cuadros en los que escribir tu código y probar todo lo visto.\n",
        "*   Ser realistas con los objetivos, programar es algo complejo, se requiere de tiempo y práctica, si no se tiene experiencia previa es necesario un tiempo amplio para adquirir un mínimo de conocimientos, pero siguiendo este curso podrás adquirir conocimientos básicos para seguir ampliando luego por tu cuenta."
      ]
    },
    {
      "cell_type": "markdown",
      "metadata": {
        "id": "tPqiw16_8rpK"
      },
      "source": [
        "Algunos de los recursos más importantes sobre `Python` son:\n",
        "\n",
        "\n",
        "*   [Documentación Oficial de Python](https://docs.python.org/3/contents.html)\n",
        "*   [Guía de Python](https://www.learnpython.org)\n",
        "*   [Tutorial de Python en Español](https://www.tutorialpython.com)\n",
        "\n",
        "\n"
      ]
    },
    {
      "cell_type": "markdown",
      "metadata": {
        "id": "hwZbdwTZydkS"
      },
      "source": [
        "#<img alt=\"Colaboratory logo\" height=\"45px\" src=\"https://colab.research.google.com/img/colab_favicon.ico\" align=\"left\" hspace=\"10px\" vspace=\"0px\"> <h1>Colaboratory</h1>\n"
      ]
    },
    {
      "cell_type": "markdown",
      "metadata": {
        "id": "FBm29BED_MEv"
      },
      "source": [
        "Colaboratory es un entorno basado en [Jupyter Notebook](https://jupyter.org/) que permite ejecutar código en Python sin ningún tipo de requerimiento ni instalaciones previas.\n",
        "\n",
        "Con Colaboratory puedes escribir y ejecutar código, guardar y visualizar las analíticas y acceder a recursos computacionales desde el navegador.\n",
        "\n",
        "El documento que estás leyendo es un *Jupyter notebook* alojado en Colaboratory. No es una página estática, es un entorno dinámico que permite escribir y ejectuar código en *Python 3*.\n",
        "\n",
        "Por ejemplo aquí tenemos una **celda de código** con un pequeño script en *Python* que realiza una operación aritmética y guarda el resultado en una variable, imprimiendo el resultado en pantalla, lo único que hay que hacer es pulsar entre los dos paréntesis [     ]"
      ]
    },
    {
      "cell_type": "code",
      "metadata": {
        "id": "0dWmvq4dBJsD",
        "colab": {
          "base_uri": "https://localhost:8080/"
        },
        "outputId": "f2398ed0-d37d-479e-aae7-22f78b1ba74d"
      },
      "source": [
        "# My first program\n",
        "seconds_in_a_day = 24 * 60 * 60\n",
        "print(seconds_in_a_day)\n",
        "print(\"hola mundo\")"
      ],
      "execution_count": null,
      "outputs": [
        {
          "output_type": "stream",
          "name": "stdout",
          "text": [
            "86400\n",
            "hola mundo\n"
          ]
        }
      ]
    },
    {
      "cell_type": "markdown",
      "metadata": {
        "id": "teBbA2TRTWLY"
      },
      "source": [
        "### Ejercicio\n"
      ]
    },
    {
      "cell_type": "markdown",
      "metadata": {
        "id": "gC_q3xS40pGf"
      },
      "source": [
        "Escribe un script que enseñe los minutos que hay en un día"
      ]
    },
    {
      "cell_type": "code",
      "metadata": {
        "id": "Rrqirr3nBuWQ",
        "colab": {
          "base_uri": "https://localhost:8080/"
        },
        "outputId": "06c9f9ed-3113-4472-f24c-ab5a41d052ef"
      },
      "source": [
        "# TODO Write a program to display minutes in a day\n",
        "minutes = 24 * 60\n",
        "print(minutes)"
      ],
      "execution_count": null,
      "outputs": [
        {
          "output_type": "stream",
          "name": "stdout",
          "text": [
            "1440\n"
          ]
        }
      ]
    },
    {
      "cell_type": "markdown",
      "metadata": {
        "id": "E0EyqYFI6LUW"
      },
      "source": [
        "#Python\n",
        "\n",
        "\n"
      ]
    },
    {
      "cell_type": "markdown",
      "metadata": {
        "id": "UO9RdcCjChdE"
      },
      "source": [
        "**Python** es un lenguaje de propósito general, interpretado, interactivo, orientado objetos y de alto nivel. Python se ha hecho muy popular debido a su sintaxis clara, la facilidad como lenguaje para crear *scripts* y la cantidad de librerías populares que permiten solventar casi cualquier problema con el que el programador se enfrente.\n",
        "\n",
        "\n"
      ]
    },
    {
      "cell_type": "markdown",
      "metadata": {
        "id": "baEM63WoMdAy"
      },
      "source": [
        "Otra de las ventajas de *Python* es que se encuentra presente en Windows, macOS y la mayoría de distribuciones de Linux. Para poder utilizar este lenguaje es necesario primero hacer una instalación previa, pero como hemos comentado previamente, al utilizar un *Jupiter Notebook* podremos ejecutar aquí código sin necesidad de esa configuración."
      ]
    },
    {
      "cell_type": "markdown",
      "metadata": {
        "id": "LlvZg3mu6Ww3"
      },
      "source": [
        "## Hola Mundo\n",
        "\n"
      ]
    },
    {
      "cell_type": "code",
      "metadata": {
        "id": "Lw9zfB076cUC",
        "colab": {
          "base_uri": "https://localhost:8080/"
        },
        "outputId": "d3b85083-cbd4-4d59-bc46-ac1a348cd922"
      },
      "source": [
        "# First program\n",
        "print(\"Hello World\")"
      ],
      "execution_count": null,
      "outputs": [
        {
          "output_type": "stream",
          "text": [
            "Hello World\n"
          ],
          "name": "stdout"
        }
      ]
    },
    {
      "cell_type": "markdown",
      "metadata": {
        "id": "D2PAKIyG61Qw"
      },
      "source": [
        "Aquí podemos ver nuestro primer programa en Python. Tan sencillo como escribir una línea de código para que se imprima en pantalla el mensaje que queramos."
      ]
    },
    {
      "cell_type": "markdown",
      "metadata": {
        "id": "7lVKI_J5Lg49"
      },
      "source": [
        "# Instalación de Python"
      ]
    },
    {
      "cell_type": "markdown",
      "metadata": {
        "id": "iSxp2un5d5p-"
      },
      "source": [
        "Lo primero y más importante, hay que comprobar si ya está instalado pyhton y qué versión tiene nuestra máquina, para ello tenemos que abrir una terminal y escribir el siguiente comando:\n",
        "\n",
        "```\n",
        "> python\n",
        "```\n",
        "\n",
        "![Python 3 Terminal](https://drive.google.com/uc?export=view&id=1IG9hqnPwDi6ELyNscZBX8b1EuIdT6Zzi)\n",
        "\n"
      ]
    },
    {
      "cell_type": "markdown",
      "metadata": {
        "id": "v2fI_1quDxHh"
      },
      "source": [
        "Hay distintas formas de instalación:\n",
        "\n",
        "\n",
        "**Windows**\n",
        "1. Descargar el binario de la [web oficial](https://www.python.org/downloads/).\n",
        "2. Ejecutar el instalador\n",
        "\n",
        "\n",
        "**macOS**\n",
        "1. Descargar homebrew ejecutando en terminal\n",
        "```\n",
        "> sudo ruby -e \"$(curl -fsSL https://raw.githubusercontent.com/Homebrew/install/master/install)\"\n",
        "```\n",
        "\n",
        "2. Ejecutar el siguiente comando\n",
        "```\n",
        "> brew install python\n",
        "```\n",
        "\n",
        "**ubuntu**\n",
        "1. Ejecutar:\n",
        "```\n",
        "> sudo apt-get update\n",
        "> sudo apt-get install python3.7\n",
        "```\n",
        "\n"
      ]
    },
    {
      "cell_type": "markdown",
      "metadata": {
        "id": "IJPsSd4cLvrB"
      },
      "source": [
        "# Interprete Interactivo Python"
      ]
    },
    {
      "cell_type": "markdown",
      "metadata": {
        "id": "RUt6WuloXTyf"
      },
      "source": [
        "Hay dos formas de invocar al interprete de Python, a través del **interprete interactivo** o ejecutando un script desde la linea de comandos. Estas ejecuciones corresponden con las opciones del interprete:\n",
        "\n",
        "\n",
        "\n",
        "```\n",
        "python [-bBdEhiIOqsSuvVWx?] [-c command | -m module-name | script | - ] [args]\n",
        "```\n",
        "\n",
        "```\n",
        "> python file.py\n",
        "```\n",
        "\n",
        "\n",
        "\n",
        "\n",
        "\n",
        "\n"
      ]
    },
    {
      "cell_type": "markdown",
      "metadata": {
        "id": "jd-fpptuLysW"
      },
      "source": [
        "## IDEs"
      ]
    },
    {
      "cell_type": "markdown",
      "metadata": {
        "id": "n7siH76Lw2QU"
      },
      "source": [
        "IDE es el acrónimo de *Integrated Development Environment* o Entorno de Desarrollo Integrado. La verdad es que se puede programar Python directamente desde la terminal con editores de texto como *nano* o *vim*. O utilizar editores del sistema como Notepad para windows.\n",
        "\n",
        "La razón principal de usar un IDE es que están orientados específicamente al desarrollo, por lo que puede mejorar la productividad del desarrollador, incorporar plugins y herramientas que mejoren el proceso de trabajo como autocompletados, linter para errores y extensiones para múltiples acciones como dar formato al código o visualizarlo de una forma más sencilla, con ello, voy a poner varios de los IDEs más famosos actualmente:\n",
        "\n",
        "*   [Visual Studio Code](https://code.visualstudio.com/)\n",
        "*   [Atom](https://atom.io/)\n",
        "*   [Pycharm](https://www.jetbrains.com/pycharm/)\n",
        "*   [https://jupyter.org/](https://jupyter.org/)\n",
        "\n"
      ]
    },
    {
      "cell_type": "markdown",
      "metadata": {
        "id": "evpBN8P-wy5b"
      },
      "source": [
        "# Análisis Léxico"
      ]
    },
    {
      "cell_type": "markdown",
      "metadata": {
        "id": "uWxMsIx7w2t9"
      },
      "source": [
        "El análisis léxico engloba a todos los tokens especiales que puede interpretar el interprete de Python.\n",
        "\n",
        "En la [guía oficial](https://docs.python.org/3/reference/lexical_analysis.html) se puede ver en más profundidad estos términos."
      ]
    },
    {
      "cell_type": "markdown",
      "metadata": {
        "id": "KA-Nedxqy7KC"
      },
      "source": [
        "### Identificadores y palabras reservadas\n",
        "\n"
      ]
    },
    {
      "cell_type": "markdown",
      "metadata": {
        "id": "e4tN92RCOV2g"
      },
      "source": [
        "Los identificadores son nombres usados para identificar una variable, función, clase, módulo u otro objeto. Los identificadores pueden empezar con letras (A-Za-z), números (0-9) o una barra baja (_).\n",
        "\n",
        "Python es un lenguaje que distingue entre mayúsculas y minúsculas, por lo que **Variable** y **variable** son dos identificadores diferentes en *Python*.\n",
        "\n",
        "\n",
        "\n",
        "\n"
      ]
    },
    {
      "cell_type": "code",
      "metadata": {
        "id": "hdpGs26rSzz8",
        "colab": {
          "base_uri": "https://localhost:8080/"
        },
        "outputId": "32f01663-4662-45cf-aa12-f629d4b3e967"
      },
      "source": [
        "# Identifiers\n",
        "\n",
        "first_identifier = 10\n",
        "second_identifier = \"Hello\"\n",
        "_private_identifier = \"Private\"\n",
        "\n",
        "if __name__ == \"__main__\":\n",
        "  print(\"This is a magic method\")\n",
        "  print(first_identifier)"
      ],
      "execution_count": null,
      "outputs": [
        {
          "output_type": "stream",
          "text": [
            "This is a magic method\n",
            "10\n"
          ],
          "name": "stdout"
        }
      ]
    },
    {
      "cell_type": "markdown",
      "metadata": {
        "id": "oKa39rYQy_vd"
      },
      "source": [
        "### Lineas e identación\n"
      ]
    },
    {
      "cell_type": "markdown",
      "metadata": {
        "id": "4RM0zgUFQ6LK"
      },
      "source": [
        "Python no utiliza corchetes ({}) para indicar bloques de código dentro de las clases y funciones o control de flujo. En este lenguaje se utiliza la identación para indicar bloques, y se aplica sin ningún tipo de excepción.\n",
        "\n",
        "El número de  espacios puede variar dependiendo del intérprete (se suele elegir 2 o 4) pero una vez elegido debe respetarse, por ello este ejemplo no produce ningún error:"
      ]
    },
    {
      "cell_type": "code",
      "metadata": {
        "id": "m7jHD_aqSPhI",
        "colab": {
          "base_uri": "https://localhost:8080/"
        },
        "outputId": "29b073d3-82ba-4f54-d298-11700fbca51f"
      },
      "source": [
        "if True:\n",
        "  print(\"Success\")\n",
        "else:\n",
        "  print(\"Failed\")\n"
      ],
      "execution_count": null,
      "outputs": [
        {
          "output_type": "stream",
          "name": "stdout",
          "text": [
            "Success\n"
          ]
        }
      ]
    },
    {
      "cell_type": "markdown",
      "metadata": {
        "id": "DalLo6PYSVjt"
      },
      "source": [
        "Mientras que si se cambian los espacios se producirá un error, como indicará el intérprete en este trozo de código:"
      ]
    },
    {
      "cell_type": "code",
      "metadata": {
        "id": "G0C-3EJ0SdUr",
        "colab": {
          "base_uri": "https://localhost:8080/"
        },
        "outputId": "3a75b3b1-fbe3-467b-bd94-0d0ab1e0aaf8"
      },
      "source": [
        "if True:\n",
        "  print(\"Sucess\") #marca error porque no está indentado\n",
        "else:\n",
        "  print(\"Failed\")"
      ],
      "execution_count": null,
      "outputs": [
        {
          "output_type": "stream",
          "text": [
            "Sucess\n"
          ],
          "name": "stdout"
        }
      ]
    },
    {
      "cell_type": "markdown",
      "metadata": {
        "id": "ux7Fx1y1TO46"
      },
      "source": [
        "Hay algunas excepciones como las listas o la palabra reservada `\\`"
      ]
    },
    {
      "cell_type": "markdown",
      "metadata": {
        "id": "cLxlHPVtzBD2"
      },
      "source": [
        "### **Comentarios**"
      ]
    },
    {
      "cell_type": "markdown",
      "metadata": {
        "id": "DwxGP42iTfDI"
      },
      "source": [
        "El símbolo de la almohadilla (#) representa un comentario en Python, toda cadena que precede a este símbolo en una misma linea es considerado un comentario en Python y es tratado así por el interprete. Además de esto contamos con tres comillas para comentarios multilinea."
      ]
    },
    {
      "cell_type": "code",
      "metadata": {
        "id": "apNwLm3RUCLv"
      },
      "source": [
        "# This is a comment\n",
        "\n",
        "test = \"string\" # You can place a comment after a line of code\n",
        "\n",
        "\n",
        "'''\n",
        "This is a multiline comment\n",
        "You can write multiple statements between the quotes\n",
        "'''"
      ],
      "execution_count": null,
      "outputs": []
    },
    {
      "cell_type": "markdown",
      "metadata": {
        "id": "HDHojXQj7Ey1"
      },
      "source": [
        "# Variables y Tipos\n"
      ]
    },
    {
      "cell_type": "markdown",
      "metadata": {
        "id": "SLNLqX7qVHFl"
      },
      "source": [
        "Una variable es un espacio de memoria reservado dentro de una computadora para almacenar valores. En python la declaración se realiza al asignar un valor a una variable con el símbolo igual (=)\n"
      ]
    },
    {
      "cell_type": "code",
      "metadata": {
        "id": "xX0keeZb86ox",
        "colab": {
          "base_uri": "https://localhost:8080/"
        },
        "outputId": "1b32f767-c933-4d7a-9bf4-ea8fa34fd2a3"
      },
      "source": [
        "# Variable asignment\n",
        "pi_number = 100\n",
        "\n",
        "# Output variable\n",
        "print(pi_number)"
      ],
      "execution_count": null,
      "outputs": [
        {
          "output_type": "stream",
          "text": [
            "100\n"
          ],
          "name": "stdout"
        }
      ]
    },
    {
      "cell_type": "code",
      "metadata": {
        "colab": {
          "base_uri": "https://localhost:8080/"
        },
        "id": "luK_oMb2NXJO",
        "outputId": "59b73189-8594-49dd-df17-58f71653f3ec"
      },
      "source": [
        "#Ejemplo: Escribe un programa con una variable que almacene un nombre y luego lo imprima en la pantalla\n",
        "edad = 52\n",
        "print (edad)"
      ],
      "execution_count": null,
      "outputs": [
        {
          "output_type": "stream",
          "text": [
            "52\n"
          ],
          "name": "stdout"
        }
      ]
    },
    {
      "cell_type": "markdown",
      "metadata": {
        "id": "JhAa5Ikc8ccd"
      },
      "source": [
        "### Números"
      ]
    },
    {
      "cell_type": "markdown",
      "metadata": {
        "id": "0Ra_zkiRyLtv"
      },
      "source": [
        "El primer tipo de dato en *Python* que vamos a ver son números. Los números son objetos creados cuando asignas un valor numérico a una variable.\n",
        "\n",
        "*Python* soporta tres tipos de números:\n",
        "\n",
        "\n",
        "*   int: Enteros con signo (Python 3 aúna int y long)\n",
        "*   float: Números reales con coma flotante\n",
        "*   complex: Números complejos\n"
      ]
    },
    {
      "cell_type": "code",
      "metadata": {
        "id": "4P8uPS_H8fYA"
      },
      "source": [
        "# Number examples\n",
        "\n",
        "# Integer\n",
        "int_number = 10 #numeros sin decimales\n",
        "\n",
        "# Float\n",
        "float_number = 12.40 #numeros con decimales\n",
        "\n",
        "# Complex\n",
        "complex_number = 3.14j\n",
        "\n"
      ],
      "execution_count": null,
      "outputs": []
    },
    {
      "cell_type": "markdown",
      "metadata": {
        "id": "VB1GGlM801iy"
      },
      "source": [
        "Algunas de las operaciones más importantes se pueden ver en su [documentación oficial](https://docs.python.org/3/library/stdtypes.html#numeric-types-int-float-complex)"
      ]
    },
    {
      "cell_type": "code",
      "metadata": {
        "colab": {
          "base_uri": "https://localhost:8080/"
        },
        "id": "NN2FosCNOhUr",
        "outputId": "da4453be-7778-49d6-c70d-e25aa972e2cf"
      },
      "source": [
        "edad = 52\n",
        "tiempo_trabajo = 10\n",
        "print (edad * tiempo_trabajo)"
      ],
      "execution_count": null,
      "outputs": [
        {
          "output_type": "stream",
          "text": [
            "520\n"
          ],
          "name": "stdout"
        }
      ]
    },
    {
      "cell_type": "markdown",
      "metadata": {
        "id": "GKMBIsIQ8jzm"
      },
      "source": [
        "### Cadenas\n",
        "\n"
      ]
    },
    {
      "cell_type": "markdown",
      "metadata": {
        "id": "pnlgUDGw0Fxk"
      },
      "source": [
        "Las cadenas en Python se definen como una concatenación de caracteres representados entre comillas. Dentro de *Python* se pueden usar comillas simples ( ' ) o dobles ( \" ) para representar cadenas."
      ]
    },
    {
      "cell_type": "code",
      "metadata": {
        "id": "LyqTQuJQ8l2F",
        "colab": {
          "base_uri": "https://localhost:8080/"
        },
        "outputId": "4c39fccf-ac24-44a0-e92e-54c6375c9555"
      },
      "source": [
        "# String examples\n",
        "name_person = 'Hello World'\n",
        "char = \"H\"\n",
        "str_2 = \"Hello World again\"\n",
        "\n",
        "print(char)\n",
        "print(str_2)\n",
        "print(name_person + char)\n",
        "print(name_person + \" +++ \" + char)\n",
        "\n",
        "# Substrings\n",
        "\n",
        "str1 = 'Hello World'\n",
        "str2 = 'Hello World again'\n",
        "\n",
        "print(str1[0]) # Prints first char\n",
        "print(str2[:6]) # Prints substring from second to sixth character"
      ],
      "execution_count": null,
      "outputs": [
        {
          "output_type": "stream",
          "name": "stdout",
          "text": [
            "H\n",
            "Hello World again\n",
            "Hello WorldH\n",
            "Hello World +++ H\n",
            "H\n",
            "Hello \n"
          ]
        }
      ]
    },
    {
      "cell_type": "code",
      "metadata": {
        "colab": {
          "base_uri": "https://localhost:8080/"
        },
        "id": "ffMwHhbTCAXv",
        "outputId": "84ed3348-911c-43ed-cdc1-758f92d9d5cd"
      },
      "source": [
        "# Ejemplo de una lista. Pilotos oficiales de Ferrari en 2014.\n",
        "Ferrari2014=[\"Fernando Alonso\", \"Kimi Raikkonen\"]\n",
        "print (Ferrari2014)\n",
        "\n",
        "# Ejemplo de otra lista. Pilotos oficiales de Ferrari en 2013.\n",
        "Ferrari2013=[\"Fernando Alonso\", \"Felipe Massa\"]\n",
        "print (Ferrari2013)"
      ],
      "execution_count": null,
      "outputs": [
        {
          "output_type": "stream",
          "name": "stdout",
          "text": [
            "['Fernando Alonso', 'Kimi Raikkonen']\n",
            "['Fernando Alonso', 'Felipe Massa']\n"
          ]
        }
      ]
    },
    {
      "cell_type": "code",
      "metadata": {
        "colab": {
          "base_uri": "https://localhost:8080/"
        },
        "id": "R0TFcux2CS5Y",
        "outputId": "20dd7711-fb67-489d-aac5-aed9a7bd3406"
      },
      "source": [
        "texto=\"Esto es un texto\" # los textos se colocan entre comillas para identificarlo como texto\n",
        "numero=15 # esta variable es un número, pero se puede convertir en texto con la siguiente linea de codigo\n",
        "print(texto+\" \"+str(numero)) #se le añade el str para que interprete la variable como texto y se le añade +\" \"+ para añadir un espacio entre las variables texto y numero"
      ],
      "execution_count": null,
      "outputs": [
        {
          "output_type": "stream",
          "text": [
            "Esto es un texto 15\n"
          ],
          "name": "stdout"
        }
      ]
    },
    {
      "cell_type": "markdown",
      "metadata": {
        "id": "fylAKUtKzIAg"
      },
      "source": [
        "Algunas operaciones se pueden ver en la [documentación de Python](https://docs.python.org/3/tutorial/introduction.html#strings)\n",
        "\n"
      ]
    },
    {
      "cell_type": "markdown",
      "metadata": {
        "id": "_EKod0Ah1EIr"
      },
      "source": [
        "Es posible dar formato al texto de diferentes formas, algunas incorporadas en las últimas versiones de python."
      ]
    },
    {
      "cell_type": "code",
      "metadata": {
        "id": "AlHfOfiq1J8S",
        "colab": {
          "base_uri": "https://localhost:8080/"
        },
        "outputId": "949313ef-0197-477b-f60a-8fdfb1a54992"
      },
      "source": [
        "# First form interpolation\n",
        "interpolation1 = \"Hello world I'm %s and I'm %d years old\" % (\"Javier\", 32)\n",
        "print(interpolation1)\n",
        "\n",
        "print(interpolation2)\n",
        "\n",
        "# Third form interpolation (Python 3.6)\n",
        "name = \"Javier\"\n",
        "age = 32\n",
        "interpolation3 = f\"Hello world I'm {name} and I'm {age} years old\"\n",
        "print(interpolation3)# Second form interpolation\n",
        "interpolation2 = \"Hello world I'm {0} and I'm {1} years old\".format(\"Javier\", 32)\n"
      ],
      "execution_count": null,
      "outputs": [
        {
          "output_type": "stream",
          "text": [
            "Hello world I'm Javier and I'm 32 years old\n",
            "Hello world I'm Javier and I'm 32 years old\n",
            "Hello world I'm Javier and I'm 32 years old\n"
          ],
          "name": "stdout"
        }
      ]
    },
    {
      "cell_type": "code",
      "metadata": {
        "colab": {
          "base_uri": "https://localhost:8080/"
        },
        "id": "DuLHZ8MkRGcR",
        "outputId": "59a75215-3be8-4de5-c49a-cf747f242360"
      },
      "source": [
        "name = \"Jose\"\n",
        "edad = 52\n",
        "pais = \"Mexico\"\n",
        "saludos = f\"Hola profesores y compañeros, soy {name}, de {pais} y tengo {edad} años de edad.\"\n",
        "print (saludos)"
      ],
      "execution_count": null,
      "outputs": [
        {
          "output_type": "stream",
          "name": "stdout",
          "text": [
            "Hola profesores y compañeros, soy Jose, de Mexico y tengo 52 años de edad.\n"
          ]
        }
      ]
    },
    {
      "cell_type": "markdown",
      "metadata": {
        "id": "FjMVV7rU3p4Q"
      },
      "source": [
        "Artículo sobre los distintos métodos de interpolación:\n",
        "\n",
        "https://realpython.com/python-f-strings/\n"
      ]
    },
    {
      "cell_type": "markdown",
      "metadata": {
        "id": "j7Cl9DOb8nvN"
      },
      "source": [
        "### Listas\n",
        "\n"
      ]
    },
    {
      "cell_type": "markdown",
      "metadata": {
        "id": "0dFymKqbqgYt"
      },
      "source": [
        "Las listas son colecciones ordenadas de elementos que pueden no ser del mismo tipo. En python las listas se definen con valores separados por comas contenidos entre corchetes."
      ]
    },
    {
      "cell_type": "code",
      "metadata": {
        "id": "4ptZAdURrCiW",
        "colab": {
          "base_uri": "https://localhost:8080/"
        },
        "outputId": "20c98b0d-ba24-42b0-8842-0f91c0172741"
      },
      "source": [
        "list_example_strings = [\"Hello\", \"World\", \"I'm\", \"John\"]\n",
        "print(list_example_strings)\n",
        "list_example_mix = [\"Hello\", 2, \"Number\", 16]\n",
        "print(list_example_mix)\n",
        "\n",
        "#accessing values\n",
        "element1 = list_example_strings[0]\n",
        "print(element1)\n",
        "\n",
        "# Error\n",
        "element_fail = list_example_strings[0]\n",
        "print(element_fail)\n",
        "\n",
        "# Add element\n",
        "first_list = [\"Hello\", \"World\"]\n",
        "first_list.append(\"Again\")\n",
        "first_list.insert(0, \"****\")\n",
        "print(first_list)\n",
        "\n",
        "# Update element\n",
        "updating_list = [\"Hello\", \"World\", 2017]\n",
        "updating_list[2] = 2020\n",
        "print(updating_list)\n",
        "\n",
        "# Slicing\n",
        "list_example = [\"Hello\", \"World\", \"I'm\", \"John\"]\n",
        "\n",
        "# Simple indexing\n",
        "simple_index = list_example[-1]\n",
        "print(simple_index)"
      ],
      "execution_count": null,
      "outputs": [
        {
          "output_type": "stream",
          "name": "stdout",
          "text": [
            "['Hello', 'World', \"I'm\", 'John']\n",
            "['Hello', 2, 'Number', 16]\n",
            "Hello\n",
            "Hello\n",
            "['****', 'Hello', 'World', 'Again']\n",
            "['Hello', 'World', 2020]\n",
            "John\n"
          ]
        }
      ]
    },
    {
      "cell_type": "code",
      "metadata": {
        "colab": {
          "base_uri": "https://localhost:8080/"
        },
        "id": "hQBye5J3CpAi",
        "outputId": "4dd89df7-91e0-4187-cc94-9f1491a4b14c"
      },
      "source": [
        "# Ejemplo de una lista. Pilotos oficiales de Ferrari en 2014.\n",
        "Ferrari2014=[\"Fernando Alonso\", \"Kimi Raikkonen\"]\n",
        "print (Ferrari2014)\n",
        "\n",
        "# Ejemplo de otra lista. Pilotos oficiales de Ferrari en 2013.\n",
        "Ferrari2013=[\"Fernando Alonso\", \"Felipe Massa\"]\n",
        "print (Ferrari2013)"
      ],
      "execution_count": null,
      "outputs": [
        {
          "output_type": "stream",
          "name": "stdout",
          "text": [
            "['Fernando Alonso', 'Kimi Raikkonen']\n",
            "['Fernando Alonso', 'Felipe Massa']\n"
          ]
        }
      ]
    },
    {
      "cell_type": "code",
      "metadata": {
        "id": "eM-9lswqD8GG"
      },
      "source": [
        "#Las operaciones más habituales que se realizan en Python son las siguientes:\n",
        "#lista[i]: Devuelve el elemento que está en la posición i de la lista.\n",
        "#lista.pop(i): Devuelve el elemento en la posición i de una lista y luego lo borra.\n",
        "#lista.append(elemento): Añade elemento al final de la lista.\n",
        "#lista.insert(i, elemento): Inserta elemento en la posición i.\n",
        "#lista.extend(lista2): Fusiona lista con lista2.\n",
        "#lista.remove(elemento): Elimina la primera vez que aparece elemento."
      ],
      "execution_count": null,
      "outputs": []
    },
    {
      "cell_type": "code",
      "metadata": {
        "colab": {
          "base_uri": "https://localhost:8080/"
        },
        "id": "Rv-mc2TgFPNK",
        "outputId": "7d3df201-20bb-4daa-884d-233bc248cf81"
      },
      "source": [
        "# Ejemplo de una lista. Pilotos oficiales de Ferrari en 2014.\n",
        "Ferrari2014=[\"Fernando Alonso\", \"Kimi Raikkonen\"]\n",
        "print (Ferrari2014)\n",
        "# Ejemplo de otra lista. Pilotos oficiales de Ferrari en 2013.\n",
        "Ferrari2013=[\"Fernando Alonso\", \"Felipe Massa\"]\n",
        "print (Ferrari2013)\n",
        "print(Ferrari2014[1])\n",
        "\n",
        "# pop: Extraemos a Kimi (que está en la posición número 1) de la lista. Alonso está en la posición 0.\n",
        "Ferrari2014.pop(1)\n",
        "print(Ferrari2014)\n",
        "\n",
        "# append: Añadimos a Kimi al final de la lista\n",
        "Ferrari2014.append(\"Kimi Raikkonen\")\n",
        "print (Ferrari2014)\n",
        "\n",
        "# Este es el resultado ['Fernando Alonso', 'Kimi Raikkonen']\n",
        "# del:Eliminamos el elemento de la primera posición de la lista (Fernando)\n",
        "del(Ferrari2014[0])\n",
        "\n",
        "# Este es el resulado [ vacío ] ya que borró el elemento 0\n",
        "# insert: Añadimos a Fernando en la primera posición\n",
        "Ferrari2014.insert(0, \"Fernando Alonso\")\n",
        "print (Ferrari2014)\n",
        "\n",
        "# Este es el resulado ['Fernando Alonso', 'Kimi Raikkonen']\n",
        "\n",
        "# extend: Juntamos los pilotos del 2013 y los del 2014. Fernando estará repetido.\n",
        "Ferrari2014.extend(Ferrari2013)\n",
        "print (Ferrari2014)\n",
        "\n",
        "# Este es el resulado ['Fernando Alonso', 'Kimi Raikkonen', 'Fernando Alonso', 'Felipe Massa']\n",
        "\n",
        "#remove: Borramos la primera vez que aparece Fernando Alonso\n",
        "Ferrari2014.remove(\"Fernando Alonso\")\n",
        "print (Ferrari2014)\n",
        "\n",
        "# Este es el resulado ['Kimi Raikkonen', 'Fernando Alonso', 'Felipe Massa']"
      ],
      "execution_count": null,
      "outputs": [
        {
          "output_type": "stream",
          "name": "stdout",
          "text": [
            "['Fernando Alonso', 'Kimi Raikkonen']\n",
            "['Fernando Alonso', 'Felipe Massa']\n",
            "Kimi Raikkonen\n",
            "['Fernando Alonso']\n",
            "['Fernando Alonso', 'Kimi Raikkonen']\n",
            "['Fernando Alonso', 'Kimi Raikkonen']\n",
            "['Fernando Alonso', 'Kimi Raikkonen', 'Fernando Alonso', 'Felipe Massa']\n",
            "['Kimi Raikkonen', 'Fernando Alonso', 'Felipe Massa']\n"
          ]
        }
      ]
    },
    {
      "cell_type": "markdown",
      "metadata": {
        "id": "zKgJ5RcrFOq_"
      },
      "source": [
        "## El código recorre una tupla que contiene números del 1 al 10. Para cada número, verifica si el número no es impar (es decir, si el número es par) usando la condición numero%2!=1. Si la condición es verdadera (es decir, si el número es par), imprime el número."
      ]
    },
    {
      "cell_type": "code",
      "metadata": {
        "colab": {
          "base_uri": "https://localhost:8080/"
        },
        "id": "XTcu1K4olHmv",
        "outputId": "339496e8-c91a-456e-f208-1fb1a5c343cd"
      },
      "source": [
        "for numero in (1,2,3,4,5,6,7,8,9,10):\n",
        "\tif numero%2!=1: ## if numero%2 ==1: Este es impar / if numero%2 ==0: Este es par\n",
        "\t\tprint(numero)"
      ],
      "execution_count": 5,
      "outputs": [
        {
          "output_type": "stream",
          "name": "stdout",
          "text": [
            "2\n",
            "4\n",
            "6\n",
            "8\n",
            "10\n"
          ]
        }
      ]
    },
    {
      "cell_type": "markdown",
      "metadata": {
        "id": "DQMfpPHGX6Hw"
      },
      "source": [
        "Para ampliar sobre operadores, accesos, optimización y sintáxis podéis acceder a su [documentación](https://docs.python.org/3/tutorial/introduction.html#lists)"
      ]
    },
    {
      "cell_type": "markdown",
      "metadata": {
        "id": "NQFVcRwI8rkp"
      },
      "source": [
        "### Tuplas\n"
      ]
    },
    {
      "cell_type": "markdown",
      "metadata": {
        "id": "s0pmF0vgHof-"
      },
      "source": [
        "Las **tuplas** en Python son una estructura de datos que se utiliza para agrupar múltiples valores, de manera similar a las listas. Sin embargo, a diferencia de las listas, las tuplas son inmutables, lo que significa que no se pueden modificar una vez creadas. Esta inmutabilidad hace que las tuplas sean más rápidas que las listas en ciertas situaciones y garantiza que los datos permanezcan constantes.\n",
        "\n",
        "Aquí hay algunas situaciones y usos comunes de las tuplas:\n",
        "\n",
        "**Representar datos que no deben ser modificados**: Dado que las tuplas son inmutables, son ideales para representar datos que no deben cambiar, como días de la semana, coordenadas geográficas, etc.\n",
        "Desempaquetado de valores: Las tuplas permiten desempaquetar múltiples valores a la vez.\n",
        "\n",
        "Devolver múltiples valores desde una función: Es común usar tuplas para devolver múltiples valores desde una función.\n",
        "\n",
        "Uso como claves en diccionarios: Dado que las tuplas son inmutables, pueden ser utilizadas como claves en diccionarios, mientras que las listas no pueden.\n",
        "\n",
        "Mejorar la eficiencia: En operaciones que solo requieren lectura y no modificación, las tuplas pueden ser más rápidas que las listas.\n",
        "\n",
        "Proteger los datos: Las tuplas garantizan que los datos no se modifiquen accidentalmente en el programa."
      ]
    },
    {
      "cell_type": "code",
      "metadata": {
        "id": "m4tN1bWyJ61b",
        "colab": {
          "base_uri": "https://localhost:8080/"
        },
        "outputId": "320b4a86-2dcf-4d5c-c4ed-738799867117"
      },
      "source": [
        "# Tuple examples\n",
        "tuple_example_mix = (\"Hello\", 2, \"Number\", 16)\n",
        "print(tuple_example_mix)\n",
        "\n",
        "tuple_not_parentesis = \"hello\", \"world\"\n",
        "print(tuple_not_parentesis)\n",
        "\n",
        "# tuples in functions\n",
        "def get_tuple():\n",
        "  return \"Hello\", \"World\"\n",
        "\n",
        "hello, world = get_tuple()\n",
        "\n",
        "print(f\"{hello}, {world}\")"
      ],
      "execution_count": null,
      "outputs": [
        {
          "output_type": "stream",
          "text": [
            "('Hello', 2, 'Number', 16)\n",
            "('hello', 'world')\n",
            "Hello, World\n"
          ],
          "name": "stdout"
        }
      ]
    },
    {
      "cell_type": "markdown",
      "metadata": {
        "id": "iTiWumA44I9F"
      },
      "source": [
        "Listas y Tuplas, artículo de refuerzo:\n",
        "\n",
        "https://realpython.com/python-lists-tuples/\n"
      ]
    },
    {
      "cell_type": "markdown",
      "metadata": {
        "id": "iP6R1L7M8vo-"
      },
      "source": [
        "### Diccionario"
      ]
    },
    {
      "cell_type": "markdown",
      "metadata": {
        "id": "jhTVMJ_YL-jd"
      },
      "source": [
        "Los diccionarios son una colección de valores sin orden que pueden intercambiarse y están indexados por una clave. Estas claves deben ser únicas, es decir, no puede haber repetición y mientras que el valor de las claves puede mutar, éstas son inmutables."
      ]
    },
    {
      "cell_type": "code",
      "metadata": {
        "id": "2Peoql1pNPZ_",
        "colab": {
          "base_uri": "https://localhost:8080/"
        },
        "outputId": "62eaa70c-c470-4c15-d5a6-d655fccc0592"
      },
      "source": [
        "# Dictionary definition\n",
        "empty_dict = {}\n",
        "print(empty_dict)\n",
        "string_dict = {\"first\": \"Hello\",\n",
        "               \"second\": \"World\"}\n",
        "print(f'{string_dict[\"first\"]} {string_dict[\"second\"]}')\n",
        "\n",
        "# Accesing Values\n",
        "string_dict = {\"first\": \"Hello\", \"second\": \"World\"}\n",
        "ex_str = string_dict[\"first\"]\n",
        "print(ex_str)\n",
        "\n",
        "# Adding values\n",
        "dict_test = {\"first\": \"Hello\", \"second\": \"World\"}\n",
        "dict_test[\"third\"] = \"!\"\n",
        "print(dict_test)\n",
        "\n",
        "# Updating element\n",
        "dict_test = {\"first\": \"Hi\", \"second\": \"World\"}\n",
        "dict_test[\"first\"] = \"Hello\"\n",
        "print(f\"We have this {dict_test}\")"
      ],
      "execution_count": null,
      "outputs": [
        {
          "output_type": "stream",
          "text": [
            "{}\n",
            "Hello World\n",
            "Hello\n",
            "{'first': 'Hello', 'second': 'World', 'third': '!'}\n",
            "We have this {'first': 'Hello', 'second': 'World'}\n"
          ],
          "name": "stdout"
        }
      ]
    },
    {
      "cell_type": "code",
      "metadata": {
        "colab": {
          "base_uri": "https://localhost:8080/"
        },
        "id": "PNKOwIOlWj8A",
        "outputId": "c3641eb3-411c-49ef-a499-d0db0da9e849"
      },
      "source": [
        "datos_identificacion = {\"name\": \"Javier\", \"age\": 30, \"height\": 1.86}\n",
        "print(f'{datos_identificacion[\"name\"]} {datos_identificacion[\"age\"]} {datos_identificacion[\"height\"]}')"
      ],
      "execution_count": null,
      "outputs": [
        {
          "output_type": "stream",
          "text": [
            "Javier 30 1.86\n"
          ],
          "name": "stdout"
        }
      ]
    },
    {
      "cell_type": "markdown",
      "metadata": {
        "id": "QYOFtsdNPYds"
      },
      "source": [
        "Para conocer los métodos y funciones de los diccionarios [podéis visitar la documentación oficial](https://docs.python.org/3/tutorial/datastructures.html?highlight=dictionary#dictionaries)\n"
      ]
    },
    {
      "cell_type": "code",
      "metadata": {
        "colab": {
          "base_uri": "https://localhost:8080/"
        },
        "id": "jKdHevx9Hh5U",
        "outputId": "13b06369-d6fe-4271-ae32-2a829de928ac"
      },
      "source": [
        ">>> diccionario = {'Piloto 1':'Fernando Alonso', 'Piloto 2':'Kimi Raikkonen', 'Piloto 3':'Felipe Massa'}\n",
        ">>> print(diccionario)\n",
        "# Esto sale como resultado: {'Piloto 1': 'Fernando Alonso', 'Piloto 3': 'Felipe Massa', 'Piloto 2': 'Kimi Raikkonen'}"
      ],
      "execution_count": null,
      "outputs": [
        {
          "output_type": "stream",
          "text": [
            "{'Piloto 1': 'Fernando Alonso', 'Piloto 2': 'Kimi Raikkonen', 'Piloto 3': 'Felipe Massa'}\n"
          ],
          "name": "stdout"
        }
      ]
    },
    {
      "cell_type": "code",
      "metadata": {
        "id": "zHs6hS9DIIVP"
      },
      "source": [
        "#Operaciones más habituales con diccionarios en Python\n",
        "#Es similar a las listas, con el matiz de que dado que los diccionarios no tienen orden,\n",
        "#no tienen funciones en las que se tenga en cuenta la posición.\n",
        "\n",
        "#diccionario.get(‘key’): Devuelve el valor que corresponde con la key introducida.\n",
        "#diccionario.pop(‘key’): Devuelve el valor que corresponde con la key introducida, y luego borra la key y el valor.\n",
        "#diccionario.update({‘key’:’valor’}): Inserta una determinada key o actualiza su valor si ya existiera.\n",
        "#«key» in diccionario: Devuelve verdadero (True) o falso (False) si la key (no los valores) existe en el diccionario.\n",
        "#«definicion» in diccionario.values(): Devuelve verdadero (True) o falso (False) si definición existe en el diccionario (no como key).\n",
        "\n",
        "#Poniendo todo esto en un ejemplo:"
      ],
      "execution_count": null,
      "outputs": []
    },
    {
      "cell_type": "code",
      "metadata": {
        "colab": {
          "base_uri": "https://localhost:8080/"
        },
        "id": "OhSZSJVQIccl",
        "outputId": "8bd6eaec-1e11-474c-b10d-1efd646f5935"
      },
      "source": [
        ">>> diccionario = {'Piloto 1':'Fernando Alonso', 'Piloto 2':'Kimi Raikkonen', 'Piloto 3':'Felipe Massa'}\n",
        ">>> # get(): Devuelve el valor que corresponde con la key introducida.\n",
        ">>> print(diccionario.get('Piloto 1'))\n",
        "# Esto es el resultado: Fernando Alonso\n",
        "\n",
        ">>> # pop(): Devuelve el valor que corresponde con la key introducida, y luego borra la key y el valor.\n",
        ">>> print(diccionario.pop('Piloto 1'))\n",
        "# Esto es el resultado: Fernando Alonso\n",
        ">>> print(diccionario)\n",
        "# Esto es el resultado: {'Piloto 3': 'Felipe Massa', 'Piloto 2': 'Kimi Raikkonen'}\n",
        "\n",
        ">>> # update(): Actualiza el valor de una determinada key o lo crea si no existe.\n",
        ">>> diccionario.update({'Piloto 4':'Lewis Hamilton'})\n",
        ">>> diccionario.update({'Piloto 2':'Sebastian Vettel'})\n",
        ">>> print(diccionario)\n",
        "# Esto es el resultado: {'Piloto 4': 'Lewis Hamilton', 'Piloto 2': 'Sebastian Vettel', 'Piloto 3': 'Felipe Massa'}\n",
        "\n",
        ">>> # \"key\" in diccionario: devuelve verdadero (True) o falso (False) si la key existe en el diccionario.\n",
        ">>> print (\"Piloto 1\" in diccionario)\n",
        "# Esto es el resultado: True\n",
        ">>> print (\"piloto 1\" in diccionario)\n",
        "# Esto es el resultado: False\n",
        ">>> print (\"Sebastian Vettel\" in diccionario)\n",
        "# Esto es el resultado: False\n",
        "\n",
        ">>> # \"definición\" in diccionario.values(): devuelve verdadero (True) o falso (False) si la definición existe en el diccionario.\n",
        ">>> print (\"Sebastian Vettel\" in diccionario.values())\n",
        "# Esto es el resultado: True\n",
        "\n",
        ">>> # del diccionario['key']: Elimina el valor (y el key) asociado a la key indicada.\n",
        ">>> del diccionario['Piloto 2']\n",
        ">>> print(diccionario)\n",
        "# Esto es el resultado: {'Piloto 4': 'Lewis Hamilton', 'Piloto 3': 'Felipe Massa'}"
      ],
      "execution_count": null,
      "outputs": [
        {
          "output_type": "stream",
          "text": [
            "Fernando Alonso\n",
            "Fernando Alonso\n",
            "{'Piloto 2': 'Kimi Raikkonen', 'Piloto 3': 'Felipe Massa'}\n",
            "{'Piloto 2': 'Sebastian Vettel', 'Piloto 3': 'Felipe Massa', 'Piloto 4': 'Lewis Hamilton'}\n",
            "False\n",
            "False\n",
            "False\n",
            "True\n",
            "{'Piloto 3': 'Felipe Massa', 'Piloto 4': 'Lewis Hamilton'}\n"
          ],
          "name": "stdout"
        }
      ]
    },
    {
      "cell_type": "markdown",
      "metadata": {
        "id": "kWLu227B7yte"
      },
      "source": [
        "# Operadores\n",
        "\n"
      ]
    },
    {
      "cell_type": "markdown",
      "metadata": {
        "id": "uGxK6poISI57"
      },
      "source": [
        "Los operadores son construcciones de Python que pueden manipular el valor de los operandos."
      ]
    },
    {
      "cell_type": "markdown",
      "metadata": {
        "id": "UEWONKZc8QlM"
      },
      "source": [
        "### Operadores Aritméticos\n",
        "\n"
      ]
    },
    {
      "cell_type": "markdown",
      "metadata": {
        "id": "uLhYGD1hPy1T"
      },
      "source": [
        "Los operadores aritméticos  modifican el valor de una variable."
      ]
    },
    {
      "cell_type": "code",
      "metadata": {
        "id": "tx_sso228WsF",
        "colab": {
          "base_uri": "https://localhost:8080/"
        },
        "outputId": "219d3291-7c0e-40fb-b07e-343c476509e7"
      },
      "source": [
        "# Ejemplo de operador aritmético\n",
        "a = 30\n",
        "b = 50\n",
        "\n",
        "# Addition\n",
        "add = a + b\n",
        "print(f\"add: {add}\")\n",
        "\n",
        "# Subtraction\n",
        "sub = a - b\n",
        "print(f\"sub: {sub}\")\n",
        "\n",
        "# Multiplication\n",
        "mul = a * b\n",
        "print(f\"mul: {mul}\")\n",
        "\n",
        "# Division\n",
        "div = a / b\n",
        "print(f\"div: {div}\")\n",
        "\n",
        "# Module\n",
        "'''Por ejemplo, si b = 7 y a=3, entonces b dividido entre a es 2 con un residuo de 1. Por lo tanto, b % a es 1.\n",
        "El código calcula el módulo de b dividido entre a y lo almacena en la variable modd.'''\n",
        "\n",
        "# 50/30 = 1, con un residuo de 20\n",
        "modd = b % a\n",
        "print(f\"modd: {modd}\")\n",
        "\n",
        "# Exponent\n",
        "exp = a**b\n",
        "print(f\"exp: {exp}\")"
      ],
      "execution_count": null,
      "outputs": [
        {
          "output_type": "stream",
          "text": [
            "add: 80\n",
            "sub: -20\n",
            "mul: 1500\n",
            "div: 0.6\n",
            "modd: 20\n",
            "exp: 71789798769185258877024900000000000000000000000000000000000000000000000000\n"
          ],
          "name": "stdout"
        }
      ]
    },
    {
      "cell_type": "markdown",
      "metadata": {
        "id": "I681MK9s9Dc1"
      },
      "source": [
        "### Operadores de comparación"
      ]
    },
    {
      "cell_type": "markdown",
      "metadata": {
        "id": "Ym0Esv58Qj7m"
      },
      "source": [
        "Comparan los valores de ambos lados de la operación y decide la relación entre ambos."
      ]
    },
    {
      "cell_type": "code",
      "metadata": {
        "id": "glH-hslJ9GGy",
        "colab": {
          "base_uri": "https://localhost:8080/"
        },
        "outputId": "b3f0fa8d-3117-4ed9-b87b-22613d5b9551"
      },
      "source": [
        "# Ejemplos de operadores de comparación\n",
        "a = 30\n",
        "b = 50\n",
        "\n",
        "# Equality\n",
        "eq = a == b #comparar si a es igual a b y dará un operador boleano\n",
        "print(f\"eq: {eq}\")\n",
        "\n",
        "# Inequality\n",
        "ieq = a != b\n",
        "print(f\"ieq: {ieq}\")\n",
        "\n",
        "# Greater\n",
        "gt = a > b\n",
        "print(f\"gt: {gt}\")\n",
        "\n",
        "# Less\n",
        "ls = a < b\n",
        "print(f\"ls: {ls}\")\n",
        "\n",
        "# Greater or equal\n",
        "gteq = a >= b\n",
        "print(f\"gteq: {gteq}\")\n",
        "\n",
        "# Less or equal\n",
        "lseq = a <= b\n",
        "print(f\"lseq: {lseq}\")\n",
        "\n",
        "print(30 > 30)\n",
        "print(30 >= 30)\n"
      ],
      "execution_count": null,
      "outputs": [
        {
          "output_type": "stream",
          "text": [
            "eq: False\n",
            "ieq: True\n",
            "gt: False\n",
            "ls: True\n",
            "gteq: False\n",
            "lseq: True\n",
            "False\n",
            "True\n"
          ],
          "name": "stdout"
        }
      ]
    },
    {
      "cell_type": "markdown",
      "metadata": {
        "id": "IQi4sIX29IFC"
      },
      "source": [
        "### Operadores de asignación"
      ]
    },
    {
      "cell_type": "markdown",
      "metadata": {
        "id": "EKSA3-SWOQxS"
      },
      "source": [
        "Hemos visto estos operadores reiteradamente, pero vamos a explicar ahora las propiedades de algunos de ellos."
      ]
    },
    {
      "cell_type": "code",
      "metadata": {
        "id": "tRoElKRT9K4L",
        "colab": {
          "base_uri": "https://localhost:8080/"
        },
        "outputId": "9539ccae-1973-4ff1-fe25-b232d256dc24"
      },
      "source": [
        "# Ejemplos de operadores de asignación\n",
        "a = 30\n",
        "b = 50\n",
        "\n",
        "# Assignment (=)\n",
        "c = a + b\n",
        "print(c)\n",
        "\n",
        "# Addition with assignment\n",
        "c = 60\n",
        "c += a\n",
        "print(c)\n",
        "\n",
        "# Subtraction with assignment\n",
        "c = 60\n",
        "c -= a\n",
        "print(c)\n",
        "\n",
        "# Multiplication with assignment\n",
        "c = 60\n",
        "c *= a\n",
        "print(c)\n",
        "\n",
        "# Division with assignment\n",
        "c = 60\n",
        "c /= a\n",
        "print(c)"
      ],
      "execution_count": null,
      "outputs": [
        {
          "output_type": "stream",
          "text": [
            "80\n",
            "90\n",
            "30\n",
            "1800\n",
            "2.0\n"
          ],
          "name": "stdout"
        }
      ]
    },
    {
      "cell_type": "markdown",
      "metadata": {
        "id": "Wvz440HIPDJQ"
      },
      "source": [
        "### Operadores lógicos, de identidad y pertenencia"
      ]
    },
    {
      "cell_type": "markdown",
      "metadata": {
        "id": "XmtRlWwvPL1M"
      },
      "source": [
        "Vamos a agrupar tres tipos de operadores que son utilizados detro de lso controles de flujo que veremos a continuación, todos devuelven  un tipo lógico (true or false) cuando se realiza la operación."
      ]
    },
    {
      "cell_type": "code",
      "metadata": {
        "id": "1KoQYN73PfSg",
        "colab": {
          "base_uri": "https://localhost:8080/"
        },
        "outputId": "06789fb1-ce22-4f73-daab-c820a70e4d91"
      },
      "source": [
        "a = 30\n",
        "b = 50\n",
        "c = [20, 30, 70, 80]\n",
        "at = True\n",
        "bf = False\n",
        "\n",
        "# AND operator\n",
        "print(at and bf)\n",
        "\n",
        "# OR operator\n",
        "print(at or bf)\n",
        "\n",
        "# NOT operator\n",
        "print(not at)\n",
        "\n",
        "print(\"------------\")\n",
        "\n",
        "# Membership\n",
        "print(a in c)\n",
        "\n",
        "# Not Membership\n",
        "print(a not in c)\n",
        "\n",
        "print(\"------------\")\n",
        "\n",
        "# Identity\n",
        "c = a\n",
        "print(a is c)\n",
        "print(a is b)\n",
        "\n",
        "# Not identity\n",
        "print(a is not c)\n",
        "print(a is not b)\n"
      ],
      "execution_count": null,
      "outputs": [
        {
          "output_type": "stream",
          "text": [
            "False\n",
            "True\n",
            "False\n",
            "------------\n",
            "True\n",
            "False\n",
            "------------\n",
            "True\n",
            "False\n",
            "False\n",
            "True\n"
          ],
          "name": "stdout"
        }
      ]
    },
    {
      "cell_type": "markdown",
      "metadata": {
        "id": "BK2Lxa0v9qRD"
      },
      "source": [
        "# Control de flujo\n",
        "\n"
      ]
    },
    {
      "cell_type": "markdown",
      "metadata": {
        "id": "P6izPw0XKNh2"
      },
      "source": [
        "En el nivel más elemental, un programa no es más que una ejecución secuencial de instrucciones. Esta ejecución tiene un flujo predefinido que el desarrollador querrá controlar con diversas técnicas.\n",
        "\n",
        "Para conocer más sobre el control de flujo el [tutorial que proporciona Python](https://docs.python.org/3/tutorial/controlflow.html) tiene todos los operadores necesarios."
      ]
    },
    {
      "cell_type": "markdown",
      "metadata": {
        "id": "F497nreo9xE_"
      },
      "source": [
        "### Decisión condicional"
      ]
    },
    {
      "cell_type": "code",
      "metadata": {
        "id": "H8OEWwYe94Wn",
        "colab": {
          "base_uri": "https://localhost:8080/"
        },
        "outputId": "dbbe4756-e60d-424a-f90a-b8e452bf6a10"
      },
      "source": [
        "# If example\n",
        "counter = 5\n",
        "if(counter == 5): #conditional test\n",
        "  print(\"We've reached 5\")\n",
        "print(\"asdfadfsds\")\n",
        "\n",
        "# If..else example\n",
        "if(counter == 6):\n",
        "  print(\"We've reached 6\")\n",
        "  print(\"Hello\")\n",
        "else:\n",
        "  print(\"We've got something else\")\n",
        "\n",
        "counter += 1\n",
        "# Nested if\n",
        "if(counter == 1):\n",
        "  print(\"We've reached 1\")\n",
        "elif(counter == 2):\n",
        "  print(\"We've reached 2\")\n",
        "elif(counter == 3):\n",
        "  print(\"We've reached 3\")\n",
        "elif(counter == 4):\n",
        "  print(\"We've reached 4\")\n",
        "elif(counter == 5):\n",
        "  print(\"We've reached 5\")\n",
        "else:\n",
        "  print(\"We've got more than that\")\n"
      ],
      "execution_count": null,
      "outputs": [
        {
          "output_type": "stream",
          "name": "stdout",
          "text": [
            "We've reached 5\n",
            "asdfadfsds\n",
            "We've got something else\n",
            "We've got more than that\n"
          ]
        }
      ]
    },
    {
      "cell_type": "markdown",
      "metadata": {
        "id": "enpvkheZ96ge"
      },
      "source": [
        "### Bucle \"for\""
      ]
    },
    {
      "cell_type": "code",
      "metadata": {
        "id": "pgHJVR1X-ARZ",
        "colab": {
          "base_uri": "https://localhost:8080/"
        },
        "outputId": "69cf774c-c3d6-47df-e4c8-af92bdd354fc"
      },
      "source": [
        "# For loop example\n",
        "elements = [1,2,3,4,5,6,7,8]\n",
        "\n",
        "for element in elements:\n",
        "  print(element)\n",
        "  print(\"Hola\")\n",
        "\n",
        "for letter in \"Hello World\":\n",
        "  print(letter)\n",
        "\n",
        "# For loop with range\n",
        "for index, element in enumerate(elements):\n",
        "  print(f\"Element {element} is in index {index}\")"
      ],
      "execution_count": null,
      "outputs": [
        {
          "output_type": "stream",
          "text": [
            "1\n",
            "Hola\n",
            "2\n",
            "Hola\n",
            "3\n",
            "Hola\n",
            "4\n",
            "Hola\n",
            "5\n",
            "Hola\n",
            "6\n",
            "Hola\n",
            "7\n",
            "Hola\n",
            "8\n",
            "Hola\n",
            "H\n",
            "e\n",
            "l\n",
            "l\n",
            "o\n",
            " \n",
            "W\n",
            "o\n",
            "r\n",
            "l\n",
            "d\n",
            "Element 1 is in index 0\n",
            "Element 2 is in index 1\n",
            "Element 3 is in index 2\n",
            "Element 4 is in index 3\n",
            "Element 5 is in index 4\n",
            "Element 6 is in index 5\n",
            "Element 7 is in index 6\n",
            "Element 8 is in index 7\n"
          ],
          "name": "stdout"
        }
      ]
    },
    {
      "cell_type": "markdown",
      "metadata": {
        "id": "fXElGCPi-B_0"
      },
      "source": [
        "### Bucle \"while\""
      ]
    },
    {
      "cell_type": "code",
      "metadata": {
        "id": "1ZIMS2W9-IUX",
        "colab": {
          "base_uri": "https://localhost:8080/"
        },
        "outputId": "102b058f-ffc7-43ae-fb34-e84ab0882c54"
      },
      "source": [
        "# While loop\n",
        "counter = 1\n",
        "\n",
        "while (counter < 9):\n",
        "  print(counter)\n",
        "  counter += 1"
      ],
      "execution_count": null,
      "outputs": [
        {
          "output_type": "stream",
          "text": [
            "1\n",
            "2\n",
            "3\n",
            "4\n",
            "5\n",
            "6\n",
            "7\n",
            "8\n"
          ],
          "name": "stdout"
        }
      ]
    },
    {
      "cell_type": "code",
      "metadata": {
        "id": "3LySF0NiVm-F"
      },
      "source": [
        "# While loop infinite DO NOT EXECUTE\n",
        "\n",
        "counter = 1\n",
        "\n",
        "while (counter != 2):\n",
        "  print(counter)\n",
        "  counter += 2\n"
      ],
      "execution_count": null,
      "outputs": []
    },
    {
      "cell_type": "markdown",
      "metadata": {
        "id": "34onjbj1MNvB"
      },
      "source": [
        "# Funciones"
      ]
    },
    {
      "cell_type": "markdown",
      "metadata": {
        "id": "M6DmpAuk1U_y"
      },
      "source": [
        "Una función es un bloque organizado de código reutilizable. Las funciones otorgan  modularidad a una aplicación y un nivel de reusabilidad. Hay varios consejos que debe seguir una función:\n",
        "\n",
        "\n",
        "\n",
        "*   Las funciones deben ser lo más nucleares posibles: Una función debe realizar una sola tarea con un objetivo claro\n",
        "*   Cualquier código que se repita en tu programa es candidato de convertirse en una función.\n",
        "*   Las funciones deben ser descriptivas en su funcionamiento: El nombre de la función debe  dar una descripción aproximada de su funcionamiento.\n",
        "\n"
      ]
    },
    {
      "cell_type": "code",
      "metadata": {
        "id": "jED7oLqi4_SC"
      },
      "source": [
        "def function_example(parameter):\n",
        "  \"\"\"DocSttring\"\"\"\n",
        "  print(parameter)\n",
        "  return"
      ],
      "execution_count": null,
      "outputs": []
    },
    {
      "cell_type": "code",
      "metadata": {
        "id": "C0sGIg_l5V_g",
        "colab": {
          "base_uri": "https://localhost:8080/"
        },
        "outputId": "8852df23-ec90-473a-b6a3-873281ad3e5c"
      },
      "source": [
        "function_example(\"Hola Mundo\")"
      ],
      "execution_count": null,
      "outputs": [
        {
          "output_type": "stream",
          "name": "stdout",
          "text": [
            "Hola Mundo\n"
          ]
        }
      ]
    },
    {
      "cell_type": "markdown",
      "metadata": {
        "id": "t5_jbapP6GCc"
      },
      "source": [
        "Se puede realizar tantas llamadas como sea necesario, cambiando el valor de los parámetros cuando se quiera."
      ]
    },
    {
      "cell_type": "code",
      "metadata": {
        "id": "bo3K5QUe6QJ-",
        "colab": {
          "base_uri": "https://localhost:8080/"
        },
        "outputId": "d0fca756-f7bb-4e0c-883e-d0e3dd17df34"
      },
      "source": [
        "function_example(\"Que tal estás\")"
      ],
      "execution_count": null,
      "outputs": [
        {
          "output_type": "stream",
          "name": "stdout",
          "text": [
            "Que tal estás\n"
          ]
        }
      ]
    },
    {
      "cell_type": "markdown",
      "metadata": {
        "id": "dDRFHZ0dOS3m"
      },
      "source": [
        "## Parámetros de una función\n",
        "\n",
        "En Python pueden utilizarse cuatro tipos de argumentos en una función:\n",
        "\n",
        "\n",
        "\n"
      ]
    },
    {
      "cell_type": "markdown",
      "metadata": {
        "id": "5ZLyuRAhPCZ9"
      },
      "source": [
        "**Argumentos obligatorios**\n",
        "\n",
        "Los argumentos obligatorios son aquellos que se pasan a una función en el orden correcto y con el número exacto de variables para argumentos."
      ]
    },
    {
      "cell_type": "code",
      "metadata": {
        "id": "Dt66os2uPVCx",
        "colab": {
          "base_uri": "https://localhost:8080/"
        },
        "outputId": "5c680f5e-aff0-42d3-ca63-cf3c9ac16223"
      },
      "source": [
        "def required_args(first, second, third):\n",
        "  print(first)\n",
        "  print(second)\n",
        "  print(third)\n",
        "\n",
        "required_args(\"first\", \"2\", \"third\")"
      ],
      "execution_count": null,
      "outputs": [
        {
          "output_type": "stream",
          "name": "stdout",
          "text": [
            "first\n",
            "2\n",
            "third\n"
          ]
        }
      ]
    },
    {
      "cell_type": "markdown",
      "metadata": {
        "id": "71S5fnoBPgv4"
      },
      "source": [
        "**Argumentos por clave**\n",
        "\n",
        "En python también puedes referenciar a un argumento por su nombre, pudiendo así cambiar el orden de llamada."
      ]
    },
    {
      "cell_type": "code",
      "metadata": {
        "id": "JSum1l9GY8KC",
        "colab": {
          "base_uri": "https://localhost:8080/"
        },
        "outputId": "c3a9233e-ce4b-42fc-9978-81d9a15f8da7"
      },
      "source": [
        "def keyword_args(first, second, third):\n",
        "  print(first)\n",
        "  print(second)\n",
        "  print(third)\n",
        "\n",
        "keyword_args(first=\"first\", third=\"third\", second=\"second\")"
      ],
      "execution_count": null,
      "outputs": [
        {
          "output_type": "stream",
          "name": "stdout",
          "text": [
            "first\n",
            "second\n",
            "third\n"
          ]
        }
      ]
    },
    {
      "cell_type": "markdown",
      "metadata": {
        "id": "gMliZSlWZJ_y"
      },
      "source": [
        "**Argumentos por defecto**\n",
        "\n",
        "Un argumento por defecto es un argumento que asume su valor por defecto, estos argumentos siempre van después de los argumentos por clave y pueden ser omitidos en la llamada a la función."
      ]
    },
    {
      "cell_type": "code",
      "metadata": {
        "id": "3WJVpPfhZXSk",
        "colab": {
          "base_uri": "https://localhost:8080/"
        },
        "outputId": "bbc4b3c2-c7cc-49d0-fabb-882fb9e2c740"
      },
      "source": [
        "def default_args(first, second, third=\"third\", fourht=\"4\"):\n",
        "  print(first)\n",
        "  print(second)\n",
        "  print(third)\n",
        "  print(fourht)\n",
        "  print(\"========\")\n",
        "\n",
        "# You can call the third value\n",
        "default_args(\"first\", \"second\", \"3\")\n",
        "\n",
        "# You can ommit the value\n",
        "default_args(\"first\", \"2\")\n",
        "\n",
        "# You can change the default value\n",
        "default_args(\"first\", \"second\", fourht=\"other\")"
      ],
      "execution_count": null,
      "outputs": [
        {
          "output_type": "stream",
          "name": "stdout",
          "text": [
            "first\n",
            "second\n",
            "3\n",
            "4\n",
            "========\n",
            "first\n",
            "2\n",
            "third\n",
            "4\n",
            "========\n",
            "first\n",
            "second\n",
            "third\n",
            "other\n",
            "========\n"
          ]
        }
      ]
    },
    {
      "cell_type": "markdown",
      "metadata": {
        "id": "m35pVP9oZw-p"
      },
      "source": [
        "**Argumentos de longitud variable**\n",
        "\n",
        "En algunas funciones encontraras los parámetros \\*args y \\*\\*kwargs. Estas son palabras reservadas que al principio es difícil de comprender. Lo primero de todo es que el nombre args y kwargs no es necesario, solo los asteriscos, pero por convenio se usan esas palabras, se podría tener \\*var y \\*\\*vars pero no suele ser muy usual.\n"
      ]
    },
    {
      "cell_type": "code",
      "metadata": {
        "id": "8OJEm5s-al-F",
        "colab": {
          "base_uri": "https://localhost:8080/"
        },
        "outputId": "a1938919-d791-4aa5-cf5f-c9def09541e0"
      },
      "source": [
        "def test_var_args(f_arg, *argv):\n",
        "    print(f\"first normal arg: {f_arg}\")\n",
        "    print(argv)\n",
        "    for arg in argv:\n",
        "        print(f\"another arg through *argv : {arg}\")\n",
        "\n",
        "test_var_args('lucas','python','ML','test', 'asdfafds')"
      ],
      "execution_count": null,
      "outputs": [
        {
          "output_type": "stream",
          "name": "stdout",
          "text": [
            "first normal arg: lucas\n",
            "('python', 'ML', 'test', 'asdfafds')\n",
            "another arg through *argv : python\n",
            "another arg through *argv : ML\n",
            "another arg through *argv : test\n",
            "another arg through *argv : asdfafds\n"
          ]
        }
      ]
    },
    {
      "cell_type": "markdown",
      "metadata": {
        "id": "X3u9rEV1ODCm"
      },
      "source": [
        "**Return**\n",
        "\n",
        "La palabra reservada **return** sirve para terminar una función y devolver una expresión a la linea de código que la ha llamado. Una función sin **return** es lo mismo que si devuelve None.\n",
        "\n",
        "Puede devolverse cualquier valor, y como mencionamos en el curso anterior, pueden **devolverse múltiple valores mediante tuplas.**"
      ]
    },
    {
      "cell_type": "code",
      "metadata": {
        "id": "2gKg5ozPd5Z8",
        "colab": {
          "base_uri": "https://localhost:8080/"
        },
        "outputId": "c912604c-01be-4c88-ab9b-aa8b9d2c3e04"
      },
      "source": [
        "def simple_sum(a, b):\n",
        "  return a + b\n",
        "\n",
        "result = simple_sum(4, 2)\n",
        "print(result)\n",
        "\n",
        "def return_none(a, b):\n",
        "  a + b\n",
        "result = return_none(2,3)\n",
        "print(result)\n",
        "\n",
        "\n",
        "def increment_two_values(a, b):\n",
        "  a += 1\n",
        "  b += 1\n",
        "  return a, b\n",
        "\n",
        "inc_1, inc_2 = increment_two_values(3, 5)\n",
        "print(f\"{inc_1} and {inc_2}\")\n"
      ],
      "execution_count": null,
      "outputs": [
        {
          "output_type": "stream",
          "name": "stdout",
          "text": [
            "6\n",
            "None\n",
            "4 and 6\n"
          ]
        }
      ]
    },
    {
      "cell_type": "code",
      "source": [
        "\n",
        "def simple_sum(a, b):\n",
        "    return a - b\n",
        "\n",
        "result = simple_sum(4, 4)\n",
        "print(result)\n",
        "\n",
        "a, b = 4, 2  # Definición de las variables a y b\n",
        "\n",
        "if a == b:\n",
        "    print(\"Las variables 'a' y 'b' son iguales.\")\n",
        "else:\n",
        "    print(\"Las variables 'a' y 'b' son diferentes.\")\n"
      ],
      "metadata": {
        "colab": {
          "base_uri": "https://localhost:8080/"
        },
        "id": "YVMQ-wDtXpVr",
        "outputId": "0dc588d6-9bec-4de5-b175-6552a4b6272d"
      },
      "execution_count": null,
      "outputs": [
        {
          "output_type": "stream",
          "name": "stdout",
          "text": [
            "0\n",
            "Las variables 'a' y 'b' son diferentes.\n"
          ]
        }
      ]
    },
    {
      "cell_type": "markdown",
      "metadata": {
        "id": "PuJNUiXHMQd9"
      },
      "source": [
        "## Funciones Avanzadas"
      ]
    },
    {
      "cell_type": "markdown",
      "metadata": {
        "id": "LTaolLM5MTMG"
      },
      "source": [
        "### Funciones anónimas (Lambda)\n",
        "\n",
        "Las funciones anónimas se llaman así ya que no se declaran con la palabra reservada **def**. No necesitan identación para declarar la funcionalidad y tienen una serie de características que las hacen muy especiales:\n",
        "\n",
        "*   Utilizan la palabra reservada **lambda** para declararse\n",
        "*   Pueden tener múltiples argumentos pero solo pueden devolver  un valor por expresión\n",
        "*   Una función anónima no puede llamarse directamente, ya que **lambda** necesita una expresión.\n",
        "*   Las funciones lambda tienen su propio *namespace* y no pueden acceder variables otras que las pasadas por argumentos.\n",
        "\n",
        "La sintaxis de una función lambda sería la siguiente:\n",
        "\n",
        "```\n",
        "lambda [arg1, arg2....]: expresion\n",
        "```\n",
        "\n",
        "Las funciones anónimas se definen sin un nombre. Mientras que las funciones normales se definen usando la palabra clave def, en Python, las funciones anónimas se definen usando la palabra clave lambda.\n",
        "\n",
        "Las funciones lambda pueden tener cualquier número de argumentos, pero solo una expresión. La expresión se evalúa y se devuelve. Las funciones lambda tienen su propia sintaxis local y no pueden acceder a variables que no están en su lista de parámetros o en el ámbito global.\n",
        "\n",
        "Sintaxis de una función lambda:\n",
        "\n",
        "```\n",
        "lambda argumentos: expresion\n",
        "```\n",
        "\n",
        "Ejemplo:\n",
        "\n",
        "Vamos a definir una función que devuelve el cuadrado de un número:\n",
        "\n",
        "```\n",
        "def square(n):\n",
        "    return n * n\n",
        "```\n",
        "\n",
        "El equivalente utilizando una función lambda sería:\n",
        "\n",
        "```\n",
        "square = lambda n: n * n\n",
        "```\n",
        "\n",
        "Uso común de funciones lambda:\n",
        "\n",
        "Las funciones lambda se usan comúnmente con funciones como map(), filter(), y sorted().\n",
        "\n",
        "Por ejemplo, supongamos que queremos elevar al cuadrado todos los elementos en una lista:\n",
        "\n",
        "```\n",
        "numbers = [1, 2, 3, 4, 5]\n",
        "squared_numbers = list(map(lambda x: x**2, numbers))\n",
        "```\n",
        "\n",
        "Es importante mencionar que el uso de funciones lambda tiene sus limitaciones. Son menos poderosas que las funciones normales y su uso está destinado a operaciones más simples. En casos donde la lógica es más compleja, es preferible definir una función normal usando def."
      ]
    },
    {
      "cell_type": "code",
      "metadata": {
        "id": "MpN3o1A2cZiX",
        "colab": {
          "base_uri": "https://localhost:8080/"
        },
        "outputId": "1315a0ef-7e16-442b-b8c8-9e75d5a17046"
      },
      "source": [
        "# Normal funcion\n",
        "\n",
        "def cube(x):\n",
        "  return x*x*x\n",
        "\n",
        "res = cube(7)\n",
        "print(res)\n",
        "\n",
        "# Lambda function\n",
        "cub = lambda x: x*x*x\n",
        "res = cub(7)\n",
        "print(res)\n",
        "\n",
        "# Filter function\n",
        "li = [5, 7, 22, 97, 54, 62, 77, 23, 73, 61]\n",
        "def filter_list(lis):\n",
        "  new_list = []\n",
        "  for element in lis:\n",
        "    if(element%2 != 0):\n",
        "      new_list.append(element)\n",
        "  return new_list\n",
        "\n",
        "li_filtered = filter_list(li)\n",
        "print(li_filtered)\n",
        "\n",
        "# Filter map\n",
        "li = [5, 7, 22, 97, 54, 62, 77, 23, 73, 61]\n",
        "li_filtered = list(filter(lambda x: (x%2 != 0), li)) # return lazy iterator convert to list\n",
        "print(li_filtered)"
      ],
      "execution_count": null,
      "outputs": [
        {
          "output_type": "stream",
          "text": [
            "343\n",
            "343\n",
            "[5, 7, 97, 77, 23, 73, 61]\n",
            "[5, 7, 97, 77, 23, 73, 61]\n"
          ],
          "name": "stdout"
        }
      ]
    },
    {
      "cell_type": "markdown",
      "metadata": {
        "id": "1JbAE6Zkh39x"
      },
      "source": [
        "# Python Orientado a Objetos\n",
        "\n",
        "\n",
        "\n",
        "\n",
        "\n"
      ]
    },
    {
      "cell_type": "markdown",
      "metadata": {
        "id": "VkrKnJlyWXlr"
      },
      "source": [
        "Podemos decir que en la Orientación a Objetos estructuramos **variables** y **funciones** en unidades lógicas, lo que llamaremos objetos. Estas **variables** son lo que hemos llamado **atributos** y las **funciones** serán los **métodos**.\n",
        "\n",
        "Un ejemplo de objeto sería un coche. Un coche tiene **atributos** importantes como el color, el modelo, el año y el tipo de gasolina. Además podemos interactuar con el objeto mediante sus **métodos** como arrancar, o acelerar.\n",
        "\n",
        "![alt text](https://res.cloudinary.com/practicaldev/image/fetch/s--O6de3Ai---/c_limit%2Cf_auto%2Cfl_progressive%2Cq_auto%2Cw_880/https://thepracticaldev.s3.amazonaws.com/i/k83oolqy85mixbnqra2w.PNG)\n",
        "\n",
        "Aunque sea sorprendente, ya hemos usado múltiples objetos en Python, por ejemplo las listas. Las listas tienen **métodos** como append(), clear() o copy() y se organizan en unidades lógicas con una función.\n",
        "\n"
      ]
    },
    {
      "cell_type": "code",
      "metadata": {
        "id": "9BJFHR49sIXR",
        "colab": {
          "base_uri": "https://localhost:8080/"
        },
        "outputId": "5bb1e01f-b2af-4a45-99c5-e933d2ba1ebb"
      },
      "source": [
        "test = [4, 5, 6, 8]\n",
        "test.clear() #elimina todos los elementos\n",
        "print(test)"
      ],
      "execution_count": null,
      "outputs": [
        {
          "output_type": "stream",
          "text": [
            "[]\n"
          ],
          "name": "stdout"
        }
      ]
    },
    {
      "cell_type": "markdown",
      "metadata": {
        "id": "s4vkeGH5Xowp"
      },
      "source": [
        "La orientación a objetos está sustentada por cuatro pilares fundamentales:\n",
        "\n",
        "\n",
        "*   **Encapsulación** --> Agrupación de varios métodos y atributos en un objeto.\n",
        "*   **Abstracción** --> Capacidad de ocultar la complejidad de una implementación.\n",
        "*   **Herencia** --> Mecanismo para eliminar información redundante pudiendo compartir características.\n",
        "*   **Polimorfismo** --> Literalmente significa muchas formas, capacidad de que cambie el comportamiento de un objeto dependiendo del tipo de dato de entrada."
      ]
    },
    {
      "cell_type": "markdown",
      "metadata": {
        "id": "CuJ4aaF8MdZf"
      },
      "source": [
        "## Clases"
      ]
    },
    {
      "cell_type": "markdown",
      "metadata": {
        "id": "Jh589It8mvgM"
      },
      "source": [
        "Son \"prototipos\" definidos por el programador que sirven como modelo para los atributos y los métodos de un objeto. Se podría hacer una analogía con las recetas de un plato. Con las clases podemos definir qué valores tendrá el objeto y qué podrá hacer.\n",
        "\n",
        "Para crear una clase solo necesitamos declarar la palabra reservada *class* y definir la clase interna:\n",
        "\n",
        "\n",
        "\n",
        "```\n",
        "class NewClass(object):\n",
        "    # Documentation\n",
        "    class_body\n",
        "```\n",
        "\n",
        "Así podremos ver un ejemplo de clase completo con un coche:\n"
      ]
    },
    {
      "cell_type": "code",
      "metadata": {
        "id": "ysh-6mHvowU2"
      },
      "source": [
        "class Car(object):\n",
        "  'Common class for a car object'\n",
        "  total_cars = 0 #secuencial number\n",
        "\n",
        "  # Declaration\n",
        "  def __init__(self, model, color, id=\"2342FSD\"):\n",
        "    self.model = model\n",
        "    self.color = color\n",
        "    self.id = id\n",
        "    Car.total_cars += 1\n",
        "\n",
        "  def get_model(self):\n",
        "    return self.model\n",
        "\n",
        "  def print_model(self):\n",
        "    print(f\"The car is {self.model}\")\n",
        "\n",
        "  def print_total_cars(self):\n",
        "    print(f\"Total amount of cars: {Car.total_cars}\")\n",
        "\n",
        "  def print_color(self):\n",
        "    print(f\"The color of the car is {self.color}\")\n",
        "\n",
        "  def start(self):\n",
        "    print(\"Engine running\")\n"
      ],
      "execution_count": null,
      "outputs": []
    },
    {
      "cell_type": "markdown",
      "metadata": {
        "id": "xVZJinPsppEv"
      },
      "source": [
        "Aquí podemos ver tres elementos importantes:\n",
        "\n",
        "\n",
        "\n",
        "*   La variable *total_cars* es una variable compartida por todas las instancias de la clase, puede acceder estáticamente a través de una instancia *ClassName.variable*, en este caso *Car.serial_number*\n",
        "*   El primer método *\\_\\_init__()* es un método especial reservado a la inicialización del objeto, llamado **constructor**. Este es llamado cuando se instancia un objeto.\n",
        "*    Se declaran los atributos y los métodos, que son propios de cada instancia. Para ello se usa la palabra reservada *self* tanto como primer argumento de un método como para referenciar a un atributo.\n",
        "\n"
      ]
    },
    {
      "cell_type": "markdown",
      "metadata": {
        "id": "0_EoHd95z5Pw"
      },
      "source": [
        "## Objetos"
      ]
    },
    {
      "cell_type": "markdown",
      "metadata": {
        "id": "eqyjOfQMka5p"
      },
      "source": [
        "Un objeto es una instancia de una estructura de datos definida en una clase. Un objeto se compone tanto de **atributos** de clase como de métodos.\n",
        "\n",
        "Para crear una instancia de una clase, solo hay que asignar a una variable la llamada al constructor de una clase y pasar los argumentos que acepta el constructor *\\_\\_init__*\n",
        "\n",
        "En Python la instanciación de un objeto sería de la siguiente forma:\n",
        "\n",
        "\n",
        "\n",
        "```\n",
        "inst_object = NewClass(attribute)\n",
        "```\n",
        "\n"
      ]
    },
    {
      "cell_type": "code",
      "metadata": {
        "id": "L_xanQbplEd1"
      },
      "source": [
        "# Objetc instantiation\n",
        "\n",
        "opel_car = Car(\"opel\", \"red\", \"67458IUK\")\n",
        "\n",
        "mercedes_car = Car(\"mercedes\", \"blue\", \"2342IOS\")\n",
        "\n",
        "tesla_car = Car(\"tesla\", \"grey\", \"1234ABC\")\n",
        "\n",
        "#fail_car = Car()"
      ],
      "execution_count": null,
      "outputs": []
    },
    {
      "cell_type": "markdown",
      "metadata": {
        "id": "iQaVuL1u0AaT"
      },
      "source": [
        "## Atributos"
      ]
    },
    {
      "cell_type": "markdown",
      "metadata": {
        "id": "rDSB0uwMne09"
      },
      "source": [
        "Una vez instanciado el objeto, podremos acceder a sus atributos y métodos, para ello usaremos la notación de python (que ya conocemos bastante bien) con la llamada a la variable, seguida de un punto y el nombre del atribtuo o método.\n",
        "\n",
        "\n",
        "\n",
        "```\n",
        "isnt_object.attribute\n",
        "inst_object.method()\n",
        "```\n",
        "\n",
        "Así vemos como acceder a los atributos de nuestros objetos ya instanciados:\n"
      ]
    },
    {
      "cell_type": "code",
      "metadata": {
        "id": "ULqTzjoGn2eA",
        "colab": {
          "base_uri": "https://localhost:8080/"
        },
        "outputId": "94cce19b-1089-4dbd-9e7a-49c282202f5b"
      },
      "source": [
        "# method call\n",
        "opel_car.print_model()\n",
        "\n",
        "# attribute_call\n",
        "print(mercedes_car.color)\n",
        "\n",
        "print(tesla_car.id)"
      ],
      "execution_count": null,
      "outputs": [
        {
          "output_type": "stream",
          "text": [
            "The car is opel\n",
            "blue\n",
            "1234ABC\n"
          ],
          "name": "stdout"
        }
      ]
    },
    {
      "cell_type": "markdown",
      "metadata": {
        "id": "U61PU9FLoCYi"
      },
      "source": [
        "En las llamadas a métodos, pese a que tenga como primer argumento *self* no es necesario declararlo, ya que como comentamos es una palabra reservada de Python para declarar una función como un método de clase.\n",
        "\n",
        "Por otro lado, podremos modificar atributos de clase normalmente:"
      ]
    },
    {
      "cell_type": "code",
      "metadata": {
        "id": "aQpOIJsDobEs",
        "colab": {
          "base_uri": "https://localhost:8080/"
        },
        "outputId": "1aadfe03-1464-4619-dfb4-4838c4ccffac"
      },
      "source": [
        "opel_car.color = \"green\"\n",
        "opel_car.print_color()\n"
      ],
      "execution_count": null,
      "outputs": [
        {
          "output_type": "stream",
          "text": [
            "The color of the car is green\n"
          ],
          "name": "stdout"
        }
      ]
    },
    {
      "cell_type": "markdown",
      "metadata": {
        "id": "z9HIlh9C0FBl"
      },
      "source": [
        "## Herencia"
      ]
    },
    {
      "cell_type": "markdown",
      "metadata": {
        "id": "h8jT6iZdrVfU"
      },
      "source": [
        "Para evitar la repetición de código de clases que puedan ser similares o compartan características en común, podemos derivar una clase de otra, haciendo que compartan tanto *atributos* como *métodos*.\n",
        "\n",
        "La clase hija \"hereda\" toda esto y lo puede utilizar según su conveniencia, adaptando valores para el propósito de la clase.\n",
        "\n",
        "\n"
      ]
    },
    {
      "cell_type": "code",
      "metadata": {
        "id": "4dK7hiOxsDbm"
      },
      "source": [
        "class Vehicle(object):\n",
        "\n",
        "  def __init__(self):\n",
        "    self.number_wheels = 0\n",
        "    self.model = \"\"\n",
        "    self.color = \"\"\n",
        "\n",
        "  def print_model(self):\n",
        "    print(f\"Model of the vehicle is: {self.model}\")\n",
        "\n",
        "  def print_number_wheels(self):\n",
        "    print(f\"Number of wheels: {self.number_wheels}\")\n",
        "\n",
        "  def print_color(self):\n",
        "    print(f\"Color: {self.color}\")\n",
        "\n",
        "class Bike(Vehicle):\n",
        "\n",
        "  def __init__(self, model, color):\n",
        "    self.number_wheels = 2\n",
        "    self.model = model\n",
        "    self.color = color\n",
        "\n",
        "class Car(Vehicle):\n",
        "\n",
        "  def __init__(self, model, color):\n",
        "    self.number_wheels = 4\n",
        "    self.model = model\n",
        "    self.color = color"
      ],
      "execution_count": null,
      "outputs": []
    },
    {
      "cell_type": "code",
      "metadata": {
        "id": "lrckd7IktUCV",
        "colab": {
          "base_uri": "https://localhost:8080/"
        },
        "outputId": "50cec558-6f43-4c09-d396-93f580a2a27c"
      },
      "source": [
        "bike = Bike(\"Yamaha\", \"black\")\n",
        "bike.print_model()\n",
        "bike.print_number_wheels()\n",
        "bike.print_color()\n",
        "\n",
        "car = Car(\"Opel\", \"red\")\n",
        "car.print_model()\n",
        "car.print_number_wheels()\n",
        "car.print_color()"
      ],
      "execution_count": null,
      "outputs": [
        {
          "output_type": "stream",
          "text": [
            "Model of the vehicle is: Yamaha\n",
            "Number of wheels: 2\n",
            "Color: black\n",
            "Model of the vehicle is: Opel\n",
            "Number of wheels: 4\n",
            "Color: red\n"
          ],
          "name": "stdout"
        }
      ]
    },
    {
      "cell_type": "markdown",
      "metadata": {
        "id": "3DDV303CMYQw"
      },
      "source": [
        "# I/O"
      ]
    },
    {
      "cell_type": "markdown",
      "metadata": {
        "id": "xhu5jOf4XvED"
      },
      "source": [
        "**Print**\n",
        "\n"
      ]
    },
    {
      "cell_type": "code",
      "metadata": {
        "id": "cGF4Wx5RYKQB",
        "colab": {
          "base_uri": "https://localhost:8080/"
        },
        "outputId": "cdc368f6-a7ce-4706-957a-5e4f8ce21ad6"
      },
      "source": [
        "print(\"Hello World\")\n",
        "test = \"Other\"\n",
        "print(test)"
      ],
      "execution_count": null,
      "outputs": [
        {
          "output_type": "stream",
          "text": [
            "Hello World\n",
            "Other\n"
          ],
          "name": "stdout"
        }
      ]
    },
    {
      "cell_type": "markdown",
      "metadata": {
        "id": "NHKs7z92YPpm"
      },
      "source": [
        "**Input**\n",
        "\n"
      ]
    },
    {
      "cell_type": "code",
      "metadata": {
        "id": "lm-16QdvYsd3",
        "colab": {
          "base_uri": "https://localhost:8080/"
        },
        "outputId": "2f61be8a-83fb-4498-94e0-fc97a0d06a12"
      },
      "source": [
        "name = input(\"Say your name:\")\n",
        "\n",
        "print(f\"Hello, {name}\")"
      ],
      "execution_count": null,
      "outputs": [
        {
          "output_type": "stream",
          "text": [
            "Say your name:Jose\n",
            "Hello, Jose\n"
          ],
          "name": "stdout"
        }
      ]
    },
    {
      "cell_type": "markdown",
      "metadata": {
        "id": "ygvGWnN0ZXqw"
      },
      "source": [
        "**Open**\n",
        "\n",
        "La función open permite abrir determinados archivos, su sintaxis es la siguiente:\n",
        "\n",
        "\n",
        "\n",
        "```\n",
        "> f = open('workfile', [flag])\n",
        "```\n",
        "\n",
        "\n",
        "\n",
        "\n",
        "\n",
        "\n",
        "\n"
      ]
    },
    {
      "cell_type": "markdown",
      "metadata": {
        "id": "gDGnS3Y3bw0h"
      },
      "source": [
        "**File**\n",
        "\n",
        "La función **open** nos devuelve un objeto de tipo **file**. Con este objeto podremos realizar las siguientes operaciones:\n",
        "\n",
        "\n",
        "\n",
        "*   **file.closed** -> Nos devuelve si el archivo está cerrado.\n",
        "*   **file.mode** -> Nos indica el tipo de acceso.\n",
        "*   **file.name** -> Devuelve el nombre del archivo.\n",
        "*   **file.close()** -> Función que cierra y el archivo y serializa los cambios.\n",
        "\n"
      ]
    },
    {
      "cell_type": "markdown",
      "metadata": {
        "id": "hMUXgDXBjDy3"
      },
      "source": [
        "**CSV**\n",
        "\n",
        "Uno de los formatos más comúnes dentro del mundo de Data Science es organizar los datos en CSV delimitados, para ello hay que usar la función **open** y hacer un cast a **csvfile** y llamar al lector de csv, como en el siguiente ejemplo:\n",
        "\n",
        "\n",
        "\n",
        "```\n",
        "import csv\n",
        "\n",
        "with open('data.csv') as csvfile:\n",
        "        reader = csv.DictReader(csvfile, delimiter=';')\n",
        "        for row in reader:\n",
        "```\n",
        "\n"
      ]
    },
    {
      "cell_type": "code",
      "metadata": {
        "colab": {
          "base_uri": "https://localhost:8080/"
        },
        "id": "ZgeEFfOZtHCT",
        "outputId": "44a3a3f6-f9b3-48c7-e5af-838861b047d6"
      },
      "source": [
        "# Ejemplo para examen\n",
        "import csv\n",
        "with open('data_vivienda.csv', 'r') as csvfile:\n",
        "  reader = csv.DictReader (csvfile, delimiter=';')\n",
        "  for row in reader:\n",
        "    print (row)"
      ],
      "execution_count": null,
      "outputs": [
        {
          "output_type": "stream",
          "name": "stdout",
          "text": [
            "{'\\ufeffHome,Price,SqFt,Bedrooms,Bathrooms,Offers,Brick,Neighborhood': '1,114300,1790,2,2,2,No,East'}\n",
            "{'\\ufeffHome,Price,SqFt,Bedrooms,Bathrooms,Offers,Brick,Neighborhood': '2,114200,2030,4,2,3,No,East'}\n",
            "{'\\ufeffHome,Price,SqFt,Bedrooms,Bathrooms,Offers,Brick,Neighborhood': '3,114800,1740,3,2,1,No,East'}\n",
            "{'\\ufeffHome,Price,SqFt,Bedrooms,Bathrooms,Offers,Brick,Neighborhood': '4,94700,1980,3,2,3,No,East'}\n",
            "{'\\ufeffHome,Price,SqFt,Bedrooms,Bathrooms,Offers,Brick,Neighborhood': '5,119800,2130,3,3,3,No,East'}\n",
            "{'\\ufeffHome,Price,SqFt,Bedrooms,Bathrooms,Offers,Brick,Neighborhood': '6,114600,1780,3,2,2,No,North'}\n",
            "{'\\ufeffHome,Price,SqFt,Bedrooms,Bathrooms,Offers,Brick,Neighborhood': '7,151600,1830,3,3,3,Yes,West'}\n",
            "{'\\ufeffHome,Price,SqFt,Bedrooms,Bathrooms,Offers,Brick,Neighborhood': '8,150700,2160,4,2,2,No,West'}\n",
            "{'\\ufeffHome,Price,SqFt,Bedrooms,Bathrooms,Offers,Brick,Neighborhood': '9,119200,2110,4,2,3,No,East'}\n",
            "{'\\ufeffHome,Price,SqFt,Bedrooms,Bathrooms,Offers,Brick,Neighborhood': '10,104000,1730,3,3,3,No,East'}\n",
            "{'\\ufeffHome,Price,SqFt,Bedrooms,Bathrooms,Offers,Brick,Neighborhood': '11,132500,2030,3,2,3,Yes,East'}\n",
            "{'\\ufeffHome,Price,SqFt,Bedrooms,Bathrooms,Offers,Brick,Neighborhood': '12,123000,1870,2,2,2,Yes,East'}\n",
            "{'\\ufeffHome,Price,SqFt,Bedrooms,Bathrooms,Offers,Brick,Neighborhood': '13,102600,1910,3,2,4,No,North'}\n",
            "{'\\ufeffHome,Price,SqFt,Bedrooms,Bathrooms,Offers,Brick,Neighborhood': '14,126300,2150,3,3,5,Yes,North'}\n",
            "{'\\ufeffHome,Price,SqFt,Bedrooms,Bathrooms,Offers,Brick,Neighborhood': '15,176800,2590,4,3,4,No,West'}\n",
            "{'\\ufeffHome,Price,SqFt,Bedrooms,Bathrooms,Offers,Brick,Neighborhood': '16,145800,1780,4,2,1,No,West'}\n",
            "{'\\ufeffHome,Price,SqFt,Bedrooms,Bathrooms,Offers,Brick,Neighborhood': '17,147100,2190,3,3,4,Yes,East'}\n",
            "{'\\ufeffHome,Price,SqFt,Bedrooms,Bathrooms,Offers,Brick,Neighborhood': '18,83600,1990,3,3,4,No,North'}\n",
            "{'\\ufeffHome,Price,SqFt,Bedrooms,Bathrooms,Offers,Brick,Neighborhood': '19,111400,1700,2,2,1,Yes,East'}\n",
            "{'\\ufeffHome,Price,SqFt,Bedrooms,Bathrooms,Offers,Brick,Neighborhood': '20,167200,1920,3,3,2,Yes,West'}\n",
            "{'\\ufeffHome,Price,SqFt,Bedrooms,Bathrooms,Offers,Brick,Neighborhood': '21,116200,1790,3,2,3,No,East'}\n",
            "{'\\ufeffHome,Price,SqFt,Bedrooms,Bathrooms,Offers,Brick,Neighborhood': '22,113800,2000,3,2,4,No,North'}\n",
            "{'\\ufeffHome,Price,SqFt,Bedrooms,Bathrooms,Offers,Brick,Neighborhood': '23,91700,1690,3,2,3,No,North'}\n",
            "{'\\ufeffHome,Price,SqFt,Bedrooms,Bathrooms,Offers,Brick,Neighborhood': '24,106100,1820,3,2,3,Yes,North'}\n",
            "{'\\ufeffHome,Price,SqFt,Bedrooms,Bathrooms,Offers,Brick,Neighborhood': '25,156400,2210,4,3,2,Yes,East'}\n",
            "{'\\ufeffHome,Price,SqFt,Bedrooms,Bathrooms,Offers,Brick,Neighborhood': '26,149300,2290,4,3,3,No,North'}\n",
            "{'\\ufeffHome,Price,SqFt,Bedrooms,Bathrooms,Offers,Brick,Neighborhood': '27,137000,2000,4,2,3,No,West'}\n",
            "{'\\ufeffHome,Price,SqFt,Bedrooms,Bathrooms,Offers,Brick,Neighborhood': '28,99300,1700,3,2,2,No,East'}\n",
            "{'\\ufeffHome,Price,SqFt,Bedrooms,Bathrooms,Offers,Brick,Neighborhood': '29,69100,1600,2,2,3,No,North'}\n",
            "{'\\ufeffHome,Price,SqFt,Bedrooms,Bathrooms,Offers,Brick,Neighborhood': '30,188000,2040,4,3,1,Yes,West'}\n",
            "{'\\ufeffHome,Price,SqFt,Bedrooms,Bathrooms,Offers,Brick,Neighborhood': '31,182000,2250,4,3,3,Yes,West'}\n",
            "{'\\ufeffHome,Price,SqFt,Bedrooms,Bathrooms,Offers,Brick,Neighborhood': '32,112300,1930,2,2,2,Yes,North'}\n",
            "{'\\ufeffHome,Price,SqFt,Bedrooms,Bathrooms,Offers,Brick,Neighborhood': '33,135000,2250,3,3,3,Yes,East'}\n",
            "{'\\ufeffHome,Price,SqFt,Bedrooms,Bathrooms,Offers,Brick,Neighborhood': '34,139600,2280,5,3,4,Yes,East'}\n",
            "{'\\ufeffHome,Price,SqFt,Bedrooms,Bathrooms,Offers,Brick,Neighborhood': '35,117800,2000,2,2,3,No,North'}\n",
            "{'\\ufeffHome,Price,SqFt,Bedrooms,Bathrooms,Offers,Brick,Neighborhood': '36,117100,2080,3,3,3,No,North'}\n",
            "{'\\ufeffHome,Price,SqFt,Bedrooms,Bathrooms,Offers,Brick,Neighborhood': '37,117500,1880,2,2,2,No,North'}\n",
            "{'\\ufeffHome,Price,SqFt,Bedrooms,Bathrooms,Offers,Brick,Neighborhood': '38,147000,2420,4,3,4,No,West'}\n",
            "{'\\ufeffHome,Price,SqFt,Bedrooms,Bathrooms,Offers,Brick,Neighborhood': '39,131300,1720,3,2,1,No,West'}\n",
            "{'\\ufeffHome,Price,SqFt,Bedrooms,Bathrooms,Offers,Brick,Neighborhood': '40,108200,1740,3,2,2,No,North'}\n",
            "{'\\ufeffHome,Price,SqFt,Bedrooms,Bathrooms,Offers,Brick,Neighborhood': '41,106600,1560,2,2,1,No,East'}\n",
            "{'\\ufeffHome,Price,SqFt,Bedrooms,Bathrooms,Offers,Brick,Neighborhood': '42,133600,1840,4,3,2,No,West'}\n",
            "{'\\ufeffHome,Price,SqFt,Bedrooms,Bathrooms,Offers,Brick,Neighborhood': '43,105600,1990,2,2,3,No,East'}\n",
            "{'\\ufeffHome,Price,SqFt,Bedrooms,Bathrooms,Offers,Brick,Neighborhood': '44,154000,1920,3,2,1,Yes,East'}\n",
            "{'\\ufeffHome,Price,SqFt,Bedrooms,Bathrooms,Offers,Brick,Neighborhood': '45,166500,1940,3,3,2,Yes,West'}\n",
            "{'\\ufeffHome,Price,SqFt,Bedrooms,Bathrooms,Offers,Brick,Neighborhood': '46,103200,1810,3,2,3,No,East'}\n",
            "{'\\ufeffHome,Price,SqFt,Bedrooms,Bathrooms,Offers,Brick,Neighborhood': '47,129800,1990,2,3,2,No,North'}\n",
            "{'\\ufeffHome,Price,SqFt,Bedrooms,Bathrooms,Offers,Brick,Neighborhood': '48,90300,2050,3,2,6,No,North'}\n",
            "{'\\ufeffHome,Price,SqFt,Bedrooms,Bathrooms,Offers,Brick,Neighborhood': '49,115900,1980,2,2,2,No,East'}\n",
            "{'\\ufeffHome,Price,SqFt,Bedrooms,Bathrooms,Offers,Brick,Neighborhood': '50,107500,1700,3,2,3,Yes,North'}\n",
            "{'\\ufeffHome,Price,SqFt,Bedrooms,Bathrooms,Offers,Brick,Neighborhood': '51,151100,2100,3,2,3,Yes,East'}\n",
            "{'\\ufeffHome,Price,SqFt,Bedrooms,Bathrooms,Offers,Brick,Neighborhood': '52,91100,1860,2,2,3,No,North'}\n",
            "{'\\ufeffHome,Price,SqFt,Bedrooms,Bathrooms,Offers,Brick,Neighborhood': '53,117400,2150,2,3,4,No,North'}\n",
            "{'\\ufeffHome,Price,SqFt,Bedrooms,Bathrooms,Offers,Brick,Neighborhood': '54,130800,2100,3,2,3,No,North'}\n",
            "{'\\ufeffHome,Price,SqFt,Bedrooms,Bathrooms,Offers,Brick,Neighborhood': '55,81300,1650,3,2,3,No,North'}\n",
            "{'\\ufeffHome,Price,SqFt,Bedrooms,Bathrooms,Offers,Brick,Neighborhood': '56,125700,1720,2,2,2,Yes,East'}\n",
            "{'\\ufeffHome,Price,SqFt,Bedrooms,Bathrooms,Offers,Brick,Neighborhood': '57,140900,2190,3,2,3,Yes,East'}\n",
            "{'\\ufeffHome,Price,SqFt,Bedrooms,Bathrooms,Offers,Brick,Neighborhood': '58,152300,2240,4,3,3,No,West'}\n",
            "{'\\ufeffHome,Price,SqFt,Bedrooms,Bathrooms,Offers,Brick,Neighborhood': '59,138100,1840,3,3,1,No,West'}\n",
            "{'\\ufeffHome,Price,SqFt,Bedrooms,Bathrooms,Offers,Brick,Neighborhood': '60,155400,2090,4,2,1,No,West'}\n",
            "{'\\ufeffHome,Price,SqFt,Bedrooms,Bathrooms,Offers,Brick,Neighborhood': '61,180900,2200,3,3,1,No,West'}\n",
            "{'\\ufeffHome,Price,SqFt,Bedrooms,Bathrooms,Offers,Brick,Neighborhood': '62,100900,1610,2,2,2,No,North'}\n",
            "{'\\ufeffHome,Price,SqFt,Bedrooms,Bathrooms,Offers,Brick,Neighborhood': '63,161300,2220,4,3,2,No,West'}\n",
            "{'\\ufeffHome,Price,SqFt,Bedrooms,Bathrooms,Offers,Brick,Neighborhood': '64,120500,1910,2,3,2,No,East'}\n",
            "{'\\ufeffHome,Price,SqFt,Bedrooms,Bathrooms,Offers,Brick,Neighborhood': '65,130300,1860,3,2,2,No,West'}\n",
            "{'\\ufeffHome,Price,SqFt,Bedrooms,Bathrooms,Offers,Brick,Neighborhood': '66,111100,1450,2,2,1,Yes,North'}\n",
            "{'\\ufeffHome,Price,SqFt,Bedrooms,Bathrooms,Offers,Brick,Neighborhood': '67,126200,2210,3,3,4,No,North'}\n",
            "{'\\ufeffHome,Price,SqFt,Bedrooms,Bathrooms,Offers,Brick,Neighborhood': '68,151900,2040,4,3,3,No,East'}\n",
            "{'\\ufeffHome,Price,SqFt,Bedrooms,Bathrooms,Offers,Brick,Neighborhood': '69,93600,2140,3,2,4,No,North'}\n",
            "{'\\ufeffHome,Price,SqFt,Bedrooms,Bathrooms,Offers,Brick,Neighborhood': '70,165600,2080,4,3,3,No,West'}\n",
            "{'\\ufeffHome,Price,SqFt,Bedrooms,Bathrooms,Offers,Brick,Neighborhood': '71,166700,1950,3,3,3,Yes,West'}\n",
            "{'\\ufeffHome,Price,SqFt,Bedrooms,Bathrooms,Offers,Brick,Neighborhood': '72,157600,2160,4,2,1,No,West'}\n",
            "{'\\ufeffHome,Price,SqFt,Bedrooms,Bathrooms,Offers,Brick,Neighborhood': '73,107300,1650,3,2,3,No,North'}\n",
            "{'\\ufeffHome,Price,SqFt,Bedrooms,Bathrooms,Offers,Brick,Neighborhood': '74,125700,2040,3,3,2,No,East'}\n",
            "{'\\ufeffHome,Price,SqFt,Bedrooms,Bathrooms,Offers,Brick,Neighborhood': '75,144200,2140,3,3,3,No,West'}\n",
            "{'\\ufeffHome,Price,SqFt,Bedrooms,Bathrooms,Offers,Brick,Neighborhood': '76,106900,1900,2,2,2,No,North'}\n",
            "{'\\ufeffHome,Price,SqFt,Bedrooms,Bathrooms,Offers,Brick,Neighborhood': '77,129800,1930,3,2,2,No,West'}\n",
            "{'\\ufeffHome,Price,SqFt,Bedrooms,Bathrooms,Offers,Brick,Neighborhood': '78,176500,2280,4,3,3,Yes,West'}\n",
            "{'\\ufeffHome,Price,SqFt,Bedrooms,Bathrooms,Offers,Brick,Neighborhood': '79,121300,2130,3,2,3,No,North'}\n",
            "{'\\ufeffHome,Price,SqFt,Bedrooms,Bathrooms,Offers,Brick,Neighborhood': '80,143600,1780,4,2,1,No,West'}\n",
            "{'\\ufeffHome,Price,SqFt,Bedrooms,Bathrooms,Offers,Brick,Neighborhood': '81,143400,2190,3,3,4,Yes,East'}\n",
            "{'\\ufeffHome,Price,SqFt,Bedrooms,Bathrooms,Offers,Brick,Neighborhood': '82,184300,2140,4,3,2,Yes,West'}\n",
            "{'\\ufeffHome,Price,SqFt,Bedrooms,Bathrooms,Offers,Brick,Neighborhood': '83,164800,2050,2,2,1,Yes,West'}\n",
            "{'\\ufeffHome,Price,SqFt,Bedrooms,Bathrooms,Offers,Brick,Neighborhood': '84,147700,2410,3,3,2,No,East'}\n",
            "{'\\ufeffHome,Price,SqFt,Bedrooms,Bathrooms,Offers,Brick,Neighborhood': '85,90500,1520,2,2,3,No,North'}\n",
            "{'\\ufeffHome,Price,SqFt,Bedrooms,Bathrooms,Offers,Brick,Neighborhood': '86,188300,2250,4,3,2,Yes,West'}\n",
            "{'\\ufeffHome,Price,SqFt,Bedrooms,Bathrooms,Offers,Brick,Neighborhood': '87,102700,1900,4,2,4,No,North'}\n",
            "{'\\ufeffHome,Price,SqFt,Bedrooms,Bathrooms,Offers,Brick,Neighborhood': '88,172500,1880,3,3,1,Yes,West'}\n",
            "{'\\ufeffHome,Price,SqFt,Bedrooms,Bathrooms,Offers,Brick,Neighborhood': '89,127700,1930,3,3,2,No,North'}\n",
            "{'\\ufeffHome,Price,SqFt,Bedrooms,Bathrooms,Offers,Brick,Neighborhood': '90,97800,2010,2,2,4,No,North'}\n",
            "{'\\ufeffHome,Price,SqFt,Bedrooms,Bathrooms,Offers,Brick,Neighborhood': '91,143100,1920,4,2,2,No,West'}\n",
            "{'\\ufeffHome,Price,SqFt,Bedrooms,Bathrooms,Offers,Brick,Neighborhood': '92,116500,2150,3,2,2,No,East'}\n",
            "{'\\ufeffHome,Price,SqFt,Bedrooms,Bathrooms,Offers,Brick,Neighborhood': '93,142600,2110,3,2,2,No,West'}\n",
            "{'\\ufeffHome,Price,SqFt,Bedrooms,Bathrooms,Offers,Brick,Neighborhood': '94,157100,2080,3,3,2,No,East'}\n",
            "{'\\ufeffHome,Price,SqFt,Bedrooms,Bathrooms,Offers,Brick,Neighborhood': '95,160600,2150,4,3,3,Yes,West'}\n",
            "{'\\ufeffHome,Price,SqFt,Bedrooms,Bathrooms,Offers,Brick,Neighborhood': '96,152500,1970,2,2,1,Yes,West'}\n",
            "{'\\ufeffHome,Price,SqFt,Bedrooms,Bathrooms,Offers,Brick,Neighborhood': '97,133300,2440,3,3,3,No,East'}\n",
            "{'\\ufeffHome,Price,SqFt,Bedrooms,Bathrooms,Offers,Brick,Neighborhood': '98,126800,2000,2,2,1,Yes,East'}\n",
            "{'\\ufeffHome,Price,SqFt,Bedrooms,Bathrooms,Offers,Brick,Neighborhood': '99,145500,2060,3,2,1,No,West'}\n",
            "{'\\ufeffHome,Price,SqFt,Bedrooms,Bathrooms,Offers,Brick,Neighborhood': '100,171000,2080,3,3,2,Yes,West'}\n",
            "{'\\ufeffHome,Price,SqFt,Bedrooms,Bathrooms,Offers,Brick,Neighborhood': '101,103200,2010,3,2,5,No,North'}\n",
            "{'\\ufeffHome,Price,SqFt,Bedrooms,Bathrooms,Offers,Brick,Neighborhood': '102,123100,2260,3,3,5,No,East'}\n",
            "{'\\ufeffHome,Price,SqFt,Bedrooms,Bathrooms,Offers,Brick,Neighborhood': '103,136800,2410,3,3,4,No,East'}\n",
            "{'\\ufeffHome,Price,SqFt,Bedrooms,Bathrooms,Offers,Brick,Neighborhood': '104,211200,2440,4,3,3,Yes,West'}\n",
            "{'\\ufeffHome,Price,SqFt,Bedrooms,Bathrooms,Offers,Brick,Neighborhood': '105,82300,1910,3,2,4,No,East'}\n",
            "{'\\ufeffHome,Price,SqFt,Bedrooms,Bathrooms,Offers,Brick,Neighborhood': '106,146900,2530,4,3,4,No,West'}\n",
            "{'\\ufeffHome,Price,SqFt,Bedrooms,Bathrooms,Offers,Brick,Neighborhood': '107,108500,2130,3,2,4,No,North'}\n",
            "{'\\ufeffHome,Price,SqFt,Bedrooms,Bathrooms,Offers,Brick,Neighborhood': '108,134000,1890,3,2,1,Yes,East'}\n",
            "{'\\ufeffHome,Price,SqFt,Bedrooms,Bathrooms,Offers,Brick,Neighborhood': '109,117000,1990,3,3,3,Yes,East'}\n",
            "{'\\ufeffHome,Price,SqFt,Bedrooms,Bathrooms,Offers,Brick,Neighborhood': '110,108700,2110,3,2,3,No,East'}\n",
            "{'\\ufeffHome,Price,SqFt,Bedrooms,Bathrooms,Offers,Brick,Neighborhood': '111,111600,1710,2,2,1,No,North'}\n",
            "{'\\ufeffHome,Price,SqFt,Bedrooms,Bathrooms,Offers,Brick,Neighborhood': '112,114900,1740,2,2,2,No,North'}\n",
            "{'\\ufeffHome,Price,SqFt,Bedrooms,Bathrooms,Offers,Brick,Neighborhood': '113,123600,1940,2,2,2,Yes,East'}\n",
            "{'\\ufeffHome,Price,SqFt,Bedrooms,Bathrooms,Offers,Brick,Neighborhood': '114,115700,2000,3,2,3,Yes,North'}\n",
            "{'\\ufeffHome,Price,SqFt,Bedrooms,Bathrooms,Offers,Brick,Neighborhood': '115,124500,2010,4,3,2,No,East'}\n",
            "{'\\ufeffHome,Price,SqFt,Bedrooms,Bathrooms,Offers,Brick,Neighborhood': '116,102500,1900,3,3,3,No,North'}\n",
            "{'\\ufeffHome,Price,SqFt,Bedrooms,Bathrooms,Offers,Brick,Neighborhood': '117,199500,2290,5,4,1,Yes,West'}\n",
            "{'\\ufeffHome,Price,SqFt,Bedrooms,Bathrooms,Offers,Brick,Neighborhood': '118,117800,1920,3,2,2,No,North'}\n",
            "{'\\ufeffHome,Price,SqFt,Bedrooms,Bathrooms,Offers,Brick,Neighborhood': '119,150200,1950,3,2,3,Yes,North'}\n",
            "{'\\ufeffHome,Price,SqFt,Bedrooms,Bathrooms,Offers,Brick,Neighborhood': '120,109700,1920,2,2,4,No,North'}\n",
            "{'\\ufeffHome,Price,SqFt,Bedrooms,Bathrooms,Offers,Brick,Neighborhood': '121,110400,1930,2,3,3,No,North'}\n",
            "{'\\ufeffHome,Price,SqFt,Bedrooms,Bathrooms,Offers,Brick,Neighborhood': '122,105600,1930,3,3,3,No,East'}\n",
            "{'\\ufeffHome,Price,SqFt,Bedrooms,Bathrooms,Offers,Brick,Neighborhood': '123,144800,2060,2,2,1,Yes,East'}\n",
            "{'\\ufeffHome,Price,SqFt,Bedrooms,Bathrooms,Offers,Brick,Neighborhood': '124,119700,1900,3,3,3,Yes,East'}\n",
            "{'\\ufeffHome,Price,SqFt,Bedrooms,Bathrooms,Offers,Brick,Neighborhood': '125,147900,2160,4,3,3,Yes,East'}\n",
            "{'\\ufeffHome,Price,SqFt,Bedrooms,Bathrooms,Offers,Brick,Neighborhood': '126,113500,2070,2,2,2,No,North'}\n",
            "{'\\ufeffHome,Price,SqFt,Bedrooms,Bathrooms,Offers,Brick,Neighborhood': '127,149900,2020,3,3,1,No,West'}\n",
            "{'\\ufeffHome,Price,SqFt,Bedrooms,Bathrooms,Offers,Brick,Neighborhood': '128,124600,2250,3,3,4,No,North'}\n"
          ]
        }
      ]
    },
    {
      "cell_type": "markdown",
      "metadata": {
        "id": "lBZP_wzqMZ0g"
      },
      "source": [
        "# Excepciones"
      ]
    },
    {
      "cell_type": "markdown",
      "metadata": {
        "id": "YZzbustvjBNe"
      },
      "source": [
        "Los tipos de excepciones que podemos encontrar son enormes y están recogidos en la [documentación oficial de Python](https://docs.python.org/3.7/library/exceptions.html).\n",
        "\n",
        "La sintaxis para el tratamiento de errores es la siguiente:\n",
        "\n",
        "\n",
        "\n",
        "```\n",
        "try:\n",
        "    Aquí va el código que queremos controlar, siempre identado...\n",
        "    .......\n",
        "    .......\n",
        "except Exception1 as e:\n",
        "    Aquí tratar la excepción 1 que hemos renombrado a \"e\"\n",
        "except Exception2:\n",
        "    Puede ocurrir otro tipo de excepción\n",
        "    .........\n",
        "    .........\n",
        "else:\n",
        "    Este bloque se ejecuta si no ha habido errores.\n",
        "    \n",
        "```\n",
        "\n",
        "\n"
      ]
    },
    {
      "cell_type": "code",
      "metadata": {
        "id": "QjT_7ntbnJZW",
        "colab": {
          "base_uri": "https://localhost:8080/"
        },
        "outputId": "dd15359d-9717-45af-b322-fce5aa509450"
      },
      "source": [
        "dict_test = {\"hello\": \"hello\", \"world\": \"world\"}\n",
        "\n",
        "try:\n",
        "  test = dict_test[\"other\"]\n",
        "except KeyError as e:\n",
        "  print(e)\n",
        "  test = \"Not found\"\n",
        "\n",
        "print(f\"We reach this part of the program with {test}\")"
      ],
      "execution_count": null,
      "outputs": [
        {
          "output_type": "stream",
          "text": [
            "'other'\n",
            "We reach this part of the program with Not found\n"
          ],
          "name": "stdout"
        }
      ]
    },
    {
      "cell_type": "code",
      "metadata": {
        "colab": {
          "base_uri": "https://localhost:8080/"
        },
        "id": "lAgtsoL5DYJ7",
        "outputId": "52bc446e-998d-405a-876c-19094180b6d1"
      },
      "source": [
        "#Ejemplo para examen.\n",
        "try:\n",
        "  dividendo = 5\n",
        "  divisor = 0\n",
        "  cociente = dividendo / divisor\n",
        "except:\n",
        "  print(\"No se permite la division por cero\")"
      ],
      "execution_count": null,
      "outputs": [
        {
          "output_type": "stream",
          "text": [
            "No se permite la division por cero\n"
          ],
          "name": "stdout"
        }
      ]
    },
    {
      "cell_type": "markdown",
      "metadata": {
        "id": "odTsb_9-MWgx"
      },
      "source": [
        "# Gestión de módulos"
      ]
    },
    {
      "cell_type": "markdown",
      "metadata": {
        "id": "VpeEpgUOfRyt"
      },
      "source": [
        "Un módulo es un fichero Python donde se pueden definir funciones, clases y variables que puedes referenciar y añadir a otro código.\n",
        "\n",
        "Este código puede importarse usando la palabra reservada **import** o **from** con el siguiente formato:\n",
        "\n",
        "\n",
        "\n",
        "```\n",
        "import module1, module2.....\n",
        "from module1 import [reference]\n",
        "```\n",
        "\n"
      ]
    },
    {
      "cell_type": "code",
      "metadata": {
        "id": "RbUgf9eMZtIG",
        "colab": {
          "base_uri": "https://localhost:8080/"
        },
        "outputId": "a0a882d8-4380-4e85-f779-70533a84c2ea"
      },
      "source": [
        "# Import module\n",
        "import time\n",
        "\n",
        "# call module by callint it's name\n",
        "seconds = time.time()\n",
        "\n",
        "print(seconds)"
      ],
      "execution_count": null,
      "outputs": [
        {
          "output_type": "stream",
          "text": [
            "1606337101.4206991\n"
          ],
          "name": "stdout"
        }
      ]
    },
    {
      "cell_type": "markdown",
      "metadata": {
        "id": "moQvhonJaVKj"
      },
      "source": [
        "Por otro lado, con la notación **from ... import** podemos importar atributos específicos de un módulo al *namespace* actual."
      ]
    },
    {
      "cell_type": "code",
      "metadata": {
        "id": "7hLPdqafahN4",
        "colab": {
          "base_uri": "https://localhost:8080/"
        },
        "outputId": "2d0be3ee-c66f-4e2e-d184-0b58fdfe64de"
      },
      "source": [
        "from time import time\n",
        "\n",
        "seconds = time()\n",
        "\n",
        "print(seconds)"
      ],
      "execution_count": null,
      "outputs": [
        {
          "output_type": "stream",
          "text": [
            "1606337114.546788\n"
          ],
          "name": "stdout"
        }
      ]
    },
    {
      "cell_type": "markdown",
      "metadata": {
        "id": "rt9pnufaGv-M"
      },
      "source": [
        "[Aquí](https://docs.python.org/3/tutorial/modules.html) podras encontrar más información acerca de módulos."
      ]
    },
    {
      "cell_type": "markdown",
      "metadata": {
        "id": "JjzXMluE2NHy"
      },
      "source": [
        "## Gestión de Paquetes"
      ]
    },
    {
      "cell_type": "markdown",
      "metadata": {
        "id": "ATdat7qB2Qfi"
      },
      "source": [
        "Muchos módulos pueden empaquetarse en un conjunto de ficheros que aportan determinada utilidad. Estos módulos pueden gestionarse en nuestro proyecto a través de un **gestor de paquetes**.\n",
        "\n",
        "[Pip](https://pypi.org/project/pip/) es el gestor de paquetes más popular de Python y permite instalar rápidamente módulos que necesitemos.\n",
        "\n",
        "Los módulos publicados en pip se pueden encontrar en [PyPI](https://pypi.org/), donde se puede encontrar información relativa a un paquete como el historial, referencia al código, licencias...\n",
        "\n",
        "Para instalar un paquete, solo tenemos que ejecutar:"
      ]
    },
    {
      "cell_type": "code",
      "metadata": {
        "id": "elq-HHik2Pkq",
        "colab": {
          "base_uri": "https://localhost:8080/"
        },
        "outputId": "8ad04916-75c7-46da-8335-508df18ad975"
      },
      "source": [
        "!pip install numpy"
      ],
      "execution_count": null,
      "outputs": [
        {
          "output_type": "stream",
          "text": [
            "Requirement already satisfied: numpy in /usr/local/lib/python3.6/dist-packages (1.18.5)\n"
          ],
          "name": "stdout"
        }
      ]
    },
    {
      "cell_type": "code",
      "metadata": {
        "colab": {
          "base_uri": "https://localhost:8080/"
        },
        "id": "onJ3IGNkMYZq",
        "outputId": "749209b3-2579-44f0-e4aa-7efb49e89cf6"
      },
      "source": [
        "!pip install SciPy"
      ],
      "execution_count": null,
      "outputs": [
        {
          "output_type": "stream",
          "text": [
            "Requirement already satisfied: SciPy in /usr/local/lib/python3.6/dist-packages (1.4.1)\n",
            "Requirement already satisfied: numpy>=1.13.3 in /usr/local/lib/python3.6/dist-packages (from SciPy) (1.18.5)\n"
          ],
          "name": "stdout"
        }
      ]
    },
    {
      "cell_type": "code",
      "metadata": {
        "colab": {
          "base_uri": "https://localhost:8080/"
        },
        "id": "joL0WRl_Mw9D",
        "outputId": "fa818deb-9441-4b87-89bf-3f5798548e4c"
      },
      "source": [
        "!pip install Matplotlib"
      ],
      "execution_count": null,
      "outputs": [
        {
          "output_type": "stream",
          "text": [
            "Requirement already satisfied: Matplotlib in /usr/local/lib/python3.6/dist-packages (3.2.2)\n",
            "Requirement already satisfied: numpy>=1.11 in /usr/local/lib/python3.6/dist-packages (from Matplotlib) (1.18.5)\n",
            "Requirement already satisfied: python-dateutil>=2.1 in /usr/local/lib/python3.6/dist-packages (from Matplotlib) (2.8.1)\n",
            "Requirement already satisfied: kiwisolver>=1.0.1 in /usr/local/lib/python3.6/dist-packages (from Matplotlib) (1.3.1)\n",
            "Requirement already satisfied: pyparsing!=2.0.4,!=2.1.2,!=2.1.6,>=2.0.1 in /usr/local/lib/python3.6/dist-packages (from Matplotlib) (2.4.7)\n",
            "Requirement already satisfied: cycler>=0.10 in /usr/local/lib/python3.6/dist-packages (from Matplotlib) (0.10.0)\n",
            "Requirement already satisfied: six>=1.5 in /usr/local/lib/python3.6/dist-packages (from python-dateutil>=2.1->Matplotlib) (1.15.0)\n"
          ],
          "name": "stdout"
        }
      ]
    },
    {
      "cell_type": "code",
      "metadata": {
        "colab": {
          "base_uri": "https://localhost:8080/"
        },
        "id": "M40wPJKTM503",
        "outputId": "e83a0a4d-0d38-452b-b591-5ec4e24b099d"
      },
      "source": [
        "!pip install Pandas"
      ],
      "execution_count": null,
      "outputs": [
        {
          "output_type": "stream",
          "text": [
            "Requirement already satisfied: Pandas in /usr/local/lib/python3.6/dist-packages (1.1.4)\n",
            "Requirement already satisfied: python-dateutil>=2.7.3 in /usr/local/lib/python3.6/dist-packages (from Pandas) (2.8.1)\n",
            "Requirement already satisfied: pytz>=2017.2 in /usr/local/lib/python3.6/dist-packages (from Pandas) (2018.9)\n",
            "Requirement already satisfied: numpy>=1.15.4 in /usr/local/lib/python3.6/dist-packages (from Pandas) (1.18.5)\n",
            "Requirement already satisfied: six>=1.5 in /usr/local/lib/python3.6/dist-packages (from python-dateutil>=2.7.3->Pandas) (1.15.0)\n"
          ],
          "name": "stdout"
        }
      ]
    },
    {
      "cell_type": "code",
      "metadata": {
        "id": "h3o8Z9zcNCcy",
        "colab": {
          "base_uri": "https://localhost:8080/"
        },
        "outputId": "3f5625b6-7694-482c-b59f-e273b4851e1c"
      },
      "source": [
        "!pip install Scikit-Learn"
      ],
      "execution_count": null,
      "outputs": [
        {
          "output_type": "stream",
          "text": [
            "Requirement already satisfied: Scikit-Learn in /usr/local/lib/python3.6/dist-packages (0.22.2.post1)\n",
            "Requirement already satisfied: numpy>=1.11.0 in /usr/local/lib/python3.6/dist-packages (from Scikit-Learn) (1.18.5)\n",
            "Requirement already satisfied: joblib>=0.11 in /usr/local/lib/python3.6/dist-packages (from Scikit-Learn) (0.17.0)\n",
            "Requirement already satisfied: scipy>=0.17.0 in /usr/local/lib/python3.6/dist-packages (from Scikit-Learn) (1.4.1)\n"
          ],
          "name": "stdout"
        }
      ]
    },
    {
      "cell_type": "markdown",
      "metadata": {
        "id": "NUYjlTtFMnuw"
      },
      "source": [
        "# Librerías de Tratamiento de Datos"
      ]
    },
    {
      "cell_type": "markdown",
      "metadata": {
        "id": "HGH7CsuFtn4O"
      },
      "source": [
        "\n",
        "\n",
        "*   [Numpy](https://www.numpy.org/) -> Librería destinada a la manipulación de matrices, especialmente dentro de operaciones matemáticas.\n",
        "*   [SciPy](https://www.scipy.org/) -> Otra librería de Python orientada a computación técnica y científica.\n",
        "*   [Matplotlib](https://matplotlib.org/) -> Muy útil para visualización de datos.\n",
        "*   [Pandas](https://pandas.pydata.org/) -> Especializada en manipulación de datos y posterior análisis.\n",
        "*   [Scikit-Learn](https://scikit-learn.org/stable/) -> Paquete de Python diseñado para dar acceso a algoritmos de Aprendizaje Automático bien conocidos dentro del código Python, a través de una API limpia y bien pensada. Ha sido construido por cientos de colaboradores de todo el mundo y se usa en la industria y el mundo académico.\n",
        "Scikit-Learn esá basada en las librerías **NumPy** (Numerical Python) y **SciPy** (Scientific Python), que permiten la computación numérica y científica eficiente en Python.\n",
        "\n",
        "\n"
      ]
    },
    {
      "cell_type": "markdown",
      "metadata": {
        "id": "YgaAsaymztLF"
      },
      "source": [
        "# Entornos virtuales"
      ]
    },
    {
      "cell_type": "markdown",
      "metadata": {
        "id": "cb_qMvSczyGc"
      },
      "source": [
        "**Máquinas Virtuales**\n",
        "\n",
        "Estos son los clientes para máquinas virtuales más famosos, algunos son exclusivos de un sistema operativo determinado, el más elemental y extendido es Virtualbox pero hay otros contenidentes muy interesantes:\n",
        "\n",
        "\n",
        "\n",
        "*   [Virtual Box](https://www.virtualbox.org/) - Más extendido y robusto, pero interfaz muy antigua y poco amigable\n",
        "*   [VMware Workstation](https://www.vmware.com/products/workstation-player/workstation-player-evaluation.html) - Alternativa muy popular a Virtual Box para Linux y Windows\n",
        "*   [VMware Fusion](https://www.vmware.com/products/fusion.html) - Versión de VMware para macOS\n",
        "*   [Parallels Desktop](https://www.parallels.com/eu/products/desktop/) - Solo macOS, muy optimizado\n",
        "*   [QEMU](https://www.qemu.org/) - Proyecto Open Source para virtualizar\n",
        "\n"
      ]
    },
    {
      "cell_type": "markdown",
      "metadata": {
        "id": "CkQOI6lx1jIy"
      },
      "source": [
        "**Contenedores**\n",
        "\n",
        "\n",
        "\n",
        "*   [Docker CE](https://docs.docker.com/install/) - Docker CE es la versión gratuita que cubre todas las necesidades indivuales sobre un contenedor.\n",
        "*   [Docker Compose](https://docs.docker.com/compose/install/) - Docker Compose es una herramienta para definir y orquestar la ejecución de múltiples aplicaciones Docker.\n",
        "*   [Kubernetes](https://kubernetes.io) - Kubernetes es un sistema que permite definir y orquestar la ejecución de múltiples contenedores (similar, pero con diferencias entre Docker Swarm).\n"
      ]
    },
    {
      "cell_type": "markdown",
      "metadata": {
        "id": "KYJRJJ75IU5_"
      },
      "source": [
        "**Entornos Virtuales**\n",
        "\n",
        "\n",
        "*   [Anaconda](https://www.anaconda.com/products/individual) - Muy popular en ML porque permite gestionar paquetes, entornos virtuales y visualizar datos muy fácilmente\n",
        "*   [Virtualenv](https://virtualenv.pypa.io/en/latest/) - La herrramienta de gestión de entornos virtuales más importante de Python\n",
        "\n"
      ]
    },
    {
      "cell_type": "code",
      "metadata": {
        "colab": {
          "base_uri": "https://localhost:8080/"
        },
        "id": "HOP4lqjldshm",
        "outputId": "1768aff3-1f63-4e2b-9d25-83bb6f777338"
      },
      "source": [
        "def simple_sum(a, b):\n",
        "  return a - b\n",
        "result = simple_sum(4, 2)\n",
        "print (result)\n",
        "if result < 0:\n",
        "  print (\"True\")\n",
        "else:\n",
        "  print (\"Error\")\n",
        "\n"
      ],
      "execution_count": null,
      "outputs": [
        {
          "output_type": "stream",
          "text": [
            "2\n",
            "Error\n"
          ],
          "name": "stdout"
        }
      ]
    }
  ]
}