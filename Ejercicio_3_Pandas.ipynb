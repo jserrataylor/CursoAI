{
  "cells": [
    {
      "cell_type": "markdown",
      "metadata": {
        "id": "view-in-github",
        "colab_type": "text"
      },
      "source": [
        "<a href=\"https://colab.research.google.com/github/jserrataylor/cursoAI/blob/main/Ejercicio_3_Pandas.ipynb\" target=\"_parent\"><img src=\"https://colab.research.google.com/assets/colab-badge.svg\" alt=\"Open In Colab\"/></a>"
      ]
    },
    {
      "cell_type": "markdown",
      "id": "73dc926d",
      "metadata": {
        "id": "73dc926d"
      },
      "source": [
        "# Ejercicios #3: Evaluación sobre DataFrames con Pandas"
      ]
    },
    {
      "cell_type": "markdown",
      "id": "367bac42-6206-4c9c-9a2e-fb25494c06af",
      "metadata": {
        "tags": [],
        "id": "367bac42-6206-4c9c-9a2e-fb25494c06af"
      },
      "source": [
        "## Nombre Completo:\n",
        "## Número de Estudiante:"
      ]
    },
    {
      "cell_type": "markdown",
      "id": "4605bbcb",
      "metadata": {
        "id": "4605bbcb"
      },
      "source": [
        "## Instrucciones Generales"
      ]
    },
    {
      "cell_type": "markdown",
      "id": "036571ba",
      "metadata": {
        "id": "036571ba"
      },
      "source": [
        "Completa los siguientes ejercicios utilizando las habilidades adquiridas durante las lecciones de Pandas.\n",
        "El mismo te permitirá aplicar una variedad de métodos y técnicas utilizando biblioteca de pandas. Asegúrate de leer cada pregunta cuidadosamente y realizar la tarea que se te pide. Cada ejercicio tiene un valor de diez (10) puntos.\n",
        "\n",
        "Para realizar el ejercicio debes subir el archivo (datos_examenes.csv) al Google Colab para que puedas trabajar con el mismo.\n",
        "\n",
        "Este cuaderno (libreta) debes enviarlo de manera compartida (share) al profesor con su nombre: pandas_ejercicios_Nombre.ipynb\n",
        "\n",
        "Si tienes dudas de como compartir este cuaderno, no dudes en preguntar.\n",
        "\n",
        "La fecha límite para entregar el mismo es el 10 de octubre. Si necesitas más tiempo, debes comunicarte con el profesor para dialogar al respecto.\n",
        "\n",
        "¡Exito!"
      ]
    },
    {
      "cell_type": "markdown",
      "id": "e30f6a54",
      "metadata": {
        "id": "e30f6a54"
      },
      "source": [
        "## Ejercicio 1: Lectura de Archivos"
      ]
    },
    {
      "cell_type": "markdown",
      "id": "3aa4321b",
      "metadata": {
        "id": "3aa4321b"
      },
      "source": [
        "#### Leer un archivo CSV, crea un DataFrame y muestra las primeras 5 filas del DataFrame."
      ]
    },
    {
      "cell_type": "code",
      "execution_count": null,
      "id": "f2199a30-23e1-4072-8a9c-1f2f34c62201",
      "metadata": {
        "id": "f2199a30-23e1-4072-8a9c-1f2f34c62201"
      },
      "outputs": [],
      "source": [
        "# Tu código para importar la librería requerida de pandas\n",
        "\n",
        "\n"
      ]
    },
    {
      "cell_type": "code",
      "execution_count": null,
      "id": "df76aa17",
      "metadata": {
        "id": "df76aa17"
      },
      "outputs": [],
      "source": [
        "# Tu código aquí\n",
        "\n",
        "\n"
      ]
    },
    {
      "cell_type": "markdown",
      "id": "a9e7db50-a455-4188-968d-fa179fae325e",
      "metadata": {
        "id": "a9e7db50-a455-4188-968d-fa179fae325e"
      },
      "source": [
        "#### Con el mismo DataFrame muestra las últimas 5 filas."
      ]
    },
    {
      "cell_type": "code",
      "execution_count": null,
      "id": "f391175f-f936-44df-9645-24dc58a7d21f",
      "metadata": {
        "id": "f391175f-f936-44df-9645-24dc58a7d21f"
      },
      "outputs": [],
      "source": [
        "# Tu código aquí\n",
        "\n",
        "\n"
      ]
    },
    {
      "cell_type": "markdown",
      "id": "2ac3c75d-e525-4dd1-b3c3-76872a35eb33",
      "metadata": {
        "id": "2ac3c75d-e525-4dd1-b3c3-76872a35eb33"
      },
      "source": [
        "#### Con el mismo DataFrame muestra la cantidad de registros (filas) y columnas"
      ]
    },
    {
      "cell_type": "code",
      "execution_count": null,
      "id": "cc0c13dd-5de4-4d7e-95f8-d7da427b89c0",
      "metadata": {
        "id": "cc0c13dd-5de4-4d7e-95f8-d7da427b89c0"
      },
      "outputs": [],
      "source": [
        "# Tu código aquí\n",
        "\n",
        "\n"
      ]
    },
    {
      "cell_type": "markdown",
      "id": "cefc3607-9a7d-4b83-b605-75da00594d88",
      "metadata": {
        "id": "cefc3607-9a7d-4b83-b605-75da00594d88"
      },
      "source": [
        "#### Ordenar datos por indice en el mismo DataFrame"
      ]
    },
    {
      "cell_type": "code",
      "execution_count": null,
      "id": "5985e5cd-e0b8-4e24-9a76-0d55d445c18e",
      "metadata": {
        "id": "5985e5cd-e0b8-4e24-9a76-0d55d445c18e"
      },
      "outputs": [],
      "source": [
        "# Tu código aquí\n",
        "\n",
        "\n"
      ]
    },
    {
      "cell_type": "markdown",
      "id": "9fe14c57",
      "metadata": {
        "id": "9fe14c57"
      },
      "source": [
        "## Ejercicio 2: Escritura de Archivos"
      ]
    },
    {
      "cell_type": "markdown",
      "id": "2bcd8c1b",
      "metadata": {
        "id": "2bcd8c1b"
      },
      "source": [
        "#### Guardar el DataFrame anterior en un nuevo archivo Excel."
      ]
    },
    {
      "cell_type": "code",
      "execution_count": null,
      "id": "646ea4dc",
      "metadata": {
        "id": "646ea4dc"
      },
      "outputs": [],
      "source": [
        "# Tu código aquí\n",
        "\n",
        "\n"
      ]
    },
    {
      "cell_type": "markdown",
      "id": "a38806c2-a047-4f78-b525-e5a1831b2cf7",
      "metadata": {
        "id": "a38806c2-a047-4f78-b525-e5a1831b2cf7"
      },
      "source": [
        "#### Guardar el DataFrame anterior en un nuevo archivo CSV."
      ]
    },
    {
      "cell_type": "code",
      "execution_count": null,
      "id": "ee36c135-b30d-47cb-89ef-d26d9fe959da",
      "metadata": {
        "id": "ee36c135-b30d-47cb-89ef-d26d9fe959da"
      },
      "outputs": [],
      "source": [
        "# Tu código aquí\n",
        "\n",
        "\n"
      ]
    },
    {
      "cell_type": "markdown",
      "id": "6324c73a-a8a1-40a7-af01-2438367a1f09",
      "metadata": {
        "id": "6324c73a-a8a1-40a7-af01-2438367a1f09"
      },
      "source": [
        "#### Guardar el DataFrame anterior en un nuevo archivo JSON."
      ]
    },
    {
      "cell_type": "code",
      "execution_count": null,
      "id": "17c8a659",
      "metadata": {
        "id": "17c8a659"
      },
      "outputs": [],
      "source": [
        "# Tu código aquí\n",
        "\n",
        "\n"
      ]
    },
    {
      "cell_type": "markdown",
      "id": "08cea71e",
      "metadata": {
        "id": "08cea71e"
      },
      "source": [
        "## Ejercicio 3: Operaciones con DataFrames"
      ]
    },
    {
      "cell_type": "markdown",
      "id": "0286f2fc",
      "metadata": {
        "id": "0286f2fc"
      },
      "source": [
        "#### Mostrar los datos estadísticos descriptivos de una columna numérica del DataFrame."
      ]
    },
    {
      "cell_type": "code",
      "execution_count": null,
      "id": "bed8b3be",
      "metadata": {
        "id": "bed8b3be"
      },
      "outputs": [],
      "source": [
        "# Tu código aquí\n",
        "\n",
        "\n"
      ]
    },
    {
      "cell_type": "markdown",
      "id": "ef275442-d1fc-45fe-bd7e-3bd3ddf8576a",
      "metadata": {
        "id": "ef275442-d1fc-45fe-bd7e-3bd3ddf8576a"
      },
      "source": [
        "#### Calcular la media, mediana y desviación estándar de una columna numérica del DataFrame."
      ]
    },
    {
      "cell_type": "code",
      "execution_count": null,
      "id": "e6da0314-632f-4a11-bfee-69f35871caae",
      "metadata": {
        "id": "e6da0314-632f-4a11-bfee-69f35871caae"
      },
      "outputs": [],
      "source": [
        "# Tu código aquí\n",
        "\n",
        "\n"
      ]
    },
    {
      "cell_type": "markdown",
      "id": "712b1bc6",
      "metadata": {
        "id": "712b1bc6"
      },
      "source": [
        "## Ejercicio 4: Manipulación de DataFrames"
      ]
    },
    {
      "cell_type": "markdown",
      "id": "05956046",
      "metadata": {
        "id": "05956046"
      },
      "source": [
        "Cambiar el nombre de las columnas del DataFrame y mostrar las primeras 3 filas."
      ]
    },
    {
      "cell_type": "code",
      "execution_count": null,
      "id": "e1f648cc",
      "metadata": {
        "id": "e1f648cc"
      },
      "outputs": [],
      "source": [
        "# Tu código aquí\n",
        "\n",
        "\n"
      ]
    },
    {
      "cell_type": "markdown",
      "id": "652f5538-8dd2-4993-adcf-a6740445d3e2",
      "metadata": {
        "id": "652f5538-8dd2-4993-adcf-a6740445d3e2"
      },
      "source": [
        "#### Crea una nueva columna que es el resultado de alguna operación aplicada a una o más columnas existentes (por ejemplo, la suma o resta de dos columnas)."
      ]
    },
    {
      "cell_type": "code",
      "execution_count": null,
      "id": "6d7dba93-7891-4715-a16d-dbeeb4a7f02a",
      "metadata": {
        "id": "6d7dba93-7891-4715-a16d-dbeeb4a7f02a"
      },
      "outputs": [],
      "source": [
        "# Tu código aquí\n",
        "\n",
        "\n"
      ]
    },
    {
      "cell_type": "markdown",
      "id": "b9fcfcba",
      "metadata": {
        "id": "b9fcfcba"
      },
      "source": [
        "## Ejercicio 5: Selección de Columnas"
      ]
    },
    {
      "cell_type": "markdown",
      "id": "a83e570a",
      "metadata": {
        "id": "a83e570a"
      },
      "source": [
        "Seleccionar dos columnas específicas del DataFrame y mostrar las primeras 5 filas."
      ]
    },
    {
      "cell_type": "code",
      "execution_count": null,
      "id": "77169c2c",
      "metadata": {
        "id": "77169c2c"
      },
      "outputs": [],
      "source": [
        "# Tu código aquí\n",
        "\n",
        "\n"
      ]
    },
    {
      "cell_type": "markdown",
      "id": "d4f75a9b",
      "metadata": {
        "id": "d4f75a9b"
      },
      "source": [
        "## Ejercicio 6: Selección de Filas"
      ]
    },
    {
      "cell_type": "markdown",
      "id": "4603b84b",
      "metadata": {
        "id": "4603b84b"
      },
      "source": [
        "Seleccionar las filas del DataFrame que estén en las posiciones 10 a 15 y mostrarlas."
      ]
    },
    {
      "cell_type": "code",
      "execution_count": null,
      "id": "593a0290",
      "metadata": {
        "id": "593a0290"
      },
      "outputs": [],
      "source": [
        "# Tu código aquí\n",
        "\n",
        "\n"
      ]
    },
    {
      "cell_type": "markdown",
      "id": "a3c21fbd",
      "metadata": {
        "id": "a3c21fbd"
      },
      "source": [
        "## Ejercicio 7: Ordenamiento de DataFrames"
      ]
    },
    {
      "cell_type": "markdown",
      "id": "fba5958a",
      "metadata": {
        "id": "fba5958a"
      },
      "source": [
        "Ordenar el DataFrame basado en una columna de forma ascendente y mostrar las primeras 10 filas."
      ]
    },
    {
      "cell_type": "code",
      "execution_count": null,
      "id": "b1c53a82",
      "metadata": {
        "id": "b1c53a82"
      },
      "outputs": [],
      "source": [
        "# Tu código aquí\n",
        "\n",
        "\n"
      ]
    },
    {
      "cell_type": "markdown",
      "id": "3303855a",
      "metadata": {
        "id": "3303855a"
      },
      "source": [
        "## Ejercicio 8: Visualización"
      ]
    },
    {
      "cell_type": "markdown",
      "id": "cf6ba4b9",
      "metadata": {
        "id": "cf6ba4b9"
      },
      "source": [
        "Crea un gráfico simple para visualizar los resultados de una columna."
      ]
    },
    {
      "cell_type": "code",
      "execution_count": null,
      "id": "296b67fb",
      "metadata": {
        "id": "296b67fb"
      },
      "outputs": [],
      "source": [
        "# Tu código aquí\n",
        "\n",
        "\n"
      ]
    },
    {
      "cell_type": "markdown",
      "id": "f2dda67e",
      "metadata": {
        "id": "f2dda67e"
      },
      "source": [
        "## Ejercicio 9: Concatenar DataFrames"
      ]
    },
    {
      "cell_type": "markdown",
      "id": "9cc31a4c-e9b9-481a-91b8-736ac9fe6dc6",
      "metadata": {
        "id": "9cc31a4c-e9b9-481a-91b8-736ac9fe6dc6"
      },
      "source": [
        "#### Concatena estos dos (2) DataFrame,"
      ]
    },
    {
      "cell_type": "code",
      "execution_count": null,
      "id": "77826ef8-4824-4ce4-942d-878b6fe82442",
      "metadata": {
        "tags": [],
        "id": "77826ef8-4824-4ce4-942d-878b6fe82442"
      },
      "outputs": [],
      "source": [
        "import pandas as pd\n",
        "\n",
        "data_invierno = {\n",
        "    'Ciudad': ['San Juan', 'Mayagüez', 'Ponce', 'Bayamón', 'Carolina', 'Arecibo', 'Guaynabo', 'Caguas', 'Aguadilla', 'Isabela', 'Dorado', 'Cayey', 'Vega Baja', 'Rincón', 'Guánica', 'Humacao', 'Manatí', 'Lajas', 'Yauco', 'Coamo'],\n",
        "    'Temp_Invierno': [25, 24, 26, 25, 26, 23, 25, 24, 25, 24, 26, 23, 24, 25, 26, 24, 25, 27, 26, 25]  # Ejemplo de temperaturas\n",
        "}\n",
        "\n",
        "data_verano = {\n",
        "    'Ciudad': ['San Juan', 'Mayagüez', 'Ponce', 'Bayamón', 'Carolina', 'Arecibo', 'Guaynabo', 'Caguas', 'Aguadilla', 'Isabela', 'Dorado', 'Cayey', 'Vega Baja', 'Rincón', 'Guánica', 'Humacao', 'Manatí', 'Lajas', 'Yauco', 'Coamo'],\n",
        "    'Temp_Verano': [30, 31, 30, 31, 32, 30, 31, 30, 29, 30, 31, 29, 30, 31, 30, 32, 31, 30, 31, 30]  # Ejemplo de temperaturas\n",
        "}\n",
        "\n",
        "data_primavera = {\n",
        "    'Ciudad': ['San Juan', 'Mayagüez', 'Ponce', 'Bayamón', 'Carolina', 'Arecibo', 'Guaynabo', 'Caguas', 'Aguadilla', 'Isabela', 'Dorado', 'Cayey', 'Vega Baja', 'Rincón', 'Guánica', 'Humacao', 'Manatí', 'Lajas', 'Yauco', 'Coamo'],\n",
        "    'Temp_Primavera': [28, 29, 28, 27, 28, 28, 28, 27, 29, 28, 27, 28, 29, 28, 28, 27, 29, 28, 28, 29]  # Ejemplo de temperaturas\n",
        "}\n",
        "data_otono = {\n",
        "    'Ciudad': ['San Juan', 'Mayagüez', 'Ponce', 'Bayamón', 'Carolina', 'Arecibo', 'Guaynabo', 'Caguas', 'Aguadilla', 'Isabela', 'Dorado', 'Cayey', 'Vega Baja', 'Rincón', 'Guánica', 'Humacao', 'Manatí', 'Lajas', 'Yauco', 'Coamo'],\n",
        "    'Temp_Otono': [27, 26, 27, 26, 27, 27, 26, 26, 26, 27, 26, 27, 27, 27, 26, 26, 27, 27, 26, 26]  # Ejemplo de temperaturas\n",
        "}\n",
        "\n",
        "# Esto es para asegurarse de que todos los DataFrames tienen el mismo índice\n",
        "df_invierno.set_index('Ciudad', inplace=True)\n",
        "df_verano.set_index('Ciudad', inplace=True)\n",
        "df_primavera.set_index('Ciudad', inplace=True)\n",
        "df_otono.set_index('Ciudad', inplace=True)\n"
      ]
    },
    {
      "cell_type": "markdown",
      "id": "b1b63053-5b95-4ab2-9b34-0b06ec3906d0",
      "metadata": {
        "id": "b1b63053-5b95-4ab2-9b34-0b06ec3906d0"
      },
      "source": [
        "#### Crea los DataFrame de los datos sobre ciudades y temperaturas"
      ]
    },
    {
      "cell_type": "code",
      "execution_count": null,
      "id": "f28f6476-d25a-4be4-9492-62457fac0211",
      "metadata": {
        "tags": [],
        "id": "f28f6476-d25a-4be4-9492-62457fac0211"
      },
      "outputs": [],
      "source": [
        "# Tu código aquí\n",
        "\n",
        "\n",
        "\n"
      ]
    },
    {
      "cell_type": "markdown",
      "id": "dbf5eda2-f360-4c58-b298-7c427d54b439",
      "metadata": {
        "id": "dbf5eda2-f360-4c58-b298-7c427d54b439"
      },
      "source": [
        "#### Une (concatena) los DataFrames en uno solo"
      ]
    },
    {
      "cell_type": "code",
      "execution_count": null,
      "id": "71b3360a",
      "metadata": {
        "tags": [],
        "id": "71b3360a"
      },
      "outputs": [],
      "source": [
        "# Tu código aquí\n",
        "\n",
        "\n"
      ]
    },
    {
      "cell_type": "markdown",
      "id": "f33cab8b-cff8-40c9-870b-cf176fb86c1a",
      "metadata": {
        "id": "f33cab8b-cff8-40c9-870b-cf176fb86c1a"
      },
      "source": [
        "#### Muestra la cantidad de registros y columnas, los datos descriptivos"
      ]
    },
    {
      "cell_type": "code",
      "execution_count": null,
      "id": "a0bb86de-b633-4cec-b5fe-04482afebd14",
      "metadata": {
        "id": "a0bb86de-b633-4cec-b5fe-04482afebd14"
      },
      "outputs": [],
      "source": [
        "# Tu código aquí\n",
        "\n",
        "\n"
      ]
    },
    {
      "cell_type": "markdown",
      "id": "6b183623-1890-4115-8a5e-873e728eaaf2",
      "metadata": {
        "id": "6b183623-1890-4115-8a5e-873e728eaaf2"
      },
      "source": [
        "#### Muestra los primeros cinco registros del DataFrame unido"
      ]
    },
    {
      "cell_type": "code",
      "execution_count": null,
      "id": "2c068f7c-3ce8-4091-bd06-ac4bb3448282",
      "metadata": {
        "id": "2c068f7c-3ce8-4091-bd06-ac4bb3448282"
      },
      "outputs": [],
      "source": [
        "# Tu código aquí\n",
        "\n",
        "\n"
      ]
    },
    {
      "cell_type": "markdown",
      "id": "758e26d6-bfb7-4c14-88ba-8d5c119c5f18",
      "metadata": {
        "id": "758e26d6-bfb7-4c14-88ba-8d5c119c5f18"
      },
      "source": [
        "#### Muestra los ultimos cinco registros del DataFrame unido"
      ]
    },
    {
      "cell_type": "code",
      "execution_count": null,
      "id": "4368a2f9-111d-423e-9ebd-4b70c0224afc",
      "metadata": {
        "id": "4368a2f9-111d-423e-9ebd-4b70c0224afc"
      },
      "outputs": [],
      "source": [
        "# Tu código aquí\n",
        "\n",
        "\n"
      ]
    }
  ],
  "metadata": {
    "kernelspec": {
      "display_name": "Python 3 (ipykernel)",
      "language": "python",
      "name": "python3"
    },
    "language_info": {
      "codemirror_mode": {
        "name": "ipython",
        "version": 3
      },
      "file_extension": ".py",
      "mimetype": "text/x-python",
      "name": "python",
      "nbconvert_exporter": "python",
      "pygments_lexer": "ipython3",
      "version": "3.11.5"
    },
    "colab": {
      "provenance": [],
      "include_colab_link": true
    }
  },
  "nbformat": 4,
  "nbformat_minor": 5
}