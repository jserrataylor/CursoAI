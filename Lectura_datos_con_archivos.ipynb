{
  "cells": [
    {
      "cell_type": "markdown",
      "metadata": {
        "id": "view-in-github",
        "colab_type": "text"
      },
      "source": [
        "<a href=\"https://colab.research.google.com/github/jserrataylor/cursoAI/blob/main/Lectura_datos_con_archivos.ipynb\" target=\"_parent\"><img src=\"https://colab.research.google.com/assets/colab-badge.svg\" alt=\"Open In Colab\"/></a>"
      ]
    },
    {
      "cell_type": "markdown",
      "metadata": {
        "tags": [],
        "id": "ZTgCTFxDz8Gc"
      },
      "source": [
        "# **Lectura y Escritura de Archivos en Pandas**\n",
        "\n",
        "En esta libreta se explicarán los principales métodos de lectura y escritura de archivos excel, csv, txt y algunas funciones utiles de la la libreria pandas en python, ademas se realizará una exploración de los datos aplicando algunas funciones importantes de pandas.\n",
        "\n",
        "[Lectura de archivos excel, csv, txt, html](#-Lectura-de-archivos-excel,-csv,-txt,-html)<br>\n",
        "[Funciones básicas de lectura de ficheros](#-Funciones-básicas-de-lectura-de-ficheros)<br>\n",
        "[Funciones básicas de almacenamiento](#-Funciones-básicas-de-almacenamiento)<br>\n",
        "[Explorando nuestro DataFrame](#-Explorando-nuestro-DataFrame)<br>\n",
        "[Otros Ejercicios](#-Otros-Ejercicios)<br>"
      ]
    },
    {
      "cell_type": "markdown",
      "metadata": {
        "id": "nbf-uF6gz8Ge"
      },
      "source": [
        "## **Objetivos de aprendizaje**\n",
        "\n",
        "1. **Comprender la importancia de la lectura y escritura de datos**: Los estudiantes deberían reconocer por qué es esencial poder leer y escribir datos en diferentes formatos al trabajar con `pandas` y análisis de datos en general.\n",
        "   \n",
        "2. **Aprender a leer archivos en diferentes formatos**:\n",
        "   - Familiarizarse con la lectura de archivos Excel y reconocer las consideraciones especiales asociadas con este formato, como las hojas de trabajo.\n",
        "   - Entender cómo leer archivos CSV y cómo manejar diferentes delimitadores.\n",
        "   - Aprender a leer archivos de texto con diferentes delimitadores y estructuras.\n",
        "   - Comprender la lectura de datos desde archivos HTML y cómo gestionar múltiples tablas dentro de un solo archivo HTML.\n",
        "\n",
        "3. **Conocer las funciones básicas de `pandas` para la lectura de archivos**: Los estudiantes deben ser capaces de usar funciones como `read_excel()`, `read_csv()`, `read_html()`, entre otras, y entender sus parámetros más comunes.\n",
        "\n",
        "4. **Entender las funciones de almacenamiento en `pandas`**: Los estudiantes serán capaces de guardar(almacenar) los datos de los DataFrame en distintos formatos de archivos.\n",
        "\n",
        "5. **Explorar DataFrames en `pandas`**: Una vez que los datos estén cargados, los estudiantes deberían aprender a explorar y entender la estructura y el contenido de los DataFrames.\n",
        "\n",
        "6. **Manejar problemas comunes y soluciones al leer archivos**: Con base en el contenido, es probable que se aborden temas como delimitadores personalizados, falta de encabezados, filas que deben omitirse, entre otros. Los estudiantes deberían ser capaces de manejar estos escenarios en la práctica.\n"
      ]
    },
    {
      "cell_type": "markdown",
      "metadata": {
        "id": "uRHTe9spz8Gf"
      },
      "source": [
        "## <font color=#33A5FF>****Lectura de archivos excel, csv, txt, html****<tfont>"
      ]
    },
    {
      "cell_type": "markdown",
      "metadata": {
        "id": "pVHHeUWcz8Gf"
      },
      "source": [
        "### Estos son distintos métodos para la lectura de archivos en diferentes formatos utilizando `pandas`.\n",
        "\n",
        "### 1. Excel\n",
        "\n",
        "Para leer archivos Excel, puedes usar la función `read_excel()`.\n",
        "\n",
        "```python\n",
        "import pandas as pd\n",
        "\n",
        "# Leer un archivo Excel\n",
        "df_excel = pd.read_excel('archivo.xlsx', sheet_name='Hoja1')\n",
        "```\n",
        "\n",
        "*Nota:* Necesitarás tener instalado el paquete `openpyxl` para leer archivos `.xlsx`.\n",
        "\n",
        "### 2. CSV\n",
        "\n",
        "Los archivos CSV (Valores Separados por Comas) son uno de los formatos más comunes para la representación de datos. Puedes usar la función `read_csv()`.\n",
        "\n",
        "```python\n",
        "df_csv = pd.read_csv('archivo.csv')\n",
        "```\n",
        "\n",
        "### 3. TXT\n",
        "\n",
        "Los archivos de texto pueden tener diferentes delimitadores. Por defecto, `read_csv()` asume una coma, pero puedes especificar otros delimitadores.\n",
        "\n",
        "```python\n",
        "# Leer un archivo de texto con tabulaciones\n",
        "df_txt_tab = pd.read_csv('archivo.txt', sep='\\t')\n",
        "\n",
        "# Leer un archivo de texto con espacios\n",
        "df_txt_space = pd.read_csv('archivo.txt', sep=' ')\n",
        "\n",
        "# Leer un archivo de texto con otro delimitador (por ejemplo, '|')\n",
        "df_txt_custom = pd.read_csv('archivo.txt', sep='|')\n",
        "```\n",
        "\n",
        "### 4. HTML\n",
        "\n",
        "Para leer tablas de archivos HTML, puedes usar la función `read_html()`. Esta función devuelve una lista de DataFrames, uno por cada tabla encontrada en el archivo HTML.\n",
        "\n",
        "```python\n",
        "list_of_dfs = pd.read_html('archivo.html')\n",
        "\n",
        "# Si el archivo HTML tiene una sola tabla, puedes obtenerla así:\n",
        "df_html = list_of_dfs[0]\n",
        "```\n",
        "\n",
        "*Nota:* Necesitarás tener instaladas las bibliotecas `lxml`, `beautifulsoup4` y `html5lib`.\n",
        "\n",
        "### 5. JSON\n",
        "\n",
        "Los archivos JSON son ampliamente utilizados para representar estructuras de datos complejas de forma legible. Para leer archivos JSON, puedes usar la función `read_json()`.\n",
        "\n",
        "```python\n",
        "df_json = pd.read_json('archivo.json')\n",
        "```"
      ]
    },
    {
      "cell_type": "markdown",
      "metadata": {
        "id": "ziPqbZ-Iz8Gg"
      },
      "source": [
        "### Descripción del las columnas del DataFrame del archivo Titanic"
      ]
    },
    {
      "cell_type": "markdown",
      "metadata": {
        "id": "1HS1mGKEz8Gg"
      },
      "source": [
        "Para leer ficheros de excel puedes instalar en el anaconda Prom: **pip install xlrd**, seguido de ello puedes cargar el fichero titanic el cual contiene la siguiente información:"
      ]
    },
    {
      "cell_type": "markdown",
      "metadata": {
        "id": "E19P_6O1z8Gg"
      },
      "source": [
        "El archivo `titanic.csv` parece estar delimitado por punto y coma (`;`) en lugar del delimitador común de coma. Esto ha causado que los datos se carguen como una sola columna en el DataFrame.\n",
        "\n",
        "Descripción basada en la estructura actual del archivo:\n",
        "\n",
        "- **Número total de entradas**: 891\n",
        "- **Columnas**: 1 columna que combina varios campos del conjunto de datos del Titanic.\n",
        "\n",
        "Dado que esto no es una representación útil del conjunto de datos, debería volver a cargar el archivo con el delimitador correcto (`;`) para obtener una representación adecuada y describir el contenido de manera más detallada. Permíteme hacer eso.\n",
        "\n",
        "El conjunto de datos del Titanic en el archivo `titanic.csv` contiene la siguiente información:\n",
        "\n",
        "**Descripción general:**\n",
        "- Número total de entradas: 891.\n",
        "- Columnas en el conjunto de datos: 11.\n",
        "\n",
        "**Columnas y tipos de datos:**\n",
        "1. **Id_Pasajero**: Identificador único para cada pasajero. Es un valor entero.\n",
        "2. **Survived**: Indica si el pasajero sobrevivió (1) o no (0). Es un valor entero.\n",
        "3. **Clase**: Clase del billete adquirido por el pasajero (1, 2 o 3). Es un valor entero.\n",
        "4. **Nombre**: Nombre completo del pasajero. Es un valor de texto.\n",
        "5. **Sexo**: Género del pasajero, que puede ser \"Masculino\" o \"Femenino\". Es un valor de texto.\n",
        "6. **Edad**: Edad del pasajero. Es un valor flotante. Hay algunos valores faltantes en esta columna.\n",
        "7. **Familiares**: Número de familiares a bordo (hermanos, cónyuges, padres e hijos). Es un valor entero.\n",
        "8. **Tiquete**: Número de tiquete del pasajero. Es un valor de texto.\n",
        "9. **Tarifa**: Tarifa pagada por el tiquete. Es un valor flotante.\n",
        "10. **Cabina**: Número de la cabina donde se alojó el pasajero. Hay muchos valores faltantes en esta columna.\n",
        "11. **Embarcado**: Puerto de embarque del pasajero (C = Cherbourg, Q = Queenstown, S = Southampton). Es un valor de texto y tiene algunos valores faltantes.\n",
        "\n",
        "**Estadísticas descriptivas (para columnas numéricas):**\n",
        "- La edad promedio de los pasajeros es de aproximadamente 29.7 años.\n",
        "- La tarifa promedio pagada por los tiquetes es de aproximadamente 32.21 unidades monetarias.\n",
        "- Alrededor del 38% de los pasajeros sobrevivió al desastre.\n",
        "- La mayoría de los pasajeros (más del 50%) viajaba en tercera clase.\n"
      ]
    },
    {
      "cell_type": "code",
      "source": [
        "from google.colab import drive\n",
        "drive.mount('/content/drive')"
      ],
      "metadata": {
        "colab": {
          "base_uri": "https://localhost:8080/"
        },
        "id": "V8s3V1_J0AIx",
        "outputId": "42cd4467-f81e-41d6-e7ce-652268940aff"
      },
      "execution_count": null,
      "outputs": [
        {
          "output_type": "stream",
          "name": "stdout",
          "text": [
            "Mounted at /content/drive\n"
          ]
        }
      ]
    },
    {
      "cell_type": "markdown",
      "metadata": {
        "id": "0CMF76yyz8Gh"
      },
      "source": [
        "### Cargar la librería pandas para crear Series, DataFrame"
      ]
    },
    {
      "cell_type": "code",
      "execution_count": null,
      "metadata": {
        "tags": [],
        "colab": {
          "base_uri": "https://localhost:8080/",
          "height": 35
        },
        "id": "-mivs59Rz8Gh",
        "outputId": "122cc7de-26c3-4a2d-8baf-164cf1cdb7a1"
      },
      "outputs": [
        {
          "output_type": "execute_result",
          "data": {
            "text/plain": [
              "'1.5.3'"
            ],
            "application/vnd.google.colaboratory.intrinsic+json": {
              "type": "string"
            }
          },
          "metadata": {},
          "execution_count": 4
        }
      ],
      "source": [
        "# importar libreria\n",
        "import pandas as pd\n",
        "pd.__version__"
      ]
    },
    {
      "cell_type": "markdown",
      "metadata": {
        "id": "TrT8S6ABz8Gi"
      },
      "source": [
        "Leer datos archivos excel con extensión ---> **.csv**"
      ]
    },
    {
      "cell_type": "code",
      "execution_count": null,
      "metadata": {
        "id": "94RRVkp7z8Gj"
      },
      "outputs": [],
      "source": [
        "# Leer archivos .csv\n",
        "# Espeficicar la ruta o dirección de los archivos\n",
        "# Parametros: sep=';', index_col=0)\n",
        "\n",
        "# Dirección de los archivos: /content/drive/MyDrive/Colab Notebooks/Curso_AI/Pandas/\n",
        "\n",
        "#datos=pd.read_csv('/content/drive/MyDrive/Colab Notebooks/Curso_AI/Pandas/titanic.csv')\n",
        "#datos.head()\n"
      ]
    },
    {
      "cell_type": "markdown",
      "metadata": {
        "id": "d2rb84Nlz8Gj"
      },
      "source": [
        "Leer datos archivos excel con extensión **--->** .xls, .xlsx"
      ]
    },
    {
      "cell_type": "code",
      "execution_count": null,
      "metadata": {
        "id": "qXaB63dkz8Gj"
      },
      "outputs": [],
      "source": [
        "# Leer datos excel si el archivo se encuentra dentro de la misma carpeta del notebook\n",
        "datos_1 = pd.read_excel('titanic.xlsx', index_col=0)\n",
        "datos_1"
      ]
    },
    {
      "cell_type": "code",
      "execution_count": null,
      "metadata": {
        "id": "zbG047K8z8Gj"
      },
      "outputs": [],
      "source": [
        "# Leer datos excel con ruta, en caso de que el archivo se encuentre en una ruta diferente\n"
      ]
    },
    {
      "cell_type": "markdown",
      "metadata": {
        "id": "zACZb1ONz8Gj"
      },
      "source": [
        "Leer datos archivos excel con extensión ---> **.txt**"
      ]
    },
    {
      "cell_type": "code",
      "execution_count": null,
      "metadata": {
        "tags": [],
        "id": "ywwNlOWez8Gj"
      },
      "outputs": [],
      "source": [
        "# Leer archivos .txt;\n",
        "#datos=pd.read_csv('titanic.txt', sep=';', index_col=0)\n",
        "#datos.head()"
      ]
    },
    {
      "cell_type": "markdown",
      "metadata": {
        "id": "e5uaFkqbz8Gj"
      },
      "source": [
        "Leer datos de archivos html --> **.html**"
      ]
    },
    {
      "cell_type": "code",
      "execution_count": null,
      "metadata": {
        "tags": [],
        "id": "YcMRKyqUz8Gj"
      },
      "outputs": [],
      "source": [
        "# Leer archivo titanic\n",
        "# La función 'read_html' de pandas intenta extraer tablas de un archivo HTML y devuelve una lista de DataFrames.\n",
        "# En este caso, se está leyendo el archivo 'titanic.html' y se especifica que la columna 'Id_Pasajero' será utilizada como índice para el DataFrame.\n",
        "\n",
        "#datos_html = pd.read_html('titanic.html', index_col=['Id_Pasajero'])\n",
        "\n",
        "# 'datos_html' es una lista de DataFrames. Aquí, estamos seleccionando el primer DataFrame (que corresponde a la primera tabla en el archivo HTML).\n",
        "\n",
        "#datos = datos_html[0]\n",
        "\n",
        "# Aquí, estamos eliminando una columna llamada 'Unnamed: 0' del DataFrame.\n",
        "# El argumento 'inplace=True' significa que queremos modificar el DataFrame original directamente sin tener que reasignarlo.\n",
        "\n",
        "#datos.drop(columns=['Unnamed: 0'], inplace=True)\n",
        "\n",
        "# Finalmente, estamos simplemente mostrando el DataFrame 'datos' resultante.\n",
        "\n",
        "#datos\n"
      ]
    },
    {
      "cell_type": "code",
      "execution_count": null,
      "metadata": {
        "tags": [],
        "id": "1EFiJvYDz8Gj"
      },
      "outputs": [],
      "source": [
        "# leer archivo desde pagina web\n",
        "datos_html_web = pd.read_html('https://es.wikipedia.org/wiki/Luisiana', index_col=0)\n",
        "#datos = datos_html_web[0]\n",
        "#datos\n",
        "#datos.drop(columns=['Estado de Luisiana State of Louisiana (inglés) État de Louisiane (francés).2'], inplace=True)\n",
        "#datos"
      ]
    },
    {
      "cell_type": "markdown",
      "metadata": {
        "id": "hWShtcHez8Gj"
      },
      "source": [
        "Leer datos de archivos Json --> **.Json**"
      ]
    },
    {
      "cell_type": "code",
      "execution_count": null,
      "metadata": {
        "id": "DIhSxNCuz8Gj"
      },
      "outputs": [],
      "source": [
        "#datos_json = pd.read_json('titanic.json')\n",
        "#datos_json.set_index('Id_Pasajero', inplace=True)\n",
        "#datos_json"
      ]
    },
    {
      "cell_type": "markdown",
      "metadata": {
        "id": "bYGm-O68z8Gk"
      },
      "source": [
        "## <font color=#33A5FF>****Funciones básicas de lectura de archivos****<tfont>"
      ]
    },
    {
      "cell_type": "markdown",
      "metadata": {
        "id": "O5gxYEGrz8Gk"
      },
      "source": [
        "Descripción los parámetros y funciones de lectura los archivos que se pueden utilizar con la función `pd.read_csv()` de `pandas` para cargar datos en un DataFrame:\n",
        "\n",
        "1. **Ruta del archivo**:\n",
        "   - La ruta del archivo especifica la ubicación del archivo que deseas leer. Puedes usar una ruta absoluta (que especifica la ubicación exacta del archivo en tu sistema) o una ruta relativa (relativa al directorio actual).\n",
        "   - Ejemplo (Mac): `'/Users/jast/Jupyter/Otros archivos/manejo_de_datos_pandas/datos/ventas.csv'`\n",
        "   - Ejemplo (Windows): `'c:/Users/jast/Jupyter/Otros archivos/datos/ventas.csv'`\n",
        "\n",
        "2. **`index_col=0`**:\n",
        "   - Este parámetro establece la columna que se utilizará como índice del DataFrame. En este caso, `index_col=0` indica que la primera columna del archivo CSV se utilizará como índice.\n",
        "\n",
        "3. **`sep=','`**:\n",
        "   - Especifica el delimitador utilizado en el archivo CSV. Por defecto, `sep` es una coma, pero puedes cambiarlo si tu archivo utiliza otro delimitador, como `';'` o `'\\t'` (para tabulaciones).\n",
        "\n",
        "4. **`usecols=[0,1,4]`**:\n",
        "   - Este parámetro te permite especificar qué columnas del archivo CSV deseas cargar. En este caso, solo se cargarán las columnas 1, 2 y 5.\n",
        "\n",
        "5. **`nrows=3`**:\n",
        "   - Limita la cantidad de filas que se leerán del archivo CSV. Con `nrows=3`, solo se leerán las primeras tres filas.\n",
        "\n",
        "6. **`header=None`**:\n",
        "   - Indica que el archivo CSV no tiene una fila de encabezado. Si tu archivo no tiene nombres de columna en la primera fila, usa este parámetro para evitar que `pandas` trate la primera fila como encabezados.\n",
        "\n",
        "7. **`names=['T1', 'T2', 'T3', 'T4']`**:\n",
        "   - Si tu archivo no tiene encabezados o si deseas reemplazar los encabezados existentes, puedes usar este parámetro para especificar nuevos nombres de columna.\n",
        "\n",
        "8. **`skiprows=1`**:\n",
        "   - Permite omitir un número específico de filas al comienzo del archivo. Con `skiprows=1`, se omitirá la primera fila del archivo al cargarlo.\n",
        "\n",
        "9. **`skipfooter=1`**:\n",
        "- Este parámetro te permite omitir un número específico de filas al final del archivo. Es útil cuando, por ejemplo, el archivo tiene un resumen o totales al final que no deseas cargar.\n",
        "- `skipfooter=1` omitirá la última fila del archivo. Si estableces `skipfooter=2`, omitirá las últimas dos filas, y así sucesivamente.\n",
        "\n",
        "10. **`engine='python'`**:\n",
        "- `pandas` tiene dos motores para leer archivos CSV: el motor \"C\" (que es el predeterminado y generalmente más rápido) y el motor \"Python\".\n",
        "- Algunas características, como `skipfooter`, no están soportadas por el motor \"C\", por lo que si intentas usar esas características sin especificar el motor, recibirás una advertencia. Para evitar esta advertencia y usar esas características específicas, puedes establecer `engine='python'`.\n",
        "- Aunque el motor \"Python\" es más flexible en términos de características, puede ser más lento que el motor \"C\" para archivos grandes.\n",
        "\n",
        "Con estos dos parámetros, podrías cargar un archivo CSV omitiendo la última fila y sin recibir advertencias de esta manera:\n",
        "\n",
        "```python\n",
        "df = pd.read_csv('archivo.csv', skipfooter=1, engine='python')\n",
        "```"
      ]
    },
    {
      "cell_type": "markdown",
      "metadata": {
        "id": "hqIf5I79z8Gk"
      },
      "source": [
        "**index_col** = Cambiar el índice"
      ]
    },
    {
      "cell_type": "code",
      "execution_count": null,
      "metadata": {
        "id": "CKeCbv-rz8Gk"
      },
      "outputs": [],
      "source": [
        "# Opción index_col\n",
        "datos=pd.read_csv('titanic.csv', sep=';', index_col=0)\n",
        "datos.head()"
      ]
    },
    {
      "cell_type": "markdown",
      "metadata": {
        "id": "APr7I_FMz8Gk"
      },
      "source": [
        "**nrows** = utilizar las n primeras filas"
      ]
    },
    {
      "cell_type": "code",
      "execution_count": null,
      "metadata": {
        "id": "sL3nMQn6z8Gk",
        "outputId": "cd29a863-aede-4700-97cd-b9a7a8474002"
      },
      "outputs": [
        {
          "data": {
            "text/html": [
              "<div>\n",
              "<style scoped>\n",
              "    .dataframe tbody tr th:only-of-type {\n",
              "        vertical-align: middle;\n",
              "    }\n",
              "\n",
              "    .dataframe tbody tr th {\n",
              "        vertical-align: top;\n",
              "    }\n",
              "\n",
              "    .dataframe thead th {\n",
              "        text-align: right;\n",
              "    }\n",
              "</style>\n",
              "<table border=\"1\" class=\"dataframe\">\n",
              "  <thead>\n",
              "    <tr style=\"text-align: right;\">\n",
              "      <th></th>\n",
              "      <th>Survived</th>\n",
              "      <th>Clase</th>\n",
              "      <th>Nombre</th>\n",
              "      <th>Sexo</th>\n",
              "      <th>Edad</th>\n",
              "      <th>Familiares</th>\n",
              "      <th>Tiquete</th>\n",
              "      <th>Tarifa</th>\n",
              "      <th>Cabina</th>\n",
              "      <th>Embarcado</th>\n",
              "    </tr>\n",
              "    <tr>\n",
              "      <th>Id_Pasajero</th>\n",
              "      <th></th>\n",
              "      <th></th>\n",
              "      <th></th>\n",
              "      <th></th>\n",
              "      <th></th>\n",
              "      <th></th>\n",
              "      <th></th>\n",
              "      <th></th>\n",
              "      <th></th>\n",
              "      <th></th>\n",
              "    </tr>\n",
              "  </thead>\n",
              "  <tbody>\n",
              "    <tr>\n",
              "      <th>1</th>\n",
              "      <td>0</td>\n",
              "      <td>3</td>\n",
              "      <td>Braund, Mr. Owen Harris</td>\n",
              "      <td>Masculino</td>\n",
              "      <td>22</td>\n",
              "      <td>0</td>\n",
              "      <td>A/5 21171</td>\n",
              "      <td>7.25</td>\n",
              "      <td>NaN</td>\n",
              "      <td>S</td>\n",
              "    </tr>\n",
              "  </tbody>\n",
              "</table>\n",
              "</div>"
            ],
            "text/plain": [
              "             Survived  Clase                   Nombre       Sexo  Edad  \\\n",
              "Id_Pasajero                                                              \n",
              "1                   0      3  Braund, Mr. Owen Harris  Masculino    22   \n",
              "\n",
              "             Familiares    Tiquete  Tarifa  Cabina Embarcado  \n",
              "Id_Pasajero                                                   \n",
              "1                     0  A/5 21171    7.25     NaN         S  "
            ]
          },
          "execution_count": 118,
          "metadata": {},
          "output_type": "execute_result"
        }
      ],
      "source": [
        "# Opción nrows\n",
        "datos=pd.read_csv('titanic.csv', sep=';', index_col=0, nrows=1)\n",
        "datos.head()"
      ]
    },
    {
      "cell_type": "markdown",
      "metadata": {
        "id": "8ZJtp65kz8Gk"
      },
      "source": [
        "**usecols**: Utilizar columnas específicas"
      ]
    },
    {
      "cell_type": "code",
      "execution_count": null,
      "metadata": {
        "id": "SqTEAzGtz8Gk"
      },
      "outputs": [],
      "source": [
        "# Opción usecols\n",
        "datos=pd.read_csv('titanic.csv', sep=';', index_col=0)\n",
        "datos.head()"
      ]
    },
    {
      "cell_type": "markdown",
      "metadata": {
        "id": "_5w8ZQ4Nz8Gk"
      },
      "source": [
        "**skiprows**: saltarse filas de abajo hacia arriba"
      ]
    },
    {
      "cell_type": "code",
      "execution_count": null,
      "metadata": {
        "id": "Kiun6_Khz8Gk"
      },
      "outputs": [],
      "source": [
        "# Opción skiprows, elimina la cantidad de filas que se coloque en el parametro\n",
        "datos=pd.read_csv('titanic.csv', sep=';', index_col=0)\n",
        "datos.head()"
      ]
    },
    {
      "cell_type": "markdown",
      "metadata": {
        "id": "AzHZRRQZz8Gk"
      },
      "source": [
        "**sheet_name**: Seleccionar las pestañas del libro excel"
      ]
    },
    {
      "cell_type": "code",
      "execution_count": null,
      "metadata": {
        "id": "rF5E5fx5z8Gk"
      },
      "outputs": [],
      "source": [
        "# Opción sheet_name = sheet_name='Pasajeros_2'\n",
        "datos=pd.read_excel('titanic.xlsx', index_col=0)\n",
        "datos"
      ]
    },
    {
      "cell_type": "markdown",
      "metadata": {
        "id": "XO0tY4o5z8Gk"
      },
      "source": [
        "**header**: Se utiliza cuando las columnas no tienen encabezado"
      ]
    },
    {
      "cell_type": "code",
      "execution_count": null,
      "metadata": {
        "id": "T2t3eHK4z8Gk"
      },
      "outputs": [],
      "source": [
        "# Opción header = header=None\n",
        "datos=pd.read_excel('titanic.xlsx', index_col=0)\n",
        "datos"
      ]
    },
    {
      "cell_type": "code",
      "execution_count": null,
      "metadata": {
        "id": "FCy93FHPz8Gl"
      },
      "outputs": [],
      "source": [
        "# Opción heater asignando nombre de las columnas\n"
      ]
    },
    {
      "cell_type": "markdown",
      "metadata": {
        "id": "FCsdzxGKz8Gl"
      },
      "source": [
        "**parse_dates**: Para manejar series temporales"
      ]
    },
    {
      "cell_type": "markdown",
      "metadata": {
        "id": "DIkO3DA2z8Gl"
      },
      "source": [
        "## <font color=#33A5FF>****Funciones básicas de almacenamiento****<tfont>"
      ]
    },
    {
      "cell_type": "markdown",
      "metadata": {
        "id": "rwQt5A3_z8Gl"
      },
      "source": [
        "Se puedes exportar un DataFrame de `pandas` a varios formatos de archivo utilizando las funciones incorporadas de `pandas`.\n",
        "\n",
        "1. **CSV**:\n",
        "   ```python\n",
        "   df.to_csv('archivo.csv', index=True)  # Si no deseas guardar el índice, puedes establecer `index=False`\n",
        "   ```\n",
        "\n",
        "2. **Excel**:\n",
        "   Necesitarás tener instalado el paquete `openpyxl` para exportar a formato `.xlsx`.\n",
        "   ```python\n",
        "   df.to_excel('archivo.xlsx', index=True, sheet_name='Hoja1')  # Similarmente, puedes usar `index=False` si no deseas guardar el índice\n",
        "   ```\n",
        "\n",
        "3. **JSON**:\n",
        "   ```python\n",
        "   df.to_json('archivo.json', orient='records')  # `orient='records'` guardará el DataFrame en un formato de lista de registros\n",
        "   ```\n",
        "\n",
        "4. **SQL**:\n",
        "   Para exportar a una base de datos SQL, puedes usar el método `to_sql()`. Sin embargo, necesitarás configurar una conexión a la base de datos y, posiblemente, instalar paquetes adicionales dependiendo de la base de datos específica.\n",
        "\n",
        "5. **HTML**:\n",
        "   ```python\n",
        "   df.to_html('archivo.html')\n",
        "   ```\n",
        "\n",
        "6. **Formato de texto con tabulaciones**:\n",
        "   ```python\n",
        "   df.to_csv('archivo.txt', sep='\\t', index=False)\n",
        "   ```\n",
        "\n",
        "7. **Formato de texto con espacios**:\n",
        "   Si deseas que las columnas estén separadas por espacios, puedes hacerlo así:\n",
        "   ```python\n",
        "   df.to_csv('archivo.txt', sep=' ', index=False)\n",
        "   ```\n",
        "\n",
        "8. **Formato de texto personalizado**:\n",
        "   Puedes definir cualquier delimitador que desees. Por ejemplo, para separar con `|`:\n",
        "   ```python\n",
        "   df.to_csv('archivo.txt', sep='|', index=False)\n",
        "   ```"
      ]
    },
    {
      "cell_type": "code",
      "execution_count": null,
      "metadata": {
        "id": "-dOUENn_z8Gl"
      },
      "outputs": [],
      "source": [
        "# Ruta de la carpeta donde quiero guardar mis archivos exportados\n"
      ]
    },
    {
      "cell_type": "code",
      "execution_count": null,
      "metadata": {
        "id": "Sj01NIQZz8Gl"
      },
      "outputs": [],
      "source": [
        "# Exportar archivo formato excel\n"
      ]
    },
    {
      "cell_type": "code",
      "execution_count": null,
      "metadata": {
        "id": "EEHcXyodz8Gl"
      },
      "outputs": [],
      "source": [
        "# Exportar archivo formato excel sin índices\n"
      ]
    },
    {
      "cell_type": "code",
      "execution_count": null,
      "metadata": {
        "id": "9J2eOlufz8Gm"
      },
      "outputs": [],
      "source": [
        "# Exportar archivo formato .csv\n"
      ]
    },
    {
      "cell_type": "code",
      "execution_count": null,
      "metadata": {
        "id": "YKU9epIdz8Gm"
      },
      "outputs": [],
      "source": [
        "# Exportar archivo formato .txt\n"
      ]
    },
    {
      "cell_type": "code",
      "execution_count": null,
      "metadata": {
        "id": "MTeBX1b-z8Gm"
      },
      "outputs": [],
      "source": [
        "# Exportar archivo formato .html\n"
      ]
    },
    {
      "cell_type": "markdown",
      "metadata": {
        "id": "Sg5xd0I5z8Gm"
      },
      "source": [
        "## <font color=#33A5FF>****Explorando nuestro DataFrame****<tfont>"
      ]
    },
    {
      "cell_type": "code",
      "execution_count": null,
      "metadata": {
        "id": "BifvwxL3z8Gm"
      },
      "outputs": [],
      "source": [
        "# Explorar datos opción dtypes\n",
        "datos.dtypes"
      ]
    },
    {
      "cell_type": "code",
      "execution_count": null,
      "metadata": {
        "id": "f2TVrDXgz8Gm",
        "outputId": "7629dbae-d752-4bb4-a7d5-3a32d32299b0"
      },
      "outputs": [
        {
          "data": {
            "text/plain": [
              "(891, 10)"
            ]
          },
          "execution_count": 150,
          "metadata": {},
          "output_type": "execute_result"
        }
      ],
      "source": [
        "# Explorar datos opción shape\n",
        "datos.shape"
      ]
    },
    {
      "cell_type": "code",
      "execution_count": null,
      "metadata": {
        "id": "w7Z68U9xz8Gm"
      },
      "outputs": [],
      "source": [
        "# Ver primeras filas datos opción head()\n",
        "datos.head()"
      ]
    },
    {
      "cell_type": "code",
      "execution_count": null,
      "metadata": {
        "id": "5R7OLnvSz8Gm"
      },
      "outputs": [],
      "source": [
        "# Ver últimas filas opción tail()\n",
        "datos"
      ]
    },
    {
      "cell_type": "code",
      "execution_count": null,
      "metadata": {
        "id": "u07gDfZHz8Gm"
      },
      "outputs": [],
      "source": [
        "# Ordenar datos por columnas\n"
      ]
    },
    {
      "cell_type": "markdown",
      "metadata": {
        "id": "Qg106KWFz8Gm"
      },
      "source": [
        "Puedes usar el método `sort_values()`.\n",
        "\n",
        "1. **Ordenar por una sola columna**:\n",
        "\n",
        "   Supongamos que tienes un DataFrame `df` y deseas ordenarlo por la columna `'A'` en orden ascendente:\n",
        "\n",
        "   ```python\n",
        "   df_sorted = df.sort_values(by='A')\n",
        "   ```\n",
        "\n",
        "   Si deseas ordenarlo en orden descendente:\n",
        "\n",
        "   ```python\n",
        "   df_sorted = df.sort_values(by='A', ascending=False)\n",
        "   ```\n",
        "\n",
        "2. **Ordenar por múltiples columnas**:\n",
        "\n",
        "   Si deseas ordenar por más de una columna, puedes pasar una lista de nombres de columnas al argumento `by`. Por ejemplo, para ordenar primero por la columna `'A'` en orden ascendente y luego por la columna `'B'` en orden descendente:\n",
        "\n",
        "   ```python\n",
        "   df_sorted = df.sort_values(by=['A', 'B'], ascending=[True, False])\n",
        "   ```\n",
        "\n",
        "3. **Ordenar con valores faltantes (NaN)**:\n",
        "\n",
        "   Por defecto, los valores faltantes (NaN) se colocan al final. Si deseas que se coloquen al principio:\n",
        "\n",
        "   ```python\n",
        "   df_sorted = df.sort_values(by='A', na_position='first')\n",
        "   ```\n"
      ]
    },
    {
      "cell_type": "markdown",
      "metadata": {
        "id": "5uZ-LCa8z8Gm"
      },
      "source": [
        "## <font color=#33A5FF>**Otros datos para ejercicios**<tfont>"
      ]
    },
    {
      "cell_type": "code",
      "execution_count": null,
      "metadata": {
        "id": "Al9ZqP8az8Gm"
      },
      "outputs": [],
      "source": [
        "# Para cargar datos para el DataFrame llamado ventas\n",
        "# En este caso está en otra ruta, y se puede utilizar la ruta absoluta para cargarlo\n",
        "# Parametro para establecer el indice: index_col=0\n",
        "# Parámetro para establecer el tipo separador: sep=','\n",
        "# Parametro para utilizar columnas específicas: usecols=[0,1,4]\n",
        "# Parametro para eliminar solo algunas filas: nrows=3\n",
        "\n",
        "ventas = pd.read_csv('datos/ventas.csv')\n",
        "ventas"
      ]
    },
    {
      "cell_type": "code",
      "execution_count": null,
      "metadata": {
        "id": "SOIMCSq9z8Gn"
      },
      "outputs": [],
      "source": [
        "# Parametro para que no tome los datos como encabezados: header=None\n",
        "# Parámetro para nombrar los encabezados: names=['T1', 'T2', 'T3', 'T4']\n",
        "\n",
        "ventas = pd.read_csv('datos/ventas_sin_encabezado.csv')\n",
        "ventas"
      ]
    },
    {
      "cell_type": "code",
      "execution_count": null,
      "metadata": {
        "id": "4aZpCYNfz8Gn"
      },
      "outputs": [],
      "source": [
        "# Datos con basura\n",
        "# Parametro para eliminar la primera fila de arriba hacia abajo: skiprows=1\n",
        "# Parametro para eliminar la primera fila de abajo hacia arriba: skipfooter=1\n",
        "# Parametro para que elimine la advertencia: engine='python'\n",
        "\n",
        "ventas = pd.read_csv('datos/ventas_con_basura.csv')\n",
        "ventas"
      ]
    },
    {
      "cell_type": "code",
      "execution_count": null,
      "metadata": {
        "id": "Nlm-RgDTz8Gn"
      },
      "outputs": [],
      "source": [
        "# DataFrame llamado ventas, pero cargando el archivo en excel.\n",
        "# Parámetro para que lea todas las hojas y devuelve un diccionario, pero no es un DataFrame: sheet_name=None\n",
        "# Parámetro para que lea una hoja en específico sheet_name='2021'\n",
        "\n",
        "ventas_1 = pd.read_excel(\"datos/ventas_anuales.xlsx\", sheet_name=None)\n",
        "ventas_2 = pd.read_excel(\"datos/ventas_anuales.xlsx\", sheet_name='2021')\n",
        "#ventas['2020'] # esto es un DataFrame\n",
        "ventas_1"
      ]
    }
  ],
  "metadata": {
    "kernelspec": {
      "display_name": "Python 3 (ipykernel)",
      "language": "python",
      "name": "python3"
    },
    "language_info": {
      "codemirror_mode": {
        "name": "ipython",
        "version": 3
      },
      "file_extension": ".py",
      "mimetype": "text/x-python",
      "name": "python",
      "nbconvert_exporter": "python",
      "pygments_lexer": "ipython3",
      "version": "3.11.5"
    },
    "varInspector": {
      "cols": {
        "lenName": 16,
        "lenType": 16,
        "lenVar": 40
      },
      "kernels_config": {
        "python": {
          "delete_cmd_postfix": "",
          "delete_cmd_prefix": "del ",
          "library": "var_list.py",
          "varRefreshCmd": "print(var_dic_list())"
        },
        "r": {
          "delete_cmd_postfix": ") ",
          "delete_cmd_prefix": "rm(",
          "library": "var_list.r",
          "varRefreshCmd": "cat(var_dic_list()) "
        }
      },
      "types_to_exclude": [
        "module",
        "function",
        "builtin_function_or_method",
        "instance",
        "_Feature"
      ],
      "window_display": false
    },
    "colab": {
      "provenance": [],
      "include_colab_link": true
    }
  },
  "nbformat": 4,
  "nbformat_minor": 0
}