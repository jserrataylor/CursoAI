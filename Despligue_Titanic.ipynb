{
  "nbformat": 4,
  "nbformat_minor": 0,
  "metadata": {
    "colab": {
      "provenance": [],
      "authorship_tag": "ABX9TyMVF2S7WNAVYd0b7+2Xe/mq",
      "include_colab_link": true
    },
    "kernelspec": {
      "name": "python3",
      "display_name": "Python 3"
    },
    "language_info": {
      "name": "python"
    }
  },
  "cells": [
    {
      "cell_type": "markdown",
      "metadata": {
        "id": "view-in-github",
        "colab_type": "text"
      },
      "source": [
        "<a href=\"https://colab.research.google.com/github/jserrataylor/cursoAI/blob/main/Despligue_Titanic.ipynb\" target=\"_parent\"><img src=\"https://colab.research.google.com/assets/colab-badge.svg\" alt=\"Open In Colab\"/></a>"
      ]
    },
    {
      "cell_type": "markdown",
      "source": [
        "# **Despliegue de un Modelo ML**"
      ],
      "metadata": {
        "id": "Jy_XhTRJ72q8"
      }
    },
    {
      "cell_type": "markdown",
      "source": [
        "\n",
        "El **despliegue de un modelo** en el contexto de aprendizaje automático y ciencia de datos se refiere al proceso de poner un modelo entrenado en producción para que pueda ser utilizado para hacer predicciones o tomar decisiones basadas en nuevos datos.\n",
        "\n",
        "Un despliegue efectivo es crucial para garantizar que las inversiones en el desarrollo de modelos de aprendizaje automático se traduzcan en valor práctico y tangible para una organización o usuario final.\n",
        "\n",
        "Este proceso implica varios pasos y consideraciones importantes:\n",
        "\n",
        "1. **Entrenamiento del Modelo:** Antes del despliegue, un modelo es desarrollado y entrenado utilizando un conjunto de datos. Este entrenamiento involucra la selección de un algoritmo adecuado y el ajuste de sus parámetros para que el modelo pueda aprender de los datos históricos.\n",
        "\n",
        "2. **Evaluación y Validación:** Una vez entrenado, el modelo se evalúa para determinar su precisión y fiabilidad. Esto generalmente se hace utilizando un conjunto de datos de prueba que no se ha utilizado durante el entrenamiento.\n",
        "\n",
        "3. **Preparación para el Despliegue:** El modelo se convierte a un formato que puede ser utilizado en un entorno de producción. Esto puede implicar la optimización del modelo para mejorar la eficiencia y la velocidad, y asegurarse de que es compatible con las herramientas y sistemas en producción.\n",
        "\n",
        "4. **Integración con Sistemas Existentes:** El modelo se integra con los sistemas y aplicaciones existentes. Esto puede requerir el desarrollo de APIs, servicios web o la integración con bases de datos y otras aplicaciones empresariales.\n",
        "\n",
        "5. **Monitoreo y Mantenimiento:** Una vez desplegado, el modelo se monitorea continuamente para asegurarse de que sigue siendo preciso y relevante. Esto incluye la actualización periódica del modelo con nuevos datos y la recalibración si su rendimiento decae.\n",
        "\n",
        "6. **Escalabilidad y Gestión de Recursos:** Es importante asegurarse de que el sistema que aloja el modelo puede manejar la carga de trabajo prevista, tanto en términos de número de solicitudes como de tamaño de los datos procesados.\n",
        "\n",
        "7. **Seguridad y Cumplimiento:** Se deben considerar aspectos de seguridad, como la protección de datos sensibles y el cumplimiento de las normativas aplicables."
      ],
      "metadata": {
        "id": "RtnT8cpF7GtI"
      }
    },
    {
      "cell_type": "markdown",
      "source": [
        "Subir los modelos entrenados de la PC al Colab para su lectura\n",
        "\n",
        "1. Modelo entrendado con un arbol de decisiones: modelo_titanic_dt.pmml\n",
        "\n",
        "2. Modelo entrenado con el algoritmo Naive Bayes: modelo_titanic_nb.pmml\n",
        "\n",
        "3. `!pip install pypmml`: Librería requerida que se instale para lectura de los modelos creados en **Knime** a través de **PMML**"
      ],
      "metadata": {
        "id": "yhR7bkEq8FSZ"
      }
    },
    {
      "cell_type": "code",
      "source": [
        "# Instalación de los requerimientos necesarios\n",
        "!pip install pypmml"
      ],
      "metadata": {
        "id": "lOFUslilGlUA"
      },
      "execution_count": null,
      "outputs": []
    },
    {
      "cell_type": "code",
      "source": [
        "from pypmml import Model\n",
        "\n",
        "# Carga el modelo PMML\n",
        "#modelo = Model.load('modelo_titanic_dt.pmml')\n",
        "modelo = Model.load('modelo_titanic_nb.pmml')\n",
        "\n",
        "# Prepara un ejemplo de datos de entrada\n",
        "datos_de_entrada = {\n",
        "    'Clase': 1,\n",
        "    'Sexo': 'Femenino',\n",
        "    'Edad': 14,\n",
        "    'Familia': 2,\n",
        "    'Tarifa': 50\n",
        "}\n",
        "\n",
        "# Realiza una predicción\n",
        "prediccion = modelo.predict(datos_de_entrada)\n",
        "\n",
        "# Interpretación de la predicción\n",
        "resultado = prediccion['predicted_Survived']\n",
        "probabilidad_sobrevive = prediccion['probability_1']\n",
        "probabilidad_no_sobrevive = prediccion['probability_0']\n",
        "\n",
        "if resultado == '1':\n",
        "    print(f'Predicción: Sobrevivió con una probabilidad de {probabilidad_sobrevive:.2f}')\n",
        "else:\n",
        "    print(f'Predicción: No sobrevivió con una probabilidad de {probabilidad_no_sobrevive:.2f}')\n"
      ],
      "metadata": {
        "colab": {
          "base_uri": "https://localhost:8080/"
        },
        "id": "3Vne8D705vBa",
        "outputId": "b157850f-52b4-4528-d63b-0062685efd80"
      },
      "execution_count": 21,
      "outputs": [
        {
          "output_type": "stream",
          "name": "stdout",
          "text": [
            "Predicción: Sobrevivió con una probabilidad de 0.86\n"
          ]
        }
      ]
    }
  ]
}